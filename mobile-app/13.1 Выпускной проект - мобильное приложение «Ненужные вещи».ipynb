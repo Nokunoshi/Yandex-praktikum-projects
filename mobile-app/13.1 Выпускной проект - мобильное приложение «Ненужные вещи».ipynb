{
 "cells": [
  {
   "cell_type": "markdown",
   "id": "6737da64",
   "metadata": {},
   "source": [
    "**Мобильные приложения — Выделение групп пользователей на основе поведения**\n",
    "\n",
    "**Задание на проект:**\n",
    "\n",
    "Выделить группы пользователей, которые различаются по метрикам:\n",
    "\n",
    "1. retention rate,\n",
    "2. время, проведённое в приложении, \n",
    "3. частота действий, \n",
    "4. конверсия в целевое действие — просмотр контактов.\n",
    "\n",
    "- **Проведите исследовательский анализ данных**\n",
    "- **Сегментируйте пользователей на основе действий**\n",
    "- **Проверьте статистические гипотезы**\n",
    "    1. *Некоторые пользователи установили приложение по ссылке из `yandex`, другие — из `google`. Проверьте гипотезу: две эти группы демонстрируют разную конверсию в просмотры контактов.*\n",
    "    2. *Сформулируйте собственную гипотезу. Дополните её нулевой и альтернативной гипотезами. Проведите статистический тест.*\n",
    "\n",
    "\n",
    "**Описание данных:**\n",
    "\n",
    "Датасет содержит данные о событиях, совершенных в мобильном приложении \"Ненужные вещи\". В нем пользователи продают свои ненужные вещи, размещая их на доске объявлений.  \n",
    "\n",
    "В датасете содержатся данные пользователей, впервые совершивших действия в приложении после 7 октября 2019 года.  \n",
    "\n",
    "Датасет **mobile_dataset.csv** содержит колонки:  \n",
    "`event.time` — время совершения  \n",
    "`event.name` — название события  \n",
    "`user.id` — идентификатор пользователя  \n",
    "\n",
    "Датасет **mobile_sources.csv** содержит колонки:  \n",
    "`userId` — идентификатор пользователя  \n",
    "`source` — источник, с которого пользователь установил приложение  \n",
    "\n",
    "Расшифровки событий:  \n",
    "`advert_open` — открытие карточки объявления  \n",
    "`photos_show` — просмотр фотографий в объявлении  \n",
    "`tips_show` — пользователь увидел рекомендованные объявления  \n",
    "`tips_click` — пользователь кликнул по рекомендованному объявлению  \n",
    "`contacts_show` и `show_contacts` — пользователь нажал на кнопку \"посмотреть номер телефона\" на карточке объявления  \n",
    "`contacts_call` — пользователь позвонил по номеру телефона на карточке объявления  \n",
    "`map` — пользователь открыл карту размещенных объявлений  \n",
    "`search_1` — `search_7` — разные события, связанные с поиском по сайту  \n",
    "`favorites_add` — добавление объявления в избранное  \n",
    "\n",
    "**Датасеты:**  \n",
    "\n",
    "[mobile_dataset.csv](https://disk.yandex.ru/d/KaN8Wffo4Q510Q)  \n",
    "\n",
    "[mobile_sources.csv](https://disk.yandex.ru/d/RkfgQSEt-zD6Uw)  \n",
    "\n",
    "**Ссылка на презентацию:**\n",
    "https://disk.yandex.ru/i/p5O5K_2btf47zA"
   ]
  },
  {
   "cell_type": "markdown",
   "id": "cdd0e62a",
   "metadata": {},
   "source": [
    "**Декомпозиция**  \n",
    "\n",
    "**Просмотр и предобработка данных**\n",
    "* Импорт необходимых библиотек\n",
    "* Загрузка датасетов\n",
    "* Ознакомление с датасетами\n",
    "* Приведение к общему стилю \n",
    "* Изменение формата данных\n",
    "* Поиск пропусков и их обработка\n",
    "* Поиск дубликатов и их обработка\n",
    "* Переименование событий и объединение таблиц\n",
    "* Составление промежуточного итога\n",
    "\n",
    "**Исследовательский анализ данных (общее поведение пользователей)**\n",
    "* Определение сессий (по тайм-ауту)\n",
    "* Расчет общего retention rate\n",
    "* Частота событий и конверсия\n",
    "* Составление промежуточного итога\n",
    "\n",
    "**Методика сегментации пользователей и анализ в разрезе выделенных групп**\n",
    "* Сегментация сессий по тайм-ауту\n",
    "* Пользователи какой группы склонны часто возвращаться в мобильное приложение (Retention rate)?\n",
    "* Пользователи какой группы часто делают целевое событие (конверсия в целевое действие)?\n",
    "* Составление промежуточного итога\n",
    "\n",
    "**Проверка статистических гипотез**\n",
    "\n",
    "* **Проверка гипотезы из задания на проект:**  \n",
    "Некоторые пользователи установили приложение по ссылке из yandex, другие — из google.  \n",
    "Гипотеза Н0: пользователи этих двух групп демонстрируют одинаковую конверсию в просмотры контактов  \n",
    "Гипотеза Н1: пользователи этих двух групп демонстрируют разную конверсию в просмотры контактов  \n",
    "\n",
    "* **Выдвинутая гипотеза**  \n",
    "Часть пользователей пользуется поиском, остальная часть нет.  \n",
    "Гипотеза Н0: конверсия в просмотры контактов не различается у этих двух групп  \n",
    "Гипотеза Н1: конверсия в просмотры контактов различается у этих двух групп  \n",
    "\n",
    "* Промежуточный итог\n",
    "\n",
    "**Итог исследования и рекомендации**\n",
    "* Итог\n",
    "* Практические рекомендации"
   ]
  },
  {
   "cell_type": "markdown",
   "id": "1bb277a3",
   "metadata": {},
   "source": [
    "## Ознакомление с данными "
   ]
  },
  {
   "cell_type": "markdown",
   "id": "c4bcbab4",
   "metadata": {},
   "source": [
    "### Импорт библиотек и обзор датасета"
   ]
  },
  {
   "cell_type": "code",
   "execution_count": 1,
   "id": "b988740d",
   "metadata": {},
   "outputs": [],
   "source": [
    "#импортируем все необходимые библиотеки\n",
    "import pandas as pd\n",
    "import numpy as np\n",
    "import matplotlib.pyplot as plt\n",
    "import seaborn as sns\n",
    "from datetime import datetime, timedelta\n",
    "import plotly.graph_objs as go\n",
    "import math as mth\n",
    "from scipy import stats as st "
   ]
  },
  {
   "cell_type": "code",
   "execution_count": 2,
   "id": "c92023ea",
   "metadata": {},
   "outputs": [],
   "source": [
    "#читаем датасеты\n",
    "mobile_sourсes = pd.read_csv('https://code.s3.yandex.net/datasets/mobile_soures.csv')\n",
    "mobile_dataset = pd.read_csv('https://code.s3.yandex.net/datasets/mobile_dataset.csv')\n",
    "\n",
    "#mobile_sourсes = pd.read_csv('C:\\\\praktikum\\\\diplom\\\\source\\\\mobile_sources.csv')\n",
    "#mobile_dataset = pd.read_csv('C:\\praktikum\\\\diplom\\\\source\\\\mobile_dataset.csv')"
   ]
  },
  {
   "cell_type": "code",
   "execution_count": 3,
   "id": "caba3093",
   "metadata": {},
   "outputs": [
    {
     "name": "stdout",
     "output_type": "stream",
     "text": [
      "<class 'pandas.core.frame.DataFrame'>\n",
      "RangeIndex: 4293 entries, 0 to 4292\n",
      "Data columns (total 2 columns):\n",
      " #   Column  Non-Null Count  Dtype \n",
      "---  ------  --------------  ----- \n",
      " 0   userId  4293 non-null   object\n",
      " 1   source  4293 non-null   object\n",
      "dtypes: object(2)\n",
      "memory usage: 67.2+ KB\n"
     ]
    },
    {
     "data": {
      "text/plain": [
       "None"
      ]
     },
     "metadata": {},
     "output_type": "display_data"
    },
    {
     "data": {
      "text/html": [
       "<div>\n",
       "<style scoped>\n",
       "    .dataframe tbody tr th:only-of-type {\n",
       "        vertical-align: middle;\n",
       "    }\n",
       "\n",
       "    .dataframe tbody tr th {\n",
       "        vertical-align: top;\n",
       "    }\n",
       "\n",
       "    .dataframe thead th {\n",
       "        text-align: right;\n",
       "    }\n",
       "</style>\n",
       "<table border=\"1\" class=\"dataframe\">\n",
       "  <thead>\n",
       "    <tr style=\"text-align: right;\">\n",
       "      <th></th>\n",
       "      <th>userId</th>\n",
       "      <th>source</th>\n",
       "    </tr>\n",
       "  </thead>\n",
       "  <tbody>\n",
       "    <tr>\n",
       "      <th>0</th>\n",
       "      <td>020292ab-89bc-4156-9acf-68bc2783f894</td>\n",
       "      <td>other</td>\n",
       "    </tr>\n",
       "    <tr>\n",
       "      <th>1</th>\n",
       "      <td>cf7eda61-9349-469f-ac27-e5b6f5ec475c</td>\n",
       "      <td>yandex</td>\n",
       "    </tr>\n",
       "    <tr>\n",
       "      <th>2</th>\n",
       "      <td>8c356c42-3ba9-4cb6-80b8-3f868d0192c3</td>\n",
       "      <td>yandex</td>\n",
       "    </tr>\n",
       "    <tr>\n",
       "      <th>3</th>\n",
       "      <td>d9b06b47-0f36-419b-bbb0-3533e582a6cb</td>\n",
       "      <td>other</td>\n",
       "    </tr>\n",
       "    <tr>\n",
       "      <th>4</th>\n",
       "      <td>f32e1e2a-3027-4693-b793-b7b3ff274439</td>\n",
       "      <td>google</td>\n",
       "    </tr>\n",
       "  </tbody>\n",
       "</table>\n",
       "</div>"
      ],
      "text/plain": [
       "                                 userId  source\n",
       "0  020292ab-89bc-4156-9acf-68bc2783f894   other\n",
       "1  cf7eda61-9349-469f-ac27-e5b6f5ec475c  yandex\n",
       "2  8c356c42-3ba9-4cb6-80b8-3f868d0192c3  yandex\n",
       "3  d9b06b47-0f36-419b-bbb0-3533e582a6cb   other\n",
       "4  f32e1e2a-3027-4693-b793-b7b3ff274439  google"
      ]
     },
     "metadata": {},
     "output_type": "display_data"
    }
   ],
   "source": [
    "#ознакомление с mobile_sourсes\n",
    "display(mobile_sourсes.info())\n",
    "display(mobile_sourсes.head())"
   ]
  },
  {
   "cell_type": "code",
   "execution_count": 4,
   "id": "52a753a0",
   "metadata": {},
   "outputs": [
    {
     "name": "stdout",
     "output_type": "stream",
     "text": [
      "<class 'pandas.core.frame.DataFrame'>\n",
      "RangeIndex: 74197 entries, 0 to 74196\n",
      "Data columns (total 3 columns):\n",
      " #   Column      Non-Null Count  Dtype \n",
      "---  ------      --------------  ----- \n",
      " 0   event.time  74197 non-null  object\n",
      " 1   event.name  74197 non-null  object\n",
      " 2   user.id     74197 non-null  object\n",
      "dtypes: object(3)\n",
      "memory usage: 1.7+ MB\n"
     ]
    },
    {
     "data": {
      "text/plain": [
       "None"
      ]
     },
     "metadata": {},
     "output_type": "display_data"
    },
    {
     "data": {
      "text/html": [
       "<div>\n",
       "<style scoped>\n",
       "    .dataframe tbody tr th:only-of-type {\n",
       "        vertical-align: middle;\n",
       "    }\n",
       "\n",
       "    .dataframe tbody tr th {\n",
       "        vertical-align: top;\n",
       "    }\n",
       "\n",
       "    .dataframe thead th {\n",
       "        text-align: right;\n",
       "    }\n",
       "</style>\n",
       "<table border=\"1\" class=\"dataframe\">\n",
       "  <thead>\n",
       "    <tr style=\"text-align: right;\">\n",
       "      <th></th>\n",
       "      <th>event.time</th>\n",
       "      <th>event.name</th>\n",
       "      <th>user.id</th>\n",
       "    </tr>\n",
       "  </thead>\n",
       "  <tbody>\n",
       "    <tr>\n",
       "      <th>0</th>\n",
       "      <td>2019-10-07 00:00:00.431357</td>\n",
       "      <td>advert_open</td>\n",
       "      <td>020292ab-89bc-4156-9acf-68bc2783f894</td>\n",
       "    </tr>\n",
       "    <tr>\n",
       "      <th>1</th>\n",
       "      <td>2019-10-07 00:00:01.236320</td>\n",
       "      <td>tips_show</td>\n",
       "      <td>020292ab-89bc-4156-9acf-68bc2783f894</td>\n",
       "    </tr>\n",
       "    <tr>\n",
       "      <th>2</th>\n",
       "      <td>2019-10-07 00:00:02.245341</td>\n",
       "      <td>tips_show</td>\n",
       "      <td>cf7eda61-9349-469f-ac27-e5b6f5ec475c</td>\n",
       "    </tr>\n",
       "    <tr>\n",
       "      <th>3</th>\n",
       "      <td>2019-10-07 00:00:07.039334</td>\n",
       "      <td>tips_show</td>\n",
       "      <td>020292ab-89bc-4156-9acf-68bc2783f894</td>\n",
       "    </tr>\n",
       "    <tr>\n",
       "      <th>4</th>\n",
       "      <td>2019-10-07 00:00:56.319813</td>\n",
       "      <td>advert_open</td>\n",
       "      <td>cf7eda61-9349-469f-ac27-e5b6f5ec475c</td>\n",
       "    </tr>\n",
       "  </tbody>\n",
       "</table>\n",
       "</div>"
      ],
      "text/plain": [
       "                   event.time   event.name  \\\n",
       "0  2019-10-07 00:00:00.431357  advert_open   \n",
       "1  2019-10-07 00:00:01.236320    tips_show   \n",
       "2  2019-10-07 00:00:02.245341    tips_show   \n",
       "3  2019-10-07 00:00:07.039334    tips_show   \n",
       "4  2019-10-07 00:00:56.319813  advert_open   \n",
       "\n",
       "                                user.id  \n",
       "0  020292ab-89bc-4156-9acf-68bc2783f894  \n",
       "1  020292ab-89bc-4156-9acf-68bc2783f894  \n",
       "2  cf7eda61-9349-469f-ac27-e5b6f5ec475c  \n",
       "3  020292ab-89bc-4156-9acf-68bc2783f894  \n",
       "4  cf7eda61-9349-469f-ac27-e5b6f5ec475c  "
      ]
     },
     "metadata": {},
     "output_type": "display_data"
    }
   ],
   "source": [
    "#ознакомление с mobile_sourсes\n",
    "display(mobile_dataset.info())\n",
    "display(mobile_dataset.head())"
   ]
  },
  {
   "cell_type": "code",
   "execution_count": 5,
   "id": "497fb26b",
   "metadata": {},
   "outputs": [
    {
     "data": {
      "text/plain": [
       "4293"
      ]
     },
     "execution_count": 5,
     "metadata": {},
     "output_type": "execute_result"
    }
   ],
   "source": [
    "#посчитаем уникальных юзеров в mobile_sourсes\n",
    "mobile_sourсes['userId'].nunique()"
   ]
  },
  {
   "cell_type": "code",
   "execution_count": 6,
   "id": "6b1f29fd",
   "metadata": {},
   "outputs": [
    {
     "data": {
      "text/plain": [
       "4293"
      ]
     },
     "execution_count": 6,
     "metadata": {},
     "output_type": "execute_result"
    }
   ],
   "source": [
    "#посчитаем уникальных юзеров в mobile_dataset\n",
    "mobile_dataset['user.id'].nunique()"
   ]
  },
  {
   "cell_type": "code",
   "execution_count": 7,
   "id": "858dae93",
   "metadata": {},
   "outputs": [
    {
     "data": {
      "text/plain": [
       "array(['advert_open', 'tips_show', 'map', 'contacts_show', 'search_4',\n",
       "       'search_5', 'tips_click', 'photos_show', 'search_1', 'search_2',\n",
       "       'search_3', 'favorites_add', 'contacts_call', 'search_6',\n",
       "       'search_7', 'show_contacts'], dtype=object)"
      ]
     },
     "execution_count": 7,
     "metadata": {},
     "output_type": "execute_result"
    }
   ],
   "source": [
    "#ознакомимся со всеми событиями в датасете\n",
    "mobile_dataset['event.name'].unique()"
   ]
  },
  {
   "cell_type": "code",
   "execution_count": 8,
   "id": "fb2bb9f7",
   "metadata": {},
   "outputs": [
    {
     "data": {
      "text/plain": [
       "array(['other', 'yandex', 'google'], dtype=object)"
      ]
     },
     "execution_count": 8,
     "metadata": {},
     "output_type": "execute_result"
    }
   ],
   "source": [
    "#ознакомимся с источниками\n",
    "mobile_sourсes['source'].unique()"
   ]
  },
  {
   "cell_type": "markdown",
   "id": "87380552",
   "metadata": {},
   "source": []
  },
  {
   "cell_type": "markdown",
   "id": "68ae0e92",
   "metadata": {},
   "source": [
    "### Предобработка\n",
    "#### Стиль"
   ]
  },
  {
   "cell_type": "code",
   "execution_count": 9,
   "id": "d788e840",
   "metadata": {},
   "outputs": [],
   "source": [
    "#поменям наименования столбцов и приведем к единому стилю\n",
    "mobile_sourсes = mobile_sourсes.rename(columns={'userId': 'user_id'})\n",
    "mobile_dataset = mobile_dataset.rename(columns={'event.time': 'event_time', 'event.name': 'event_name', 'user.id': 'user_id'})"
   ]
  },
  {
   "cell_type": "markdown",
   "id": "0987784c",
   "metadata": {},
   "source": [
    "#### Переименование событий"
   ]
  },
  {
   "cell_type": "code",
   "execution_count": 10,
   "id": "ec65c201",
   "metadata": {},
   "outputs": [],
   "source": [
    "# Объединение событий search\n",
    "mobile_dataset['event_name'] = mobile_dataset['event_name'].replace(['search_1','search_2','search_3', 'search_4', 'search_5', 'search_6', 'search_7'], 'search')\n",
    "\n",
    "# Объединение событий contacts_show\n",
    "mobile_dataset['event_name'] = mobile_dataset['event_name'].replace(['contacts_show', 'show_contacts'], 'contacts_show')"
   ]
  },
  {
   "cell_type": "markdown",
   "id": "48d231e0",
   "metadata": {},
   "source": []
  },
  {
   "cell_type": "markdown",
   "id": "7b4c032a",
   "metadata": {},
   "source": [
    "#### Изменение формата данных"
   ]
  },
  {
   "cell_type": "code",
   "execution_count": 11,
   "id": "829dc70a",
   "metadata": {},
   "outputs": [],
   "source": [
    "#изменим формат\n",
    "mobile_dataset['event_time'] = pd.to_datetime(mobile_dataset['event_time'], format='%Y-%m-%d %H:%M:%S.%f')\n",
    "#убираем миллисекунды\n",
    "mobile_dataset['event_time'] = mobile_dataset['event_time'].dt.round('S')"
   ]
  },
  {
   "cell_type": "code",
   "execution_count": 12,
   "id": "1aaccd44",
   "metadata": {},
   "outputs": [],
   "source": [
    "#так же создадим отдельныq столбец с датой \n",
    "mobile_dataset['date'] = pd.to_datetime(mobile_dataset['event_time']).dt.date"
   ]
  },
  {
   "cell_type": "code",
   "execution_count": 13,
   "id": "2c1e1e2c",
   "metadata": {},
   "outputs": [
    {
     "data": {
      "text/html": [
       "<div>\n",
       "<style scoped>\n",
       "    .dataframe tbody tr th:only-of-type {\n",
       "        vertical-align: middle;\n",
       "    }\n",
       "\n",
       "    .dataframe tbody tr th {\n",
       "        vertical-align: top;\n",
       "    }\n",
       "\n",
       "    .dataframe thead th {\n",
       "        text-align: right;\n",
       "    }\n",
       "</style>\n",
       "<table border=\"1\" class=\"dataframe\">\n",
       "  <thead>\n",
       "    <tr style=\"text-align: right;\">\n",
       "      <th></th>\n",
       "      <th>event_time</th>\n",
       "      <th>event_name</th>\n",
       "      <th>user_id</th>\n",
       "      <th>date</th>\n",
       "    </tr>\n",
       "  </thead>\n",
       "  <tbody>\n",
       "    <tr>\n",
       "      <th>5534</th>\n",
       "      <td>2019-10-09 11:13:49</td>\n",
       "      <td>tips_show</td>\n",
       "      <td>ee2f937d-91ed-44a8-86a2-58b753f18711</td>\n",
       "      <td>2019-10-09</td>\n",
       "    </tr>\n",
       "    <tr>\n",
       "      <th>23032</th>\n",
       "      <td>2019-10-16 15:34:19</td>\n",
       "      <td>tips_show</td>\n",
       "      <td>8a365f28-adea-4eeb-909f-c46b3b676bc0</td>\n",
       "      <td>2019-10-16</td>\n",
       "    </tr>\n",
       "    <tr>\n",
       "      <th>72093</th>\n",
       "      <td>2019-11-03 13:33:03</td>\n",
       "      <td>tips_show</td>\n",
       "      <td>756d8442-fa10-4543-87c1-c10eac50ef54</td>\n",
       "      <td>2019-11-03</td>\n",
       "    </tr>\n",
       "    <tr>\n",
       "      <th>26051</th>\n",
       "      <td>2019-10-17 17:35:53</td>\n",
       "      <td>tips_show</td>\n",
       "      <td>2521adb5-d4f7-43d7-aea5-2fd523aaca8f</td>\n",
       "      <td>2019-10-17</td>\n",
       "    </tr>\n",
       "    <tr>\n",
       "      <th>55282</th>\n",
       "      <td>2019-10-28 11:05:28</td>\n",
       "      <td>tips_show</td>\n",
       "      <td>6a14b2fe-5aa5-496f-a5d0-71d7870ff91b</td>\n",
       "      <td>2019-10-28</td>\n",
       "    </tr>\n",
       "  </tbody>\n",
       "</table>\n",
       "</div>"
      ],
      "text/plain": [
       "               event_time event_name                               user_id  \\\n",
       "5534  2019-10-09 11:13:49  tips_show  ee2f937d-91ed-44a8-86a2-58b753f18711   \n",
       "23032 2019-10-16 15:34:19  tips_show  8a365f28-adea-4eeb-909f-c46b3b676bc0   \n",
       "72093 2019-11-03 13:33:03  tips_show  756d8442-fa10-4543-87c1-c10eac50ef54   \n",
       "26051 2019-10-17 17:35:53  tips_show  2521adb5-d4f7-43d7-aea5-2fd523aaca8f   \n",
       "55282 2019-10-28 11:05:28  tips_show  6a14b2fe-5aa5-496f-a5d0-71d7870ff91b   \n",
       "\n",
       "             date  \n",
       "5534   2019-10-09  \n",
       "23032  2019-10-16  \n",
       "72093  2019-11-03  \n",
       "26051  2019-10-17  \n",
       "55282  2019-10-28  "
      ]
     },
     "execution_count": 13,
     "metadata": {},
     "output_type": "execute_result"
    }
   ],
   "source": [
    "#взглянем визуально на таблицу\n",
    "mobile_dataset.sample(5)"
   ]
  },
  {
   "cell_type": "markdown",
   "id": "24f2be55",
   "metadata": {},
   "source": [
    "#### Пропуски"
   ]
  },
  {
   "cell_type": "code",
   "execution_count": 14,
   "id": "1b71bd68",
   "metadata": {},
   "outputs": [
    {
     "data": {
      "text/plain": [
       "user_id    0\n",
       "source     0\n",
       "dtype: int64"
      ]
     },
     "execution_count": 14,
     "metadata": {},
     "output_type": "execute_result"
    }
   ],
   "source": [
    "#Пропусков после ознакомления не было видно, но все равно проверим\n",
    "mobile_sourсes.isna().sum()"
   ]
  },
  {
   "cell_type": "code",
   "execution_count": 15,
   "id": "8dc7e662",
   "metadata": {},
   "outputs": [
    {
     "data": {
      "text/plain": [
       "event_time    0\n",
       "event_name    0\n",
       "user_id       0\n",
       "date          0\n",
       "dtype: int64"
      ]
     },
     "execution_count": 15,
     "metadata": {},
     "output_type": "execute_result"
    }
   ],
   "source": [
    "mobile_dataset.isna().sum()"
   ]
  },
  {
   "cell_type": "markdown",
   "id": "bc34e33d",
   "metadata": {},
   "source": [
    "#### Дубликаты"
   ]
  },
  {
   "cell_type": "code",
   "execution_count": 16,
   "id": "9019ed6f",
   "metadata": {},
   "outputs": [
    {
     "data": {
      "text/plain": [
       "0"
      ]
     },
     "execution_count": 16,
     "metadata": {},
     "output_type": "execute_result"
    }
   ],
   "source": [
    "#выявим явные дубликаты\n",
    "mobile_sourсes.duplicated().sum()"
   ]
  },
  {
   "cell_type": "code",
   "execution_count": 17,
   "id": "ca217f98",
   "metadata": {},
   "outputs": [
    {
     "data": {
      "text/plain": [
       "1190"
      ]
     },
     "execution_count": 17,
     "metadata": {},
     "output_type": "execute_result"
    }
   ],
   "source": [
    "#выявим явные дубликаты\n",
    "mobile_dataset.duplicated().sum()"
   ]
  },
  {
   "cell_type": "markdown",
   "id": "7f03e265",
   "metadata": {},
   "source": []
  },
  {
   "cell_type": "code",
   "execution_count": 18,
   "id": "c29e9401",
   "metadata": {},
   "outputs": [
    {
     "data": {
      "text/plain": [
       "0"
      ]
     },
     "execution_count": 18,
     "metadata": {},
     "output_type": "execute_result"
    }
   ],
   "source": [
    "#удаляем дубликаты\n",
    "mobile_dataset = mobile_dataset.drop_duplicates()\n",
    "#сразу проверяем\n",
    "mobile_dataset.duplicated().sum()"
   ]
  },
  {
   "cell_type": "markdown",
   "id": "068abbf6",
   "metadata": {},
   "source": [
    "#### Объединение таблиц"
   ]
  },
  {
   "cell_type": "code",
   "execution_count": 19,
   "id": "59e67519",
   "metadata": {},
   "outputs": [],
   "source": [
    "#вернемся к привычной нам data с помощью merge\n",
    "data = mobile_dataset.merge(mobile_sourсes, on='user_id')"
   ]
  },
  {
   "cell_type": "code",
   "execution_count": 20,
   "id": "5516de08",
   "metadata": {},
   "outputs": [
    {
     "name": "stdout",
     "output_type": "stream",
     "text": [
      "<class 'pandas.core.frame.DataFrame'>\n",
      "Int64Index: 73007 entries, 0 to 73006\n",
      "Data columns (total 5 columns):\n",
      " #   Column      Non-Null Count  Dtype         \n",
      "---  ------      --------------  -----         \n",
      " 0   event_time  73007 non-null  datetime64[ns]\n",
      " 1   event_name  73007 non-null  object        \n",
      " 2   user_id     73007 non-null  object        \n",
      " 3   date        73007 non-null  object        \n",
      " 4   source      73007 non-null  object        \n",
      "dtypes: datetime64[ns](1), object(4)\n",
      "memory usage: 3.3+ MB\n"
     ]
    },
    {
     "data": {
      "text/plain": [
       "None"
      ]
     },
     "metadata": {},
     "output_type": "display_data"
    },
    {
     "data": {
      "text/html": [
       "<div>\n",
       "<style scoped>\n",
       "    .dataframe tbody tr th:only-of-type {\n",
       "        vertical-align: middle;\n",
       "    }\n",
       "\n",
       "    .dataframe tbody tr th {\n",
       "        vertical-align: top;\n",
       "    }\n",
       "\n",
       "    .dataframe thead th {\n",
       "        text-align: right;\n",
       "    }\n",
       "</style>\n",
       "<table border=\"1\" class=\"dataframe\">\n",
       "  <thead>\n",
       "    <tr style=\"text-align: right;\">\n",
       "      <th></th>\n",
       "      <th>event_time</th>\n",
       "      <th>event_name</th>\n",
       "      <th>user_id</th>\n",
       "      <th>date</th>\n",
       "      <th>source</th>\n",
       "    </tr>\n",
       "  </thead>\n",
       "  <tbody>\n",
       "    <tr>\n",
       "      <th>39083</th>\n",
       "      <td>2019-11-02 16:25:57</td>\n",
       "      <td>photos_show</td>\n",
       "      <td>e13f9f32-7ae3-4204-8d60-898db040bcfc</td>\n",
       "      <td>2019-11-02</td>\n",
       "      <td>yandex</td>\n",
       "    </tr>\n",
       "    <tr>\n",
       "      <th>71742</th>\n",
       "      <td>2019-11-03 09:43:44</td>\n",
       "      <td>tips_show</td>\n",
       "      <td>bd74ba4a-2531-4b4c-950a-84ea2bd7e0ac</td>\n",
       "      <td>2019-11-03</td>\n",
       "      <td>yandex</td>\n",
       "    </tr>\n",
       "    <tr>\n",
       "      <th>34716</th>\n",
       "      <td>2019-10-25 08:05:54</td>\n",
       "      <td>tips_show</td>\n",
       "      <td>12ef61ea-0ade-4481-a5e6-bf8c6288b40b</td>\n",
       "      <td>2019-10-25</td>\n",
       "      <td>google</td>\n",
       "    </tr>\n",
       "    <tr>\n",
       "      <th>47657</th>\n",
       "      <td>2019-10-30 17:40:42</td>\n",
       "      <td>advert_open</td>\n",
       "      <td>87b9b9a1-e7c1-4834-a43e-4510f177f3f9</td>\n",
       "      <td>2019-10-30</td>\n",
       "      <td>yandex</td>\n",
       "    </tr>\n",
       "    <tr>\n",
       "      <th>65112</th>\n",
       "      <td>2019-10-29 18:29:03</td>\n",
       "      <td>favorites_add</td>\n",
       "      <td>457697d5-7eea-4fa4-9af1-df3470540e3a</td>\n",
       "      <td>2019-10-29</td>\n",
       "      <td>other</td>\n",
       "    </tr>\n",
       "    <tr>\n",
       "      <th>49052</th>\n",
       "      <td>2019-11-01 17:54:56</td>\n",
       "      <td>favorites_add</td>\n",
       "      <td>f5fa601a-7c45-4cd2-8eac-2a53bb3dcc5a</td>\n",
       "      <td>2019-11-01</td>\n",
       "      <td>other</td>\n",
       "    </tr>\n",
       "    <tr>\n",
       "      <th>24086</th>\n",
       "      <td>2019-10-13 21:36:55</td>\n",
       "      <td>photos_show</td>\n",
       "      <td>975afdfc-9ac8-4212-acb9-0880f9f04b1d</td>\n",
       "      <td>2019-10-13</td>\n",
       "      <td>google</td>\n",
       "    </tr>\n",
       "    <tr>\n",
       "      <th>8988</th>\n",
       "      <td>2019-10-14 19:20:53</td>\n",
       "      <td>tips_show</td>\n",
       "      <td>0d9e5bb7-0ad6-4b62-a118-b1e4f5b31dfa</td>\n",
       "      <td>2019-10-14</td>\n",
       "      <td>yandex</td>\n",
       "    </tr>\n",
       "    <tr>\n",
       "      <th>37843</th>\n",
       "      <td>2019-10-22 15:21:56</td>\n",
       "      <td>tips_show</td>\n",
       "      <td>3521521c-99cb-4142-96cb-0b97cd5c60e6</td>\n",
       "      <td>2019-10-22</td>\n",
       "      <td>yandex</td>\n",
       "    </tr>\n",
       "    <tr>\n",
       "      <th>47547</th>\n",
       "      <td>2019-10-22 10:58:23</td>\n",
       "      <td>tips_show</td>\n",
       "      <td>94f5db9a-5a2d-473e-9800-3fd9ac878296</td>\n",
       "      <td>2019-10-22</td>\n",
       "      <td>other</td>\n",
       "    </tr>\n",
       "  </tbody>\n",
       "</table>\n",
       "</div>"
      ],
      "text/plain": [
       "               event_time     event_name  \\\n",
       "39083 2019-11-02 16:25:57    photos_show   \n",
       "71742 2019-11-03 09:43:44      tips_show   \n",
       "34716 2019-10-25 08:05:54      tips_show   \n",
       "47657 2019-10-30 17:40:42    advert_open   \n",
       "65112 2019-10-29 18:29:03  favorites_add   \n",
       "49052 2019-11-01 17:54:56  favorites_add   \n",
       "24086 2019-10-13 21:36:55    photos_show   \n",
       "8988  2019-10-14 19:20:53      tips_show   \n",
       "37843 2019-10-22 15:21:56      tips_show   \n",
       "47547 2019-10-22 10:58:23      tips_show   \n",
       "\n",
       "                                    user_id        date  source  \n",
       "39083  e13f9f32-7ae3-4204-8d60-898db040bcfc  2019-11-02  yandex  \n",
       "71742  bd74ba4a-2531-4b4c-950a-84ea2bd7e0ac  2019-11-03  yandex  \n",
       "34716  12ef61ea-0ade-4481-a5e6-bf8c6288b40b  2019-10-25  google  \n",
       "47657  87b9b9a1-e7c1-4834-a43e-4510f177f3f9  2019-10-30  yandex  \n",
       "65112  457697d5-7eea-4fa4-9af1-df3470540e3a  2019-10-29   other  \n",
       "49052  f5fa601a-7c45-4cd2-8eac-2a53bb3dcc5a  2019-11-01   other  \n",
       "24086  975afdfc-9ac8-4212-acb9-0880f9f04b1d  2019-10-13  google  \n",
       "8988   0d9e5bb7-0ad6-4b62-a118-b1e4f5b31dfa  2019-10-14  yandex  \n",
       "37843  3521521c-99cb-4142-96cb-0b97cd5c60e6  2019-10-22  yandex  \n",
       "47547  94f5db9a-5a2d-473e-9800-3fd9ac878296  2019-10-22   other  "
      ]
     },
     "metadata": {},
     "output_type": "display_data"
    }
   ],
   "source": [
    "#проверим новый датасет\n",
    "display(data.info())\n",
    "display(data.sample(10))"
   ]
  },
  {
   "cell_type": "code",
   "execution_count": 21,
   "id": "20cbd94b",
   "metadata": {},
   "outputs": [
    {
     "name": "stdout",
     "output_type": "stream",
     "text": [
      "<class 'pandas.core.frame.DataFrame'>\n",
      "Int64Index: 73007 entries, 0 to 73006\n",
      "Data columns (total 5 columns):\n",
      " #   Column      Non-Null Count  Dtype         \n",
      "---  ------      --------------  -----         \n",
      " 0   event_time  73007 non-null  datetime64[ns]\n",
      " 1   event_name  73007 non-null  object        \n",
      " 2   user_id     73007 non-null  object        \n",
      " 3   date        73007 non-null  datetime64[ns]\n",
      " 4   source      73007 non-null  object        \n",
      "dtypes: datetime64[ns](2), object(3)\n",
      "memory usage: 3.3+ MB\n"
     ]
    }
   ],
   "source": [
    "#видим проблемку в типе данных столбца date, исправляем\n",
    "data['date'] = pd.to_datetime(data['date'])\n",
    "data.info()"
   ]
  },
  {
   "cell_type": "code",
   "execution_count": 22,
   "id": "2bf50776",
   "metadata": {},
   "outputs": [
    {
     "data": {
      "text/plain": [
       "Timestamp('2019-10-07 00:00:00')"
      ]
     },
     "execution_count": 22,
     "metadata": {},
     "output_type": "execute_result"
    }
   ],
   "source": [
    "data['date'].min()"
   ]
  },
  {
   "cell_type": "code",
   "execution_count": 23,
   "id": "867b2805",
   "metadata": {},
   "outputs": [
    {
     "data": {
      "text/plain": [
       "Timestamp('2019-11-03 00:00:00')"
      ]
     },
     "execution_count": 23,
     "metadata": {},
     "output_type": "execute_result"
    }
   ],
   "source": [
    "data['date'].max()"
   ]
  },
  {
   "cell_type": "code",
   "execution_count": 24,
   "id": "a05fd141",
   "metadata": {},
   "outputs": [
    {
     "data": {
      "text/plain": [
       "array([1])"
      ]
     },
     "execution_count": 24,
     "metadata": {},
     "output_type": "execute_result"
    }
   ],
   "source": [
    "#посмотрим есть ли пользователи которые смогли прийти из двух разных источников\n",
    "data.groupby(['user_id']).agg({'source':'nunique'})['source'].unique()"
   ]
  },
  {
   "cell_type": "markdown",
   "id": "e7518833",
   "metadata": {},
   "source": [
    "**Промежуточный итог:**  \n",
    "* Мы подгрузили 2 датасета mobile_sourсes, mobile_dataset, которые имеют 4293 и 74197 строк соответственно. \n",
    "* Произвели предобработку данных, а именно привели наименования столбцов датасетов к единому стилю, объединили события contact_show и show_contact т.к. это одно и то же событие, а также объединил все события search в собственно search, изменили тип данных времени с object на datetime убрав по пути еще милисекунды и создали отдельный столбец с датой. \n",
    "* Так же было обнаружено и удалено 1190 строк явных дубликатов в датасете mobile_dataset. \n",
    "* Пропусков не обнаружено. \n",
    "* Объединили датасеты и назвали его data. \n",
    "* Данные имеются за 27 дней, с 7 октября 2019 по 03 ноября 2019\n",
    "* Задублировавшихся источников пользователей нет."
   ]
  },
  {
   "cell_type": "markdown",
   "id": "935601c8",
   "metadata": {},
   "source": [
    "## Исследовательский анализ данных\n"
   ]
  },
  {
   "cell_type": "markdown",
   "id": "b4319031",
   "metadata": {},
   "source": [
    "#### Определение сессии пользователей (по тайм-ауту) и их длительность"
   ]
  },
  {
   "cell_type": "code",
   "execution_count": 25,
   "id": "a3541923",
   "metadata": {},
   "outputs": [],
   "source": [
    "#сгенерируем уникальные идентификаторы сессий для каждого пользователя\n",
    "#выбираем тайм-аут в 30 минут т.к. это является параметром по умолчанию во многих системах, например гугл аналитике.\n",
    "g = (data.groupby(['user_id'])['event_time'].diff() > pd.Timedelta('30Min')).cumsum() \n",
    "data['session_id'] = data.groupby(['user_id', g], sort=False).ngroup() + 1"
   ]
  },
  {
   "cell_type": "code",
   "execution_count": 26,
   "id": "b0688d81",
   "metadata": {},
   "outputs": [],
   "source": [
    "#создаем дополнительные столбцы с указанием начала и конца сессии\n",
    "data['session_start'] = data.groupby(['user_id','session_id'])['event_time'].transform('min')\n",
    "data['session_end'] = data.groupby(['user_id','session_id'])['event_time'].transform('max')"
   ]
  },
  {
   "cell_type": "code",
   "execution_count": 27,
   "id": "19bb8d3e",
   "metadata": {},
   "outputs": [],
   "source": [
    "# Посчитаем длительность каждой сессии\n",
    "data['session_duration'] = data['session_end'] - data['session_start']\n",
    "data['session_duration_sec'] = data['session_duration'].dt.total_seconds()"
   ]
  },
  {
   "cell_type": "code",
   "execution_count": 28,
   "id": "011e5219",
   "metadata": {},
   "outputs": [
    {
     "data": {
      "text/plain": [
       "2481"
      ]
     },
     "execution_count": 28,
     "metadata": {},
     "output_type": "execute_result"
    }
   ],
   "source": [
    "#узнаем количество строк в общем датасете, в которых длина сессии менее 5 секунд\n",
    "(data['session_duration_sec'] < 5).sum()"
   ]
  },
  {
   "cell_type": "code",
   "execution_count": 29,
   "id": "e1c4a785",
   "metadata": {},
   "outputs": [],
   "source": [
    "#чтобы исключить кратковременные или случайные взаимодействия пользователей удалим эти значения\n",
    "data = data.drop(data[data['session_duration_sec'] <= 5].index)"
   ]
  },
  {
   "cell_type": "code",
   "execution_count": 30,
   "id": "17a98771",
   "metadata": {},
   "outputs": [
    {
     "data": {
      "text/plain": [
       "8036"
      ]
     },
     "execution_count": 30,
     "metadata": {},
     "output_type": "execute_result"
    }
   ],
   "source": [
    "#посмотрим сколько у нас сессий\n",
    "data['session_id'].nunique()"
   ]
  },
  {
   "cell_type": "code",
   "execution_count": 31,
   "id": "b454553c",
   "metadata": {},
   "outputs": [
    {
     "data": {
      "text/plain": [
       "4192"
      ]
     },
     "execution_count": 31,
     "metadata": {},
     "output_type": "execute_result"
    }
   ],
   "source": [
    "#посмотрим сколько у нас пользователей\n",
    "data['user_id'].nunique()"
   ]
  },
  {
   "cell_type": "code",
   "execution_count": 32,
   "id": "f3674691",
   "metadata": {},
   "outputs": [
    {
     "data": {
      "text/plain": [
       "count                         8036\n",
       "mean     0 days 00:16:36.825037332\n",
       "std      0 days 00:21:08.312298831\n",
       "min                0 days 00:00:06\n",
       "25%                0 days 00:03:29\n",
       "50%         0 days 00:09:40.500000\n",
       "75%                0 days 00:21:56\n",
       "max                0 days 05:21:58\n",
       "Name: session_duration, dtype: object"
      ]
     },
     "execution_count": 32,
     "metadata": {},
     "output_type": "execute_result"
    }
   ],
   "source": [
    "#посмотрим стат данные длины сессий\n",
    "unique_sessions = data[data['session_id'].duplicated() == False]\n",
    "unique_sessions['session_duration'].describe()"
   ]
  },
  {
   "cell_type": "code",
   "execution_count": 33,
   "id": "7891d1ca",
   "metadata": {},
   "outputs": [
    {
     "data": {
      "image/png": "[encoded data removed]",
      "text/plain": [
       "<Figure size 864x432 with 1 Axes>"
      ]
     },
     "metadata": {
      "needs_background": "light"
     },
     "output_type": "display_data"
    }
   ],
   "source": [
    "# Посмотрим график плотности распределения продолжительности сессий\n",
    "plt.figure(figsize=(12, 6))\n",
    "sns.kdeplot(unique_sessions['session_duration_sec'].div(60),\n",
    "            color='green', \n",
    "            fill=True,\n",
    "            linewidth=1,\n",
    "            alpha=0.5,\n",
    "           )\n",
    "plt.xlim(0, 300)\n",
    "plt.xlabel('Время сессии в минутах')\n",
    "plt.ylabel('Плотность распределения')\n",
    "plt.title('Плотность распределения продолжительности сессий')\n",
    "plt.show()"
   ]
  },
  {
   "cell_type": "markdown",
   "id": "43373233",
   "metadata": {},
   "source": [
    "**Промежуточный итог:**\n",
    "* Сформировали сессии, за основу взяли тайм-аут в 30 минут. Т.к. после этого времени пользователь скорее всего перезагрузит страницу. \n",
    "* Добавили столбцы с началом и концом сессии, длиной сессии и длиной сессии в секундах. \n",
    "* Выяснили что имеется 2481 строк в основном датасете у которых продолжительность сессии была менее 5 секунд, мы их удалили чтобы исключить кратковременные или случайные взаимодействия пользователей.\n",
    "* Высчитали что имеется 8036 сессий. \n",
    "* У нас сократилось количество уникальных пользователей на 101 и осталось 4192 пользователь, снижение не критичное. \n",
    "* Большая часть сессий не превышает и 22 минут."
   ]
  },
  {
   "cell_type": "markdown",
   "id": "647b4a54",
   "metadata": {},
   "source": [
    "#### Retention rate (удержание пользователей)\n",
    "Для удобства расчета добавим ещё несколько столбцов"
   ]
  },
  {
   "cell_type": "code",
   "execution_count": 34,
   "id": "d2aaf542",
   "metadata": {},
   "outputs": [],
   "source": [
    "#добавляем первую сессию\n",
    "data['first_session'] = (\n",
    "    data.sort_values(['user_id', 'event_time'])\n",
    "    .groupby('user_id')['event_time'].transform('min')\n",
    ")"
   ]
  },
  {
   "cell_type": "code",
   "execution_count": 35,
   "id": "01f3c1a3",
   "metadata": {},
   "outputs": [],
   "source": [
    "#для формирования когорт добавим данные о неделях\n",
    "data['week'] = data['event_time'].dt.isocalendar().week\n",
    "data['first_session_week'] = data['first_session'].dt.isocalendar().week "
   ]
  },
  {
   "cell_type": "code",
   "execution_count": 36,
   "id": "438d42bc",
   "metadata": {},
   "outputs": [],
   "source": [
    "#добавляем лайфтайм \n",
    "data['lifetime'] = data['week'] - data['first_session_week']"
   ]
  },
  {
   "cell_type": "code",
   "execution_count": 37,
   "id": "687b8b81",
   "metadata": {},
   "outputs": [
    {
     "data": {
      "text/html": [
       "<div>\n",
       "<style scoped>\n",
       "    .dataframe tbody tr th:only-of-type {\n",
       "        vertical-align: middle;\n",
       "    }\n",
       "\n",
       "    .dataframe tbody tr th {\n",
       "        vertical-align: top;\n",
       "    }\n",
       "\n",
       "    .dataframe thead th {\n",
       "        text-align: right;\n",
       "    }\n",
       "</style>\n",
       "<table border=\"1\" class=\"dataframe\">\n",
       "  <thead>\n",
       "    <tr style=\"text-align: right;\">\n",
       "      <th></th>\n",
       "      <th>0</th>\n",
       "      <th>1</th>\n",
       "      <th>2</th>\n",
       "      <th>3</th>\n",
       "    </tr>\n",
       "    <tr>\n",
       "      <th>first_session_week</th>\n",
       "      <th></th>\n",
       "      <th></th>\n",
       "      <th></th>\n",
       "      <th></th>\n",
       "    </tr>\n",
       "  </thead>\n",
       "  <tbody>\n",
       "    <tr>\n",
       "      <th>41</th>\n",
       "      <td>1064.0</td>\n",
       "      <td>200.0</td>\n",
       "      <td>123.0</td>\n",
       "      <td>81.0</td>\n",
       "    </tr>\n",
       "    <tr>\n",
       "      <th>42</th>\n",
       "      <td>1120.0</td>\n",
       "      <td>205.0</td>\n",
       "      <td>118.0</td>\n",
       "      <td>0.0</td>\n",
       "    </tr>\n",
       "    <tr>\n",
       "      <th>43</th>\n",
       "      <td>1072.0</td>\n",
       "      <td>178.0</td>\n",
       "      <td>0.0</td>\n",
       "      <td>0.0</td>\n",
       "    </tr>\n",
       "    <tr>\n",
       "      <th>44</th>\n",
       "      <td>936.0</td>\n",
       "      <td>0.0</td>\n",
       "      <td>0.0</td>\n",
       "      <td>0.0</td>\n",
       "    </tr>\n",
       "  </tbody>\n",
       "</table>\n",
       "</div>"
      ],
      "text/plain": [
       "                         0      1      2     3\n",
       "first_session_week                            \n",
       "41                  1064.0  200.0  123.0  81.0\n",
       "42                  1120.0  205.0  118.0   0.0\n",
       "43                  1072.0  178.0    0.0   0.0\n",
       "44                   936.0    0.0    0.0   0.0"
      ]
     },
     "metadata": {},
     "output_type": "display_data"
    },
    {
     "data": {
      "text/html": [
       "<div>\n",
       "<style scoped>\n",
       "    .dataframe tbody tr th:only-of-type {\n",
       "        vertical-align: middle;\n",
       "    }\n",
       "\n",
       "    .dataframe tbody tr th {\n",
       "        vertical-align: top;\n",
       "    }\n",
       "\n",
       "    .dataframe thead th {\n",
       "        text-align: right;\n",
       "    }\n",
       "</style>\n",
       "<table border=\"1\" class=\"dataframe\">\n",
       "  <thead>\n",
       "    <tr style=\"text-align: right;\">\n",
       "      <th></th>\n",
       "      <th>0</th>\n",
       "      <th>1</th>\n",
       "      <th>2</th>\n",
       "      <th>3</th>\n",
       "    </tr>\n",
       "    <tr>\n",
       "      <th>first_session_week</th>\n",
       "      <th></th>\n",
       "      <th></th>\n",
       "      <th></th>\n",
       "      <th></th>\n",
       "    </tr>\n",
       "  </thead>\n",
       "  <tbody>\n",
       "    <tr>\n",
       "      <th>41</th>\n",
       "      <td>100.0</td>\n",
       "      <td>18.8</td>\n",
       "      <td>11.6</td>\n",
       "      <td>7.6</td>\n",
       "    </tr>\n",
       "    <tr>\n",
       "      <th>42</th>\n",
       "      <td>100.0</td>\n",
       "      <td>18.3</td>\n",
       "      <td>10.5</td>\n",
       "      <td>0.0</td>\n",
       "    </tr>\n",
       "    <tr>\n",
       "      <th>43</th>\n",
       "      <td>100.0</td>\n",
       "      <td>16.6</td>\n",
       "      <td>0.0</td>\n",
       "      <td>0.0</td>\n",
       "    </tr>\n",
       "    <tr>\n",
       "      <th>44</th>\n",
       "      <td>100.0</td>\n",
       "      <td>0.0</td>\n",
       "      <td>0.0</td>\n",
       "      <td>0.0</td>\n",
       "    </tr>\n",
       "  </tbody>\n",
       "</table>\n",
       "</div>"
      ],
      "text/plain": [
       "                        0     1     2    3\n",
       "first_session_week                        \n",
       "41                  100.0  18.8  11.6  7.6\n",
       "42                  100.0  18.3  10.5  0.0\n",
       "43                  100.0  16.6   0.0  0.0\n",
       "44                  100.0   0.0   0.0  0.0"
      ]
     },
     "metadata": {},
     "output_type": "display_data"
    }
   ],
   "source": [
    "# Построим таблицу удержания\n",
    "week_retention = data.pivot_table(index=['first_session_week'], columns='lifetime', \n",
    "                                  values='user_id', aggfunc='nunique')\n",
    "\n",
    "#расчитываем размеры когорт\n",
    "cohort_week = (\n",
    "data.groupby('first_session_week').agg(cohort_size=('user_id','nunique'))\n",
    ")\n",
    "\n",
    "# объединяем размеры когорт и таблицу удержания\n",
    "week_retention = cohort_week.merge(\n",
    "    week_retention, on='first_session_week', how='left'\n",
    ").fillna(0)\n",
    "\n",
    "# делим данные таблицы удержания на размеры когорт\n",
    "week_retention_percent = (\n",
    "    week_retention.div(\n",
    "    week_retention['cohort_size'], axis=0 )).mul(100).round(1)\n",
    "\n",
    "week_retention.drop(columns=['cohort_size'], inplace=True)\n",
    "week_retention_percent.drop(columns=['cohort_size'], inplace=True)\n",
    "\n",
    "display(week_retention)\n",
    "display(week_retention_percent)"
   ]
  },
  {
   "cell_type": "code",
   "execution_count": 38,
   "id": "bd7d91c2",
   "metadata": {},
   "outputs": [],
   "source": [
    "#удалим первую неделю для визаулизации\n",
    "week_retention_percent.drop(week_retention_percent.columns[0], axis=1, inplace=True)"
   ]
  },
  {
   "cell_type": "code",
   "execution_count": 39,
   "id": "f149bb63",
   "metadata": {},
   "outputs": [
    {
     "data": {
      "image/png": "[encoded data removed]",
      "text/plain": [
       "<Figure size 864x432 with 2 Axes>"
      ]
     },
     "metadata": {
      "needs_background": "light"
     },
     "output_type": "display_data"
    }
   ],
   "source": [
    "# Нарисовать тепловую карту\n",
    "plt.figure(figsize=(12, 6))\n",
    "sns.heatmap(week_retention_percent, cmap='coolwarm', annot=True, fmt=\".1f\", linewidths=0.5)\n",
    "plt.title('Тепловая карта Retention Rate')\n",
    "plt.xlabel('Лайфтайм по неделям')\n",
    "plt.ylabel('Номер недели первой сессии пользователя')\n",
    "plt.xticks(ticks=range(0, len(week_retention_percent.columns)), labels=week_retention_percent.columns)\n",
    "plt.yticks(ticks=range(0, len(week_retention_percent.index)), labels=week_retention_percent.index, rotation=0)\n",
    "plt.show()"
   ]
  },
  {
   "cell_type": "markdown",
   "id": "d6eec522",
   "metadata": {},
   "source": [
    "**Промежуточный итог:**\n",
    "* Для расчета рейтинга удержания мы добавили столбцы с указанием даты первой сессии, нумерации недель, выделили первую неделю сессии, лайфтайм\n",
    "* Расчитали конверсию по неделям, сформировав примерно равные когорты, в абсолютных числах и в процентах. Горизонт у нас составляет 27 дней, почти 4 недели. \n",
    "* Нарисовали тепловую карту\n",
    "* Retention rate выглядит стабильным и постепенно падающим. Каждая следующая когорта на вторую неделю удерживает всё меньше пользователей. Первая когорта показывает удержание в 7.6% на четвёртую неделю."
   ]
  },
  {
   "cell_type": "markdown",
   "id": "08474c5c",
   "metadata": {},
   "source": []
  },
  {
   "cell_type": "markdown",
   "id": "65f114c7",
   "metadata": {},
   "source": [
    "#### Анализ частоты событий и конверсии."
   ]
  },
  {
   "cell_type": "code",
   "execution_count": 40,
   "id": "fca8e2bc",
   "metadata": {},
   "outputs": [
    {
     "data": {
      "text/plain": [
       "count      28.000000\n",
       "mean     2516.892857\n",
       "std       385.322889\n",
       "min      1739.000000\n",
       "25%      2368.250000\n",
       "50%      2578.000000\n",
       "75%      2762.000000\n",
       "max      3122.000000\n",
       "Name: event_count, dtype: float64"
      ]
     },
     "execution_count": 40,
     "metadata": {},
     "output_type": "execute_result"
    }
   ],
   "source": [
    "#распределение событий по дням\n",
    "frequency_day = data.groupby('date')[['event_name']].count().reset_index()\n",
    "frequency_day.columns = ['date', 'event_count']\n",
    "frequency_day['date'] = frequency_day['date'].dt.date\n",
    "frequency_day['event_count'].describe()"
   ]
  },
  {
   "cell_type": "code",
   "execution_count": 41,
   "id": "eb8b6f54",
   "metadata": {},
   "outputs": [
    {
     "data": {
      "image/png": "[encoded data removed]",
      "text/plain": [
       "<Figure size 1080x504 with 1 Axes>"
      ]
     },
     "metadata": {
      "needs_background": "light"
     },
     "output_type": "display_data"
    }
   ],
   "source": [
    "# Строим график\n",
    "plt.figure(figsize=(15, 7))\n",
    "sns.set_palette('pastel')\n",
    "ax = sns.barplot(x='date', y='event_count', data=frequency_day, palette='pastel')\n",
    "\n",
    "# Добавляем подписи и наклон с сеткой\n",
    "plt.xticks(rotation=45, ha='right')\n",
    "plt.xlabel('Дата')\n",
    "plt.ylabel('Количество событий')\n",
    "plt.title('Распределение событий по дням')\n",
    "plt.grid(alpha=0.4)\n",
    "\n",
    "# Добавляем числовые значения в график\n",
    "for p in ax.patches:\n",
    "    height = p.get_height()\n",
    "    plt.annotate(format(height, '.0f'),\n",
    "                 (p.get_x() + p.get_width() / 2., height),\n",
    "                 ha='center', va='center',\n",
    "                 xytext=(0, 10),\n",
    "                 textcoords='offset points')\n",
    "\n",
    "# Добавляем линию среднего показателя\n",
    "mean_event_count = frequency_day['event_count'].mean()\n",
    "plt.axhline(mean_event_count, color='red', linestyle='--', alpha=0.5, label='Среднее значение 2516')\n",
    "plt.legend()\n",
    "\n",
    "plt.show()"
   ]
  },
  {
   "cell_type": "markdown",
   "id": "7005c08f",
   "metadata": {},
   "source": [
    "* В средний показатель действий в день, за наблюдаемый период, составляет 2516. Как мы види из графика события ожидаемо распределены не совсем равномерно.Во второй половине наблюдаемого периода частота событий, т.е. активность пользователей, больше т.к. количество действий больше среднего показателя. Правда 2.11.2019 зафиксировано самое низкое количество действий (1739) за наблюдаемый период."
   ]
  },
  {
   "cell_type": "code",
   "execution_count": 42,
   "id": "cbb86a06",
   "metadata": {},
   "outputs": [
    {
     "data": {
      "text/html": [
       "<div>\n",
       "<style scoped>\n",
       "    .dataframe tbody tr th:only-of-type {\n",
       "        vertical-align: middle;\n",
       "    }\n",
       "\n",
       "    .dataframe tbody tr th {\n",
       "        vertical-align: top;\n",
       "    }\n",
       "\n",
       "    .dataframe thead th {\n",
       "        text-align: right;\n",
       "    }\n",
       "</style>\n",
       "<table border=\"1\" class=\"dataframe\">\n",
       "  <thead>\n",
       "    <tr style=\"text-align: right;\">\n",
       "      <th></th>\n",
       "      <th>event_name</th>\n",
       "      <th>count</th>\n",
       "      <th>percent</th>\n",
       "      <th>unique_users</th>\n",
       "      <th>percent_users</th>\n",
       "    </tr>\n",
       "  </thead>\n",
       "  <tbody>\n",
       "    <tr>\n",
       "      <th>0</th>\n",
       "      <td>tips_show</td>\n",
       "      <td>38899</td>\n",
       "      <td>55.2%</td>\n",
       "      <td>2749</td>\n",
       "      <td>65.6%</td>\n",
       "    </tr>\n",
       "    <tr>\n",
       "      <th>1</th>\n",
       "      <td>photos_show</td>\n",
       "      <td>8755</td>\n",
       "      <td>12.4%</td>\n",
       "      <td>1051</td>\n",
       "      <td>25.1%</td>\n",
       "    </tr>\n",
       "    <tr>\n",
       "      <th>2</th>\n",
       "      <td>search</td>\n",
       "      <td>6217</td>\n",
       "      <td>8.8%</td>\n",
       "      <td>1622</td>\n",
       "      <td>38.7%</td>\n",
       "    </tr>\n",
       "    <tr>\n",
       "      <th>3</th>\n",
       "      <td>advert_open</td>\n",
       "      <td>6082</td>\n",
       "      <td>8.6%</td>\n",
       "      <td>737</td>\n",
       "      <td>17.6%</td>\n",
       "    </tr>\n",
       "    <tr>\n",
       "      <th>4</th>\n",
       "      <td>contacts_show</td>\n",
       "      <td>4205</td>\n",
       "      <td>6.0%</td>\n",
       "      <td>941</td>\n",
       "      <td>22.4%</td>\n",
       "    </tr>\n",
       "    <tr>\n",
       "      <th>5</th>\n",
       "      <td>map</td>\n",
       "      <td>3636</td>\n",
       "      <td>5.2%</td>\n",
       "      <td>1409</td>\n",
       "      <td>33.6%</td>\n",
       "    </tr>\n",
       "    <tr>\n",
       "      <th>6</th>\n",
       "      <td>favorites_add</td>\n",
       "      <td>1377</td>\n",
       "      <td>2.0%</td>\n",
       "      <td>331</td>\n",
       "      <td>7.9%</td>\n",
       "    </tr>\n",
       "    <tr>\n",
       "      <th>7</th>\n",
       "      <td>tips_click</td>\n",
       "      <td>800</td>\n",
       "      <td>1.1%</td>\n",
       "      <td>320</td>\n",
       "      <td>7.6%</td>\n",
       "    </tr>\n",
       "    <tr>\n",
       "      <th>8</th>\n",
       "      <td>contacts_call</td>\n",
       "      <td>502</td>\n",
       "      <td>0.7%</td>\n",
       "      <td>197</td>\n",
       "      <td>4.7%</td>\n",
       "    </tr>\n",
       "  </tbody>\n",
       "</table>\n",
       "</div>"
      ],
      "text/plain": [
       "      event_name  count percent  unique_users percent_users\n",
       "0      tips_show  38899   55.2%          2749         65.6%\n",
       "1    photos_show   8755   12.4%          1051         25.1%\n",
       "2         search   6217    8.8%          1622         38.7%\n",
       "3    advert_open   6082    8.6%           737         17.6%\n",
       "4  contacts_show   4205    6.0%           941         22.4%\n",
       "5            map   3636    5.2%          1409         33.6%\n",
       "6  favorites_add   1377    2.0%           331          7.9%\n",
       "7     tips_click    800    1.1%           320          7.6%\n",
       "8  contacts_call    502    0.7%           197          4.7%"
      ]
     },
     "execution_count": 42,
     "metadata": {},
     "output_type": "execute_result"
    }
   ],
   "source": [
    "# Посчитаем частоту событий\n",
    "frequency_event = data.pivot_table(index='event_name', values='user_id', aggfunc='count').reset_index().sort_values(by='user_id', ascending=False)\n",
    "frequency_event.columns = ['event_name', 'count']\n",
    "\n",
    "# Добавляем столбец с процентом\n",
    "frequency_event['percent'] = (frequency_event['count'] / frequency_event['count'].sum() * 100).round(1).map('{:.1f}%'.format)\n",
    "\n",
    "# Посчитаем количество уникальных пользователей для каждого действия\n",
    "unique_users_event = data.groupby('event_name')['user_id'].nunique().reset_index().sort_values(by='user_id', ascending=False)\n",
    "unique_users_event.columns = ['event_name', 'unique_users']\n",
    "unique_users_event['percent_users'] = (unique_users_event['unique_users'] / data['user_id'].nunique() * 100).round(1).map('{:.1f}%'.format)\n",
    "\n",
    "# Объединим таблицы\n",
    "frequency_event = frequency_event.merge(unique_users_event, on='event_name')\n",
    "\n",
    "frequency_event"
   ]
  },
  {
   "cell_type": "markdown",
   "id": "71ef02d6",
   "metadata": {},
   "source": [
    "* Создали сводную таблицу, по столбцам\n",
    "    * event_name - наименование события/действия\n",
    "    * count - количество действия за наблюдаемый период\n",
    "    * percent - доля события/действия среди всех событий/действий\n",
    "    * unique_users - количество уникальных пользователей в событии/действии\n",
    "    * persent_users - доля пользователей в событии/действии (конверсия в действие)"
   ]
  },
  {
   "cell_type": "code",
   "execution_count": 43,
   "id": "02318d45",
   "metadata": {},
   "outputs": [
    {
     "data": {
      "image/png": "[encoded data removed]",
      "text/plain": [
       "<Figure size 1080x504 with 1 Axes>"
      ]
     },
     "metadata": {
      "needs_background": "light"
     },
     "output_type": "display_data"
    }
   ],
   "source": [
    "#строим график\n",
    "plt.figure(figsize=(15, 7))\n",
    "sns.set_palette('pastel')\n",
    "ax = sns.barplot(x='event_name', y='count', data=frequency_event, palette='pastel')\n",
    "\n",
    "#добавляем подписи и наклон с сеткой\n",
    "plt.xticks(rotation=45, ha='right')\n",
    "plt.xlabel('Тип события')\n",
    "plt.ylabel('Количество событий')\n",
    "plt.title('Общая частота событий')\n",
    "plt.grid(alpha=0.4)\n",
    "\n",
    "#добавим числовые значения в график\n",
    "for p, perc in zip(ax.patches, frequency_event['percent']):\n",
    "    ax.annotate(f\"{format(p.get_height(), '.0f')} ({perc})\",\n",
    "                (p.get_x() + p.get_width() / 2., p.get_height()),\n",
    "                ha='center', va='center',\n",
    "                xytext=(0, 10),\n",
    "                textcoords='offset points')\n",
    "plt.show()"
   ]
  },
  {
   "cell_type": "markdown",
   "id": "aec96096",
   "metadata": {},
   "source": [
    "* График нам показывает что tips_show абсолютный лидер по частоте совершения действия и занимает 55.2% всех событий, но при этом клик по рекомендации tips_click довольно редкий, всего 800 и составляет 1.1% от всех событий"
   ]
  },
  {
   "cell_type": "code",
   "execution_count": 44,
   "id": "482fdf97",
   "metadata": {},
   "outputs": [
    {
     "data": {
      "image/png": "[encoded data removed]",
      "text/plain": [
       "<Figure size 1080x504 with 1 Axes>"
      ]
     },
     "metadata": {
      "needs_background": "light"
     },
     "output_type": "display_data"
    }
   ],
   "source": [
    "#строим график\n",
    "plt.figure(figsize=(15, 7))\n",
    "sns.set_palette('pastel')\n",
    "ax = sns.barplot(x='event_name', y='unique_users', data=unique_users_event, palette='pastel')\n",
    "\n",
    "#добавляем подписи и наклон с сеткой\n",
    "plt.xticks(rotation=45, ha='right')\n",
    "plt.xlabel('Тип события')\n",
    "plt.ylabel('Количество пользователей совершивих действие')\n",
    "plt.title('Конверсия пользователей в действия')\n",
    "plt.grid(alpha=0.4)\n",
    "\n",
    "#добавим числовые значения в график\n",
    "for p, perc in zip(ax.patches, unique_users_event['percent_users']):\n",
    "    ax.annotate(f\"{format(p.get_height(), '.0f')} ({perc})\",\n",
    "                (p.get_x() + p.get_width() / 2., p.get_height()),\n",
    "                ha='center', va='center',\n",
    "                xytext=(0, 10),\n",
    "                textcoords='offset points')\n",
    "plt.show()"
   ]
  },
  {
   "cell_type": "markdown",
   "id": "df12707e",
   "metadata": {},
   "source": [
    "**Промежуточный итог:**\n",
    "* Во второй половине наблюдаемого периода частота событий, т.е. активность пользователей, возрастает, это видно по графику, т.к. в этот период, в большинстве дней, количество действий больше среднего показателя.  Правда 2.11.2019 зафиксировано самое низкое количество действий (1739) за наблюдаемый период.\n",
    "* Наибольшее количество зафиксированных действий относится к tips_show (пользователь увидел рекомендованные объявления) и это событие занимает 55.2% (38899) всех событий, можем предположить что этот показ идет в каком то автоматическом режиме, а вот клик по нему находится на предпоследнем месте, всего 1.1%(800). Наименьшее количество действий связано со звонком, оно совершено 502(0.7%) раза.\n",
    "* На последнем графике мы видим 941 пользователь из 4192 совершил ключевое действие contacts_show, что составляет 22.4%, т.е. фактически каждый пятый. Но тут так же видно что поиском пользуется только 38.7% пользователей, а самое частое событие tips_show показывается 65.6% пользователей и при этом конверсия в клик по рекомендации составляет только 7.6%. Т.е. мы можем предположить что с показом рекомендованных объявлений и поиском что то не так."
   ]
  },
  {
   "cell_type": "markdown",
   "id": "65b0e426",
   "metadata": {},
   "source": [
    "### Cегментация и анализ в разрезе выделенных групп\n",
    "#### Сегментация по времени сессии \n",
    "Как мы заметили ранее, 3/4 наших сессий не длится дольше 22 минут, средняя длина сессий составила 16:36, а медианное значение 9:40. Мы хотим разделить наших пользователей на равные группы по длине сессии т.к.анализ длительности сессий и ее соотношение с другими метриками, может помочь в оценке эффективности сайта объявлений и оптимизации пользовательского опыта. Мы предполагаем и ожидаем, пользователи с длинными сессиями показывают лучшие показатели нежели короткие. На основании полученных результатов можно будет сформулировать практические рекомендации. "
   ]
  },
  {
   "cell_type": "code",
   "execution_count": 45,
   "id": "6b870bf4",
   "metadata": {},
   "outputs": [
    {
     "data": {
      "text/plain": [
       "count    4192.000000\n",
       "mean        1.916985\n",
       "std         2.443888\n",
       "min         1.000000\n",
       "25%         1.000000\n",
       "50%         1.000000\n",
       "75%         2.000000\n",
       "max        60.000000\n",
       "Name: session_id, dtype: float64"
      ]
     },
     "metadata": {},
     "output_type": "display_data"
    },
    {
     "data": {
      "text/html": [
       "<div>\n",
       "<style scoped>\n",
       "    .dataframe tbody tr th:only-of-type {\n",
       "        vertical-align: middle;\n",
       "    }\n",
       "\n",
       "    .dataframe tbody tr th {\n",
       "        vertical-align: top;\n",
       "    }\n",
       "\n",
       "    .dataframe thead th {\n",
       "        text-align: right;\n",
       "    }\n",
       "</style>\n",
       "<table border=\"1\" class=\"dataframe\">\n",
       "  <thead>\n",
       "    <tr style=\"text-align: right;\">\n",
       "      <th></th>\n",
       "      <th>session_id</th>\n",
       "    </tr>\n",
       "    <tr>\n",
       "      <th>user_id</th>\n",
       "      <th></th>\n",
       "    </tr>\n",
       "  </thead>\n",
       "  <tbody>\n",
       "    <tr>\n",
       "      <th>21230dd9-2f7f-4b77-a436-43d4d10388e0</th>\n",
       "      <td>60</td>\n",
       "    </tr>\n",
       "    <tr>\n",
       "      <th>cb36854f-570a-41f4-baa8-36680b396370</th>\n",
       "      <td>41</td>\n",
       "    </tr>\n",
       "    <tr>\n",
       "      <th>e13f9f32-7ae3-4204-8d60-898db040bcfc</th>\n",
       "      <td>34</td>\n",
       "    </tr>\n",
       "    <tr>\n",
       "      <th>1580911b-65db-4f1a-be7e-1ca39becac30</th>\n",
       "      <td>30</td>\n",
       "    </tr>\n",
       "    <tr>\n",
       "      <th>be1449f6-ca45-4f94-93a7-ea4b079b8f0f</th>\n",
       "      <td>30</td>\n",
       "    </tr>\n",
       "    <tr>\n",
       "      <th>e38cb669-7335-4d56-9de5-c8d5d2f13fd3</th>\n",
       "      <td>24</td>\n",
       "    </tr>\n",
       "    <tr>\n",
       "      <th>fffb9e79-b927-4dbb-9b48-7fd09b23a62b</th>\n",
       "      <td>24</td>\n",
       "    </tr>\n",
       "    <tr>\n",
       "      <th>abdcbe3c-221b-4f59-afd9-bf9ca78f7e4c</th>\n",
       "      <td>23</td>\n",
       "    </tr>\n",
       "    <tr>\n",
       "      <th>25069cad-0d00-48cb-a627-0871a877307e</th>\n",
       "      <td>22</td>\n",
       "    </tr>\n",
       "    <tr>\n",
       "      <th>28fccdf4-7b9e-42f5-bc73-439a265f20e9</th>\n",
       "      <td>22</td>\n",
       "    </tr>\n",
       "  </tbody>\n",
       "</table>\n",
       "</div>"
      ],
      "text/plain": [
       "                                      session_id\n",
       "user_id                                         \n",
       "21230dd9-2f7f-4b77-a436-43d4d10388e0          60\n",
       "cb36854f-570a-41f4-baa8-36680b396370          41\n",
       "e13f9f32-7ae3-4204-8d60-898db040bcfc          34\n",
       "1580911b-65db-4f1a-be7e-1ca39becac30          30\n",
       "be1449f6-ca45-4f94-93a7-ea4b079b8f0f          30\n",
       "e38cb669-7335-4d56-9de5-c8d5d2f13fd3          24\n",
       "fffb9e79-b927-4dbb-9b48-7fd09b23a62b          24\n",
       "abdcbe3c-221b-4f59-afd9-bf9ca78f7e4c          23\n",
       "25069cad-0d00-48cb-a627-0871a877307e          22\n",
       "28fccdf4-7b9e-42f5-bc73-439a265f20e9          22"
      ]
     },
     "metadata": {},
     "output_type": "display_data"
    }
   ],
   "source": [
    "#проверим сколько сессий приходится на пользователя\n",
    "session_counts = pd.pivot_table(data, index='user_id', values='session_id', aggfunc='nunique').sort_values(by='session_id', ascending=False )\n",
    "display(session_counts['session_id'].describe())\n",
    "display(session_counts.head(10))"
   ]
  },
  {
   "cell_type": "code",
   "execution_count": 46,
   "id": "1edd8b4c",
   "metadata": {},
   "outputs": [],
   "source": [
    "#для начала создадим новый столбец с указанием средней продолжительности сессии для каждого пользователя\n",
    "#берем среднюю так как у большей части пользователей не больше одной сессии, хотя при этом этом есть пользователи с 60 сессиями\n",
    "data['mean_session_duration_sec'] = data.groupby('user_id')['session_duration_sec'].transform('mean')"
   ]
  },
  {
   "cell_type": "code",
   "execution_count": 47,
   "id": "b979b026",
   "metadata": {},
   "outputs": [
    {
     "data": {
      "text/plain": [
       "count     4192.000000\n",
       "mean      1084.505622\n",
       "std       1187.554769\n",
       "min          6.000000\n",
       "25%        325.992308\n",
       "50%        719.250000\n",
       "75%       1433.967391\n",
       "max      19318.000000\n",
       "Name: mean_session_duration_sec, dtype: float64"
      ]
     },
     "execution_count": 47,
     "metadata": {},
     "output_type": "execute_result"
    }
   ],
   "source": [
    "#оставим только по 1 записи на пользователя, чтобы избежать пересечений и посмотрим стат анализ\n",
    "unique_user = data[data['user_id'].duplicated() == False]\n",
    "unique_user['mean_session_duration_sec'].describe()"
   ]
  },
  {
   "cell_type": "code",
   "execution_count": 48,
   "id": "404e0bc0",
   "metadata": {},
   "outputs": [],
   "source": [
    "#создаем функцию распределения пользователей по группам\n",
    "#для простоты и равномерности распределения пользователей создадим 4 группы по 25% от стат анализа\n",
    "def add_group_column(data):\n",
    "    \n",
    "    data['group'] = ''\n",
    "\n",
    "    # Присваиваем группы на основе значения 'session_duration_sec'\n",
    "    data.loc[data['mean_session_duration_sec'] < unique_user['mean_session_duration_sec'].describe().loc['25%'], 'group'] = 'A'\n",
    "    data.loc[(data['mean_session_duration_sec'] >= unique_user['mean_session_duration_sec'].describe().loc['25%']) & (data['mean_session_duration_sec'] < unique_user['mean_session_duration_sec'].describe().loc['50%']), 'group'] = 'B'\n",
    "    data.loc[(data['mean_session_duration_sec'] >= unique_user['mean_session_duration_sec'].describe().loc['50%']) & (data['mean_session_duration_sec'] < unique_user['mean_session_duration_sec'].describe().loc['75%']), 'group'] = 'C'\n",
    "    data.loc[data['mean_session_duration_sec'] >= unique_user['mean_session_duration_sec'].describe().loc['75%'], 'group'] = 'D'\n",
    "\n",
    "    return data"
   ]
  },
  {
   "cell_type": "code",
   "execution_count": 49,
   "id": "f9d08fc8",
   "metadata": {},
   "outputs": [
    {
     "data": {
      "text/html": [
       "<div>\n",
       "<style scoped>\n",
       "    .dataframe tbody tr th:only-of-type {\n",
       "        vertical-align: middle;\n",
       "    }\n",
       "\n",
       "    .dataframe tbody tr th {\n",
       "        vertical-align: top;\n",
       "    }\n",
       "\n",
       "    .dataframe thead th {\n",
       "        text-align: right;\n",
       "    }\n",
       "</style>\n",
       "<table border=\"1\" class=\"dataframe\">\n",
       "  <thead>\n",
       "    <tr style=\"text-align: right;\">\n",
       "      <th></th>\n",
       "      <th>event_time</th>\n",
       "      <th>event_name</th>\n",
       "      <th>user_id</th>\n",
       "      <th>date</th>\n",
       "      <th>source</th>\n",
       "      <th>session_id</th>\n",
       "      <th>session_start</th>\n",
       "      <th>session_end</th>\n",
       "      <th>session_duration</th>\n",
       "      <th>session_duration_sec</th>\n",
       "      <th>first_session</th>\n",
       "      <th>week</th>\n",
       "      <th>first_session_week</th>\n",
       "      <th>lifetime</th>\n",
       "      <th>mean_session_duration_sec</th>\n",
       "      <th>group</th>\n",
       "    </tr>\n",
       "  </thead>\n",
       "  <tbody>\n",
       "    <tr>\n",
       "      <th>71686</th>\n",
       "      <td>2019-11-03 10:58:02</td>\n",
       "      <td>advert_open</td>\n",
       "      <td>3fbb69e4-0cc6-441b-81e0-5fa27bf69168</td>\n",
       "      <td>2019-11-03</td>\n",
       "      <td>other</td>\n",
       "      <td>10212</td>\n",
       "      <td>2019-11-03 08:39:37</td>\n",
       "      <td>2019-11-03 11:20:36</td>\n",
       "      <td>0 days 02:40:59</td>\n",
       "      <td>9659.0</td>\n",
       "      <td>2019-11-03 08:39:37</td>\n",
       "      <td>44</td>\n",
       "      <td>44</td>\n",
       "      <td>0</td>\n",
       "      <td>9659.000000</td>\n",
       "      <td>D</td>\n",
       "    </tr>\n",
       "    <tr>\n",
       "      <th>46772</th>\n",
       "      <td>2019-10-25 09:24:25</td>\n",
       "      <td>tips_show</td>\n",
       "      <td>5eaab80f-1bf9-4094-8b07-c4b04ae87cbc</td>\n",
       "      <td>2019-10-25</td>\n",
       "      <td>other</td>\n",
       "      <td>6698</td>\n",
       "      <td>2019-10-25 09:23:32</td>\n",
       "      <td>2019-10-25 09:24:38</td>\n",
       "      <td>0 days 00:01:06</td>\n",
       "      <td>66.0</td>\n",
       "      <td>2019-10-21 19:35:21</td>\n",
       "      <td>43</td>\n",
       "      <td>43</td>\n",
       "      <td>0</td>\n",
       "      <td>1741.192982</td>\n",
       "      <td>D</td>\n",
       "    </tr>\n",
       "    <tr>\n",
       "      <th>28637</th>\n",
       "      <td>2019-10-23 11:57:08</td>\n",
       "      <td>search</td>\n",
       "      <td>ab5921ad-3327-4a94-80b7-5fb8dd4f977a</td>\n",
       "      <td>2019-10-23</td>\n",
       "      <td>other</td>\n",
       "      <td>4048</td>\n",
       "      <td>2019-10-23 11:57:08</td>\n",
       "      <td>2019-10-23 12:08:53</td>\n",
       "      <td>0 days 00:11:45</td>\n",
       "      <td>705.0</td>\n",
       "      <td>2019-10-15 16:31:52</td>\n",
       "      <td>43</td>\n",
       "      <td>42</td>\n",
       "      <td>1</td>\n",
       "      <td>508.680000</td>\n",
       "      <td>B</td>\n",
       "    </tr>\n",
       "    <tr>\n",
       "      <th>22850</th>\n",
       "      <td>2019-10-19 17:16:23</td>\n",
       "      <td>advert_open</td>\n",
       "      <td>04adf25e-cb60-4cbd-bedc-ddc1057cde06</td>\n",
       "      <td>2019-10-19</td>\n",
       "      <td>other</td>\n",
       "      <td>3236</td>\n",
       "      <td>2019-10-19 16:51:18</td>\n",
       "      <td>2019-10-19 17:31:41</td>\n",
       "      <td>0 days 00:40:23</td>\n",
       "      <td>2423.0</td>\n",
       "      <td>2019-10-13 15:41:09</td>\n",
       "      <td>42</td>\n",
       "      <td>41</td>\n",
       "      <td>1</td>\n",
       "      <td>1313.192661</td>\n",
       "      <td>C</td>\n",
       "    </tr>\n",
       "    <tr>\n",
       "      <th>71673</th>\n",
       "      <td>2019-11-03 10:20:33</td>\n",
       "      <td>advert_open</td>\n",
       "      <td>3fbb69e4-0cc6-441b-81e0-5fa27bf69168</td>\n",
       "      <td>2019-11-03</td>\n",
       "      <td>other</td>\n",
       "      <td>10212</td>\n",
       "      <td>2019-11-03 08:39:37</td>\n",
       "      <td>2019-11-03 11:20:36</td>\n",
       "      <td>0 days 02:40:59</td>\n",
       "      <td>9659.0</td>\n",
       "      <td>2019-11-03 08:39:37</td>\n",
       "      <td>44</td>\n",
       "      <td>44</td>\n",
       "      <td>0</td>\n",
       "      <td>9659.000000</td>\n",
       "      <td>D</td>\n",
       "    </tr>\n",
       "  </tbody>\n",
       "</table>\n",
       "</div>"
      ],
      "text/plain": [
       "               event_time   event_name                               user_id  \\\n",
       "71686 2019-11-03 10:58:02  advert_open  3fbb69e4-0cc6-441b-81e0-5fa27bf69168   \n",
       "46772 2019-10-25 09:24:25    tips_show  5eaab80f-1bf9-4094-8b07-c4b04ae87cbc   \n",
       "28637 2019-10-23 11:57:08       search  ab5921ad-3327-4a94-80b7-5fb8dd4f977a   \n",
       "22850 2019-10-19 17:16:23  advert_open  04adf25e-cb60-4cbd-bedc-ddc1057cde06   \n",
       "71673 2019-11-03 10:20:33  advert_open  3fbb69e4-0cc6-441b-81e0-5fa27bf69168   \n",
       "\n",
       "            date source  session_id       session_start         session_end  \\\n",
       "71686 2019-11-03  other       10212 2019-11-03 08:39:37 2019-11-03 11:20:36   \n",
       "46772 2019-10-25  other        6698 2019-10-25 09:23:32 2019-10-25 09:24:38   \n",
       "28637 2019-10-23  other        4048 2019-10-23 11:57:08 2019-10-23 12:08:53   \n",
       "22850 2019-10-19  other        3236 2019-10-19 16:51:18 2019-10-19 17:31:41   \n",
       "71673 2019-11-03  other       10212 2019-11-03 08:39:37 2019-11-03 11:20:36   \n",
       "\n",
       "      session_duration  session_duration_sec       first_session  week  \\\n",
       "71686  0 days 02:40:59                9659.0 2019-11-03 08:39:37    44   \n",
       "46772  0 days 00:01:06                  66.0 2019-10-21 19:35:21    43   \n",
       "28637  0 days 00:11:45                 705.0 2019-10-15 16:31:52    43   \n",
       "22850  0 days 00:40:23                2423.0 2019-10-13 15:41:09    42   \n",
       "71673  0 days 02:40:59                9659.0 2019-11-03 08:39:37    44   \n",
       "\n",
       "       first_session_week  lifetime  mean_session_duration_sec group  \n",
       "71686                  44         0                9659.000000     D  \n",
       "46772                  43         0                1741.192982     D  \n",
       "28637                  42         1                 508.680000     B  \n",
       "22850                  41         1                1313.192661     C  \n",
       "71673                  44         0                9659.000000     D  "
      ]
     },
     "execution_count": 49,
     "metadata": {},
     "output_type": "execute_result"
    }
   ],
   "source": [
    "# Вызываем функцию и проверяем\n",
    "data_with_groups = add_group_column(data)\n",
    "data.sample(5)"
   ]
  },
  {
   "cell_type": "code",
   "execution_count": 50,
   "id": "72aa8860",
   "metadata": {},
   "outputs": [
    {
     "data": {
      "text/html": [
       "<div>\n",
       "<style scoped>\n",
       "    .dataframe tbody tr th:only-of-type {\n",
       "        vertical-align: middle;\n",
       "    }\n",
       "\n",
       "    .dataframe tbody tr th {\n",
       "        vertical-align: top;\n",
       "    }\n",
       "\n",
       "    .dataframe thead th {\n",
       "        text-align: right;\n",
       "    }\n",
       "</style>\n",
       "<table border=\"1\" class=\"dataframe\">\n",
       "  <thead>\n",
       "    <tr style=\"text-align: right;\">\n",
       "      <th></th>\n",
       "      <th>group</th>\n",
       "      <th>user_id</th>\n",
       "    </tr>\n",
       "  </thead>\n",
       "  <tbody>\n",
       "    <tr>\n",
       "      <th>0</th>\n",
       "      <td>A</td>\n",
       "      <td>1048</td>\n",
       "    </tr>\n",
       "    <tr>\n",
       "      <th>1</th>\n",
       "      <td>B</td>\n",
       "      <td>1048</td>\n",
       "    </tr>\n",
       "    <tr>\n",
       "      <th>2</th>\n",
       "      <td>C</td>\n",
       "      <td>1048</td>\n",
       "    </tr>\n",
       "    <tr>\n",
       "      <th>3</th>\n",
       "      <td>D</td>\n",
       "      <td>1048</td>\n",
       "    </tr>\n",
       "  </tbody>\n",
       "</table>\n",
       "</div>"
      ],
      "text/plain": [
       "  group  user_id\n",
       "0     A     1048\n",
       "1     B     1048\n",
       "2     C     1048\n",
       "3     D     1048"
      ]
     },
     "execution_count": 50,
     "metadata": {},
     "output_type": "execute_result"
    }
   ],
   "source": [
    "#посмотрим размеры групп\n",
    "data.groupby('group')['user_id'].nunique().reset_index().sort_values(by='user_id', ascending=False)"
   ]
  },
  {
   "cell_type": "code",
   "execution_count": 51,
   "id": "53b9ec8c",
   "metadata": {},
   "outputs": [],
   "source": [
    "#все работает, обновим unique_user, и на его основании сделаем срезы по группам\n",
    "group_a = data.query('group== \"A\"')\n",
    "group_b = data.query('group== \"B\"')\n",
    "group_c = data.query('group== \"C\"')\n",
    "group_d = data.query('group== \"D\"')"
   ]
  },
  {
   "cell_type": "markdown",
   "id": "f6aaf2c5",
   "metadata": {},
   "source": [
    "**Промежуточный итог:**  \n",
    "* Создали дополнительный столбец с указание средней длины сессии для пользователя\n",
    "* Создали 4 группы и распределили по ним в равном количестве пользователей учитывая среднюю продолжительность их сессии. "
   ]
  },
  {
   "cell_type": "code",
   "execution_count": 52,
   "id": "fcbcced6",
   "metadata": {},
   "outputs": [
    {
     "data": {
      "text/plain": [
       "4192"
      ]
     },
     "execution_count": 52,
     "metadata": {},
     "output_type": "execute_result"
    }
   ],
   "source": [
    "group_a['user_id'].nunique() + group_b['user_id'].nunique() + group_c['user_id'].nunique() + group_d['user_id'].nunique()"
   ]
  },
  {
   "cell_type": "markdown",
   "id": "4bae8bfe",
   "metadata": {},
   "source": [
    "#### Retention rate в разрезе выделенных групп\n"
   ]
  },
  {
   "cell_type": "code",
   "execution_count": 53,
   "id": "ea72b885",
   "metadata": {},
   "outputs": [],
   "source": [
    "#делаем функцию\n",
    "def retention(group, group_name):\n",
    "    #таблица удержания\n",
    "    result_grouped = group.pivot_table(index=['first_session_week'], columns='lifetime', \n",
    "                                  values='user_id', aggfunc='nunique')\n",
    "    #размер когорты\n",
    "    cohort_sizes = (group.groupby('first_session_week').agg(cohort_size=('user_id','nunique')))\n",
    "\n",
    "    #объединение\n",
    "    result_grouped = cohort_sizes.merge(result_grouped, on='first_session_week', how='left').fillna(0)\n",
    "    \n",
    "    #делим данные таблицы удержания на размеры когорт\n",
    "    result_grouped = (result_grouped.div(result_grouped['cohort_size'], axis=0 )).mul(100).round(1)\n",
    "\n",
    "    #удаляем лишние столбцы \n",
    "    result_grouped.drop(columns=['cohort_size'], inplace=True) \n",
    "    result_grouped.drop(result_grouped.columns[0], axis=1, inplace=True)\n",
    "    \n",
    "    #строим графики\n",
    "    plt.figure (figsize=(10,3))\n",
    "    sns.heatmap(result_grouped, cmap='coolwarm', annot=True, fmt=\".1f\", linewidths=0.5)\n",
    "    plt.xlabel('Лайфтайм по неделям')\n",
    "    plt.ylabel('Первая неделя сессии')\n",
    "    plt.title(\"Retention rate '{}'\".format(group_name))"
   ]
  },
  {
   "cell_type": "code",
   "execution_count": 54,
   "id": "1ea82c9b",
   "metadata": {},
   "outputs": [
    {
     "data": {
      "text/html": [
       "<div>\n",
       "<style scoped>\n",
       "    .dataframe tbody tr th:only-of-type {\n",
       "        vertical-align: middle;\n",
       "    }\n",
       "\n",
       "    .dataframe tbody tr th {\n",
       "        vertical-align: top;\n",
       "    }\n",
       "\n",
       "    .dataframe thead th {\n",
       "        text-align: right;\n",
       "    }\n",
       "</style>\n",
       "<table border=\"1\" class=\"dataframe\">\n",
       "  <thead>\n",
       "    <tr style=\"text-align: right;\">\n",
       "      <th></th>\n",
       "      <th>cohort_size</th>\n",
       "    </tr>\n",
       "    <tr>\n",
       "      <th>first_session_week</th>\n",
       "      <th></th>\n",
       "    </tr>\n",
       "  </thead>\n",
       "  <tbody>\n",
       "    <tr>\n",
       "      <th>41</th>\n",
       "      <td>257</td>\n",
       "    </tr>\n",
       "    <tr>\n",
       "      <th>42</th>\n",
       "      <td>265</td>\n",
       "    </tr>\n",
       "    <tr>\n",
       "      <th>43</th>\n",
       "      <td>273</td>\n",
       "    </tr>\n",
       "    <tr>\n",
       "      <th>44</th>\n",
       "      <td>253</td>\n",
       "    </tr>\n",
       "  </tbody>\n",
       "</table>\n",
       "</div>"
      ],
      "text/plain": [
       "                    cohort_size\n",
       "first_session_week             \n",
       "41                          257\n",
       "42                          265\n",
       "43                          273\n",
       "44                          253"
      ]
     },
     "metadata": {},
     "output_type": "display_data"
    },
    {
     "data": {
      "image/png": "[encoded data removed]",
      "text/plain": [
       "<Figure size 720x216 with 2 Axes>"
      ]
     },
     "metadata": {
      "needs_background": "light"
     },
     "output_type": "display_data"
    }
   ],
   "source": [
    "cohort_sizes_a = (group_a.groupby('first_session_week').agg(cohort_size=('user_id','nunique')))\n",
    "display(cohort_sizes_a)\n",
    "retention(group_a, 'Группа А, сессии до 325 секунд')"
   ]
  },
  {
   "cell_type": "code",
   "execution_count": 55,
   "id": "ea2a664d",
   "metadata": {},
   "outputs": [
    {
     "data": {
      "text/html": [
       "<div>\n",
       "<style scoped>\n",
       "    .dataframe tbody tr th:only-of-type {\n",
       "        vertical-align: middle;\n",
       "    }\n",
       "\n",
       "    .dataframe tbody tr th {\n",
       "        vertical-align: top;\n",
       "    }\n",
       "\n",
       "    .dataframe thead th {\n",
       "        text-align: right;\n",
       "    }\n",
       "</style>\n",
       "<table border=\"1\" class=\"dataframe\">\n",
       "  <thead>\n",
       "    <tr style=\"text-align: right;\">\n",
       "      <th></th>\n",
       "      <th>cohort_size</th>\n",
       "    </tr>\n",
       "    <tr>\n",
       "      <th>first_session_week</th>\n",
       "      <th></th>\n",
       "    </tr>\n",
       "  </thead>\n",
       "  <tbody>\n",
       "    <tr>\n",
       "      <th>41</th>\n",
       "      <td>275</td>\n",
       "    </tr>\n",
       "    <tr>\n",
       "      <th>42</th>\n",
       "      <td>254</td>\n",
       "    </tr>\n",
       "    <tr>\n",
       "      <th>43</th>\n",
       "      <td>283</td>\n",
       "    </tr>\n",
       "    <tr>\n",
       "      <th>44</th>\n",
       "      <td>236</td>\n",
       "    </tr>\n",
       "  </tbody>\n",
       "</table>\n",
       "</div>"
      ],
      "text/plain": [
       "                    cohort_size\n",
       "first_session_week             \n",
       "41                          275\n",
       "42                          254\n",
       "43                          283\n",
       "44                          236"
      ]
     },
     "metadata": {},
     "output_type": "display_data"
    },
    {
     "data": {
      "image/png": "[encoded data removed]",
      "text/plain": [
       "<Figure size 720x216 with 2 Axes>"
      ]
     },
     "metadata": {
      "needs_background": "light"
     },
     "output_type": "display_data"
    }
   ],
   "source": [
    "cohort_sizes_b = (group_b.groupby('first_session_week').agg(cohort_size=('user_id','nunique')))\n",
    "display(cohort_sizes_b)\n",
    "retention(group_b, 'Группа B, сессии от 325 секунд до 719 секунд')"
   ]
  },
  {
   "cell_type": "code",
   "execution_count": 56,
   "id": "d91d1beb",
   "metadata": {},
   "outputs": [
    {
     "data": {
      "text/html": [
       "<div>\n",
       "<style scoped>\n",
       "    .dataframe tbody tr th:only-of-type {\n",
       "        vertical-align: middle;\n",
       "    }\n",
       "\n",
       "    .dataframe tbody tr th {\n",
       "        vertical-align: top;\n",
       "    }\n",
       "\n",
       "    .dataframe thead th {\n",
       "        text-align: right;\n",
       "    }\n",
       "</style>\n",
       "<table border=\"1\" class=\"dataframe\">\n",
       "  <thead>\n",
       "    <tr style=\"text-align: right;\">\n",
       "      <th></th>\n",
       "      <th>cohort_size</th>\n",
       "    </tr>\n",
       "    <tr>\n",
       "      <th>first_session_week</th>\n",
       "      <th></th>\n",
       "    </tr>\n",
       "  </thead>\n",
       "  <tbody>\n",
       "    <tr>\n",
       "      <th>41</th>\n",
       "      <td>268</td>\n",
       "    </tr>\n",
       "    <tr>\n",
       "      <th>42</th>\n",
       "      <td>316</td>\n",
       "    </tr>\n",
       "    <tr>\n",
       "      <th>43</th>\n",
       "      <td>244</td>\n",
       "    </tr>\n",
       "    <tr>\n",
       "      <th>44</th>\n",
       "      <td>220</td>\n",
       "    </tr>\n",
       "  </tbody>\n",
       "</table>\n",
       "</div>"
      ],
      "text/plain": [
       "                    cohort_size\n",
       "first_session_week             \n",
       "41                          268\n",
       "42                          316\n",
       "43                          244\n",
       "44                          220"
      ]
     },
     "metadata": {},
     "output_type": "display_data"
    },
    {
     "data": {
      "image/png": "[encoded data removed]",
      "text/plain": [
       "<Figure size 720x216 with 2 Axes>"
      ]
     },
     "metadata": {
      "needs_background": "light"
     },
     "output_type": "display_data"
    }
   ],
   "source": [
    "cohort_sizes_c = (group_c.groupby('first_session_week').agg(cohort_size=('user_id','nunique')))\n",
    "display(cohort_sizes_c)\n",
    "retention(group_c, 'Группа C, сессии от 719 секунд до 1433 секунд')"
   ]
  },
  {
   "cell_type": "code",
   "execution_count": 57,
   "id": "39739b56",
   "metadata": {},
   "outputs": [
    {
     "data": {
      "text/html": [
       "<div>\n",
       "<style scoped>\n",
       "    .dataframe tbody tr th:only-of-type {\n",
       "        vertical-align: middle;\n",
       "    }\n",
       "\n",
       "    .dataframe tbody tr th {\n",
       "        vertical-align: top;\n",
       "    }\n",
       "\n",
       "    .dataframe thead th {\n",
       "        text-align: right;\n",
       "    }\n",
       "</style>\n",
       "<table border=\"1\" class=\"dataframe\">\n",
       "  <thead>\n",
       "    <tr style=\"text-align: right;\">\n",
       "      <th></th>\n",
       "      <th>cohort_size</th>\n",
       "    </tr>\n",
       "    <tr>\n",
       "      <th>first_session_week</th>\n",
       "      <th></th>\n",
       "    </tr>\n",
       "  </thead>\n",
       "  <tbody>\n",
       "    <tr>\n",
       "      <th>41</th>\n",
       "      <td>264</td>\n",
       "    </tr>\n",
       "    <tr>\n",
       "      <th>42</th>\n",
       "      <td>285</td>\n",
       "    </tr>\n",
       "    <tr>\n",
       "      <th>43</th>\n",
       "      <td>272</td>\n",
       "    </tr>\n",
       "    <tr>\n",
       "      <th>44</th>\n",
       "      <td>227</td>\n",
       "    </tr>\n",
       "  </tbody>\n",
       "</table>\n",
       "</div>"
      ],
      "text/plain": [
       "                    cohort_size\n",
       "first_session_week             \n",
       "41                          264\n",
       "42                          285\n",
       "43                          272\n",
       "44                          227"
      ]
     },
     "metadata": {},
     "output_type": "display_data"
    },
    {
     "data": {
      "image/png": "[encoded data removed]",
      "text/plain": [
       "<Figure size 720x216 with 2 Axes>"
      ]
     },
     "metadata": {
      "needs_background": "light"
     },
     "output_type": "display_data"
    }
   ],
   "source": [
    "cohort_sizes_d = (group_d.groupby('first_session_week').agg(cohort_size=('user_id','nunique')))\n",
    "display(cohort_sizes_d)\n",
    "retention(group_d, 'Группа D, сессии от 1433 секунд и более')"
   ]
  },
  {
   "cell_type": "markdown",
   "id": "60ea1cf8",
   "metadata": {},
   "source": [
    "**Промежуточный итог:**\n",
    "* В каждой группе получились, если исключить когорту 44 недели, по 3 когорты от 244 до 316 пользователей в каждой.\n",
    "* Результаты группы D довольно сильно выделяется,и показывают на вторую неделю retention от 20.4% до 25.0%, а в последнюю неделю 8.7%, довольно близко, а в некоторых местах показывая лучшие результаты, идет группа C. Когда как у групп A и B показатели retention довольно сильно уступают. \n",
    "* Более длительные сессии у пользователей показывают лучшее удержание пользователя."
   ]
  },
  {
   "cell_type": "markdown",
   "id": "6a7efc4d",
   "metadata": {},
   "source": []
  },
  {
   "cell_type": "markdown",
   "id": "3d0ac901",
   "metadata": {},
   "source": [
    "#### Конверсия в разрезе выделенных групп"
   ]
  },
  {
   "cell_type": "code",
   "execution_count": 58,
   "id": "5423c675",
   "metadata": {},
   "outputs": [],
   "source": [
    "def conversion(group):\n",
    "    conversion = round(group.query('event_name == \"contacts_show\"')['user_id'].nunique() / group['user_id'].nunique() * 100, 1)\n",
    "    return conversion"
   ]
  },
  {
   "cell_type": "code",
   "execution_count": 59,
   "id": "5b6517a8",
   "metadata": {},
   "outputs": [
    {
     "data": {
      "text/plain": [
       "'Конверсия группы А (сессии до 325 секунд) составила 18.7%'"
      ]
     },
     "metadata": {},
     "output_type": "display_data"
    }
   ],
   "source": [
    "display(f\"Конверсия группы А (сессии до 325 секунд) составила {conversion(group_a)}%\")"
   ]
  },
  {
   "cell_type": "code",
   "execution_count": 60,
   "id": "f11e71d1",
   "metadata": {},
   "outputs": [
    {
     "data": {
      "text/plain": [
       "'Конверсия группы B (сессии от 325 секунд до 719 секунд) составила 20.2%'"
      ]
     },
     "metadata": {},
     "output_type": "display_data"
    }
   ],
   "source": [
    "display(f\"Конверсия группы B (сессии от 325 секунд до 719 секунд) составила {conversion(group_b)}%\")"
   ]
  },
  {
   "cell_type": "code",
   "execution_count": 61,
   "id": "d4b23044",
   "metadata": {},
   "outputs": [
    {
     "data": {
      "text/plain": [
       "'Конверсия группы C (сессии от 719 секунд до 1433 секунд) составила 21.9%'"
      ]
     },
     "metadata": {},
     "output_type": "display_data"
    }
   ],
   "source": [
    "display(f\"Конверсия группы C (сессии от 719 секунд до 1433 секунд) составила {conversion(group_c)}%\")"
   ]
  },
  {
   "cell_type": "code",
   "execution_count": 62,
   "id": "112cd5d4",
   "metadata": {},
   "outputs": [
    {
     "data": {
      "text/plain": [
       "'Конверсия группы D (сессии от 1433 секунд и более) составила 29.0%'"
      ]
     },
     "metadata": {},
     "output_type": "display_data"
    }
   ],
   "source": [
    "display(f\"Конверсия группы D (сессии от 1433 секунд и более) составила {conversion(group_d)}%\")"
   ]
  },
  {
   "cell_type": "markdown",
   "id": "dcaae241",
   "metadata": {},
   "source": [
    "**Промежуточный итог:**\n",
    "* После расчета конверсий мы видим что группа D набирает 29%, Группа С 21,9%, группа B 20.2%, группа A 18.7%\n",
    "* У групп с пользователями с более продолжительными сессиями конверсия в целевое действие выше."
   ]
  },
  {
   "cell_type": "markdown",
   "id": "894d84ed",
   "metadata": {},
   "source": [
    "#### Итог сегментации и анализа в разрезе выделенных групп\n",
    "* При сегментации мы разделили пользователей на 4 примерно равные группы, взяв за критерий длину сессии, а также разделив группы на 4 когорты учитывая неделю первой сессии.\n",
    "* При расчете retention rate в разрезе выделенных групп, в лучшую сторону выделяются группа D и C по всем неделям и когортам. Группы  A и B довольно сильно им уступают в этом показателе.\n",
    "* При расчете конверсии в ключевое действие contacts_show, так же, в лучшую сторону, выделяется группа D:\n",
    "    * Конверсия группы А составила 18.7%\n",
    "    * Конверсия группы B составила 20.2%\n",
    "    * Конверсия группы C составила 21.9%\n",
    "    * Конверсия группы D составила 29.0%\n",
    "* Получается что пользователи длительных сессий показывают лучший ретеншн и конверсию. Это можно объяснить тем что у пользователей с длинными сессиями более положительный пользовательский опыт приложением. В противополножность этому пользователи с короткими сессиями показывают сравнительно низкие показатели, возможно они не до конца разобрались в  приложении или им не удобно им пользоваться. "
   ]
  },
  {
   "cell_type": "markdown",
   "id": "2c26e753",
   "metadata": {},
   "source": [
    "### Проверка статистических гипотез "
   ]
  },
  {
   "cell_type": "markdown",
   "id": "9e1400f8",
   "metadata": {},
   "source": [
    "#### Первая гипотеза\n",
    "**Некоторые пользователи установили приложение по ссылке из yandex, другие — из google.**    \n",
    "*Гипотеза Н0* : пользователи этих двух групп демонстрируют одинаковую конверсию в просмотры контактов  \n",
    "*Гипотеза Н1* : пользователи этих двух групп демонстрируют разную конверсию в просмотры контактов    \n",
    "*Alpha* : 0.05  "
   ]
  },
  {
   "cell_type": "markdown",
   "id": "cac6b700",
   "metadata": {},
   "source": [
    "* Но сначало посмотрим откуда и сколько у нас пользователей"
   ]
  },
  {
   "cell_type": "code",
   "execution_count": 63,
   "id": "2eb2b7a3",
   "metadata": {},
   "outputs": [
    {
     "data": {
      "image/png": "[encoded data removed]",
      "text/plain": [
       "<Figure size 1080x720 with 1 Axes>"
      ]
     },
     "metadata": {},
     "output_type": "display_data"
    }
   ],
   "source": [
    "#Сначала посмотрим откуда и сколько у нас пользователей\n",
    "#посмотрим откуда к нам приходят пользователи\n",
    "source_count = pd.pivot_table(mobile_sourсes, values='user_id', index='source', aggfunc=['count'])\n",
    "source_count.columns = ['users_count']\n",
    "source_count['percentage'] = (source_count['users_count'] / source_count['users_count'].sum() * 100).round(1).astype(str) + '%'\n",
    "source_count.sort_values(by='users_count', ascending=False)\n",
    "\n",
    "# Создаем круговую диаграмму\n",
    "fig, ax = plt.subplots(figsize=(15, 10))\n",
    "explode = [0.05] * len(source_count)  # установка расстояния между секторами\n",
    "colors = plt.get_cmap('Pastel1').colors[:len(source_count)]\n",
    "ax.pie(source_count['users_count'], labels=source_count.index,\n",
    "       autopct=lambda pct: f\"{pct:.1f}%\\n({int(pct/100.*source_count['users_count'].sum())})\",\n",
    "       textprops={'fontsize': 10}, explode=explode, colors=colors)\n",
    "ax.set_title('Распределение пользователей по источникам в круговой диаграмме', fontsize=14)\n",
    "plt.show()"
   ]
  },
  {
   "cell_type": "code",
   "execution_count": 64,
   "id": "23dc1f99",
   "metadata": {},
   "outputs": [
    {
     "data": {
      "text/plain": [
       "' Пользователей пришедших по ссылке яндекса 1889, из них 465 сделали целевое действие, и конверсия составила 24.6%'"
      ]
     },
     "metadata": {},
     "output_type": "display_data"
    },
    {
     "data": {
      "text/plain": [
       "' Пользователей пришедших по ссылке гугла 1114, из них 268 сделали целевое действие, и конверсия составила 24.1%'"
      ]
     },
     "metadata": {},
     "output_type": "display_data"
    },
    {
     "data": {
      "text/plain": [
       "' Пользователей из других источников 1189, из них 208 сделали целевое действие, и конверсия составила 17.5%'"
      ]
     },
     "metadata": {},
     "output_type": "display_data"
    }
   ],
   "source": [
    "#Создаем группы пользователей пришедших к нам из яндекса и гугла\n",
    "\n",
    "#группа яндекса\n",
    "yandex_target_actions = (data.query('source == \"yandex\" and event_name == \"contacts_show\"')['user_id'].nunique())\n",
    "yandex_count = (data.query('source == \"yandex\"')['user_id'].nunique())\n",
    "\n",
    "#группа гугла\n",
    "google_target_actions = (data.query('source == \"google\" and event_name == \"contacts_show\"')['user_id'].nunique())\n",
    "google_count = (data.query('source == \"google\"')['user_id'].nunique())\n",
    "\n",
    "#группа other(предположительно органики), нас не просили, но любопытно\n",
    "other_target_actions = (data.query('source == \"other\" and event_name == \"contacts_show\"')['user_id'].nunique())\n",
    "other_count = (data.query('source == \"other\"')['user_id'].nunique())\n",
    "\n",
    "#расчет конверсии\n",
    "yandex_conversion = round(yandex_target_actions / yandex_count * 100, 1)\n",
    "google_conversion = round(google_target_actions / google_count * 100, 1) \n",
    "other_conversion = round(other_target_actions / other_count * 100, 1)\n",
    "\n",
    "\n",
    "#выводим результат\n",
    "display(f\" Пользователей пришедших по ссылке яндекса {yandex_count}, из них {yandex_target_actions} сделали целевое действие, и конверсия составила {yandex_conversion}%\")\n",
    "display(f\" Пользователей пришедших по ссылке гугла {google_count}, из них {google_target_actions} сделали целевое действие, и конверсия составила {google_conversion}%\")\n",
    "display(f\" Пользователей из других источников {other_count}, из них {other_target_actions} сделали целевое действие, и конверсия составила {other_conversion}%\")"
   ]
  },
  {
   "cell_type": "code",
   "execution_count": 65,
   "id": "9ad64f8f",
   "metadata": {},
   "outputs": [
    {
     "name": "stdout",
     "output_type": "stream",
     "text": [
      "465 268 1889 1114\n",
      "p-значение:  0.7305905124884227\n",
      "Не получилось отвергнуть нулевую гипотезу, статистически значимых различий в выборках нет\n"
     ]
    }
   ],
   "source": [
    "#проверка гипотезы\n",
    "#используем стандартный уровень критической статистической значимости - 5%\n",
    "alpha = .05 \n",
    "\n",
    "successes = np.array([yandex_target_actions, google_target_actions])\n",
    "trials = np.array([yandex_count, google_count])\n",
    "\n",
    "# пропорция успехов в первой группе:\n",
    "p1 = successes[0]/trials[0]\n",
    "\n",
    "# пропорция успехов во второй группе:\n",
    "p2 = successes[1]/trials[1]\n",
    "\n",
    "print(successes[0], successes[1], trials[0] ,trials[1])\n",
    "\n",
    "# пропорция успехов в комбинированном датасете:\n",
    "p_combined = (successes[0] + successes[1]) / (trials[0] + trials[1])\n",
    "\n",
    "# разница пропорций в датасетах\n",
    "difference = p1 - p2\n",
    "\n",
    "# считаем статистику в ст.отклонениях стандартного нормального распределения\n",
    "z_value = difference / mth.sqrt(p_combined * (1 - p_combined) * (1/trials[0] + 1/trials[1]))\n",
    "\n",
    "# задаем стандартное нормальное распределение (среднее 0, ст.отклонение 1)\n",
    "distr = st.norm(0, 1) \n",
    "\n",
    "p_value = (1 - distr.cdf(abs(z_value))) * 2\n",
    "\n",
    "print('p-значение: ', p_value)\n",
    "\n",
    "if p_value < alpha:\n",
    "    print('Отвергаем нулевую гипотезу, между выборками есть статистически значимые различия')\n",
    "else:\n",
    "    print(\n",
    "       'Не получилось отвергнуть нулевую гипотезу, статистически значимых различий в выборках нет'\n",
    "    )"
   ]
  },
  {
   "cell_type": "markdown",
   "id": "5cad6b18",
   "metadata": {},
   "source": []
  },
  {
   "cell_type": "markdown",
   "id": "b828321b",
   "metadata": {},
   "source": []
  },
  {
   "cell_type": "markdown",
   "id": "bb534855",
   "metadata": {},
   "source": [
    "#### Вторая гипотеза \n",
    "Ранее мы выяснили, что из 4192 пользователей только 1622 пользуется поиском, что составляет 38.7%, отличаются ли конверсия в целевое действие таких пользователей?  \n",
    "**Часть пользователей использует поиск, другие этого не делают.**   \n",
    "*Гипотеза Н0*: пользователи этих двух групп демонстрируют одинаковую конверсию в просмотры контактов   \n",
    "*Гипотеза Н1*: пользователи этих двух групп демонстрируют разную конверсию в просмотры контактов  \n",
    "*Alpha* : 0.05  "
   ]
  },
  {
   "cell_type": "code",
   "execution_count": 66,
   "id": "8f99a529",
   "metadata": {},
   "outputs": [
    {
     "data": {
      "text/plain": [
       "' Пользователей использующих поиск 1622, из них 347 сделали целевое действие, и конверсия составила 21.4%'"
      ]
     },
     "metadata": {},
     "output_type": "display_data"
    },
    {
     "data": {
      "text/plain": [
       "' Пользователей не использующих поиск 2570, из них 594 сделали целевое действие, и конверсия составила 23.1%'"
      ]
     },
     "metadata": {},
     "output_type": "display_data"
    }
   ],
   "source": [
    "#Создаем группы пользователей\n",
    "\n",
    "#группа пользователей поиска\n",
    "search_group_list = data[data['event_name'] == 'search']['user_id'].unique()\n",
    "search_group_count = len(search_group_list)\n",
    "search_group_ta = data[data['user_id'].isin(search_group_list) & (data['event_name'] == 'contacts_show')]['user_id'].nunique()\n",
    "\n",
    "#остальные пользователи\n",
    "other_users_list = set(data['user_id'].unique())-set(search_group_list)\n",
    "other_users_count = len(other_users_list)\n",
    "other_users_ta = data[data['user_id'].isin(other_users_list) & (data['event_name'] == 'contacts_show')]['user_id'].nunique()\n",
    "\n",
    "#расчет конверсии\n",
    "search_group_conversion = round(search_group_ta / search_group_count * 100, 1)\n",
    "other_users_conversion = round(other_users_ta / other_users_count * 100, 1) \n",
    "\n",
    "#выводим результат\n",
    "display(f\" Пользователей использующих поиск {search_group_count}, из них {search_group_ta} сделали целевое действие, и конверсия составила {search_group_conversion}%\")\n",
    "display(f\" Пользователей не использующих поиск {other_users_count}, из них {other_users_ta} сделали целевое действие, и конверсия составила {other_users_conversion}%\")"
   ]
  },
  {
   "cell_type": "code",
   "execution_count": 67,
   "id": "41fc5cd8",
   "metadata": {},
   "outputs": [
    {
     "name": "stdout",
     "output_type": "stream",
     "text": [
      "p-значение:  0.19374679112507165\n",
      "Не получилось отвергнуть нулевую гипотезу, статистически значимых различий в выборках нет\n"
     ]
    }
   ],
   "source": [
    "#проверка гипотезы\n",
    "#используем стандартный уровень критической статистической значимости - 5%\n",
    "alpha = .05 \n",
    "\n",
    "successes = np.array([search_group_ta, other_users_ta])\n",
    "trials = np.array([search_group_count, other_users_count])\n",
    "\n",
    "# пропорция успехов в первой группе:\n",
    "p1 = successes[0]/trials[0]\n",
    "\n",
    "# пропорция успехов во второй группе:\n",
    "p2 = successes[1]/trials[1]\n",
    "\n",
    "# пропорция успехов в комбинированном датасете:\n",
    "p_combined = (successes[0] + successes[1]) / (trials[0] + trials[1])\n",
    "\n",
    "# разница пропорций в датасетах\n",
    "difference = p1 - p2\n",
    "\n",
    "# считаем статистику в ст.отклонениях стандартного нормального распределения\n",
    "z_value = difference / mth.sqrt(p_combined * (1 - p_combined) * (1/trials[0] + 1/trials[1]))\n",
    "\n",
    "# задаем стандартное нормальное распределение (среднее 0, ст.отклонение 1)\n",
    "distr = st.norm(0, 1) \n",
    "\n",
    "p_value = (1 - distr.cdf(abs(z_value))) * 2\n",
    "\n",
    "print('p-значение: ', p_value)\n",
    "\n",
    "if p_value < alpha:\n",
    "    print('Отвергаем нулевую гипотезу, между выборками есть статистически значимые различия')\n",
    "else:\n",
    "    print(\n",
    "       'Не получилось отвергнуть нулевую гипотезу, статистически значимых различий в выборках нет'\n",
    "    )"
   ]
  },
  {
   "cell_type": "markdown",
   "id": "812fda41",
   "metadata": {},
   "source": [
    "#### Итог проверки статистических гипотез:\n",
    "* По первой гипотезе о разности конверсий групп пользователей пришедших через яндекс и через гугл. У нас нет оснований утверждать, что группы пришедшие через гугл и яндекс значимо различаются. Тест говорит что статистически значимой разницы между группами нет.\n",
    "    * Пользователей пришедших по ссылке яндекса 1889, из них 465 сделали целевое действие, и конверсия составила 24.6%\n",
    "    * Пользователей пришедших по ссылке гугла 1114, из них 268 сделали целевое действие, и конверсия составила 24.1%\n",
    "* По второй гипотезе о разности конверсий групп пользователей использующих функцию search в приложении, от тех кто не искользует данную функцию. У нас нет оснований утверждать что эти группы, тоже, значимо различаются. Тест говорит что статистически значимой разницы между группами нет.\n",
    "    * Пользователей использующих поиск 1622, из них 347 сделали целевое действие, и конверсия составила 21.4%\n",
    "    * Пользователей не использующих поиск 2570, из них 594 сделали целевое действие, и конверсия составила 23.1%"
   ]
  },
  {
   "cell_type": "markdown",
   "id": "42ffc6be",
   "metadata": {},
   "source": []
  },
  {
   "cell_type": "markdown",
   "id": "e7032af7",
   "metadata": {},
   "source": [
    "### Итоги исследования, практические рекомендации.\n",
    "#### Итоги\n",
    "* Мы ознакомились с 2 датасетами mobile_sourсes(имеет 2 столбца один из которых уникальный идентификатор пользователя, второй источник из которого к нам пришел пользователь), mobile_dataset (имеет 3 столбца, первый о дате и времени действия пользователя, второй о наименовании действия, третий уникальный идентификатор пользователя), которые имеют 4293 и 74197 строк соответственно \n",
    "* Нами проведена работа по предобработке данных, а именно:\n",
    "    * Наименования столбцом таблицы приведены в единообразный вид\n",
    "    * События столбца event_name, такие как, search_1-search_7 и contacts_show-show_contacts, объеденены в search и contacts_show соответственно\n",
    "    * Создан новый столбец date в котором указана только дата события в формате datetime, столбец event_time так же приведет к этому формату и в нем убрали милисекунды т.к. они нам не нужны для дальнейшего исследования\n",
    "    * Пропусков данных не обнаружено.\n",
    "    * Обнаружено 1190 строк явных дубликатов, это небольшая часть из 74197 строк, поэтому мы решили их удалить во избежание ошибок во время исследования\n",
    "    * Объединили датасеты и назвали его data.\n",
    "    * Проверили даты в датасете, они соответствуют заявленным с 7 октября 2019 по 03 ноября 2019\n",
    "* Во время исследовательского анализа данных проведены:\n",
    "    * Определение сессии пользователей (по тайм-ауту) и их длительность:\n",
    "        * Сессия считается завершенной если тайм-аут достигает 30 минут. Период в 30 был взят т.к. это является достаточно распространенной практикой и настройкой по умолчанию во многих системах. \n",
    "        * Создали 5 столбцов, с идентификатором сессии, временем начала сессии, временем конца сессии, длительность сессии в формате день:час:минута:секунда, длительность сессии в секундах\n",
    "        * Обнаружили 2481 строк с длиной сессии менее 5 секунд и решили их удалить т.к. это могли быть случайные действия пользователей.\n",
    "        * Насчитали наличие 8036 сессий и 4192 оставшихся уникальных пользователей\n",
    "        * Стат данные и визуализация показали нам что большая часть сессий не длится больше 22 минут\n",
    "    * Расчет общего Retention rate (удержание пользователей)\n",
    "        * Для расчета лайфтайма мы добавили столбцы с указанием даты первой сессии, номер недели и номер недели первой сессии\n",
    "        * Сформировали 4 примерно равные когорты и расчитали retention и визуализировали её в тепловой карте, который показывает что общее удержаниена вторую неделю составляло с 18.8%, 18.3%, 16.6%, на третью 11.6% и 10.5%, а на четвертую 7.6%\n",
    "    * Анализ частоты событий и конверсии\n",
    "        * Стат данные показывали что в среднем в день, за наблюдаемый период, было 2516 событий. Но график распределения частоты событий в день показывает что пользователи были более активны во второй половине наблюдаемого периода, когда как в первой половине их активность не часто превышало средний показатель. \n",
    "        * Большую часть всех событий составляет tips_show (пользователь увидел рекомендованное объявление), в абсолютных цифрах 38899 раз, что составляет 55.2% от всех событий, совершили это действие 2749 пользователей что составляет 65.6% всех пользователей. Что касается нашего целевого действия contacts_show (пользователь посмотрел номер телефона), его совершили 4205 раз, что составляет 6% от всех событий, совершили это действие 941 пользователь т.е. конверсия в целевое действие составила 22.4%.\n",
    "* Cегментация и анализ в разрезе выделенных групп  \n",
    "    * При сегментации мы разделили сессии на 4 примерно равные группы, взяв за критерий длину сессии в этом нам помогли стат данные длины сессий, а также разделив группы на 4 когорты учитывая неделю первой сессии.\n",
    "    * При расчете retention rate в разрезе выделенных групп, в лучшую сторону выделяются группа D и C по всем неделям и когортам. Группы A и B довольно сильно им уступают в этом показателе.\n",
    "    * При расчете конверсии в ключевое действие contacts_show, так же, в лучшую сторону, выделяется группа D с 29%, тогда как остальные группы примерно равны друг с другом:\n",
    "    * Получается что длительные сессии показывают лучший ретеншн и конверсию, что можно объяснить тем что в длительных сессиях преобладают пользователи с положительным пользовательским опытом, когда как в коротких таковых наоборот меньше.\n",
    "* Проверка статистических гипотез\n",
    "    * По первой гипотезе о разности конверсий групп пользователей пришедших через яндекс и через гугл. У нас нет оснований утверждать, что группы пришедшие через гугл и яндекс значимо различаются. Тест говорит что статистически значимой разницы между группами нет.\n",
    "    * Пользователей пришедших по ссылке яндекса 1889, из них 465 сделали целевое действие, и конверсия составила 24.6%\n",
    "    * Пользователей пришедших по ссылке гугла 1114, из них 268 сделали целевое действие, и конверсия составила 24.1%\n",
    "* По второй гипотезе о разности конверсий групп пользователей использующих функцию search в приложении, от тех кто не искользует данную функцию. У нас нет оснований утверждать что эти группы, тоже, значимо различаются. Тест говорит что статистически значимой разницы между группами нет.\n",
    "    * Пользователей использующих поиск 1622, из них 347 сделали целевое действие, и конверсия составила 21.4%\n",
    "    * Пользователей не использующих поиск 2570, из них 594 сделали целевое действие, и конверсия составила 23.1%\n",
    "\n",
    "#### Практические рекомендации\n",
    "* Исходя из вышеперечисленного мы можем предположить что пользователям с короткой сессией непонятен интерфейс. Возможно стоит внедрить систему обучения, если таковой нет, для новых пользователей это улучшит опыт пользования приложением. \n",
    "* Так же возможно стоит расмотреть возможность уменьшения количества показываемых рекомендованных объявлений или улучшения таргетирования, т.к. показывается их огромное количество(55.2% всех событий), а перешли по ним только 7.6% пользователей.\n",
    "* Стоит улучшить систему поиска, возможно добавить дополнительные фильтры, т.к. конверсия людей которые что то ищут через поиск, хоть и статистически не значимо, но ниже, чем у тех кто им не пользуеться, это может обозначать что они просто не могут найти то что ищут. "
   ]
  }
 ],
 "metadata": {
  "ExecuteTimeLog": [
   {
    "duration": 1468,
    "start_time": "2023-05-26T21:15:11.686Z"
   },
   {
    "duration": 402,
    "start_time": "2023-05-26T21:15:13.159Z"
   },
   {
    "duration": 27,
    "start_time": "2023-05-26T21:15:13.564Z"
   },
   {
    "duration": 40,
    "start_time": "2023-05-26T21:15:13.594Z"
   },
   {
    "duration": 22,
    "start_time": "2023-05-26T21:15:13.648Z"
   },
   {
    "duration": 34,
    "start_time": "2023-05-26T21:15:13.672Z"
   },
   {
    "duration": 11,
    "start_time": "2023-05-26T21:15:13.708Z"
   },
   {
    "duration": 12,
    "start_time": "2023-05-26T21:15:13.722Z"
   },
   {
    "duration": 42,
    "start_time": "2023-05-26T21:15:13.736Z"
   },
   {
    "duration": 48,
    "start_time": "2023-05-26T21:15:13.782Z"
   },
   {
    "duration": 40,
    "start_time": "2023-05-26T21:15:13.833Z"
   },
   {
    "duration": 49,
    "start_time": "2023-05-26T21:15:13.875Z"
   },
   {
    "duration": 28,
    "start_time": "2023-05-26T21:15:13.926Z"
   },
   {
    "duration": 24,
    "start_time": "2023-05-26T21:15:13.956Z"
   },
   {
    "duration": 32,
    "start_time": "2023-05-26T21:15:13.982Z"
   },
   {
    "duration": 14,
    "start_time": "2023-05-26T21:15:14.016Z"
   },
   {
    "duration": 52,
    "start_time": "2023-05-26T21:15:14.032Z"
   },
   {
    "duration": 80,
    "start_time": "2023-05-26T21:15:14.086Z"
   },
   {
    "duration": 22,
    "start_time": "2023-05-26T21:15:14.168Z"
   },
   {
    "duration": 70,
    "start_time": "2023-05-26T21:15:14.191Z"
   },
   {
    "duration": 39,
    "start_time": "2023-05-26T21:15:14.264Z"
   },
   {
    "duration": 7,
    "start_time": "2023-05-26T21:15:14.305Z"
   },
   {
    "duration": 78,
    "start_time": "2023-05-26T21:15:14.314Z"
   },
   {
    "duration": 121,
    "start_time": "2023-05-26T21:15:14.397Z"
   },
   {
    "duration": 1154,
    "start_time": "2023-05-26T21:15:14.520Z"
   },
   {
    "duration": 55,
    "start_time": "2023-05-26T21:15:15.676Z"
   },
   {
    "duration": 20,
    "start_time": "2023-05-26T21:15:15.733Z"
   },
   {
    "duration": 8,
    "start_time": "2023-05-26T21:15:15.758Z"
   },
   {
    "duration": 33,
    "start_time": "2023-05-26T21:15:15.773Z"
   },
   {
    "duration": 6,
    "start_time": "2023-05-26T21:15:15.812Z"
   },
   {
    "duration": 34,
    "start_time": "2023-05-26T21:15:15.822Z"
   },
   {
    "duration": 17,
    "start_time": "2023-05-26T21:15:15.860Z"
   },
   {
    "duration": 312,
    "start_time": "2023-05-26T21:15:15.880Z"
   },
   {
    "duration": 76,
    "start_time": "2023-05-26T21:15:16.194Z"
   },
   {
    "duration": 20,
    "start_time": "2023-05-26T21:15:16.272Z"
   },
   {
    "duration": 4,
    "start_time": "2023-05-26T21:15:16.294Z"
   },
   {
    "duration": 90,
    "start_time": "2023-05-26T21:15:16.300Z"
   },
   {
    "duration": 3,
    "start_time": "2023-05-26T21:15:16.391Z"
   },
   {
    "duration": 465,
    "start_time": "2023-05-26T21:15:16.396Z"
   },
   {
    "duration": 22,
    "start_time": "2023-05-26T21:15:16.868Z"
   },
   {
    "duration": 893,
    "start_time": "2023-05-26T21:15:16.892Z"
   },
   {
    "duration": 86,
    "start_time": "2023-05-26T21:15:17.788Z"
   },
   {
    "duration": 361,
    "start_time": "2023-05-26T21:15:17.875Z"
   },
   {
    "duration": 369,
    "start_time": "2023-05-26T21:15:18.246Z"
   },
   {
    "duration": 21,
    "start_time": "2023-05-26T21:15:18.618Z"
   },
   {
    "duration": 6,
    "start_time": "2023-05-26T21:15:18.647Z"
   },
   {
    "duration": 61,
    "start_time": "2023-05-26T21:15:18.656Z"
   },
   {
    "duration": 17,
    "start_time": "2023-05-26T21:15:18.724Z"
   },
   {
    "duration": 33,
    "start_time": "2023-05-26T21:15:18.743Z"
   },
   {
    "duration": 15,
    "start_time": "2023-05-26T21:15:18.779Z"
   },
   {
    "duration": 425,
    "start_time": "2023-05-26T21:15:18.796Z"
   },
   {
    "duration": 437,
    "start_time": "2023-05-26T21:15:19.224Z"
   },
   {
    "duration": 557,
    "start_time": "2023-05-26T21:15:19.663Z"
   },
   {
    "duration": 470,
    "start_time": "2023-05-26T21:15:20.222Z"
   },
   {
    "duration": 4,
    "start_time": "2023-05-26T21:15:20.696Z"
   },
   {
    "duration": 53,
    "start_time": "2023-05-26T21:15:20.702Z"
   },
   {
    "duration": 50,
    "start_time": "2023-05-26T21:15:20.757Z"
   },
   {
    "duration": 23,
    "start_time": "2023-05-26T21:15:20.810Z"
   },
   {
    "duration": 14,
    "start_time": "2023-05-26T21:15:20.836Z"
   },
   {
    "duration": 231,
    "start_time": "2023-05-26T21:15:20.854Z"
   },
   {
    "duration": 97,
    "start_time": "2023-05-26T21:15:21.091Z"
   },
   {
    "duration": 10,
    "start_time": "2023-05-26T21:15:21.191Z"
   },
   {
    "duration": 78,
    "start_time": "2023-05-26T21:15:21.203Z"
   },
   {
    "duration": 8,
    "start_time": "2023-05-26T21:15:21.284Z"
   },
   {
    "duration": 3015,
    "start_time": "2023-05-26T21:15:21.296Z"
   },
   {
    "duration": 6,
    "start_time": "2023-05-26T21:18:34.287Z"
   },
   {
    "duration": 11,
    "start_time": "2023-05-26T21:18:48.021Z"
   },
   {
    "duration": 9,
    "start_time": "2023-05-26T21:20:23.791Z"
   },
   {
    "duration": 1388,
    "start_time": "2023-05-28T12:41:56.291Z"
   },
   {
    "duration": 392,
    "start_time": "2023-05-28T12:41:57.682Z"
   },
   {
    "duration": 20,
    "start_time": "2023-05-28T12:41:58.075Z"
   },
   {
    "duration": 55,
    "start_time": "2023-05-28T12:41:58.097Z"
   },
   {
    "duration": 36,
    "start_time": "2023-05-28T12:41:58.154Z"
   },
   {
    "duration": 14,
    "start_time": "2023-05-28T12:41:58.192Z"
   },
   {
    "duration": 8,
    "start_time": "2023-05-28T12:41:58.207Z"
   },
   {
    "duration": 6,
    "start_time": "2023-05-28T12:41:58.217Z"
   },
   {
    "duration": 57,
    "start_time": "2023-05-28T12:41:58.225Z"
   },
   {
    "duration": 167,
    "start_time": "2023-05-28T12:41:58.285Z"
   },
   {
    "duration": 36,
    "start_time": "2023-05-28T12:41:58.461Z"
   },
   {
    "duration": 42,
    "start_time": "2023-05-28T12:41:58.499Z"
   },
   {
    "duration": 47,
    "start_time": "2023-05-28T12:41:58.548Z"
   },
   {
    "duration": 8,
    "start_time": "2023-05-28T12:41:58.599Z"
   },
   {
    "duration": 35,
    "start_time": "2023-05-28T12:41:58.609Z"
   },
   {
    "duration": 43,
    "start_time": "2023-05-28T12:41:58.648Z"
   },
   {
    "duration": 62,
    "start_time": "2023-05-28T12:41:58.694Z"
   },
   {
    "duration": 86,
    "start_time": "2023-05-28T12:41:58.758Z"
   },
   {
    "duration": 23,
    "start_time": "2023-05-28T12:41:58.845Z"
   },
   {
    "duration": 75,
    "start_time": "2023-05-28T12:41:58.870Z"
   },
   {
    "duration": 60,
    "start_time": "2023-05-28T12:41:58.951Z"
   },
   {
    "duration": 12,
    "start_time": "2023-05-28T12:41:59.013Z"
   },
   {
    "duration": 5,
    "start_time": "2023-05-28T12:41:59.026Z"
   },
   {
    "duration": 75,
    "start_time": "2023-05-28T12:41:59.033Z"
   },
   {
    "duration": 916,
    "start_time": "2023-05-28T12:41:59.110Z"
   },
   {
    "duration": 57,
    "start_time": "2023-05-28T12:42:00.037Z"
   },
   {
    "duration": 21,
    "start_time": "2023-05-28T12:42:00.096Z"
   },
   {
    "duration": 81,
    "start_time": "2023-05-28T12:42:00.119Z"
   },
   {
    "duration": 25,
    "start_time": "2023-05-28T12:42:00.201Z"
   },
   {
    "duration": 49,
    "start_time": "2023-05-28T12:42:00.228Z"
   },
   {
    "duration": 40,
    "start_time": "2023-05-28T12:42:00.279Z"
   },
   {
    "duration": 75,
    "start_time": "2023-05-28T12:42:00.321Z"
   },
   {
    "duration": 286,
    "start_time": "2023-05-28T12:42:00.397Z"
   },
   {
    "duration": 97,
    "start_time": "2023-05-28T12:42:00.686Z"
   },
   {
    "duration": 36,
    "start_time": "2023-05-28T12:42:00.785Z"
   },
   {
    "duration": 35,
    "start_time": "2023-05-28T12:42:00.823Z"
   },
   {
    "duration": 138,
    "start_time": "2023-05-28T12:42:00.864Z"
   },
   {
    "duration": 11,
    "start_time": "2023-05-28T12:42:01.004Z"
   },
   {
    "duration": 499,
    "start_time": "2023-05-28T12:42:01.017Z"
   },
   {
    "duration": 41,
    "start_time": "2023-05-28T12:42:01.519Z"
   },
   {
    "duration": 890,
    "start_time": "2023-05-28T12:42:01.573Z"
   },
   {
    "duration": 75,
    "start_time": "2023-05-28T12:42:02.465Z"
   },
   {
    "duration": 302,
    "start_time": "2023-05-28T12:42:02.565Z"
   },
   {
    "duration": 289,
    "start_time": "2023-05-28T12:42:02.869Z"
   },
   {
    "duration": 38,
    "start_time": "2023-05-28T12:42:03.163Z"
   },
   {
    "duration": 41,
    "start_time": "2023-05-28T12:42:03.203Z"
   },
   {
    "duration": 53,
    "start_time": "2023-05-28T12:42:03.245Z"
   },
   {
    "duration": 17,
    "start_time": "2023-05-28T12:42:03.300Z"
   },
   {
    "duration": 119,
    "start_time": "2023-05-28T12:42:03.319Z"
   },
   {
    "duration": 41,
    "start_time": "2023-05-28T12:42:03.440Z"
   },
   {
    "duration": 40,
    "start_time": "2023-05-28T12:42:03.483Z"
   },
   {
    "duration": 31,
    "start_time": "2023-05-28T12:42:03.527Z"
   },
   {
    "duration": 31,
    "start_time": "2023-05-28T12:42:03.561Z"
   },
   {
    "duration": 396,
    "start_time": "2023-05-28T12:42:03.595Z"
   },
   {
    "duration": 357,
    "start_time": "2023-05-28T12:42:03.993Z"
   },
   {
    "duration": 520,
    "start_time": "2023-05-28T12:42:04.352Z"
   },
   {
    "duration": 393,
    "start_time": "2023-05-28T12:42:04.873Z"
   },
   {
    "duration": 4,
    "start_time": "2023-05-28T12:42:05.268Z"
   },
   {
    "duration": 54,
    "start_time": "2023-05-28T12:42:05.276Z"
   },
   {
    "duration": 86,
    "start_time": "2023-05-28T12:42:05.331Z"
   },
   {
    "duration": 78,
    "start_time": "2023-05-28T12:42:05.419Z"
   },
   {
    "duration": 83,
    "start_time": "2023-05-28T12:42:05.499Z"
   },
   {
    "duration": 203,
    "start_time": "2023-05-28T12:42:05.584Z"
   },
   {
    "duration": 81,
    "start_time": "2023-05-28T12:42:05.789Z"
   },
   {
    "duration": 24,
    "start_time": "2023-05-28T12:42:05.872Z"
   },
   {
    "duration": 131,
    "start_time": "2023-05-28T12:42:05.898Z"
   },
   {
    "duration": 53,
    "start_time": "2023-05-28T12:42:06.036Z"
   },
   {
    "duration": 3026,
    "start_time": "2023-05-28T12:42:06.091Z"
   }
  ],
  "kernelspec": {
   "display_name": "Python 3 (ipykernel)",
   "language": "python",
   "name": "python3"
  },
  "language_info": {
   "codemirror_mode": {
    "name": "ipython",
    "version": 3
   },
   "file_extension": ".py",
   "mimetype": "text/x-python",
   "name": "python",
   "nbconvert_exporter": "python",
   "pygments_lexer": "ipython3",
   "version": "3.10.9"
  },
  "toc": {
   "base_numbering": 1,
   "nav_menu": {},
   "number_sections": true,
   "sideBar": true,
   "skip_h1_title": true,
   "title_cell": "Table of Contents",
   "title_sidebar": "Contents",
   "toc_cell": false,
   "toc_position": {},
   "toc_section_display": true,
   "toc_window_display": true
  }
 },
 "nbformat": 4,
 "nbformat_minor": 5
}
