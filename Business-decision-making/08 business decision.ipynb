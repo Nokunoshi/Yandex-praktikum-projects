{
 "cells": [
  {
   "cell_type": "markdown",
   "metadata": {},
   "source": [
    "# Принятие решений в бизнесе на основе данных\n",
    "\n",
    "**Описание проекта**\n",
    "\n",
    "\n",
    "Вы — аналитик крупного интернет-магазина. Вместе с отделом маркетинга вы подготовили список гипотез для увеличения выручки.\n",
    "\n",
    "- Приоритизация гипотез\n",
    "- Анализ A/B-теста \n",
    "- Выводы. "
   ]
  },
  {
   "cell_type": "markdown",
   "metadata": {},
   "source": [
    "# Описание данных\n",
    "\n",
    "**Файл hypothesis.csv:**\n",
    "\n",
    "- Hypothesis — краткое описание гипотезы;\n",
    "- Reach — охват пользователей по 10-балльной шкале;\n",
    "- Impact — влияние на пользователей по 10-балльной шкале;\n",
    "- Confidence — уверенность в гипотезе по 10-балльной шкале;\n",
    "- Efforts — затраты ресурсов на проверку гипотезы по 10-балльной шкале. Чем больше значение Efforts, тем дороже проверка гипотезы.\n",
    "\n",
    "**Файл orders.csv:**\n",
    "\n",
    "- transactionId — идентификатор заказа;\n",
    "- visitorId — идентификатор пользователя, совершившего заказ;\n",
    "- date — дата, когда был совершён заказ;\n",
    "- revenue — выручка заказа;\n",
    "- group — группа A/B-теста, в которую попал заказ.\n",
    "\n",
    "**Файл visitors.csv:**\n",
    "\n",
    "- date — дата;\n",
    "- group — группа A/B-теста;\n",
    "- visitors — количество пользователей в указанную дату в указанной группе A/B-теста"
   ]
  },
  {
   "cell_type": "markdown",
   "metadata": {},
   "source": [
    "## Ознакомление с данными\n",
    "### Импорт библиотек и обзор таблиц"
   ]
  },
  {
   "cell_type": "code",
   "execution_count": 1,
   "metadata": {},
   "outputs": [],
   "source": [
    "import pandas as pd\n",
    "import numpy as np\n",
    "import matplotlib.pyplot as plt\n",
    "import seaborn as sns\n",
    "import math\n",
    "import datetime as dt\n",
    "import scipy.stats as stats\n",
    "import warnings\n",
    "\n",
    "from scipy import stats as st"
   ]
  },
  {
   "cell_type": "code",
   "execution_count": 2,
   "metadata": {},
   "outputs": [],
   "source": [
    "#читаем таблицы\n",
    "try:\n",
    "    hypothesis, orders, visitors = (\n",
    "        pd.read_csv('/datasets/hypothesis.csv'),\n",
    "        pd.read_csv('/datasets/orders.csv'),\n",
    "        pd.read_csv('/datasets/visitors.csv')\n",
    "    )\n",
    "\n",
    "\n",
    "except:\n",
    "    hypothesis, orders, visitors = (\n",
    "        pd.read_csv('hypothesis.csv'),\n",
    "        pd.read_csv('orders.csv'),\n",
    "        pd.read_csv('visitors.csv')\n",
    "    )"
   ]
  },
  {
   "cell_type": "code",
   "execution_count": 3,
   "metadata": {},
   "outputs": [
    {
     "name": "stdout",
     "output_type": "stream",
     "text": [
      "<class 'pandas.core.frame.DataFrame'>\n",
      "RangeIndex: 9 entries, 0 to 8\n",
      "Data columns (total 5 columns):\n",
      " #   Column      Non-Null Count  Dtype \n",
      "---  ------      --------------  ----- \n",
      " 0   Hypothesis  9 non-null      object\n",
      " 1   Reach       9 non-null      int64 \n",
      " 2   Impact      9 non-null      int64 \n",
      " 3   Confidence  9 non-null      int64 \n",
      " 4   Efforts     9 non-null      int64 \n",
      "dtypes: int64(4), object(1)\n",
      "memory usage: 488.0+ bytes\n"
     ]
    },
    {
     "data": {
      "text/html": [
       "<div>\n",
       "<style scoped>\n",
       "    .dataframe tbody tr th:only-of-type {\n",
       "        vertical-align: middle;\n",
       "    }\n",
       "\n",
       "    .dataframe tbody tr th {\n",
       "        vertical-align: top;\n",
       "    }\n",
       "\n",
       "    .dataframe thead th {\n",
       "        text-align: right;\n",
       "    }\n",
       "</style>\n",
       "<table border=\"1\" class=\"dataframe\">\n",
       "  <thead>\n",
       "    <tr style=\"text-align: right;\">\n",
       "      <th></th>\n",
       "      <th>Hypothesis</th>\n",
       "      <th>Reach</th>\n",
       "      <th>Impact</th>\n",
       "      <th>Confidence</th>\n",
       "      <th>Efforts</th>\n",
       "    </tr>\n",
       "  </thead>\n",
       "  <tbody>\n",
       "    <tr>\n",
       "      <th>0</th>\n",
       "      <td>Добавить два новых канала привлечения трафика, что позволит привлекать на 30% больше пользователей</td>\n",
       "      <td>3</td>\n",
       "      <td>10</td>\n",
       "      <td>8</td>\n",
       "      <td>6</td>\n",
       "    </tr>\n",
       "    <tr>\n",
       "      <th>1</th>\n",
       "      <td>Запустить собственную службу доставки, что сократит срок доставки заказов</td>\n",
       "      <td>2</td>\n",
       "      <td>5</td>\n",
       "      <td>4</td>\n",
       "      <td>10</td>\n",
       "    </tr>\n",
       "    <tr>\n",
       "      <th>2</th>\n",
       "      <td>Добавить блоки рекомендаций товаров на сайт интернет магазина, чтобы повысить конверсию и средний чек заказа</td>\n",
       "      <td>8</td>\n",
       "      <td>3</td>\n",
       "      <td>7</td>\n",
       "      <td>3</td>\n",
       "    </tr>\n",
       "    <tr>\n",
       "      <th>3</th>\n",
       "      <td>Изменить структура категорий, что увеличит конверсию, т.к. пользователи быстрее найдут нужный товар</td>\n",
       "      <td>8</td>\n",
       "      <td>3</td>\n",
       "      <td>3</td>\n",
       "      <td>8</td>\n",
       "    </tr>\n",
       "    <tr>\n",
       "      <th>4</th>\n",
       "      <td>Изменить цвет фона главной страницы, чтобы увеличить вовлеченность пользователей</td>\n",
       "      <td>3</td>\n",
       "      <td>1</td>\n",
       "      <td>1</td>\n",
       "      <td>1</td>\n",
       "    </tr>\n",
       "    <tr>\n",
       "      <th>5</th>\n",
       "      <td>Добавить страницу отзывов клиентов о магазине, что позволит увеличить количество заказов</td>\n",
       "      <td>3</td>\n",
       "      <td>2</td>\n",
       "      <td>2</td>\n",
       "      <td>3</td>\n",
       "    </tr>\n",
       "    <tr>\n",
       "      <th>6</th>\n",
       "      <td>Показать на главной странице баннеры с актуальными акциями и распродажами, чтобы увеличить конверсию</td>\n",
       "      <td>5</td>\n",
       "      <td>3</td>\n",
       "      <td>8</td>\n",
       "      <td>3</td>\n",
       "    </tr>\n",
       "    <tr>\n",
       "      <th>7</th>\n",
       "      <td>Добавить форму подписки на все основные страницы, чтобы собрать базу клиентов для email-рассылок</td>\n",
       "      <td>10</td>\n",
       "      <td>7</td>\n",
       "      <td>8</td>\n",
       "      <td>5</td>\n",
       "    </tr>\n",
       "    <tr>\n",
       "      <th>8</th>\n",
       "      <td>Запустить акцию, дающую скидку на товар в день рождения</td>\n",
       "      <td>1</td>\n",
       "      <td>9</td>\n",
       "      <td>9</td>\n",
       "      <td>5</td>\n",
       "    </tr>\n",
       "  </tbody>\n",
       "</table>\n",
       "</div>"
      ],
      "text/plain": [
       "                                                                                                     Hypothesis  \\\n",
       "0            Добавить два новых канала привлечения трафика, что позволит привлекать на 30% больше пользователей   \n",
       "1                                     Запустить собственную службу доставки, что сократит срок доставки заказов   \n",
       "2  Добавить блоки рекомендаций товаров на сайт интернет магазина, чтобы повысить конверсию и средний чек заказа   \n",
       "3           Изменить структура категорий, что увеличит конверсию, т.к. пользователи быстрее найдут нужный товар   \n",
       "4                              Изменить цвет фона главной страницы, чтобы увеличить вовлеченность пользователей   \n",
       "5                      Добавить страницу отзывов клиентов о магазине, что позволит увеличить количество заказов   \n",
       "6          Показать на главной странице баннеры с актуальными акциями и распродажами, чтобы увеличить конверсию   \n",
       "7              Добавить форму подписки на все основные страницы, чтобы собрать базу клиентов для email-рассылок   \n",
       "8                                                       Запустить акцию, дающую скидку на товар в день рождения   \n",
       "\n",
       "   Reach  Impact  Confidence  Efforts  \n",
       "0      3      10           8        6  \n",
       "1      2       5           4       10  \n",
       "2      8       3           7        3  \n",
       "3      8       3           3        8  \n",
       "4      3       1           1        1  \n",
       "5      3       2           2        3  \n",
       "6      5       3           8        3  \n",
       "7     10       7           8        5  \n",
       "8      1       9           9        5  "
      ]
     },
     "execution_count": 3,
     "metadata": {},
     "output_type": "execute_result"
    }
   ],
   "source": [
    "#смотрим информацию по hypothesis и снимаем ограничение на ширину столбцов, иначе ничего не прочитать\n",
    "pd.set_option('display.max_colwidth', None)\n",
    "hypothesis.info()\n",
    "hypothesis"
   ]
  },
  {
   "cell_type": "code",
   "execution_count": 4,
   "metadata": {},
   "outputs": [
    {
     "data": {
      "text/plain": [
       "Hypothesis    0\n",
       "Reach         0\n",
       "Impact        0\n",
       "Confidence    0\n",
       "Efforts       0\n",
       "dtype: int64"
      ]
     },
     "execution_count": 4,
     "metadata": {},
     "output_type": "execute_result"
    }
   ],
   "source": [
    "hypothesis.isna().sum()"
   ]
  },
  {
   "cell_type": "code",
   "execution_count": 5,
   "metadata": {},
   "outputs": [
    {
     "name": "stdout",
     "output_type": "stream",
     "text": [
      "<class 'pandas.core.frame.DataFrame'>\n",
      "RangeIndex: 1197 entries, 0 to 1196\n",
      "Data columns (total 5 columns):\n",
      " #   Column         Non-Null Count  Dtype \n",
      "---  ------         --------------  ----- \n",
      " 0   transactionId  1197 non-null   int64 \n",
      " 1   visitorId      1197 non-null   int64 \n",
      " 2   date           1197 non-null   object\n",
      " 3   revenue        1197 non-null   int64 \n",
      " 4   group          1197 non-null   object\n",
      "dtypes: int64(3), object(2)\n",
      "memory usage: 46.9+ KB\n"
     ]
    },
    {
     "data": {
      "text/html": [
       "<div>\n",
       "<style scoped>\n",
       "    .dataframe tbody tr th:only-of-type {\n",
       "        vertical-align: middle;\n",
       "    }\n",
       "\n",
       "    .dataframe tbody tr th {\n",
       "        vertical-align: top;\n",
       "    }\n",
       "\n",
       "    .dataframe thead th {\n",
       "        text-align: right;\n",
       "    }\n",
       "</style>\n",
       "<table border=\"1\" class=\"dataframe\">\n",
       "  <thead>\n",
       "    <tr style=\"text-align: right;\">\n",
       "      <th></th>\n",
       "      <th>transactionId</th>\n",
       "      <th>visitorId</th>\n",
       "      <th>date</th>\n",
       "      <th>revenue</th>\n",
       "      <th>group</th>\n",
       "    </tr>\n",
       "  </thead>\n",
       "  <tbody>\n",
       "    <tr>\n",
       "      <th>0</th>\n",
       "      <td>3667963787</td>\n",
       "      <td>3312258926</td>\n",
       "      <td>2019-08-15</td>\n",
       "      <td>1650</td>\n",
       "      <td>B</td>\n",
       "    </tr>\n",
       "    <tr>\n",
       "      <th>1</th>\n",
       "      <td>2804400009</td>\n",
       "      <td>3642806036</td>\n",
       "      <td>2019-08-15</td>\n",
       "      <td>730</td>\n",
       "      <td>B</td>\n",
       "    </tr>\n",
       "    <tr>\n",
       "      <th>2</th>\n",
       "      <td>2961555356</td>\n",
       "      <td>4069496402</td>\n",
       "      <td>2019-08-15</td>\n",
       "      <td>400</td>\n",
       "      <td>A</td>\n",
       "    </tr>\n",
       "    <tr>\n",
       "      <th>3</th>\n",
       "      <td>3797467345</td>\n",
       "      <td>1196621759</td>\n",
       "      <td>2019-08-15</td>\n",
       "      <td>9759</td>\n",
       "      <td>B</td>\n",
       "    </tr>\n",
       "    <tr>\n",
       "      <th>4</th>\n",
       "      <td>2282983706</td>\n",
       "      <td>2322279887</td>\n",
       "      <td>2019-08-15</td>\n",
       "      <td>2308</td>\n",
       "      <td>B</td>\n",
       "    </tr>\n",
       "  </tbody>\n",
       "</table>\n",
       "</div>"
      ],
      "text/plain": [
       "   transactionId   visitorId        date  revenue group\n",
       "0     3667963787  3312258926  2019-08-15     1650     B\n",
       "1     2804400009  3642806036  2019-08-15      730     B\n",
       "2     2961555356  4069496402  2019-08-15      400     A\n",
       "3     3797467345  1196621759  2019-08-15     9759     B\n",
       "4     2282983706  2322279887  2019-08-15     2308     B"
      ]
     },
     "execution_count": 5,
     "metadata": {},
     "output_type": "execute_result"
    }
   ],
   "source": [
    "#смотрим orders, но так как строк тут много, ограничиваемся первыми 5.\n",
    "orders.info()\n",
    "orders.head()"
   ]
  },
  {
   "cell_type": "code",
   "execution_count": 6,
   "metadata": {},
   "outputs": [
    {
     "data": {
      "text/plain": [
       "transactionId    0\n",
       "visitorId        0\n",
       "date             0\n",
       "revenue          0\n",
       "group            0\n",
       "dtype: int64"
      ]
     },
     "execution_count": 6,
     "metadata": {},
     "output_type": "execute_result"
    }
   ],
   "source": [
    "#ищем пропуски\n",
    "orders.isna().sum()"
   ]
  },
  {
   "cell_type": "code",
   "execution_count": 7,
   "metadata": {},
   "outputs": [
    {
     "data": {
      "text/plain": [
       "'2019-08-31'"
      ]
     },
     "metadata": {},
     "output_type": "display_data"
    },
    {
     "data": {
      "text/plain": [
       "'2019-08-01'"
      ]
     },
     "metadata": {},
     "output_type": "display_data"
    }
   ],
   "source": [
    "#посмотрим первую и последнюю дату в orders\n",
    "display(orders['date'].max())\n",
    "display(orders['date'].min())"
   ]
  },
  {
   "cell_type": "code",
   "execution_count": 8,
   "metadata": {},
   "outputs": [
    {
     "data": {
      "text/plain": [
       "array(['B', 'A'], dtype=object)"
      ]
     },
     "execution_count": 8,
     "metadata": {},
     "output_type": "execute_result"
    }
   ],
   "source": [
    "#посмотрим какие группы у нас есть в orders\n",
    "orders['group'].unique()"
   ]
  },
  {
   "cell_type": "code",
   "execution_count": 9,
   "metadata": {},
   "outputs": [
    {
     "name": "stdout",
     "output_type": "stream",
     "text": [
      "<class 'pandas.core.frame.DataFrame'>\n",
      "RangeIndex: 62 entries, 0 to 61\n",
      "Data columns (total 3 columns):\n",
      " #   Column    Non-Null Count  Dtype \n",
      "---  ------    --------------  ----- \n",
      " 0   date      62 non-null     object\n",
      " 1   group     62 non-null     object\n",
      " 2   visitors  62 non-null     int64 \n",
      "dtypes: int64(1), object(2)\n",
      "memory usage: 1.6+ KB\n"
     ]
    },
    {
     "data": {
      "text/html": [
       "<div>\n",
       "<style scoped>\n",
       "    .dataframe tbody tr th:only-of-type {\n",
       "        vertical-align: middle;\n",
       "    }\n",
       "\n",
       "    .dataframe tbody tr th {\n",
       "        vertical-align: top;\n",
       "    }\n",
       "\n",
       "    .dataframe thead th {\n",
       "        text-align: right;\n",
       "    }\n",
       "</style>\n",
       "<table border=\"1\" class=\"dataframe\">\n",
       "  <thead>\n",
       "    <tr style=\"text-align: right;\">\n",
       "      <th></th>\n",
       "      <th>date</th>\n",
       "      <th>group</th>\n",
       "      <th>visitors</th>\n",
       "    </tr>\n",
       "  </thead>\n",
       "  <tbody>\n",
       "    <tr>\n",
       "      <th>0</th>\n",
       "      <td>2019-08-01</td>\n",
       "      <td>A</td>\n",
       "      <td>719</td>\n",
       "    </tr>\n",
       "    <tr>\n",
       "      <th>1</th>\n",
       "      <td>2019-08-02</td>\n",
       "      <td>A</td>\n",
       "      <td>619</td>\n",
       "    </tr>\n",
       "    <tr>\n",
       "      <th>2</th>\n",
       "      <td>2019-08-03</td>\n",
       "      <td>A</td>\n",
       "      <td>507</td>\n",
       "    </tr>\n",
       "    <tr>\n",
       "      <th>3</th>\n",
       "      <td>2019-08-04</td>\n",
       "      <td>A</td>\n",
       "      <td>717</td>\n",
       "    </tr>\n",
       "    <tr>\n",
       "      <th>4</th>\n",
       "      <td>2019-08-05</td>\n",
       "      <td>A</td>\n",
       "      <td>756</td>\n",
       "    </tr>\n",
       "  </tbody>\n",
       "</table>\n",
       "</div>"
      ],
      "text/plain": [
       "         date group  visitors\n",
       "0  2019-08-01     A       719\n",
       "1  2019-08-02     A       619\n",
       "2  2019-08-03     A       507\n",
       "3  2019-08-04     A       717\n",
       "4  2019-08-05     A       756"
      ]
     },
     "execution_count": 9,
     "metadata": {},
     "output_type": "execute_result"
    }
   ],
   "source": [
    "#так же смотрим на visitors\n",
    "visitors.info()\n",
    "visitors.head()"
   ]
  },
  {
   "cell_type": "code",
   "execution_count": 10,
   "metadata": {},
   "outputs": [
    {
     "data": {
      "text/plain": [
       "date        0\n",
       "group       0\n",
       "visitors    0\n",
       "dtype: int64"
      ]
     },
     "execution_count": 10,
     "metadata": {},
     "output_type": "execute_result"
    }
   ],
   "source": [
    "#ищем пропуски\n",
    "visitors.isna().sum()"
   ]
  },
  {
   "cell_type": "code",
   "execution_count": 11,
   "metadata": {},
   "outputs": [
    {
     "data": {
      "text/plain": [
       "array(['A', 'B'], dtype=object)"
      ]
     },
     "execution_count": 11,
     "metadata": {},
     "output_type": "execute_result"
    }
   ],
   "source": [
    "#посмотрим какие группы у нас есть в visitors\n",
    "visitors['group'].unique()"
   ]
  },
  {
   "cell_type": "code",
   "execution_count": 12,
   "metadata": {},
   "outputs": [
    {
     "data": {
      "text/plain": [
       "B    31\n",
       "A    31\n",
       "Name: group, dtype: int64"
      ]
     },
     "execution_count": 12,
     "metadata": {},
     "output_type": "execute_result"
    }
   ],
   "source": [
    "#посчитаем количество групп\n",
    "visitors.group.value_counts()"
   ]
  },
  {
   "cell_type": "code",
   "execution_count": 13,
   "metadata": {},
   "outputs": [
    {
     "data": {
      "text/html": [
       "<div>\n",
       "<style scoped>\n",
       "    .dataframe tbody tr th:only-of-type {\n",
       "        vertical-align: middle;\n",
       "    }\n",
       "\n",
       "    .dataframe tbody tr th {\n",
       "        vertical-align: top;\n",
       "    }\n",
       "\n",
       "    .dataframe thead th {\n",
       "        text-align: right;\n",
       "    }\n",
       "</style>\n",
       "<table border=\"1\" class=\"dataframe\">\n",
       "  <thead>\n",
       "    <tr style=\"text-align: right;\">\n",
       "      <th></th>\n",
       "      <th>visitors</th>\n",
       "    </tr>\n",
       "    <tr>\n",
       "      <th>group</th>\n",
       "      <th></th>\n",
       "    </tr>\n",
       "  </thead>\n",
       "  <tbody>\n",
       "    <tr>\n",
       "      <th>A</th>\n",
       "      <td>18736</td>\n",
       "    </tr>\n",
       "    <tr>\n",
       "      <th>B</th>\n",
       "      <td>18916</td>\n",
       "    </tr>\n",
       "  </tbody>\n",
       "</table>\n",
       "</div>"
      ],
      "text/plain": [
       "       visitors\n",
       "group          \n",
       "A         18736\n",
       "B         18916"
      ]
     },
     "execution_count": 13,
     "metadata": {},
     "output_type": "execute_result"
    }
   ],
   "source": [
    "#посчитаем количество участников групп\n",
    "visitors.groupby('group').agg({'visitors':'sum'})"
   ]
  },
  {
   "cell_type": "code",
   "execution_count": 14,
   "metadata": {},
   "outputs": [
    {
     "data": {
      "text/plain": [
       "'2019-08-31'"
      ]
     },
     "metadata": {},
     "output_type": "display_data"
    },
    {
     "data": {
      "text/plain": [
       "'2019-08-01'"
      ]
     },
     "metadata": {},
     "output_type": "display_data"
    }
   ],
   "source": [
    "#посмотрим первую и последнюю дату в visitors\n",
    "display(visitors['date'].max())\n",
    "display(visitors['date'].min())"
   ]
  },
  {
   "cell_type": "markdown",
   "metadata": {},
   "source": [
    "**Промежуточный итог:**  \n",
    "Столбцы с датами в таблицах orders и visitors имеют тип данных object, для дальнейшей работы необходимо поменять.  \n",
    "Пропусков на первый взгляд нет.  \n",
    "Даты начала и конца(с 01.08.2019 по 31.08.2019), а также группы (А и В)  в orders и visitors совпадают.  \n",
    "Наименования столбцов необходимо привести к единому стилю. В таблице hypothesis привести к нижнему регистру, а в таблице orders отделить Id подчеркиванием.    \n",
    "Так же нужно будет проверить таблицы на наличие дубликатов.  \n",
    "В таблице hypotises мы видим 8 гипотез которые предстоит проверить."
   ]
  },
  {
   "cell_type": "markdown",
   "metadata": {},
   "source": [
    "### Подготовка данных\n",
    "#### Стиль"
   ]
  },
  {
   "cell_type": "code",
   "execution_count": 15,
   "metadata": {},
   "outputs": [
    {
     "data": {
      "text/html": [
       "<div>\n",
       "<style scoped>\n",
       "    .dataframe tbody tr th:only-of-type {\n",
       "        vertical-align: middle;\n",
       "    }\n",
       "\n",
       "    .dataframe tbody tr th {\n",
       "        vertical-align: top;\n",
       "    }\n",
       "\n",
       "    .dataframe thead th {\n",
       "        text-align: right;\n",
       "    }\n",
       "</style>\n",
       "<table border=\"1\" class=\"dataframe\">\n",
       "  <thead>\n",
       "    <tr style=\"text-align: right;\">\n",
       "      <th></th>\n",
       "      <th>hypothesis</th>\n",
       "      <th>reach</th>\n",
       "      <th>impact</th>\n",
       "      <th>confidence</th>\n",
       "      <th>efforts</th>\n",
       "    </tr>\n",
       "  </thead>\n",
       "  <tbody>\n",
       "    <tr>\n",
       "      <th>0</th>\n",
       "      <td>Добавить два новых канала привлечения трафика, что позволит привлекать на 30% больше пользователей</td>\n",
       "      <td>3</td>\n",
       "      <td>10</td>\n",
       "      <td>8</td>\n",
       "      <td>6</td>\n",
       "    </tr>\n",
       "    <tr>\n",
       "      <th>1</th>\n",
       "      <td>Запустить собственную службу доставки, что сократит срок доставки заказов</td>\n",
       "      <td>2</td>\n",
       "      <td>5</td>\n",
       "      <td>4</td>\n",
       "      <td>10</td>\n",
       "    </tr>\n",
       "    <tr>\n",
       "      <th>2</th>\n",
       "      <td>Добавить блоки рекомендаций товаров на сайт интернет магазина, чтобы повысить конверсию и средний чек заказа</td>\n",
       "      <td>8</td>\n",
       "      <td>3</td>\n",
       "      <td>7</td>\n",
       "      <td>3</td>\n",
       "    </tr>\n",
       "    <tr>\n",
       "      <th>3</th>\n",
       "      <td>Изменить структура категорий, что увеличит конверсию, т.к. пользователи быстрее найдут нужный товар</td>\n",
       "      <td>8</td>\n",
       "      <td>3</td>\n",
       "      <td>3</td>\n",
       "      <td>8</td>\n",
       "    </tr>\n",
       "    <tr>\n",
       "      <th>4</th>\n",
       "      <td>Изменить цвет фона главной страницы, чтобы увеличить вовлеченность пользователей</td>\n",
       "      <td>3</td>\n",
       "      <td>1</td>\n",
       "      <td>1</td>\n",
       "      <td>1</td>\n",
       "    </tr>\n",
       "    <tr>\n",
       "      <th>5</th>\n",
       "      <td>Добавить страницу отзывов клиентов о магазине, что позволит увеличить количество заказов</td>\n",
       "      <td>3</td>\n",
       "      <td>2</td>\n",
       "      <td>2</td>\n",
       "      <td>3</td>\n",
       "    </tr>\n",
       "    <tr>\n",
       "      <th>6</th>\n",
       "      <td>Показать на главной странице баннеры с актуальными акциями и распродажами, чтобы увеличить конверсию</td>\n",
       "      <td>5</td>\n",
       "      <td>3</td>\n",
       "      <td>8</td>\n",
       "      <td>3</td>\n",
       "    </tr>\n",
       "    <tr>\n",
       "      <th>7</th>\n",
       "      <td>Добавить форму подписки на все основные страницы, чтобы собрать базу клиентов для email-рассылок</td>\n",
       "      <td>10</td>\n",
       "      <td>7</td>\n",
       "      <td>8</td>\n",
       "      <td>5</td>\n",
       "    </tr>\n",
       "    <tr>\n",
       "      <th>8</th>\n",
       "      <td>Запустить акцию, дающую скидку на товар в день рождения</td>\n",
       "      <td>1</td>\n",
       "      <td>9</td>\n",
       "      <td>9</td>\n",
       "      <td>5</td>\n",
       "    </tr>\n",
       "  </tbody>\n",
       "</table>\n",
       "</div>"
      ],
      "text/plain": [
       "                                                                                                     hypothesis  \\\n",
       "0            Добавить два новых канала привлечения трафика, что позволит привлекать на 30% больше пользователей   \n",
       "1                                     Запустить собственную службу доставки, что сократит срок доставки заказов   \n",
       "2  Добавить блоки рекомендаций товаров на сайт интернет магазина, чтобы повысить конверсию и средний чек заказа   \n",
       "3           Изменить структура категорий, что увеличит конверсию, т.к. пользователи быстрее найдут нужный товар   \n",
       "4                              Изменить цвет фона главной страницы, чтобы увеличить вовлеченность пользователей   \n",
       "5                      Добавить страницу отзывов клиентов о магазине, что позволит увеличить количество заказов   \n",
       "6          Показать на главной странице баннеры с актуальными акциями и распродажами, чтобы увеличить конверсию   \n",
       "7              Добавить форму подписки на все основные страницы, чтобы собрать базу клиентов для email-рассылок   \n",
       "8                                                       Запустить акцию, дающую скидку на товар в день рождения   \n",
       "\n",
       "   reach  impact  confidence  efforts  \n",
       "0      3      10           8        6  \n",
       "1      2       5           4       10  \n",
       "2      8       3           7        3  \n",
       "3      8       3           3        8  \n",
       "4      3       1           1        1  \n",
       "5      3       2           2        3  \n",
       "6      5       3           8        3  \n",
       "7     10       7           8        5  \n",
       "8      1       9           9        5  "
      ]
     },
     "metadata": {},
     "output_type": "display_data"
    },
    {
     "data": {
      "text/html": [
       "<div>\n",
       "<style scoped>\n",
       "    .dataframe tbody tr th:only-of-type {\n",
       "        vertical-align: middle;\n",
       "    }\n",
       "\n",
       "    .dataframe tbody tr th {\n",
       "        vertical-align: top;\n",
       "    }\n",
       "\n",
       "    .dataframe thead th {\n",
       "        text-align: right;\n",
       "    }\n",
       "</style>\n",
       "<table border=\"1\" class=\"dataframe\">\n",
       "  <thead>\n",
       "    <tr style=\"text-align: right;\">\n",
       "      <th></th>\n",
       "      <th>transaction_id</th>\n",
       "      <th>visitor_id</th>\n",
       "      <th>date</th>\n",
       "      <th>revenue</th>\n",
       "      <th>group</th>\n",
       "    </tr>\n",
       "  </thead>\n",
       "  <tbody>\n",
       "    <tr>\n",
       "      <th>0</th>\n",
       "      <td>3667963787</td>\n",
       "      <td>3312258926</td>\n",
       "      <td>2019-08-15</td>\n",
       "      <td>1650</td>\n",
       "      <td>B</td>\n",
       "    </tr>\n",
       "    <tr>\n",
       "      <th>1</th>\n",
       "      <td>2804400009</td>\n",
       "      <td>3642806036</td>\n",
       "      <td>2019-08-15</td>\n",
       "      <td>730</td>\n",
       "      <td>B</td>\n",
       "    </tr>\n",
       "    <tr>\n",
       "      <th>2</th>\n",
       "      <td>2961555356</td>\n",
       "      <td>4069496402</td>\n",
       "      <td>2019-08-15</td>\n",
       "      <td>400</td>\n",
       "      <td>A</td>\n",
       "    </tr>\n",
       "    <tr>\n",
       "      <th>3</th>\n",
       "      <td>3797467345</td>\n",
       "      <td>1196621759</td>\n",
       "      <td>2019-08-15</td>\n",
       "      <td>9759</td>\n",
       "      <td>B</td>\n",
       "    </tr>\n",
       "    <tr>\n",
       "      <th>4</th>\n",
       "      <td>2282983706</td>\n",
       "      <td>2322279887</td>\n",
       "      <td>2019-08-15</td>\n",
       "      <td>2308</td>\n",
       "      <td>B</td>\n",
       "    </tr>\n",
       "  </tbody>\n",
       "</table>\n",
       "</div>"
      ],
      "text/plain": [
       "   transaction_id  visitor_id        date  revenue group\n",
       "0      3667963787  3312258926  2019-08-15     1650     B\n",
       "1      2804400009  3642806036  2019-08-15      730     B\n",
       "2      2961555356  4069496402  2019-08-15      400     A\n",
       "3      3797467345  1196621759  2019-08-15     9759     B\n",
       "4      2282983706  2322279887  2019-08-15     2308     B"
      ]
     },
     "metadata": {},
     "output_type": "display_data"
    }
   ],
   "source": [
    "hypothesis.columns = hypothesis.columns.str.lower()\n",
    "orders.columns = [name.replace('Id', '_id') for name in orders.columns]\n",
    "\n",
    "display(hypothesis)\n",
    "display(orders.head())"
   ]
  },
  {
   "cell_type": "markdown",
   "metadata": {},
   "source": [
    "#### Время\n"
   ]
  },
  {
   "cell_type": "code",
   "execution_count": 16,
   "metadata": {},
   "outputs": [],
   "source": [
    "#изменяем тип данных дат с object до datetime\n",
    "visitors['date'] = pd.to_datetime(visitors['date'])\n",
    "orders['date'] = pd.to_datetime(orders['date'])\n"
   ]
  },
  {
   "cell_type": "code",
   "execution_count": 17,
   "metadata": {},
   "outputs": [
    {
     "name": "stdout",
     "output_type": "stream",
     "text": [
      "<class 'pandas.core.frame.DataFrame'>\n",
      "RangeIndex: 62 entries, 0 to 61\n",
      "Data columns (total 3 columns):\n",
      " #   Column    Non-Null Count  Dtype         \n",
      "---  ------    --------------  -----         \n",
      " 0   date      62 non-null     datetime64[ns]\n",
      " 1   group     62 non-null     object        \n",
      " 2   visitors  62 non-null     int64         \n",
      "dtypes: datetime64[ns](1), int64(1), object(1)\n",
      "memory usage: 1.6+ KB\n"
     ]
    },
    {
     "data": {
      "text/plain": [
       "None"
      ]
     },
     "metadata": {},
     "output_type": "display_data"
    },
    {
     "name": "stdout",
     "output_type": "stream",
     "text": [
      "<class 'pandas.core.frame.DataFrame'>\n",
      "RangeIndex: 1197 entries, 0 to 1196\n",
      "Data columns (total 5 columns):\n",
      " #   Column          Non-Null Count  Dtype         \n",
      "---  ------          --------------  -----         \n",
      " 0   transaction_id  1197 non-null   int64         \n",
      " 1   visitor_id      1197 non-null   int64         \n",
      " 2   date            1197 non-null   datetime64[ns]\n",
      " 3   revenue         1197 non-null   int64         \n",
      " 4   group           1197 non-null   object        \n",
      "dtypes: datetime64[ns](1), int64(3), object(1)\n",
      "memory usage: 46.9+ KB\n"
     ]
    },
    {
     "data": {
      "text/plain": [
       "None"
      ]
     },
     "metadata": {},
     "output_type": "display_data"
    }
   ],
   "source": [
    "#Проверяем\n",
    "display(visitors.info())\n",
    "display(orders.info())"
   ]
  },
  {
   "cell_type": "markdown",
   "metadata": {},
   "source": [
    "#### Проверка на наличие явных дубликатов"
   ]
  },
  {
   "cell_type": "code",
   "execution_count": 18,
   "metadata": {},
   "outputs": [
    {
     "data": {
      "text/plain": [
       "0"
      ]
     },
     "metadata": {},
     "output_type": "display_data"
    },
    {
     "data": {
      "text/plain": [
       "0"
      ]
     },
     "metadata": {},
     "output_type": "display_data"
    }
   ],
   "source": [
    "display(visitors.duplicated().sum())\n",
    "display(orders.duplicated().sum())"
   ]
  },
  {
   "cell_type": "code",
   "execution_count": 19,
   "metadata": {},
   "outputs": [
    {
     "data": {
      "text/plain": [
       "58"
      ]
     },
     "metadata": {},
     "output_type": "display_data"
    }
   ],
   "source": [
    "#проверка на наличие покупателей попавших в обе группы\n",
    "orders_a = orders.query('group == \"A\"')\n",
    "orders_b = orders.query('group == \"B\"')\n",
    "\n",
    "both_group_orders = orders_a.merge(orders_b, on='visitor_id')['visitor_id'].unique()\n",
    "display(len(both_group_orders))"
   ]
  },
  {
   "cell_type": "code",
   "execution_count": 20,
   "metadata": {},
   "outputs": [
    {
     "data": {
      "text/plain": [
       "5.625606207565471"
      ]
     },
     "execution_count": 20,
     "metadata": {},
     "output_type": "execute_result"
    }
   ],
   "source": [
    "#58 звучит как солидная цифра из 1197, но узнаем точный %\n",
    "len(both_group_orders)/len(orders['visitor_id'].unique())*100"
   ]
  },
  {
   "cell_type": "code",
   "execution_count": 21,
   "metadata": {},
   "outputs": [
    {
     "name": "stdout",
     "output_type": "stream",
     "text": [
      "<class 'pandas.core.frame.DataFrame'>\n",
      "Int64Index: 1016 entries, 0 to 1196\n",
      "Data columns (total 5 columns):\n",
      " #   Column          Non-Null Count  Dtype         \n",
      "---  ------          --------------  -----         \n",
      " 0   transaction_id  1016 non-null   int64         \n",
      " 1   visitor_id      1016 non-null   int64         \n",
      " 2   date            1016 non-null   datetime64[ns]\n",
      " 3   revenue         1016 non-null   int64         \n",
      " 4   group           1016 non-null   object        \n",
      "dtypes: datetime64[ns](1), int64(3), object(1)\n",
      "memory usage: 47.6+ KB\n"
     ]
    }
   ],
   "source": [
    "#удаляем 58 пользователей попавших в обе группы, т.к. это 5.62%, которые могут исказить данные. \n",
    "orders = orders.query('visitor_id not in @both_group_orders')\n",
    "orders.info()"
   ]
  },
  {
   "cell_type": "markdown",
   "metadata": {},
   "source": [
    "**Промежуточный итог:**\n",
    "Тип данных дат исправлен, наименование столбцов приведены в единый стиль. Явных дубликатов не обнаружено.  \n",
    "Но обнаружены покупатели состоявшие в обеих группах теста. Они были удалены, т.к. 5.62% которые они составили, могут исказить данные.\n"
   ]
  },
  {
   "cell_type": "markdown",
   "metadata": {},
   "source": [
    "## Приоритизация гипотез\n",
    "### ICE (impact, confidence, effort)"
   ]
  },
  {
   "cell_type": "code",
   "execution_count": 22,
   "metadata": {},
   "outputs": [
    {
     "data": {
      "text/html": [
       "<div>\n",
       "<style scoped>\n",
       "    .dataframe tbody tr th:only-of-type {\n",
       "        vertical-align: middle;\n",
       "    }\n",
       "\n",
       "    .dataframe tbody tr th {\n",
       "        vertical-align: top;\n",
       "    }\n",
       "\n",
       "    .dataframe thead th {\n",
       "        text-align: right;\n",
       "    }\n",
       "</style>\n",
       "<table border=\"1\" class=\"dataframe\">\n",
       "  <thead>\n",
       "    <tr style=\"text-align: right;\">\n",
       "      <th></th>\n",
       "      <th>hypothesis</th>\n",
       "      <th>ice</th>\n",
       "    </tr>\n",
       "  </thead>\n",
       "  <tbody>\n",
       "    <tr>\n",
       "      <th>8</th>\n",
       "      <td>Запустить акцию, дающую скидку на товар в день рождения</td>\n",
       "      <td>16.20</td>\n",
       "    </tr>\n",
       "    <tr>\n",
       "      <th>0</th>\n",
       "      <td>Добавить два новых канала привлечения трафика, что позволит привлекать на 30% больше пользователей</td>\n",
       "      <td>13.33</td>\n",
       "    </tr>\n",
       "    <tr>\n",
       "      <th>7</th>\n",
       "      <td>Добавить форму подписки на все основные страницы, чтобы собрать базу клиентов для email-рассылок</td>\n",
       "      <td>11.20</td>\n",
       "    </tr>\n",
       "    <tr>\n",
       "      <th>6</th>\n",
       "      <td>Показать на главной странице баннеры с актуальными акциями и распродажами, чтобы увеличить конверсию</td>\n",
       "      <td>8.00</td>\n",
       "    </tr>\n",
       "    <tr>\n",
       "      <th>2</th>\n",
       "      <td>Добавить блоки рекомендаций товаров на сайт интернет магазина, чтобы повысить конверсию и средний чек заказа</td>\n",
       "      <td>7.00</td>\n",
       "    </tr>\n",
       "    <tr>\n",
       "      <th>1</th>\n",
       "      <td>Запустить собственную службу доставки, что сократит срок доставки заказов</td>\n",
       "      <td>2.00</td>\n",
       "    </tr>\n",
       "    <tr>\n",
       "      <th>5</th>\n",
       "      <td>Добавить страницу отзывов клиентов о магазине, что позволит увеличить количество заказов</td>\n",
       "      <td>1.33</td>\n",
       "    </tr>\n",
       "    <tr>\n",
       "      <th>3</th>\n",
       "      <td>Изменить структура категорий, что увеличит конверсию, т.к. пользователи быстрее найдут нужный товар</td>\n",
       "      <td>1.12</td>\n",
       "    </tr>\n",
       "    <tr>\n",
       "      <th>4</th>\n",
       "      <td>Изменить цвет фона главной страницы, чтобы увеличить вовлеченность пользователей</td>\n",
       "      <td>1.00</td>\n",
       "    </tr>\n",
       "  </tbody>\n",
       "</table>\n",
       "</div>"
      ],
      "text/plain": [
       "                                                                                                     hypothesis  \\\n",
       "8                                                       Запустить акцию, дающую скидку на товар в день рождения   \n",
       "0            Добавить два новых канала привлечения трафика, что позволит привлекать на 30% больше пользователей   \n",
       "7              Добавить форму подписки на все основные страницы, чтобы собрать базу клиентов для email-рассылок   \n",
       "6          Показать на главной странице баннеры с актуальными акциями и распродажами, чтобы увеличить конверсию   \n",
       "2  Добавить блоки рекомендаций товаров на сайт интернет магазина, чтобы повысить конверсию и средний чек заказа   \n",
       "1                                     Запустить собственную службу доставки, что сократит срок доставки заказов   \n",
       "5                      Добавить страницу отзывов клиентов о магазине, что позволит увеличить количество заказов   \n",
       "3           Изменить структура категорий, что увеличит конверсию, т.к. пользователи быстрее найдут нужный товар   \n",
       "4                              Изменить цвет фона главной страницы, чтобы увеличить вовлеченность пользователей   \n",
       "\n",
       "     ice  \n",
       "8  16.20  \n",
       "0  13.33  \n",
       "7  11.20  \n",
       "6   8.00  \n",
       "2   7.00  \n",
       "1   2.00  \n",
       "5   1.33  \n",
       "3   1.12  \n",
       "4   1.00  "
      ]
     },
     "metadata": {},
     "output_type": "display_data"
    }
   ],
   "source": [
    "hypothesis['ice'] = round((hypothesis['impact'] * hypothesis['confidence']) / hypothesis['efforts'], 2)\n",
    "display(hypothesis[['hypothesis' , 'ice']].sort_values(by='ice', ascending=False))"
   ]
  },
  {
   "cell_type": "code",
   "execution_count": 23,
   "metadata": {},
   "outputs": [
    {
     "data": {
      "text/plain": [
       "<function matplotlib.pyplot.show(close=None, block=None)>"
      ]
     },
     "execution_count": 23,
     "metadata": {},
     "output_type": "execute_result"
    },
    {
     "data": {
      "image/png": "[encoded data removed]",
      "text/plain": [
       "<Figure size 432x288 with 1 Axes>"
      ]
     },
     "metadata": {
      "needs_background": "light"
     },
     "output_type": "display_data"
    }
   ],
   "source": [
    "ax = hypothesis[['hypothesis', 'ice']].set_index('hypothesis').sort_values('ice',ascending=True).plot(kind='barh', grid = True)\n",
    "ax.set_xlabel('Приоритет')\n",
    "ax.set_ylabel('Гипотезы')\n",
    "ax.set_title('ICE')\n",
    "plt.show"
   ]
  },
  {
   "cell_type": "markdown",
   "metadata": {},
   "source": [
    "**Вывод по ICE:**\n",
    "Гипотезы 1,5,3,4 по методике ICE сильно отстают.  \n",
    "А гипотезы 8,0,7  находятся в лидерах."
   ]
  },
  {
   "cell_type": "markdown",
   "metadata": {},
   "source": [
    "### RICE (reach, impact, confidence, effort)"
   ]
  },
  {
   "cell_type": "code",
   "execution_count": 24,
   "metadata": {},
   "outputs": [
    {
     "data": {
      "text/html": [
       "<div>\n",
       "<style scoped>\n",
       "    .dataframe tbody tr th:only-of-type {\n",
       "        vertical-align: middle;\n",
       "    }\n",
       "\n",
       "    .dataframe tbody tr th {\n",
       "        vertical-align: top;\n",
       "    }\n",
       "\n",
       "    .dataframe thead th {\n",
       "        text-align: right;\n",
       "    }\n",
       "</style>\n",
       "<table border=\"1\" class=\"dataframe\">\n",
       "  <thead>\n",
       "    <tr style=\"text-align: right;\">\n",
       "      <th></th>\n",
       "      <th>hypothesis</th>\n",
       "      <th>rice</th>\n",
       "    </tr>\n",
       "  </thead>\n",
       "  <tbody>\n",
       "    <tr>\n",
       "      <th>7</th>\n",
       "      <td>Добавить форму подписки на все основные страницы, чтобы собрать базу клиентов для email-рассылок</td>\n",
       "      <td>112.0</td>\n",
       "    </tr>\n",
       "    <tr>\n",
       "      <th>2</th>\n",
       "      <td>Добавить блоки рекомендаций товаров на сайт интернет магазина, чтобы повысить конверсию и средний чек заказа</td>\n",
       "      <td>56.0</td>\n",
       "    </tr>\n",
       "    <tr>\n",
       "      <th>0</th>\n",
       "      <td>Добавить два новых канала привлечения трафика, что позволит привлекать на 30% больше пользователей</td>\n",
       "      <td>40.0</td>\n",
       "    </tr>\n",
       "    <tr>\n",
       "      <th>6</th>\n",
       "      <td>Показать на главной странице баннеры с актуальными акциями и распродажами, чтобы увеличить конверсию</td>\n",
       "      <td>40.0</td>\n",
       "    </tr>\n",
       "    <tr>\n",
       "      <th>8</th>\n",
       "      <td>Запустить акцию, дающую скидку на товар в день рождения</td>\n",
       "      <td>16.2</td>\n",
       "    </tr>\n",
       "    <tr>\n",
       "      <th>3</th>\n",
       "      <td>Изменить структура категорий, что увеличит конверсию, т.к. пользователи быстрее найдут нужный товар</td>\n",
       "      <td>9.0</td>\n",
       "    </tr>\n",
       "    <tr>\n",
       "      <th>1</th>\n",
       "      <td>Запустить собственную службу доставки, что сократит срок доставки заказов</td>\n",
       "      <td>4.0</td>\n",
       "    </tr>\n",
       "    <tr>\n",
       "      <th>5</th>\n",
       "      <td>Добавить страницу отзывов клиентов о магазине, что позволит увеличить количество заказов</td>\n",
       "      <td>4.0</td>\n",
       "    </tr>\n",
       "    <tr>\n",
       "      <th>4</th>\n",
       "      <td>Изменить цвет фона главной страницы, чтобы увеличить вовлеченность пользователей</td>\n",
       "      <td>3.0</td>\n",
       "    </tr>\n",
       "  </tbody>\n",
       "</table>\n",
       "</div>"
      ],
      "text/plain": [
       "                                                                                                     hypothesis  \\\n",
       "7              Добавить форму подписки на все основные страницы, чтобы собрать базу клиентов для email-рассылок   \n",
       "2  Добавить блоки рекомендаций товаров на сайт интернет магазина, чтобы повысить конверсию и средний чек заказа   \n",
       "0            Добавить два новых канала привлечения трафика, что позволит привлекать на 30% больше пользователей   \n",
       "6          Показать на главной странице баннеры с актуальными акциями и распродажами, чтобы увеличить конверсию   \n",
       "8                                                       Запустить акцию, дающую скидку на товар в день рождения   \n",
       "3           Изменить структура категорий, что увеличит конверсию, т.к. пользователи быстрее найдут нужный товар   \n",
       "1                                     Запустить собственную службу доставки, что сократит срок доставки заказов   \n",
       "5                      Добавить страницу отзывов клиентов о магазине, что позволит увеличить количество заказов   \n",
       "4                              Изменить цвет фона главной страницы, чтобы увеличить вовлеченность пользователей   \n",
       "\n",
       "    rice  \n",
       "7  112.0  \n",
       "2   56.0  \n",
       "0   40.0  \n",
       "6   40.0  \n",
       "8   16.2  \n",
       "3    9.0  \n",
       "1    4.0  \n",
       "5    4.0  \n",
       "4    3.0  "
      ]
     },
     "metadata": {},
     "output_type": "display_data"
    }
   ],
   "source": [
    "hypothesis['rice'] =((hypothesis['reach'] * hypothesis['impact'] * hypothesis['confidence']) / hypothesis['efforts'])\n",
    "display(hypothesis[['hypothesis' , 'rice']].sort_values(by='rice', ascending=False))"
   ]
  },
  {
   "cell_type": "code",
   "execution_count": 25,
   "metadata": {},
   "outputs": [
    {
     "data": {
      "text/plain": [
       "<function matplotlib.pyplot.show(close=None, block=None)>"
      ]
     },
     "execution_count": 25,
     "metadata": {},
     "output_type": "execute_result"
    },
    {
     "data": {
      "image/png": "[encoded data removed]",
      "text/plain": [
       "<Figure size 432x288 with 1 Axes>"
      ]
     },
     "metadata": {
      "needs_background": "light"
     },
     "output_type": "display_data"
    }
   ],
   "source": [
    "ax = hypothesis[['hypothesis', 'rice']].set_index('hypothesis').sort_values('rice',ascending=True).plot(kind='barh', grid = True, color = 'green')\n",
    "ax.set_xlabel('Приоритет')\n",
    "ax.set_ylabel('Гипотезы')\n",
    "ax.set_title('rice')\n",
    "plt.show"
   ]
  },
  {
   "cell_type": "markdown",
   "metadata": {},
   "source": [
    "**Вывод по RICE:**  \n",
    "Наиболее перспективными по методике RICE выглядят гипотезы 7,2,0,6, остальные же гипотезы сильно отстают."
   ]
  },
  {
   "cell_type": "markdown",
   "metadata": {},
   "source": [
    "### Вывод по приоритизации гипотез\n",
    "\n",
    "Наилучшими вариантами по методике ICE выглядели гипотезы: \n",
    "- №8 Запустить акцию, дающую скидку на товар в день рождения\n",
    "- №0 Добавить два новых канала привлечения трафика, что позволит привлекать на 30% больше пользователей\n",
    "- №7 Добавить форму подписки на все основные страницы, чтобы собрать базу клиентов для email-рассылок\n",
    "\n",
    "А наилучшими гипотезами по методике RICE стали:\n",
    "- №7 Добавить форму подписки на все основные страницы, чтобы собрать базу клиентов для email-рассылок\n",
    "- №2 Добавить блоки рекомендаций товаров на сайт интернет магазина, чтобы повысить конверсию и средний чек заказа\n",
    "- №0 Добавить два новых канала привлечения трафика, что позволит привлекать на 30% больше пользователей\n",
    "\n",
    "Гипотеза №8 не вошла в топ по RICE т.к. у неё низкий охват, а гипотеза №2 не показала хороших результатов в ICE т.к. у неё низкий показатель влияния и усилий.  \n",
    "\n",
    "При перекрестной оценке наиболее приоритетными гипотезами становятся:\n",
    "- №7 Добавить форму подписки на все основные страницы, чтобы собрать базу клиентов для email-рассылок\n",
    "- №0 Добавить два новых канала привлечения трафика, что позволит привлекать на 30% больше пользователей  \n",
    "\n",
    "А также, ввиду неплохих результатов по обеим метрикам, считаю возможным добавить в приоритеты гипотезу:  \n",
    "- №6 Показать на главной странице баннеры с актуальными акциями и распродажами, чтобы увеличить конверсию"
   ]
  },
  {
   "cell_type": "markdown",
   "metadata": {},
   "source": [
    "## Анализ A/B-теста \n",
    "**Создаем массив данных**"
   ]
  },
  {
   "cell_type": "code",
   "execution_count": 26,
   "metadata": {},
   "outputs": [
    {
     "data": {
      "text/html": [
       "<div>\n",
       "<style scoped>\n",
       "    .dataframe tbody tr th:only-of-type {\n",
       "        vertical-align: middle;\n",
       "    }\n",
       "\n",
       "    .dataframe tbody tr th {\n",
       "        vertical-align: top;\n",
       "    }\n",
       "\n",
       "    .dataframe thead th {\n",
       "        text-align: right;\n",
       "    }\n",
       "</style>\n",
       "<table border=\"1\" class=\"dataframe\">\n",
       "  <thead>\n",
       "    <tr style=\"text-align: right;\">\n",
       "      <th></th>\n",
       "      <th>date</th>\n",
       "      <th>group</th>\n",
       "      <th>orders</th>\n",
       "      <th>customers</th>\n",
       "      <th>revenue</th>\n",
       "      <th>visitors</th>\n",
       "    </tr>\n",
       "  </thead>\n",
       "  <tbody>\n",
       "    <tr>\n",
       "      <th>0</th>\n",
       "      <td>2019-08-01</td>\n",
       "      <td>A</td>\n",
       "      <td>23</td>\n",
       "      <td>19</td>\n",
       "      <td>142779</td>\n",
       "      <td>719</td>\n",
       "    </tr>\n",
       "    <tr>\n",
       "      <th>1</th>\n",
       "      <td>2019-08-01</td>\n",
       "      <td>B</td>\n",
       "      <td>17</td>\n",
       "      <td>17</td>\n",
       "      <td>59758</td>\n",
       "      <td>713</td>\n",
       "    </tr>\n",
       "    <tr>\n",
       "      <th>2</th>\n",
       "      <td>2019-08-02</td>\n",
       "      <td>A</td>\n",
       "      <td>42</td>\n",
       "      <td>36</td>\n",
       "      <td>234381</td>\n",
       "      <td>1338</td>\n",
       "    </tr>\n",
       "    <tr>\n",
       "      <th>3</th>\n",
       "      <td>2019-08-02</td>\n",
       "      <td>B</td>\n",
       "      <td>40</td>\n",
       "      <td>39</td>\n",
       "      <td>221801</td>\n",
       "      <td>1294</td>\n",
       "    </tr>\n",
       "    <tr>\n",
       "      <th>4</th>\n",
       "      <td>2019-08-03</td>\n",
       "      <td>A</td>\n",
       "      <td>66</td>\n",
       "      <td>60</td>\n",
       "      <td>346854</td>\n",
       "      <td>1845</td>\n",
       "    </tr>\n",
       "  </tbody>\n",
       "</table>\n",
       "</div>"
      ],
      "text/plain": [
       "        date group  orders  customers  revenue  visitors\n",
       "0 2019-08-01     A      23         19   142779       719\n",
       "1 2019-08-01     B      17         17    59758       713\n",
       "2 2019-08-02     A      42         36   234381      1338\n",
       "3 2019-08-02     B      40         39   221801      1294\n",
       "4 2019-08-03     A      66         60   346854      1845"
      ]
     },
     "metadata": {},
     "output_type": "display_data"
    },
    {
     "data": {
      "text/plain": [
       "Timestamp('2019-08-31 00:00:00')"
      ]
     },
     "metadata": {},
     "output_type": "display_data"
    },
    {
     "data": {
      "text/plain": [
       "Timestamp('2019-08-01 00:00:00')"
      ]
     },
     "metadata": {},
     "output_type": "display_data"
    }
   ],
   "source": [
    "# задаем уникальные пары дат и групп\n",
    "date_group = orders[['date','group']].drop_duplicates()\n",
    "\n",
    "# кумулятивные данные о заказах по дням \n",
    "orders_aggregated = (\n",
    "    date_group.apply(lambda x: orders[np.logical_and(orders['date'] <= x['date'], orders['group'] == x['group'])]\n",
    "                .agg({'date' : 'max', 'group' : 'max', 'transaction_id' : 'nunique', 'visitor_id' : 'nunique', 'revenue' : 'sum'}), axis=1)\n",
    "                .sort_values(by=['date','group'])\n",
    ")\n",
    "#кумулятивные данные о посетителях магазина по дням  \n",
    "visitors_aggregated = (\n",
    "    date_group.apply(lambda x: visitors[np.logical_and(visitors['date'] <= x['date'], visitors['group'] == x['group'])]\n",
    "              .agg({'date' : 'max', 'group' : 'max', 'visitors' : 'sum'}), axis=1)\n",
    "              .sort_values(by=['date','group'])\n",
    ")\n",
    "# объединяем кумулятивные данные \n",
    "cumulative_data = orders_aggregated.merge(visitors_aggregated, left_on=['date', 'group'], right_on=['date', 'group'])\n",
    "cumulative_data.columns = ['date', 'group', 'orders', 'customers', 'revenue', 'visitors']\n",
    "\n",
    "display(cumulative_data.head(5)) \n",
    "display(cumulative_data['date'].max())\n",
    "display(cumulative_data['date'].min())"
   ]
  },
  {
   "cell_type": "code",
   "execution_count": 27,
   "metadata": {},
   "outputs": [
    {
     "data": {
      "text/html": [
       "<div>\n",
       "<style scoped>\n",
       "    .dataframe tbody tr th:only-of-type {\n",
       "        vertical-align: middle;\n",
       "    }\n",
       "\n",
       "    .dataframe tbody tr th {\n",
       "        vertical-align: top;\n",
       "    }\n",
       "\n",
       "    .dataframe thead th {\n",
       "        text-align: right;\n",
       "    }\n",
       "</style>\n",
       "<table border=\"1\" class=\"dataframe\">\n",
       "  <thead>\n",
       "    <tr style=\"text-align: right;\">\n",
       "      <th></th>\n",
       "      <th>date</th>\n",
       "      <th>revenue</th>\n",
       "      <th>orders</th>\n",
       "    </tr>\n",
       "  </thead>\n",
       "  <tbody>\n",
       "    <tr>\n",
       "      <th>0</th>\n",
       "      <td>2019-08-01</td>\n",
       "      <td>142779</td>\n",
       "      <td>23</td>\n",
       "    </tr>\n",
       "    <tr>\n",
       "      <th>2</th>\n",
       "      <td>2019-08-02</td>\n",
       "      <td>234381</td>\n",
       "      <td>42</td>\n",
       "    </tr>\n",
       "    <tr>\n",
       "      <th>4</th>\n",
       "      <td>2019-08-03</td>\n",
       "      <td>346854</td>\n",
       "      <td>66</td>\n",
       "    </tr>\n",
       "    <tr>\n",
       "      <th>6</th>\n",
       "      <td>2019-08-04</td>\n",
       "      <td>388030</td>\n",
       "      <td>77</td>\n",
       "    </tr>\n",
       "    <tr>\n",
       "      <th>8</th>\n",
       "      <td>2019-08-05</td>\n",
       "      <td>474413</td>\n",
       "      <td>99</td>\n",
       "    </tr>\n",
       "  </tbody>\n",
       "</table>\n",
       "</div>"
      ],
      "text/plain": [
       "        date  revenue  orders\n",
       "0 2019-08-01   142779      23\n",
       "2 2019-08-02   234381      42\n",
       "4 2019-08-03   346854      66\n",
       "6 2019-08-04   388030      77\n",
       "8 2019-08-05   474413      99"
      ]
     },
     "metadata": {},
     "output_type": "display_data"
    },
    {
     "data": {
      "text/html": [
       "<div>\n",
       "<style scoped>\n",
       "    .dataframe tbody tr th:only-of-type {\n",
       "        vertical-align: middle;\n",
       "    }\n",
       "\n",
       "    .dataframe tbody tr th {\n",
       "        vertical-align: top;\n",
       "    }\n",
       "\n",
       "    .dataframe thead th {\n",
       "        text-align: right;\n",
       "    }\n",
       "</style>\n",
       "<table border=\"1\" class=\"dataframe\">\n",
       "  <thead>\n",
       "    <tr style=\"text-align: right;\">\n",
       "      <th></th>\n",
       "      <th>date</th>\n",
       "      <th>revenue</th>\n",
       "      <th>orders</th>\n",
       "    </tr>\n",
       "  </thead>\n",
       "  <tbody>\n",
       "    <tr>\n",
       "      <th>1</th>\n",
       "      <td>2019-08-01</td>\n",
       "      <td>59758</td>\n",
       "      <td>17</td>\n",
       "    </tr>\n",
       "    <tr>\n",
       "      <th>3</th>\n",
       "      <td>2019-08-02</td>\n",
       "      <td>221801</td>\n",
       "      <td>40</td>\n",
       "    </tr>\n",
       "    <tr>\n",
       "      <th>5</th>\n",
       "      <td>2019-08-03</td>\n",
       "      <td>288850</td>\n",
       "      <td>54</td>\n",
       "    </tr>\n",
       "    <tr>\n",
       "      <th>7</th>\n",
       "      <td>2019-08-04</td>\n",
       "      <td>385740</td>\n",
       "      <td>68</td>\n",
       "    </tr>\n",
       "    <tr>\n",
       "      <th>9</th>\n",
       "      <td>2019-08-05</td>\n",
       "      <td>475648</td>\n",
       "      <td>89</td>\n",
       "    </tr>\n",
       "  </tbody>\n",
       "</table>\n",
       "</div>"
      ],
      "text/plain": [
       "        date  revenue  orders\n",
       "1 2019-08-01    59758      17\n",
       "3 2019-08-02   221801      40\n",
       "5 2019-08-03   288850      54\n",
       "7 2019-08-04   385740      68\n",
       "9 2019-08-05   475648      89"
      ]
     },
     "metadata": {},
     "output_type": "display_data"
    }
   ],
   "source": [
    "# разделим на группы для построения графика\n",
    "cumulative_revenue_a = cumulative_data[cumulative_data['group']=='A'][['date','revenue', 'orders']]\n",
    "cumulative_revenue_b = cumulative_data[cumulative_data['group']=='B'][['date','revenue', 'orders']]\n",
    "display(cumulative_revenue_a.head())\n",
    "display(cumulative_revenue_b.head())"
   ]
  },
  {
   "cell_type": "markdown",
   "metadata": {},
   "source": [
    "### График кумулятивной выручки по группам."
   ]
  },
  {
   "cell_type": "code",
   "execution_count": 28,
   "metadata": {},
   "outputs": [
    {
     "data": {
      "image/png": "[encoded data removed]",
      "text/plain": [
       "<Figure size 1512x576 with 1 Axes>"
      ]
     },
     "metadata": {
      "needs_background": "light"
     },
     "output_type": "display_data"
    }
   ],
   "source": [
    "# Задаем данные для графика\n",
    "plt.figure(figsize=(21, 8))\n",
    "\n",
    "plt.plot(cumulative_revenue_a['date'], cumulative_revenue_a['revenue'], label='A')\n",
    "plt.plot(cumulative_revenue_b['date'], cumulative_revenue_b['revenue'], label='B')\n",
    "\n",
    "plt.grid(True)\n",
    "plt.title('График кумулятивной выручки по группам А и В', fontsize=15)\n",
    "plt.xlabel('Дата', fontsize=14)\n",
    "plt.ylabel('Выручка', fontsize=14)\n",
    "plt.legend();"
   ]
  },
  {
   "cell_type": "markdown",
   "metadata": {},
   "source": [
    "**Промежуточный итог:**  \n",
    "По графику видно что кумулятивная выручка растет весь наблюдаемый период.  \n",
    "При этом отмечаем, что группа А растет стабильно, а у группы В виден скачок роста 18-19 августа, это может говорить об увеличении стоимости заказов в группе и/или увеличении количества заказов. "
   ]
  },
  {
   "cell_type": "markdown",
   "metadata": {},
   "source": [
    "### График кумулятивного среднего чека по группам."
   ]
  },
  {
   "cell_type": "code",
   "execution_count": 29,
   "metadata": {},
   "outputs": [
    {
     "data": {
      "image/png": "[encoded data removed]",
      "text/plain": [
       "<Figure size 1512x576 with 1 Axes>"
      ]
     },
     "metadata": {
      "needs_background": "light"
     },
     "output_type": "display_data"
    }
   ],
   "source": [
    "#задаем данные для графика\n",
    "plt.figure(figsize=(21, 8))\n",
    "\n",
    "plt.plot(cumulative_revenue_a['date'], cumulative_revenue_a['revenue']/cumulative_revenue_a['orders'], label='A')\n",
    "plt.plot(cumulative_revenue_b['date'], cumulative_revenue_b['revenue']/cumulative_revenue_b['orders'], label='B')\n",
    "\n",
    "plt.grid(True)\n",
    "plt.title('График кумулятивного среднего чека по группам А и В', fontsize=15)\n",
    "plt.xlabel('Дата', fontsize=14)\n",
    "plt.ylabel('Средний чек', fontsize=14)\n",
    "plt.legend();"
   ]
  },
  {
   "cell_type": "markdown",
   "metadata": {},
   "source": [
    "**Промежуточный итог:**  \n",
    "График кумулятивного среднего чека по группам показывает что группа А изначально была \"дороже\", но все же уступает большую часть времени,а также она имела скачок к 13 августа, а далее стабилизировалась. Группа В растет скачками, что может говорить о резких всплесках покупок дорогих товаров(в следствии участия в каких либо акциях). "
   ]
  },
  {
   "cell_type": "markdown",
   "metadata": {},
   "source": [
    "### График относительного изменения кумулятивного среднего чека группы B к группе A."
   ]
  },
  {
   "cell_type": "code",
   "execution_count": 30,
   "metadata": {},
   "outputs": [
    {
     "data": {
      "text/html": [
       "<div>\n",
       "<style scoped>\n",
       "    .dataframe tbody tr th:only-of-type {\n",
       "        vertical-align: middle;\n",
       "    }\n",
       "\n",
       "    .dataframe tbody tr th {\n",
       "        vertical-align: top;\n",
       "    }\n",
       "\n",
       "    .dataframe thead th {\n",
       "        text-align: right;\n",
       "    }\n",
       "</style>\n",
       "<table border=\"1\" class=\"dataframe\">\n",
       "  <thead>\n",
       "    <tr style=\"text-align: right;\">\n",
       "      <th></th>\n",
       "      <th>date</th>\n",
       "      <th>revenueA</th>\n",
       "      <th>ordersA</th>\n",
       "      <th>revenueB</th>\n",
       "      <th>ordersB</th>\n",
       "    </tr>\n",
       "  </thead>\n",
       "  <tbody>\n",
       "    <tr>\n",
       "      <th>0</th>\n",
       "      <td>2019-08-01</td>\n",
       "      <td>142779</td>\n",
       "      <td>23</td>\n",
       "      <td>59758</td>\n",
       "      <td>17</td>\n",
       "    </tr>\n",
       "    <tr>\n",
       "      <th>1</th>\n",
       "      <td>2019-08-02</td>\n",
       "      <td>234381</td>\n",
       "      <td>42</td>\n",
       "      <td>221801</td>\n",
       "      <td>40</td>\n",
       "    </tr>\n",
       "    <tr>\n",
       "      <th>2</th>\n",
       "      <td>2019-08-03</td>\n",
       "      <td>346854</td>\n",
       "      <td>66</td>\n",
       "      <td>288850</td>\n",
       "      <td>54</td>\n",
       "    </tr>\n",
       "    <tr>\n",
       "      <th>3</th>\n",
       "      <td>2019-08-04</td>\n",
       "      <td>388030</td>\n",
       "      <td>77</td>\n",
       "      <td>385740</td>\n",
       "      <td>68</td>\n",
       "    </tr>\n",
       "    <tr>\n",
       "      <th>4</th>\n",
       "      <td>2019-08-05</td>\n",
       "      <td>474413</td>\n",
       "      <td>99</td>\n",
       "      <td>475648</td>\n",
       "      <td>89</td>\n",
       "    </tr>\n",
       "  </tbody>\n",
       "</table>\n",
       "</div>"
      ],
      "text/plain": [
       "        date  revenueA  ordersA  revenueB  ordersB\n",
       "0 2019-08-01    142779       23     59758       17\n",
       "1 2019-08-02    234381       42    221801       40\n",
       "2 2019-08-03    346854       66    288850       54\n",
       "3 2019-08-04    388030       77    385740       68\n",
       "4 2019-08-05    474413       99    475648       89"
      ]
     },
     "metadata": {},
     "output_type": "display_data"
    }
   ],
   "source": [
    "# для построения относительного графика объединяем кумулятивы\n",
    "cumulative_revenue =(cumulative_revenue_a.merge(cumulative_revenue_b, left_on='date', right_on='date', how='left', suffixes=['A', 'B']))\n",
    "display(cumulative_revenue.head()) "
   ]
  },
  {
   "cell_type": "code",
   "execution_count": 31,
   "metadata": {},
   "outputs": [
    {
     "data": {
      "image/png": "[encoded data removed]",
      "text/plain": [
       "<Figure size 1512x576 with 1 Axes>"
      ]
     },
     "metadata": {
      "needs_background": "light"
     },
     "output_type": "display_data"
    }
   ],
   "source": [
    "plt.figure(figsize=(21, 8))\n",
    "\n",
    "plt.plot(cumulative_revenue['date'], (cumulative_revenue['revenueB']/cumulative_revenue['ordersB'])/(cumulative_revenue['revenueA']/cumulative_revenue['ordersA'])-1)\n",
    "\n",
    "plt.grid(True)\n",
    "plt.title('График относительного изменения кумулятивного среднего чека группы B к группе A', fontsize=15)\n",
    "plt.xlabel('Дата', fontsize=14)\n",
    "plt.ylabel('Средний чек', fontsize=14)\n",
    "plt.axhline(y=0, color='black', linestyle='--');"
   ]
  },
  {
   "cell_type": "markdown",
   "metadata": {},
   "source": [
    "**Промежуточный итог:**  \n",
    "График сильно скачет в некоторых датах, что подтверждает теорию о всплесках дорогих покупок. "
   ]
  },
  {
   "cell_type": "markdown",
   "metadata": {},
   "source": [
    "### График кумулятивного среднего количества заказов на посетителя по группам."
   ]
  },
  {
   "cell_type": "code",
   "execution_count": 32,
   "metadata": {},
   "outputs": [
    {
     "data": {
      "text/html": [
       "<div>\n",
       "<style scoped>\n",
       "    .dataframe tbody tr th:only-of-type {\n",
       "        vertical-align: middle;\n",
       "    }\n",
       "\n",
       "    .dataframe tbody tr th {\n",
       "        vertical-align: top;\n",
       "    }\n",
       "\n",
       "    .dataframe thead th {\n",
       "        text-align: right;\n",
       "    }\n",
       "</style>\n",
       "<table border=\"1\" class=\"dataframe\">\n",
       "  <thead>\n",
       "    <tr style=\"text-align: right;\">\n",
       "      <th></th>\n",
       "      <th>date</th>\n",
       "      <th>group</th>\n",
       "      <th>orders</th>\n",
       "      <th>customers</th>\n",
       "      <th>revenue</th>\n",
       "      <th>visitors</th>\n",
       "      <th>conversion</th>\n",
       "    </tr>\n",
       "  </thead>\n",
       "  <tbody>\n",
       "    <tr>\n",
       "      <th>0</th>\n",
       "      <td>2019-08-01</td>\n",
       "      <td>A</td>\n",
       "      <td>23</td>\n",
       "      <td>19</td>\n",
       "      <td>142779</td>\n",
       "      <td>719</td>\n",
       "      <td>0.031989</td>\n",
       "    </tr>\n",
       "    <tr>\n",
       "      <th>1</th>\n",
       "      <td>2019-08-01</td>\n",
       "      <td>B</td>\n",
       "      <td>17</td>\n",
       "      <td>17</td>\n",
       "      <td>59758</td>\n",
       "      <td>713</td>\n",
       "      <td>0.023843</td>\n",
       "    </tr>\n",
       "    <tr>\n",
       "      <th>2</th>\n",
       "      <td>2019-08-02</td>\n",
       "      <td>A</td>\n",
       "      <td>42</td>\n",
       "      <td>36</td>\n",
       "      <td>234381</td>\n",
       "      <td>1338</td>\n",
       "      <td>0.031390</td>\n",
       "    </tr>\n",
       "    <tr>\n",
       "      <th>3</th>\n",
       "      <td>2019-08-02</td>\n",
       "      <td>B</td>\n",
       "      <td>40</td>\n",
       "      <td>39</td>\n",
       "      <td>221801</td>\n",
       "      <td>1294</td>\n",
       "      <td>0.030912</td>\n",
       "    </tr>\n",
       "    <tr>\n",
       "      <th>4</th>\n",
       "      <td>2019-08-03</td>\n",
       "      <td>A</td>\n",
       "      <td>66</td>\n",
       "      <td>60</td>\n",
       "      <td>346854</td>\n",
       "      <td>1845</td>\n",
       "      <td>0.035772</td>\n",
       "    </tr>\n",
       "  </tbody>\n",
       "</table>\n",
       "</div>"
      ],
      "text/plain": [
       "        date group  orders  customers  revenue  visitors  conversion\n",
       "0 2019-08-01     A      23         19   142779       719    0.031989\n",
       "1 2019-08-01     B      17         17    59758       713    0.023843\n",
       "2 2019-08-02     A      42         36   234381      1338    0.031390\n",
       "3 2019-08-02     B      40         39   221801      1294    0.030912\n",
       "4 2019-08-03     A      66         60   346854      1845    0.035772"
      ]
     },
     "metadata": {},
     "output_type": "display_data"
    }
   ],
   "source": [
    "# здесь нам понадобится конверсия\n",
    "cumulative_data['conversion'] = cumulative_data['orders']/cumulative_data['visitors']\n",
    "display(cumulative_data.head())"
   ]
  },
  {
   "cell_type": "code",
   "execution_count": 33,
   "metadata": {},
   "outputs": [
    {
     "data": {
      "text/html": [
       "<div>\n",
       "<style scoped>\n",
       "    .dataframe tbody tr th:only-of-type {\n",
       "        vertical-align: middle;\n",
       "    }\n",
       "\n",
       "    .dataframe tbody tr th {\n",
       "        vertical-align: top;\n",
       "    }\n",
       "\n",
       "    .dataframe thead th {\n",
       "        text-align: right;\n",
       "    }\n",
       "</style>\n",
       "<table border=\"1\" class=\"dataframe\">\n",
       "  <thead>\n",
       "    <tr style=\"text-align: right;\">\n",
       "      <th></th>\n",
       "      <th>date</th>\n",
       "      <th>group</th>\n",
       "      <th>orders</th>\n",
       "      <th>customers</th>\n",
       "      <th>revenue</th>\n",
       "      <th>visitors</th>\n",
       "      <th>conversion</th>\n",
       "    </tr>\n",
       "  </thead>\n",
       "  <tbody>\n",
       "    <tr>\n",
       "      <th>0</th>\n",
       "      <td>2019-08-01</td>\n",
       "      <td>A</td>\n",
       "      <td>23</td>\n",
       "      <td>19</td>\n",
       "      <td>142779</td>\n",
       "      <td>719</td>\n",
       "      <td>0.031989</td>\n",
       "    </tr>\n",
       "    <tr>\n",
       "      <th>2</th>\n",
       "      <td>2019-08-02</td>\n",
       "      <td>A</td>\n",
       "      <td>42</td>\n",
       "      <td>36</td>\n",
       "      <td>234381</td>\n",
       "      <td>1338</td>\n",
       "      <td>0.031390</td>\n",
       "    </tr>\n",
       "    <tr>\n",
       "      <th>4</th>\n",
       "      <td>2019-08-03</td>\n",
       "      <td>A</td>\n",
       "      <td>66</td>\n",
       "      <td>60</td>\n",
       "      <td>346854</td>\n",
       "      <td>1845</td>\n",
       "      <td>0.035772</td>\n",
       "    </tr>\n",
       "    <tr>\n",
       "      <th>6</th>\n",
       "      <td>2019-08-04</td>\n",
       "      <td>A</td>\n",
       "      <td>77</td>\n",
       "      <td>71</td>\n",
       "      <td>388030</td>\n",
       "      <td>2562</td>\n",
       "      <td>0.030055</td>\n",
       "    </tr>\n",
       "    <tr>\n",
       "      <th>8</th>\n",
       "      <td>2019-08-05</td>\n",
       "      <td>A</td>\n",
       "      <td>99</td>\n",
       "      <td>92</td>\n",
       "      <td>474413</td>\n",
       "      <td>3318</td>\n",
       "      <td>0.029837</td>\n",
       "    </tr>\n",
       "  </tbody>\n",
       "</table>\n",
       "</div>"
      ],
      "text/plain": [
       "        date group  orders  customers  revenue  visitors  conversion\n",
       "0 2019-08-01     A      23         19   142779       719    0.031989\n",
       "2 2019-08-02     A      42         36   234381      1338    0.031390\n",
       "4 2019-08-03     A      66         60   346854      1845    0.035772\n",
       "6 2019-08-04     A      77         71   388030      2562    0.030055\n",
       "8 2019-08-05     A      99         92   474413      3318    0.029837"
      ]
     },
     "metadata": {},
     "output_type": "display_data"
    },
    {
     "data": {
      "text/html": [
       "<div>\n",
       "<style scoped>\n",
       "    .dataframe tbody tr th:only-of-type {\n",
       "        vertical-align: middle;\n",
       "    }\n",
       "\n",
       "    .dataframe tbody tr th {\n",
       "        vertical-align: top;\n",
       "    }\n",
       "\n",
       "    .dataframe thead th {\n",
       "        text-align: right;\n",
       "    }\n",
       "</style>\n",
       "<table border=\"1\" class=\"dataframe\">\n",
       "  <thead>\n",
       "    <tr style=\"text-align: right;\">\n",
       "      <th></th>\n",
       "      <th>date</th>\n",
       "      <th>group</th>\n",
       "      <th>orders</th>\n",
       "      <th>customers</th>\n",
       "      <th>revenue</th>\n",
       "      <th>visitors</th>\n",
       "      <th>conversion</th>\n",
       "    </tr>\n",
       "  </thead>\n",
       "  <tbody>\n",
       "    <tr>\n",
       "      <th>1</th>\n",
       "      <td>2019-08-01</td>\n",
       "      <td>B</td>\n",
       "      <td>17</td>\n",
       "      <td>17</td>\n",
       "      <td>59758</td>\n",
       "      <td>713</td>\n",
       "      <td>0.023843</td>\n",
       "    </tr>\n",
       "    <tr>\n",
       "      <th>3</th>\n",
       "      <td>2019-08-02</td>\n",
       "      <td>B</td>\n",
       "      <td>40</td>\n",
       "      <td>39</td>\n",
       "      <td>221801</td>\n",
       "      <td>1294</td>\n",
       "      <td>0.030912</td>\n",
       "    </tr>\n",
       "    <tr>\n",
       "      <th>5</th>\n",
       "      <td>2019-08-03</td>\n",
       "      <td>B</td>\n",
       "      <td>54</td>\n",
       "      <td>53</td>\n",
       "      <td>288850</td>\n",
       "      <td>1803</td>\n",
       "      <td>0.029950</td>\n",
       "    </tr>\n",
       "    <tr>\n",
       "      <th>7</th>\n",
       "      <td>2019-08-04</td>\n",
       "      <td>B</td>\n",
       "      <td>68</td>\n",
       "      <td>66</td>\n",
       "      <td>385740</td>\n",
       "      <td>2573</td>\n",
       "      <td>0.026428</td>\n",
       "    </tr>\n",
       "    <tr>\n",
       "      <th>9</th>\n",
       "      <td>2019-08-05</td>\n",
       "      <td>B</td>\n",
       "      <td>89</td>\n",
       "      <td>87</td>\n",
       "      <td>475648</td>\n",
       "      <td>3280</td>\n",
       "      <td>0.027134</td>\n",
       "    </tr>\n",
       "  </tbody>\n",
       "</table>\n",
       "</div>"
      ],
      "text/plain": [
       "        date group  orders  customers  revenue  visitors  conversion\n",
       "1 2019-08-01     B      17         17    59758       713    0.023843\n",
       "3 2019-08-02     B      40         39   221801      1294    0.030912\n",
       "5 2019-08-03     B      54         53   288850      1803    0.029950\n",
       "7 2019-08-04     B      68         66   385740      2573    0.026428\n",
       "9 2019-08-05     B      89         87   475648      3280    0.027134"
      ]
     },
     "metadata": {},
     "output_type": "display_data"
    }
   ],
   "source": [
    "#теперь разделим по группам\n",
    "cumulative_conversion_a = cumulative_data[cumulative_data['group']=='A']\n",
    "cumulative_conversion_b = cumulative_data[cumulative_data['group']=='B']\n",
    "display(cumulative_conversion_a.head())\n",
    "display(cumulative_conversion_b.head())"
   ]
  },
  {
   "cell_type": "code",
   "execution_count": 34,
   "metadata": {},
   "outputs": [
    {
     "data": {
      "text/plain": [
       "<matplotlib.legend.Legend at 0x7f19511d44c0>"
      ]
     },
     "execution_count": 34,
     "metadata": {},
     "output_type": "execute_result"
    },
    {
     "data": {
      "image/png": "[encoded data removed]",
      "text/plain": [
       "<Figure size 1512x576 with 1 Axes>"
      ]
     },
     "metadata": {
      "needs_background": "light"
     },
     "output_type": "display_data"
    }
   ],
   "source": [
    "#задаем график\n",
    "plt.figure(figsize=(21, 8))\n",
    "\n",
    "plt.plot(cumulative_conversion_a['date'], cumulative_conversion_a['conversion'], label='A')\n",
    "plt.plot(cumulative_conversion_b['date'], cumulative_conversion_b['conversion'], label='B')\n",
    "\n",
    "plt.grid(True)\n",
    "plt.title('График кумулятивного среднего количества заказов на посетителя по группам', fontsize=15)\n",
    "plt.xlabel('Дата', fontsize=14)\n",
    "plt.ylabel('Заказы', fontsize=14)\n",
    "plt.legend()"
   ]
  },
  {
   "cell_type": "markdown",
   "metadata": {},
   "source": [
    "**Промежуточный итог:**  \n",
    "По графику мы видим, что в начале теста у группы А конверсия лучше чем у группы В. В дальнейшем группа В растет и обгоняет группу А которая после роста конверсии в начале, падает и выравнивается. "
   ]
  },
  {
   "cell_type": "markdown",
   "metadata": {},
   "source": [
    "### График относительного изменения кумулятивного среднего количества заказов на посетителя группы B к группе A."
   ]
  },
  {
   "cell_type": "code",
   "execution_count": 35,
   "metadata": {},
   "outputs": [
    {
     "data": {
      "text/html": [
       "<div>\n",
       "<style scoped>\n",
       "    .dataframe tbody tr th:only-of-type {\n",
       "        vertical-align: middle;\n",
       "    }\n",
       "\n",
       "    .dataframe tbody tr th {\n",
       "        vertical-align: top;\n",
       "    }\n",
       "\n",
       "    .dataframe thead th {\n",
       "        text-align: right;\n",
       "    }\n",
       "</style>\n",
       "<table border=\"1\" class=\"dataframe\">\n",
       "  <thead>\n",
       "    <tr style=\"text-align: right;\">\n",
       "      <th></th>\n",
       "      <th>date</th>\n",
       "      <th>conversionA</th>\n",
       "      <th>conversionB</th>\n",
       "    </tr>\n",
       "  </thead>\n",
       "  <tbody>\n",
       "    <tr>\n",
       "      <th>0</th>\n",
       "      <td>2019-08-01</td>\n",
       "      <td>0.031989</td>\n",
       "      <td>0.023843</td>\n",
       "    </tr>\n",
       "    <tr>\n",
       "      <th>1</th>\n",
       "      <td>2019-08-02</td>\n",
       "      <td>0.031390</td>\n",
       "      <td>0.030912</td>\n",
       "    </tr>\n",
       "    <tr>\n",
       "      <th>2</th>\n",
       "      <td>2019-08-03</td>\n",
       "      <td>0.035772</td>\n",
       "      <td>0.029950</td>\n",
       "    </tr>\n",
       "    <tr>\n",
       "      <th>3</th>\n",
       "      <td>2019-08-04</td>\n",
       "      <td>0.030055</td>\n",
       "      <td>0.026428</td>\n",
       "    </tr>\n",
       "    <tr>\n",
       "      <th>4</th>\n",
       "      <td>2019-08-05</td>\n",
       "      <td>0.029837</td>\n",
       "      <td>0.027134</td>\n",
       "    </tr>\n",
       "  </tbody>\n",
       "</table>\n",
       "</div>"
      ],
      "text/plain": [
       "        date  conversionA  conversionB\n",
       "0 2019-08-01     0.031989     0.023843\n",
       "1 2019-08-02     0.031390     0.030912\n",
       "2 2019-08-03     0.035772     0.029950\n",
       "3 2019-08-04     0.030055     0.026428\n",
       "4 2019-08-05     0.029837     0.027134"
      ]
     },
     "metadata": {},
     "output_type": "display_data"
    }
   ],
   "source": [
    "# для построения относительного графика объединяем кумулятивы\n",
    "cumulative_conversion = (cumulative_conversion_a[['date','conversion']].merge(cumulative_conversion_b[['date','conversion']], left_on='date', right_on='date', how='left', suffixes=['A', 'B']))\n",
    "display(cumulative_conversion.head())"
   ]
  },
  {
   "cell_type": "code",
   "execution_count": 36,
   "metadata": {},
   "outputs": [
    {
     "data": {
      "text/plain": [
       "<matplotlib.lines.Line2D at 0x7f19511b4820>"
      ]
     },
     "execution_count": 36,
     "metadata": {},
     "output_type": "execute_result"
    },
    {
     "data": {
      "image/png": "[encoded data removed]",
      "text/plain": [
       "<Figure size 1512x576 with 1 Axes>"
      ]
     },
     "metadata": {
      "needs_background": "light"
     },
     "output_type": "display_data"
    }
   ],
   "source": [
    "#задаем график\n",
    "plt.figure(figsize=(21, 8))\n",
    "\n",
    "plt.plot(cumulative_conversion['date'], cumulative_conversion['conversionB']/cumulative_conversion['conversionA']-1)\n",
    "\n",
    "plt.grid(True)\n",
    "plt.title('График относительного изменения кумулятивного среднего количества заказов на посетителя группы B к группе A', fontsize=15)\n",
    "plt.xlabel('Дата', fontsize=14)\n",
    "plt.ylabel('Заказы', fontsize=14)\n",
    "plt.axhline(y=0, color='black', linestyle='--')"
   ]
  },
  {
   "cell_type": "markdown",
   "metadata": {},
   "source": [
    "**Промежуточный итог:**  \n",
    "График показывает что относительное кумулятивное среднее количество заказов на посетителя в группе В стабильно выше после \"обгона\" к 6 августа. "
   ]
  },
  {
   "cell_type": "markdown",
   "metadata": {},
   "source": [
    "### Точечный график количества заказов по пользователям."
   ]
  },
  {
   "cell_type": "code",
   "execution_count": 37,
   "metadata": {},
   "outputs": [
    {
     "data": {
      "text/html": [
       "<div>\n",
       "<style scoped>\n",
       "    .dataframe tbody tr th:only-of-type {\n",
       "        vertical-align: middle;\n",
       "    }\n",
       "\n",
       "    .dataframe tbody tr th {\n",
       "        vertical-align: top;\n",
       "    }\n",
       "\n",
       "    .dataframe thead th {\n",
       "        text-align: right;\n",
       "    }\n",
       "</style>\n",
       "<table border=\"1\" class=\"dataframe\">\n",
       "  <thead>\n",
       "    <tr style=\"text-align: right;\">\n",
       "      <th></th>\n",
       "      <th>visitor_id</th>\n",
       "      <th>orders</th>\n",
       "    </tr>\n",
       "  </thead>\n",
       "  <tbody>\n",
       "    <tr>\n",
       "      <th>0</th>\n",
       "      <td>5114589</td>\n",
       "      <td>1</td>\n",
       "    </tr>\n",
       "    <tr>\n",
       "      <th>1</th>\n",
       "      <td>6958315</td>\n",
       "      <td>1</td>\n",
       "    </tr>\n",
       "    <tr>\n",
       "      <th>2</th>\n",
       "      <td>11685486</td>\n",
       "      <td>1</td>\n",
       "    </tr>\n",
       "    <tr>\n",
       "      <th>3</th>\n",
       "      <td>39475350</td>\n",
       "      <td>1</td>\n",
       "    </tr>\n",
       "    <tr>\n",
       "      <th>4</th>\n",
       "      <td>47206413</td>\n",
       "      <td>1</td>\n",
       "    </tr>\n",
       "  </tbody>\n",
       "</table>\n",
       "</div>"
      ],
      "text/plain": [
       "   visitor_id  orders\n",
       "0     5114589       1\n",
       "1     6958315       1\n",
       "2    11685486       1\n",
       "3    39475350       1\n",
       "4    47206413       1"
      ]
     },
     "metadata": {},
     "output_type": "display_data"
    },
    {
     "name": "stdout",
     "output_type": "stream",
     "text": [
      "<class 'pandas.core.frame.DataFrame'>\n",
      "Int64Index: 973 entries, 0 to 972\n",
      "Data columns (total 2 columns):\n",
      " #   Column      Non-Null Count  Dtype\n",
      "---  ------      --------------  -----\n",
      " 0   visitor_id  973 non-null    int64\n",
      " 1   orders      973 non-null    int64\n",
      "dtypes: int64(2)\n",
      "memory usage: 22.8 KB\n"
     ]
    },
    {
     "data": {
      "text/plain": [
       "None"
      ]
     },
     "metadata": {},
     "output_type": "display_data"
    }
   ],
   "source": [
    "#группировка заказов по пользователям\n",
    "orders_by_visitors = orders.groupby('visitor_id', as_index=False).agg({'transaction_id': 'nunique'})\n",
    "orders_by_visitors.columns = ['visitor_id', 'orders']\n",
    "display(orders_by_visitors.head())\n",
    "display(orders_by_visitors.info())"
   ]
  },
  {
   "cell_type": "code",
   "execution_count": 38,
   "metadata": {},
   "outputs": [
    {
     "data": {
      "text/plain": [
       "Text(0, 0.5, 'Заказы')"
      ]
     },
     "execution_count": 38,
     "metadata": {},
     "output_type": "execute_result"
    },
    {
     "data": {
      "image/png": "[encoded data removed]",
      "text/plain": [
       "<Figure size 1512x576 with 1 Axes>"
      ]
     },
     "metadata": {
      "needs_background": "light"
     },
     "output_type": "display_data"
    }
   ],
   "source": [
    "#точечный график\n",
    "x_values = pd.Series(range(0,len(orders_by_visitors)))\n",
    "\n",
    "plt.figure(figsize=(21, 8))\n",
    "plt.scatter(x_values, orders_by_visitors['orders'], alpha=0.5)\n",
    "plt.grid(True)\n",
    "plt.title('Точечный график количества заказов по пользователям', fontsize=15)\n",
    "plt.xlabel('Пользователи', fontsize=14)\n",
    "plt.ylabel('Заказы', fontsize=14)"
   ]
  },
  {
   "cell_type": "code",
   "execution_count": 39,
   "metadata": {},
   "outputs": [
    {
     "data": {
      "text/plain": [
       "count    973.000000\n",
       "mean       1.044193\n",
       "std        0.238090\n",
       "min        1.000000\n",
       "25%        1.000000\n",
       "50%        1.000000\n",
       "75%        1.000000\n",
       "max        3.000000\n",
       "Name: orders, dtype: float64"
      ]
     },
     "metadata": {},
     "output_type": "display_data"
    }
   ],
   "source": [
    "display(orders_by_visitors['orders'].describe())"
   ]
  },
  {
   "cell_type": "markdown",
   "metadata": {},
   "source": [
    "**Промежуточный итог:**  \n",
    "График и описание показывают что почти все покупатели заказывали 1 раз, но имеются сведения и о тех кто совершал 2 и 3 покупки. "
   ]
  },
  {
   "cell_type": "markdown",
   "metadata": {},
   "source": [
    "### 95-й и 99-й перцентили количества заказов на пользователя. Граница для определения аномальных пользователей."
   ]
  },
  {
   "cell_type": "code",
   "execution_count": 40,
   "metadata": {},
   "outputs": [
    {
     "data": {
      "text/plain": [
       "array([1., 2.])"
      ]
     },
     "execution_count": 40,
     "metadata": {},
     "output_type": "execute_result"
    }
   ],
   "source": [
    "np.percentile(orders_by_visitors['orders'], [95, 99])"
   ]
  },
  {
   "cell_type": "markdown",
   "metadata": {},
   "source": [
    "**Промежуточный итог:**  \n",
    "Не более 5% заказывали больше 1 раза. И не более 1% закалывали больше 2 раз. \n",
    "Выберем не больше 1 заказа на одного пользователя за границу количества заказов на пользователя. "
   ]
  },
  {
   "cell_type": "markdown",
   "metadata": {},
   "source": [
    "### Точечный график стоимостей заказов."
   ]
  },
  {
   "cell_type": "code",
   "execution_count": 41,
   "metadata": {},
   "outputs": [
    {
     "data": {
      "text/plain": [
       "Text(0, 0.5, 'Заказы')"
      ]
     },
     "execution_count": 41,
     "metadata": {},
     "output_type": "execute_result"
    },
    {
     "data": {
      "image/png": "[encoded data removed]",
      "text/plain": [
       "<Figure size 1512x576 with 1 Axes>"
      ]
     },
     "metadata": {
      "needs_background": "light"
     },
     "output_type": "display_data"
    }
   ],
   "source": [
    "#точечный график  \n",
    "x_values = pd.Series(range(0,len(orders['revenue'])))\n",
    "\n",
    "plt.figure(figsize=(21,8))\n",
    "plt.scatter(x_values, orders['revenue'], alpha=0.5)\n",
    "plt.grid(True)\n",
    "plt.title('Точечный график стоимостей заказов')\n",
    "plt.xlabel('Пользователи', fontsize=14)\n",
    "plt.ylabel('Заказы', fontsize=14)"
   ]
  },
  {
   "cell_type": "markdown",
   "metadata": {},
   "source": [
    "**Промежуточный итог:**  \n",
    "График без установления границ по вертикали не отображает должным образом необходимую информацию, т.к. мешают выбросы. Перестроим график после установления 95 и 99 персентиля. "
   ]
  },
  {
   "cell_type": "markdown",
   "metadata": {},
   "source": [
    "### 95-й и 99-й перцентили стоимости заказов. Граница для определения аномальных заказов."
   ]
  },
  {
   "cell_type": "code",
   "execution_count": 42,
   "metadata": {},
   "outputs": [
    {
     "name": "stdout",
     "output_type": "stream",
     "text": [
      "95 перцентиль = 26785.0 . 99 перцентиль = 53904.0\n"
     ]
    }
   ],
   "source": [
    "# посчитаем выборочные перцентили стоимости заказов\n",
    "percent_95_99 = np.percentile(orders['revenue'], [95, 99])\n",
    "print('95 перцентиль = {} . 99 перцентиль = {}'.format(percent_95_99[0], percent_95_99[1]))"
   ]
  },
  {
   "cell_type": "code",
   "execution_count": 43,
   "metadata": {},
   "outputs": [
    {
     "data": {
      "text/plain": [
       "58"
      ]
     },
     "execution_count": 43,
     "metadata": {},
     "output_type": "execute_result"
    }
   ],
   "source": [
    "out_users_id = pd.concat([orders_by_visitors[orders_by_visitors['orders'] >=3]['visitor_id'], \\\n",
    "           orders[orders['revenue'] >= percent_95_99[0]]['visitor_id']], axis = 0).drop_duplicates()\n",
    "len(out_users_id)"
   ]
  },
  {
   "cell_type": "code",
   "execution_count": 44,
   "metadata": {},
   "outputs": [
    {
     "data": {
      "text/plain": [
       "(0.0, 54000.0)"
      ]
     },
     "execution_count": 44,
     "metadata": {},
     "output_type": "execute_result"
    },
    {
     "data": {
      "image/png": "[encoded data removed]",
      "text/plain": [
       "<Figure size 1512x576 with 1 Axes>"
      ]
     },
     "metadata": {
      "needs_background": "light"
     },
     "output_type": "display_data"
    }
   ],
   "source": [
    "#точечный график  \n",
    "x_values = pd.Series(range(0,len(orders['revenue'])))\n",
    "\n",
    "plt.figure(figsize=(21,8))\n",
    "plt.scatter(x_values, orders['revenue'], alpha=0.5)\n",
    "plt.grid(True)\n",
    "plt.title('Точечный график стоимостей заказов с лимитом до 99 персентиля')\n",
    "plt.xlabel('Пользователи', fontsize=14)\n",
    "plt.ylabel('Заказы', fontsize=14)\n",
    "plt.ylim([0, 54000])#лимит до 54000, по 99 персентилю."
   ]
  },
  {
   "cell_type": "markdown",
   "metadata": {},
   "source": [
    "**Промежуточный итог:**  \n",
    "Не более 5% покупателей имеют сумму заказа больше чем 26785. И не более 1% имеют сумму заказа больше чем 53904. Установим границу в 53904. И только 58 покупателей приобрели на более чем 53904.\n",
    "Имея эти данные мы смогли перестроить точечный график стоимостей заказов, установив лимит в 54000(просто округление 99-го персентиля). Теперь график более информативен.  \n",
    "Чем ниже стоимость заказа, тем их и больше, но распределение количества клиентов в разных диапазонах идёт равномерно."
   ]
  },
  {
   "cell_type": "markdown",
   "metadata": {},
   "source": [
    "### Итог по графикам.\n",
    "По графикам мы видели что в наблюдаемый период происходили различного рода выбросы и в основном происходил скачкообразный рост и стабилизация у группы В.\n",
    "Точечные графики и персентили продемонстрировали распределение покупок, так например выяснилось что менее 5% покупателей делают больше 2 покупок. А точечный график стоимостей заказов показал что 99% покупателей имеют сумму заказа менее чем 53904, но при это распределение количества клиентов идет равномерно. \n"
   ]
  },
  {
   "cell_type": "markdown",
   "metadata": {},
   "source": [
    "## Статистическая значимость.\n",
    "ЗДесь и далее:  \n",
    "H_0 - нулевая гипотеза : различия в выборках не являются статистически значимыми  \n",
    "H_1 - альтернативная гипотеза : выборки различаются   \n",
    "alpha = 0.05  \n",
    "Используеться непараметрический тест Уилкоксона-Манна-Уитни"
   ]
  },
  {
   "cell_type": "markdown",
   "metadata": {},
   "source": [
    "### Cтатистическая значимость различий в среднем количестве заказов на посетителя между группами по «сырым» данным. "
   ]
  },
  {
   "cell_type": "code",
   "execution_count": 45,
   "metadata": {},
   "outputs": [],
   "source": [
    "#посчитаем количество заказов на покупателя в каждой группе\n",
    "orders_a_by_user = orders.query('group == \"A\"').groupby('visitor_id', as_index=False).agg({'transaction_id' : 'nunique'})\n",
    "orders_a_by_user.columns = ['visitor_id_a', 'n_orders']\n",
    "\n",
    "orders_b_by_user = orders.query('group == \"B\"').groupby('visitor_id', as_index=False).agg({'transaction_id' : 'nunique'})\n",
    "orders_b_by_user.columns = ['visitor_id_b', 'n_orders']\n",
    "\n",
    "# соеденим их\n",
    "sample_a = pd.concat([orders_a_by_user['n_orders'] ,\\\n",
    "pd.Series(0, index = np.arange(visitors.query('group == \"A\"')['visitors'].sum() - len(orders_a_by_user)))],axis = 0 )\n",
    "\n",
    "sample_b = pd.concat([orders_b_by_user['n_orders'] ,\\\n",
    "pd.Series(0, index = np.arange(visitors.query('group == \"B\"')['visitors'].sum() - len(orders_b_by_user)))], axis = 0)"
   ]
  },
  {
   "cell_type": "code",
   "execution_count": 46,
   "metadata": {},
   "outputs": [
    {
     "name": "stdout",
     "output_type": "stream",
     "text": [
      "Различие : 16.0%\n",
      "P-value = 0.011\n"
     ]
    }
   ],
   "source": [
    "#проверяем\n",
    "alpha = 0.05\n",
    "\n",
    "print('Различие : {0:.1%}'.format(sample_b.mean() / sample_a.mean() - 1))\n",
    "print('P-value = {0:.3f}'.format(st.mannwhitneyu(sample_a, sample_b)[1]))"
   ]
  },
  {
   "cell_type": "markdown",
   "metadata": {},
   "source": [
    "**Промежуточный итог:**  \n",
    "(P-value = 0.011)<(alpha = 0.05), нулевая гипотеза отвергнута, выборки различаются.  \n",
    "Сырые данные говорят, что между группами есть статистически значимые различия в 16%. "
   ]
  },
  {
   "cell_type": "markdown",
   "metadata": {},
   "source": [
    "### Cтатистическая значимость различий в среднем чеке заказа между группами по «сырым» данным"
   ]
  },
  {
   "cell_type": "code",
   "execution_count": 47,
   "metadata": {},
   "outputs": [
    {
     "name": "stdout",
     "output_type": "stream",
     "text": [
      "Различие: 28.7%\n",
      "P-value: 0.829\n"
     ]
    }
   ],
   "source": [
    "print('Различие:', '{0:.1%}'.format(orders[orders['group']=='B']['revenue'].mean()/orders[orders['group']=='A']['revenue'].mean()-1))\n",
    "print('P-value:', '{0:.3f}'.format(st.mannwhitneyu(orders[orders['group']=='A']['revenue'], orders[orders['group']=='B']['revenue'])[1]))"
   ]
  },
  {
   "cell_type": "markdown",
   "metadata": {},
   "source": [
    "**Промежуточный итог:**  \n",
    "(P-value = 0.829)>(alpha = 0.05), нельзя отвергнуть нулевую гипотезу, различия в выборках не являются статистически значимыми.    \n",
    "Сырые данные говорят о том что имееться различие в 28.7%, но P-value не дает говорить о значимости отличий. "
   ]
  },
  {
   "cell_type": "markdown",
   "metadata": {},
   "source": [
    "### Cтатистическая значимость различий в среднем количестве заказов на посетителя между группами по «очищенным» данным."
   ]
  },
  {
   "cell_type": "code",
   "execution_count": 48,
   "metadata": {},
   "outputs": [],
   "source": [
    "# фильтр \"очистки\" пользователей\n",
    "orders_filtr = orders[np.logical_not(orders['visitor_id'].isin(out_users_id))]\n",
    "\n",
    "# Посчитаем количество заказов на покупателя в каждой группе\n",
    "orders_a_by_user = orders_filtr.query('group == \"A\"').groupby('visitor_id', as_index=False).agg({'transaction_id' : 'nunique'})\n",
    "orders_a_by_user.columns = ['visitor_id_a', 'n_orders']\n",
    "\n",
    "orders_b_by_user = orders_filtr.query('group == \"B\"').groupby('visitor_id', as_index=False).agg({'transaction_id' : 'nunique'})\n",
    "orders_b_by_user.columns = ['visitor_id_b', 'n_orders']\n",
    "\n",
    "#объединяем\n",
    "sample_a = pd.concat([orders_a_by_user['n_orders'] ,\\\n",
    "pd.Series(0, index = np.arange(visitors.query('group == \"A\"')['visitors'].sum() - len(orders_a_by_user)))],axis = 0 )\n",
    "\n",
    "sample_b = pd.concat([orders_b_by_user['n_orders'] ,\\\n",
    "pd.Series(0, index = np.arange(visitors.query('group == \"B\"')['visitors'].sum() - len(orders_b_by_user)))], axis = 0)"
   ]
  },
  {
   "cell_type": "code",
   "execution_count": 49,
   "metadata": {},
   "outputs": [
    {
     "name": "stdout",
     "output_type": "stream",
     "text": [
      "Различие : 18.2%\n",
      "P-value = 0.012\n"
     ]
    }
   ],
   "source": [
    "#проверяем\n",
    "alpha = 0.05\n",
    "\n",
    "print('Различие : {0:.1%}'.format(sample_b.mean() / sample_a.mean() - 1))\n",
    "print('P-value = {0:.3f}'.format(st.mannwhitneyu(sample_a, sample_b)[1]))"
   ]
  },
  {
   "cell_type": "markdown",
   "metadata": {},
   "source": [
    "**Промежуточный итог:**\n",
    "(P-value = 0.012)<(alpha = 0.05), нулевая гипотеза отвергнута, выборки различаются. P-value немного вырос в сравнении с \"сырыми\" данными.  \n",
    "Очищенные данные говорят, что между группами есть статистически значимые различия в 18.2%, что уже на 2,2% выше чем с \"сырыми\" данными."
   ]
  },
  {
   "cell_type": "markdown",
   "metadata": {},
   "source": [
    "### Статистическая значимость различий в среднем чеке заказа между группами по «очищенным» данным."
   ]
  },
  {
   "cell_type": "code",
   "execution_count": 50,
   "metadata": {},
   "outputs": [],
   "source": [
    "clean_orders_a = orders[np.logical_not(orders['visitor_id'].isin(out_users_id))].query('group == \"A\"')\n",
    "clean_orders_b = orders[np.logical_not(orders['visitor_id'].isin(out_users_id))].query('group == \"B\"')"
   ]
  },
  {
   "cell_type": "code",
   "execution_count": 51,
   "metadata": {},
   "outputs": [
    {
     "name": "stdout",
     "output_type": "stream",
     "text": [
      "Различие : 5.1%\n",
      "p-value = 0.646\n"
     ]
    }
   ],
   "source": [
    "print('Различие : {0:.1%}'.format(clean_orders_a['revenue'].mean() /clean_orders_b['revenue'].mean() - 1))\n",
    "print('p-value = {0:.3f}'.format(st.mannwhitneyu(clean_orders_a['revenue'],clean_orders_b['revenue'])[1]))"
   ]
  },
  {
   "cell_type": "markdown",
   "metadata": {},
   "source": [
    "**Промежуточный итог:**  \n",
    "(P-value = 0.646)>(alpha = 0.05), нельзя отвергнуть нулевую гипотезу, различия в выборках не являются статистически значимыми, хоть и P-value значительно снизилась (было 0.829) \n",
    "\n",
    "Очищенные данные говорят о том что имееться различие в 5.1%, что сильно меньше чем при \"сырых\" данных (28.7%). "
   ]
  },
  {
   "cell_type": "markdown",
   "metadata": {},
   "source": [
    "## Выводы исследования.\n",
    "\n",
    "На основании данных, предоставленных маркетинговым отделом интернет-магазина был проведено исследование с использованием двух метрик ICE и RICE.\n",
    "Наиболее приоритетными по метрике ICE, выглядят гипотезы:\n",
    "\n",
    "- Запуск акции, дающую скидку на товар в день рождения\n",
    "- Добавление двух новых каналов привлечения трафика, что позволит привлекать на 30% больше пользователей\n",
    "- Добавление формы подписки на все основные страницы, чтобы собрать базу клиентов для email-рассылок\n",
    "\n",
    "А наилучшими гипотезами по методике RICE(отличие в нацеленности на охват аудитории) стали:\n",
    "\n",
    "- Добавить форму подписки на все основные страницы, чтобы собрать базу клиентов для email-рассылок\n",
    "- Добавить блоки рекомендаций товаров на сайт интернет магазина, чтобы повысить конверсию и средний чек заказа\n",
    "- Добавить два новых канала привлечения трафика, что позволит привлекать на 30% больше пользователей\n",
    "\n",
    "**При перекрестной оценке наиболее приоритетными гипотезами становятся:**\n",
    "\n",
    "- Добавить форму подписки на все основные страницы, чтобы собрать базу клиентов для email-рассылок\n",
    "- Добавить два новых канала привлечения трафика, что позволит привлекать на 30% больше пользователей\n",
    "А также, ввиду неплохих результатов по обеим метрикам, считаю возможным добавить в приоритеты гипотезу:\n",
    "\n",
    "- Показать на главной странице баннеры с актуальными акциями и распродажами, чтобы увеличить конверсию\n",
    "\n",
    "В части А\\Б теста:\n",
    "\n",
    "- имеются различия в среднем количестве заказов как по \"сырым\"(16%) так и по \"очищенным\"(18.2%) данным. Группа В показывает себя лучше в изучаемый период по росту среднего количества заказов на посетителя чем группа А. Также присутствие статистически значимых отличий в \"сырых\"((P-value = 0.011)<(alpha = 0.05)) и \"очищенных\"((P-value = 0.012)<(alpha = 0.05)) данных подтверждает непараметрический тест Уилкоксона-Манна-Уитни.\n",
    "- статистически значимых различий в среднем чеке заказа между группами непараметрическим тестом Уилкоксона-Манна-Уитни не обнаружено, как в \"сырых\"(P-value = 0.829)>(alpha = 0.05) так и в \"очищенных\"(P-value = 0.646)>(alpha = 0.05) данных. В сырых данных различие составляло 28.7%, а в \"очищенных\" 5.1%, что является огромной разницей, скорее всего были \"отфильтрованы\" немногочисленные, но самые \"дорогие\" покупатели из группы В. \n",
    "- *Исходя из вышеперечисленного, тест стоит остановить и признать успешным. Группа В показала себя лучше в росте среднего количества заказов на посетителя. В среднем чеке группы А и В показали себя одинаково*"
   ]
  }
 ],
 "metadata": {
  "ExecuteTimeLog": [
   {
    "duration": 1552,
    "start_time": "2023-03-13T15:24:01.204Z"
   },
   {
    "duration": 272,
    "start_time": "2023-03-13T15:24:32.909Z"
   },
   {
    "duration": 22,
    "start_time": "2023-03-13T15:27:08.870Z"
   },
   {
    "duration": 17,
    "start_time": "2023-03-13T15:28:56.419Z"
   },
   {
    "duration": 17,
    "start_time": "2023-03-13T15:31:40.805Z"
   },
   {
    "duration": 20,
    "start_time": "2023-03-13T15:32:45.037Z"
   },
   {
    "duration": 16,
    "start_time": "2023-03-13T15:33:00.980Z"
   },
   {
    "duration": 19,
    "start_time": "2023-03-13T15:34:45.946Z"
   },
   {
    "duration": 20,
    "start_time": "2023-03-13T15:34:55.210Z"
   },
   {
    "duration": 9,
    "start_time": "2023-03-13T15:42:56.006Z"
   },
   {
    "duration": 15,
    "start_time": "2023-03-13T15:47:10.743Z"
   },
   {
    "duration": 20,
    "start_time": "2023-03-13T15:48:46.543Z"
   },
   {
    "duration": 2,
    "start_time": "2023-03-13T15:50:41.076Z"
   },
   {
    "duration": 6,
    "start_time": "2023-03-13T15:50:43.972Z"
   },
   {
    "duration": 32,
    "start_time": "2023-03-13T15:51:17.505Z"
   },
   {
    "duration": 12,
    "start_time": "2023-03-13T15:55:00.606Z"
   },
   {
    "duration": 51,
    "start_time": "2023-03-14T04:52:24.828Z"
   },
   {
    "duration": 1312,
    "start_time": "2023-03-14T04:52:59.847Z"
   },
   {
    "duration": 227,
    "start_time": "2023-03-14T04:53:01.161Z"
   },
   {
    "duration": 20,
    "start_time": "2023-03-14T04:53:01.390Z"
   },
   {
    "duration": 53,
    "start_time": "2023-03-14T04:53:01.412Z"
   },
   {
    "duration": 102,
    "start_time": "2023-03-14T04:53:01.466Z"
   },
   {
    "duration": 45,
    "start_time": "2023-03-14T04:53:01.570Z"
   },
   {
    "duration": 86,
    "start_time": "2023-03-14T04:53:01.617Z"
   },
   {
    "duration": 43,
    "start_time": "2023-03-14T04:53:01.705Z"
   },
   {
    "duration": 68,
    "start_time": "2023-03-14T04:53:01.750Z"
   },
   {
    "duration": 67,
    "start_time": "2023-03-14T04:53:01.821Z"
   },
   {
    "duration": 36,
    "start_time": "2023-03-14T04:53:01.890Z"
   },
   {
    "duration": 47,
    "start_time": "2023-03-14T04:53:01.928Z"
   },
   {
    "duration": 120,
    "start_time": "2023-03-14T04:59:17.767Z"
   },
   {
    "duration": 8,
    "start_time": "2023-03-14T04:59:26.610Z"
   },
   {
    "duration": 8,
    "start_time": "2023-03-14T05:01:26.596Z"
   },
   {
    "duration": 4,
    "start_time": "2023-03-14T05:01:48.452Z"
   },
   {
    "duration": 5,
    "start_time": "2023-03-14T05:03:32.472Z"
   },
   {
    "duration": 11,
    "start_time": "2023-03-14T05:16:06.435Z"
   },
   {
    "duration": 7,
    "start_time": "2023-03-14T05:19:09.159Z"
   },
   {
    "duration": 1294,
    "start_time": "2023-03-14T05:19:46.352Z"
   },
   {
    "duration": 74,
    "start_time": "2023-03-14T05:19:47.649Z"
   },
   {
    "duration": 22,
    "start_time": "2023-03-14T05:19:47.725Z"
   },
   {
    "duration": 6,
    "start_time": "2023-03-14T05:19:47.749Z"
   },
   {
    "duration": 18,
    "start_time": "2023-03-14T05:19:47.757Z"
   },
   {
    "duration": 6,
    "start_time": "2023-03-14T05:19:47.777Z"
   },
   {
    "duration": 59,
    "start_time": "2023-03-14T05:19:47.785Z"
   },
   {
    "duration": 6,
    "start_time": "2023-03-14T05:19:47.846Z"
   },
   {
    "duration": 7,
    "start_time": "2023-03-14T05:19:47.854Z"
   },
   {
    "duration": 6,
    "start_time": "2023-03-14T05:19:47.864Z"
   },
   {
    "duration": 13,
    "start_time": "2023-03-14T05:19:47.871Z"
   },
   {
    "duration": 8,
    "start_time": "2023-03-14T05:19:47.886Z"
   },
   {
    "duration": 58,
    "start_time": "2023-03-14T05:19:47.896Z"
   },
   {
    "duration": 8,
    "start_time": "2023-03-14T05:19:47.956Z"
   },
   {
    "duration": 33,
    "start_time": "2023-03-14T05:19:47.967Z"
   },
   {
    "duration": 42,
    "start_time": "2023-03-14T05:19:48.001Z"
   },
   {
    "duration": 1313,
    "start_time": "2023-03-14T05:22:46.304Z"
   },
   {
    "duration": 73,
    "start_time": "2023-03-14T05:22:47.619Z"
   },
   {
    "duration": 22,
    "start_time": "2023-03-14T05:22:47.694Z"
   },
   {
    "duration": 6,
    "start_time": "2023-03-14T05:22:47.718Z"
   },
   {
    "duration": 19,
    "start_time": "2023-03-14T05:22:47.726Z"
   },
   {
    "duration": 6,
    "start_time": "2023-03-14T05:22:47.747Z"
   },
   {
    "duration": 8,
    "start_time": "2023-03-14T05:22:47.754Z"
   },
   {
    "duration": 4,
    "start_time": "2023-03-14T05:22:47.764Z"
   },
   {
    "duration": 17,
    "start_time": "2023-03-14T05:22:47.770Z"
   },
   {
    "duration": 9,
    "start_time": "2023-03-14T05:22:47.789Z"
   },
   {
    "duration": 44,
    "start_time": "2023-03-14T05:22:47.799Z"
   },
   {
    "duration": 7,
    "start_time": "2023-03-14T05:22:47.844Z"
   },
   {
    "duration": 11,
    "start_time": "2023-03-14T05:22:47.852Z"
   },
   {
    "duration": 7,
    "start_time": "2023-03-14T05:22:47.866Z"
   },
   {
    "duration": 22,
    "start_time": "2023-03-14T05:22:47.875Z"
   },
   {
    "duration": 49,
    "start_time": "2023-03-14T05:22:47.900Z"
   },
   {
    "duration": 21,
    "start_time": "2023-03-14T05:22:47.952Z"
   },
   {
    "duration": 9,
    "start_time": "2023-03-14T05:22:47.975Z"
   },
   {
    "duration": 116,
    "start_time": "2023-03-14T06:03:15.740Z"
   },
   {
    "duration": 10,
    "start_time": "2023-03-14T06:03:31.372Z"
   },
   {
    "duration": 22,
    "start_time": "2023-03-14T06:09:18.985Z"
   },
   {
    "duration": 23,
    "start_time": "2023-03-14T06:09:31.496Z"
   },
   {
    "duration": 23,
    "start_time": "2023-03-14T06:09:47.301Z"
   },
   {
    "duration": 28,
    "start_time": "2023-03-14T06:10:13.296Z"
   },
   {
    "duration": 19,
    "start_time": "2023-03-14T06:10:42.199Z"
   },
   {
    "duration": 14,
    "start_time": "2023-03-14T06:11:44.944Z"
   },
   {
    "duration": 6,
    "start_time": "2023-03-14T06:19:06.269Z"
   },
   {
    "duration": 6,
    "start_time": "2023-03-14T06:21:17.952Z"
   },
   {
    "duration": 22,
    "start_time": "2023-03-14T06:21:37.856Z"
   },
   {
    "duration": 1246,
    "start_time": "2023-03-14T06:35:14.529Z"
   },
   {
    "duration": 74,
    "start_time": "2023-03-14T06:35:15.778Z"
   },
   {
    "duration": 22,
    "start_time": "2023-03-14T06:35:15.853Z"
   },
   {
    "duration": 6,
    "start_time": "2023-03-14T06:35:15.878Z"
   },
   {
    "duration": 16,
    "start_time": "2023-03-14T06:35:15.886Z"
   },
   {
    "duration": 9,
    "start_time": "2023-03-14T06:35:15.904Z"
   },
   {
    "duration": 29,
    "start_time": "2023-03-14T06:35:15.915Z"
   },
   {
    "duration": 5,
    "start_time": "2023-03-14T06:35:15.946Z"
   },
   {
    "duration": 15,
    "start_time": "2023-03-14T06:35:15.952Z"
   },
   {
    "duration": 7,
    "start_time": "2023-03-14T06:35:15.971Z"
   },
   {
    "duration": 6,
    "start_time": "2023-03-14T06:35:15.979Z"
   },
   {
    "duration": 7,
    "start_time": "2023-03-14T06:35:15.987Z"
   },
   {
    "duration": 47,
    "start_time": "2023-03-14T06:35:15.996Z"
   },
   {
    "duration": 6,
    "start_time": "2023-03-14T06:35:16.045Z"
   },
   {
    "duration": 15,
    "start_time": "2023-03-14T06:35:16.053Z"
   },
   {
    "duration": 6,
    "start_time": "2023-03-14T06:35:16.070Z"
   },
   {
    "duration": 22,
    "start_time": "2023-03-14T06:35:16.077Z"
   },
   {
    "duration": 9,
    "start_time": "2023-03-14T06:35:16.140Z"
   },
   {
    "duration": 13,
    "start_time": "2023-03-14T06:35:16.151Z"
   },
   {
    "duration": 4,
    "start_time": "2023-03-14T06:35:16.166Z"
   },
   {
    "duration": 16,
    "start_time": "2023-03-14T06:35:16.172Z"
   },
   {
    "duration": 17,
    "start_time": "2023-03-14T06:39:55.668Z"
   },
   {
    "duration": 169,
    "start_time": "2023-03-14T06:44:31.012Z"
   },
   {
    "duration": 15,
    "start_time": "2023-03-14T06:46:06.489Z"
   },
   {
    "duration": 326,
    "start_time": "2023-03-14T06:46:31.864Z"
   },
   {
    "duration": 292,
    "start_time": "2023-03-14T06:48:41.101Z"
   },
   {
    "duration": 298,
    "start_time": "2023-03-14T06:48:53.537Z"
   },
   {
    "duration": 480,
    "start_time": "2023-03-14T06:49:17.617Z"
   },
   {
    "duration": 291,
    "start_time": "2023-03-14T06:49:34.453Z"
   },
   {
    "duration": 14,
    "start_time": "2023-03-14T07:00:22.636Z"
   },
   {
    "duration": 12,
    "start_time": "2023-03-14T07:01:48.753Z"
   },
   {
    "duration": 252,
    "start_time": "2023-03-14T07:02:05.756Z"
   },
   {
    "duration": 291,
    "start_time": "2023-03-14T07:39:52.895Z"
   },
   {
    "duration": 305,
    "start_time": "2023-03-14T07:43:43.801Z"
   },
   {
    "duration": 417,
    "start_time": "2023-03-14T07:44:01.870Z"
   },
   {
    "duration": 286,
    "start_time": "2023-03-14T07:45:28.965Z"
   },
   {
    "duration": 261,
    "start_time": "2023-03-14T07:46:15.369Z"
   },
   {
    "duration": 291,
    "start_time": "2023-03-14T07:47:11.906Z"
   },
   {
    "duration": 256,
    "start_time": "2023-03-14T07:49:21.366Z"
   },
   {
    "duration": 276,
    "start_time": "2023-03-14T07:49:39.846Z"
   },
   {
    "duration": 252,
    "start_time": "2023-03-14T07:54:15.491Z"
   },
   {
    "duration": 7,
    "start_time": "2023-03-14T08:07:26.029Z"
   },
   {
    "duration": 326,
    "start_time": "2023-03-14T08:08:34.138Z"
   },
   {
    "duration": 292,
    "start_time": "2023-03-14T08:08:42.022Z"
   },
   {
    "duration": 1275,
    "start_time": "2023-03-14T08:09:07.009Z"
   },
   {
    "duration": 72,
    "start_time": "2023-03-14T08:09:08.286Z"
   },
   {
    "duration": 21,
    "start_time": "2023-03-14T08:09:08.360Z"
   },
   {
    "duration": 6,
    "start_time": "2023-03-14T08:09:08.383Z"
   },
   {
    "duration": 19,
    "start_time": "2023-03-14T08:09:08.391Z"
   },
   {
    "duration": 13,
    "start_time": "2023-03-14T08:09:08.411Z"
   },
   {
    "duration": 23,
    "start_time": "2023-03-14T08:09:08.425Z"
   },
   {
    "duration": 6,
    "start_time": "2023-03-14T08:09:08.451Z"
   },
   {
    "duration": 17,
    "start_time": "2023-03-14T08:09:08.458Z"
   },
   {
    "duration": 13,
    "start_time": "2023-03-14T08:09:08.477Z"
   },
   {
    "duration": 12,
    "start_time": "2023-03-14T08:09:08.491Z"
   },
   {
    "duration": 9,
    "start_time": "2023-03-14T08:09:08.505Z"
   },
   {
    "duration": 29,
    "start_time": "2023-03-14T08:09:08.516Z"
   },
   {
    "duration": 9,
    "start_time": "2023-03-14T08:09:08.547Z"
   },
   {
    "duration": 22,
    "start_time": "2023-03-14T08:09:08.558Z"
   },
   {
    "duration": 7,
    "start_time": "2023-03-14T08:09:08.582Z"
   },
   {
    "duration": 53,
    "start_time": "2023-03-14T08:09:08.590Z"
   },
   {
    "duration": 9,
    "start_time": "2023-03-14T08:09:08.645Z"
   },
   {
    "duration": 14,
    "start_time": "2023-03-14T08:09:08.655Z"
   },
   {
    "duration": 5,
    "start_time": "2023-03-14T08:09:08.671Z"
   },
   {
    "duration": 15,
    "start_time": "2023-03-14T08:09:08.677Z"
   },
   {
    "duration": 47,
    "start_time": "2023-03-14T08:09:08.694Z"
   },
   {
    "duration": 307,
    "start_time": "2023-03-14T08:09:08.744Z"
   },
   {
    "duration": 12,
    "start_time": "2023-03-14T08:09:09.054Z"
   },
   {
    "duration": 300,
    "start_time": "2023-03-14T08:09:09.068Z"
   },
   {
    "duration": 309,
    "start_time": "2023-03-14T08:09:09.370Z"
   },
   {
    "duration": 6,
    "start_time": "2023-03-14T08:09:09.682Z"
   },
   {
    "duration": 378,
    "start_time": "2023-03-14T08:09:09.691Z"
   },
   {
    "duration": 292,
    "start_time": "2023-03-14T08:09:10.071Z"
   },
   {
    "duration": 274,
    "start_time": "2023-03-14T08:10:09.296Z"
   },
   {
    "duration": 297,
    "start_time": "2023-03-14T08:10:23.541Z"
   },
   {
    "duration": 262,
    "start_time": "2023-03-14T08:10:30.654Z"
   },
   {
    "duration": 363,
    "start_time": "2023-03-14T08:10:47.422Z"
   },
   {
    "duration": 7,
    "start_time": "2023-03-14T08:37:49.462Z"
   },
   {
    "duration": 1375,
    "start_time": "2023-03-14T08:37:51.995Z"
   },
   {
    "duration": 183,
    "start_time": "2023-03-14T08:39:15.639Z"
   },
   {
    "duration": 7,
    "start_time": "2023-03-14T08:43:12.322Z"
   },
   {
    "duration": 322,
    "start_time": "2023-03-14T08:43:15.244Z"
   },
   {
    "duration": 7,
    "start_time": "2023-03-14T08:44:15.844Z"
   },
   {
    "duration": 301,
    "start_time": "2023-03-14T08:45:04.657Z"
   },
   {
    "duration": 7,
    "start_time": "2023-03-14T08:45:40.390Z"
   },
   {
    "duration": 368,
    "start_time": "2023-03-14T08:50:48.139Z"
   },
   {
    "duration": 5,
    "start_time": "2023-03-14T09:04:48.525Z"
   },
   {
    "duration": 19,
    "start_time": "2023-03-14T09:05:14.439Z"
   },
   {
    "duration": 17,
    "start_time": "2023-03-14T09:05:37.901Z"
   },
   {
    "duration": 18,
    "start_time": "2023-03-14T09:05:54.030Z"
   },
   {
    "duration": 18,
    "start_time": "2023-03-14T09:07:02.215Z"
   },
   {
    "duration": 5,
    "start_time": "2023-03-14T09:09:40.261Z"
   },
   {
    "duration": 18,
    "start_time": "2023-03-14T09:11:17.198Z"
   },
   {
    "duration": 255,
    "start_time": "2023-03-14T09:11:34.057Z"
   },
   {
    "duration": 298,
    "start_time": "2023-03-14T09:12:52.140Z"
   },
   {
    "duration": 245,
    "start_time": "2023-03-14T09:13:40.700Z"
   },
   {
    "duration": 15,
    "start_time": "2023-03-14T09:22:33.041Z"
   },
   {
    "duration": 14,
    "start_time": "2023-03-14T09:25:57.947Z"
   },
   {
    "duration": 371,
    "start_time": "2023-03-14T09:26:21.511Z"
   },
   {
    "duration": 388,
    "start_time": "2023-03-14T09:26:44.064Z"
   },
   {
    "duration": 380,
    "start_time": "2023-03-14T09:26:56.006Z"
   },
   {
    "duration": 451,
    "start_time": "2023-03-14T09:27:09.566Z"
   },
   {
    "duration": 327,
    "start_time": "2023-03-14T09:28:22.678Z"
   },
   {
    "duration": 374,
    "start_time": "2023-03-14T09:32:55.114Z"
   },
   {
    "duration": 391,
    "start_time": "2023-03-14T09:33:06.936Z"
   },
   {
    "duration": 337,
    "start_time": "2023-03-14T09:35:45.673Z"
   },
   {
    "duration": 9,
    "start_time": "2023-03-14T09:49:59.264Z"
   },
   {
    "duration": 20,
    "start_time": "2023-03-14T09:50:28.699Z"
   },
   {
    "duration": 31,
    "start_time": "2023-03-14T09:51:14.298Z"
   },
   {
    "duration": 25,
    "start_time": "2023-03-14T09:51:45.815Z"
   },
   {
    "duration": 18,
    "start_time": "2023-03-14T09:52:19.161Z"
   },
   {
    "duration": 143,
    "start_time": "2023-03-14T09:54:01.303Z"
   },
   {
    "duration": 126,
    "start_time": "2023-03-14T09:54:03.517Z"
   },
   {
    "duration": 176,
    "start_time": "2023-03-14T09:55:02.667Z"
   },
   {
    "duration": 183,
    "start_time": "2023-03-14T09:55:17.861Z"
   },
   {
    "duration": 175,
    "start_time": "2023-03-14T09:55:23.795Z"
   },
   {
    "duration": 181,
    "start_time": "2023-03-14T09:55:28.677Z"
   },
   {
    "duration": 194,
    "start_time": "2023-03-14T09:55:44.436Z"
   },
   {
    "duration": 231,
    "start_time": "2023-03-14T09:55:57.503Z"
   },
   {
    "duration": 228,
    "start_time": "2023-03-14T09:56:03.899Z"
   },
   {
    "duration": 283,
    "start_time": "2023-03-14T09:56:14.169Z"
   },
   {
    "duration": 200,
    "start_time": "2023-03-14T09:57:26.002Z"
   },
   {
    "duration": 26,
    "start_time": "2023-03-14T09:59:44.675Z"
   },
   {
    "duration": 27,
    "start_time": "2023-03-14T09:59:57.840Z"
   },
   {
    "duration": 21,
    "start_time": "2023-03-14T10:00:48.428Z"
   },
   {
    "duration": 8,
    "start_time": "2023-03-14T10:00:53.838Z"
   },
   {
    "duration": 5,
    "start_time": "2023-03-14T10:10:06.205Z"
   },
   {
    "duration": 167,
    "start_time": "2023-03-14T10:35:07.022Z"
   },
   {
    "duration": 165,
    "start_time": "2023-03-14T10:35:38.042Z"
   },
   {
    "duration": 191,
    "start_time": "2023-03-14T10:36:45.060Z"
   },
   {
    "duration": 213,
    "start_time": "2023-03-14T10:38:16.004Z"
   },
   {
    "duration": 208,
    "start_time": "2023-03-14T10:40:00.295Z"
   },
   {
    "duration": 218,
    "start_time": "2023-03-14T10:40:10.635Z"
   },
   {
    "duration": 217,
    "start_time": "2023-03-14T10:40:47.894Z"
   },
   {
    "duration": 5,
    "start_time": "2023-03-14T10:42:50.498Z"
   },
   {
    "duration": 235,
    "start_time": "2023-03-14T10:45:27.771Z"
   },
   {
    "duration": 218,
    "start_time": "2023-03-14T10:45:51.009Z"
   },
   {
    "duration": 196,
    "start_time": "2023-03-14T10:46:40.305Z"
   },
   {
    "duration": 203,
    "start_time": "2023-03-14T10:47:03.804Z"
   },
   {
    "duration": 9,
    "start_time": "2023-03-14T10:50:52.551Z"
   },
   {
    "duration": 239,
    "start_time": "2023-03-14T10:51:26.913Z"
   },
   {
    "duration": 220,
    "start_time": "2023-03-14T11:27:40.851Z"
   },
   {
    "duration": 222,
    "start_time": "2023-03-14T11:28:05.739Z"
   },
   {
    "duration": 11,
    "start_time": "2023-03-14T11:28:28.494Z"
   },
   {
    "duration": 18,
    "start_time": "2023-03-14T12:54:23.311Z"
   },
   {
    "duration": 41,
    "start_time": "2023-03-14T12:55:28.300Z"
   },
   {
    "duration": 7,
    "start_time": "2023-03-14T12:55:55.678Z"
   },
   {
    "duration": 1311,
    "start_time": "2023-03-14T13:01:17.405Z"
   },
   {
    "duration": 63,
    "start_time": "2023-03-14T13:01:18.718Z"
   },
   {
    "duration": 20,
    "start_time": "2023-03-14T13:01:18.783Z"
   },
   {
    "duration": 9,
    "start_time": "2023-03-14T13:01:18.805Z"
   },
   {
    "duration": 32,
    "start_time": "2023-03-14T13:01:18.817Z"
   },
   {
    "duration": 10,
    "start_time": "2023-03-14T13:01:18.851Z"
   },
   {
    "duration": 11,
    "start_time": "2023-03-14T13:01:18.862Z"
   },
   {
    "duration": 6,
    "start_time": "2023-03-14T13:01:18.875Z"
   },
   {
    "duration": 18,
    "start_time": "2023-03-14T13:01:18.882Z"
   },
   {
    "duration": 8,
    "start_time": "2023-03-14T13:01:18.902Z"
   },
   {
    "duration": 5,
    "start_time": "2023-03-14T13:01:18.942Z"
   },
   {
    "duration": 6,
    "start_time": "2023-03-14T13:01:18.949Z"
   },
   {
    "duration": 10,
    "start_time": "2023-03-14T13:01:18.957Z"
   },
   {
    "duration": 6,
    "start_time": "2023-03-14T13:01:18.971Z"
   },
   {
    "duration": 16,
    "start_time": "2023-03-14T13:01:18.978Z"
   },
   {
    "duration": 47,
    "start_time": "2023-03-14T13:01:18.996Z"
   },
   {
    "duration": 28,
    "start_time": "2023-03-14T13:01:19.045Z"
   },
   {
    "duration": 9,
    "start_time": "2023-03-14T13:01:19.074Z"
   },
   {
    "duration": 14,
    "start_time": "2023-03-14T13:01:19.085Z"
   },
   {
    "duration": 40,
    "start_time": "2023-03-14T13:01:19.101Z"
   },
   {
    "duration": 15,
    "start_time": "2023-03-14T13:01:19.143Z"
   },
   {
    "duration": 19,
    "start_time": "2023-03-14T13:01:19.159Z"
   },
   {
    "duration": 342,
    "start_time": "2023-03-14T13:01:19.180Z"
   },
   {
    "duration": 22,
    "start_time": "2023-03-14T13:01:19.524Z"
   },
   {
    "duration": 291,
    "start_time": "2023-03-14T13:01:19.548Z"
   },
   {
    "duration": 311,
    "start_time": "2023-03-14T13:01:19.842Z"
   },
   {
    "duration": 16,
    "start_time": "2023-03-14T13:01:20.155Z"
   },
   {
    "duration": 359,
    "start_time": "2023-03-14T13:01:20.172Z"
   },
   {
    "duration": 294,
    "start_time": "2023-03-14T13:01:20.533Z"
   },
   {
    "duration": 18,
    "start_time": "2023-03-14T13:01:20.829Z"
   },
   {
    "duration": 368,
    "start_time": "2023-03-14T13:01:20.849Z"
   },
   {
    "duration": 21,
    "start_time": "2023-03-14T13:01:21.220Z"
   },
   {
    "duration": 20,
    "start_time": "2023-03-14T13:01:21.243Z"
   },
   {
    "duration": 326,
    "start_time": "2023-03-14T13:01:21.264Z"
   },
   {
    "duration": 14,
    "start_time": "2023-03-14T13:01:21.592Z"
   },
   {
    "duration": 392,
    "start_time": "2023-03-14T13:01:21.607Z"
   },
   {
    "duration": 24,
    "start_time": "2023-03-14T13:01:22.002Z"
   },
   {
    "duration": 330,
    "start_time": "2023-03-14T13:01:22.027Z"
   },
   {
    "duration": 8,
    "start_time": "2023-03-14T13:01:22.359Z"
   },
   {
    "duration": 8,
    "start_time": "2023-03-14T13:01:22.369Z"
   },
   {
    "duration": 222,
    "start_time": "2023-03-14T13:01:22.380Z"
   },
   {
    "duration": 5,
    "start_time": "2023-03-14T13:01:22.603Z"
   },
   {
    "duration": 226,
    "start_time": "2023-03-14T13:01:22.611Z"
   },
   {
    "duration": 12,
    "start_time": "2023-03-14T13:03:38.309Z"
   },
   {
    "duration": 131,
    "start_time": "2023-03-14T13:08:06.522Z"
   },
   {
    "duration": 36,
    "start_time": "2023-03-14T13:08:31.306Z"
   },
   {
    "duration": 36,
    "start_time": "2023-03-14T13:09:52.255Z"
   },
   {
    "duration": 4,
    "start_time": "2023-03-14T13:23:10.448Z"
   },
   {
    "duration": 4,
    "start_time": "2023-03-14T13:23:53.559Z"
   },
   {
    "duration": 10,
    "start_time": "2023-03-14T13:24:20.522Z"
   },
   {
    "duration": 15,
    "start_time": "2023-03-14T13:24:32.716Z"
   },
   {
    "duration": 16,
    "start_time": "2023-03-14T13:24:47.313Z"
   },
   {
    "duration": 13,
    "start_time": "2023-03-14T13:26:01.645Z"
   },
   {
    "duration": 11,
    "start_time": "2023-03-14T13:28:17.967Z"
   },
   {
    "duration": 20,
    "start_time": "2023-03-14T13:43:03.007Z"
   },
   {
    "duration": 24,
    "start_time": "2023-03-14T13:43:33.518Z"
   },
   {
    "duration": 20,
    "start_time": "2023-03-14T13:44:03.249Z"
   },
   {
    "duration": 26,
    "start_time": "2023-03-14T13:48:37.857Z"
   },
   {
    "duration": 10,
    "start_time": "2023-03-14T13:48:38.722Z"
   },
   {
    "duration": 31,
    "start_time": "2023-03-14T13:48:57.657Z"
   },
   {
    "duration": 23,
    "start_time": "2023-03-14T13:49:29.721Z"
   },
   {
    "duration": 14,
    "start_time": "2023-03-14T14:03:27.473Z"
   },
   {
    "duration": 10,
    "start_time": "2023-03-14T14:04:53.676Z"
   },
   {
    "duration": 2,
    "start_time": "2023-03-14T14:15:34.951Z"
   },
   {
    "duration": 14,
    "start_time": "2023-03-14T14:16:31.913Z"
   },
   {
    "duration": 121,
    "start_time": "2023-03-14T14:18:34.865Z"
   },
   {
    "duration": 8,
    "start_time": "2023-03-14T14:19:17.714Z"
   },
   {
    "duration": 152,
    "start_time": "2023-03-14T14:20:19.502Z"
   },
   {
    "duration": 1200,
    "start_time": "2023-03-14T14:20:24.881Z"
   },
   {
    "duration": 63,
    "start_time": "2023-03-14T14:20:26.083Z"
   },
   {
    "duration": 21,
    "start_time": "2023-03-14T14:20:26.148Z"
   },
   {
    "duration": 51,
    "start_time": "2023-03-14T14:20:26.171Z"
   },
   {
    "duration": 41,
    "start_time": "2023-03-14T14:20:26.223Z"
   },
   {
    "duration": 79,
    "start_time": "2023-03-14T14:20:26.265Z"
   },
   {
    "duration": 40,
    "start_time": "2023-03-14T14:20:26.346Z"
   },
   {
    "duration": 70,
    "start_time": "2023-03-14T14:20:26.388Z"
   },
   {
    "duration": 41,
    "start_time": "2023-03-14T14:20:26.459Z"
   },
   {
    "duration": 22,
    "start_time": "2023-03-14T14:20:26.503Z"
   },
   {
    "duration": 49,
    "start_time": "2023-03-14T14:20:26.526Z"
   },
   {
    "duration": 58,
    "start_time": "2023-03-14T14:20:26.576Z"
   },
   {
    "duration": 76,
    "start_time": "2023-03-14T14:20:26.636Z"
   },
   {
    "duration": 48,
    "start_time": "2023-03-14T14:20:26.714Z"
   },
   {
    "duration": 43,
    "start_time": "2023-03-14T14:20:26.764Z"
   },
   {
    "duration": 28,
    "start_time": "2023-03-14T14:20:26.808Z"
   },
   {
    "duration": 61,
    "start_time": "2023-03-14T14:20:26.838Z"
   },
   {
    "duration": 40,
    "start_time": "2023-03-14T14:20:26.901Z"
   },
   {
    "duration": 119,
    "start_time": "2023-03-14T14:20:26.942Z"
   },
   {
    "duration": 73,
    "start_time": "2023-03-14T14:20:27.063Z"
   },
   {
    "duration": 52,
    "start_time": "2023-03-14T14:20:27.138Z"
   },
   {
    "duration": 82,
    "start_time": "2023-03-14T14:20:27.191Z"
   },
   {
    "duration": 414,
    "start_time": "2023-03-14T14:20:27.276Z"
   },
   {
    "duration": 14,
    "start_time": "2023-03-14T14:20:27.692Z"
   },
   {
    "duration": 358,
    "start_time": "2023-03-14T14:20:27.708Z"
   },
   {
    "duration": 302,
    "start_time": "2023-03-14T14:20:28.069Z"
   },
   {
    "duration": 14,
    "start_time": "2023-03-14T14:20:28.372Z"
   },
   {
    "duration": 321,
    "start_time": "2023-03-14T14:20:28.390Z"
   },
   {
    "duration": 279,
    "start_time": "2023-03-14T14:20:28.713Z"
   },
   {
    "duration": 12,
    "start_time": "2023-03-14T14:20:28.994Z"
   },
   {
    "duration": 396,
    "start_time": "2023-03-14T14:20:29.008Z"
   },
   {
    "duration": 13,
    "start_time": "2023-03-14T14:20:29.406Z"
   },
   {
    "duration": 35,
    "start_time": "2023-03-14T14:20:29.422Z"
   },
   {
    "duration": 326,
    "start_time": "2023-03-14T14:20:29.459Z"
   },
   {
    "duration": 17,
    "start_time": "2023-03-14T14:20:29.787Z"
   },
   {
    "duration": 353,
    "start_time": "2023-03-14T14:20:29.806Z"
   },
   {
    "duration": 20,
    "start_time": "2023-03-14T14:20:30.160Z"
   },
   {
    "duration": 322,
    "start_time": "2023-03-14T14:20:30.182Z"
   },
   {
    "duration": 9,
    "start_time": "2023-03-14T14:20:30.506Z"
   },
   {
    "duration": 33,
    "start_time": "2023-03-14T14:20:30.516Z"
   },
   {
    "duration": 227,
    "start_time": "2023-03-14T14:20:30.551Z"
   },
   {
    "duration": 5,
    "start_time": "2023-03-14T14:20:30.779Z"
   },
   {
    "duration": 267,
    "start_time": "2023-03-14T14:20:30.785Z"
   },
   {
    "duration": 21,
    "start_time": "2023-03-14T14:20:31.054Z"
   },
   {
    "duration": 58,
    "start_time": "2023-03-14T14:20:31.077Z"
   },
   {
    "duration": 20,
    "start_time": "2023-03-14T14:20:31.137Z"
   },
   {
    "duration": 152,
    "start_time": "2023-03-14T14:20:31.158Z"
   },
   {
    "duration": 29,
    "start_time": "2023-03-14T14:21:57.745Z"
   },
   {
    "duration": 11,
    "start_time": "2023-03-14T14:23:01.829Z"
   },
   {
    "duration": 1316,
    "start_time": "2023-03-14T14:23:07.149Z"
   },
   {
    "duration": 63,
    "start_time": "2023-03-14T14:23:08.467Z"
   },
   {
    "duration": 19,
    "start_time": "2023-03-14T14:23:08.532Z"
   },
   {
    "duration": 6,
    "start_time": "2023-03-14T14:23:08.554Z"
   },
   {
    "duration": 18,
    "start_time": "2023-03-14T14:23:08.562Z"
   },
   {
    "duration": 7,
    "start_time": "2023-03-14T14:23:08.582Z"
   },
   {
    "duration": 18,
    "start_time": "2023-03-14T14:23:08.591Z"
   },
   {
    "duration": 4,
    "start_time": "2023-03-14T14:23:08.611Z"
   },
   {
    "duration": 43,
    "start_time": "2023-03-14T14:23:08.616Z"
   },
   {
    "duration": 21,
    "start_time": "2023-03-14T14:23:08.661Z"
   },
   {
    "duration": 11,
    "start_time": "2023-03-14T14:23:08.684Z"
   },
   {
    "duration": 9,
    "start_time": "2023-03-14T14:23:08.697Z"
   },
   {
    "duration": 10,
    "start_time": "2023-03-14T14:23:08.708Z"
   },
   {
    "duration": 7,
    "start_time": "2023-03-14T14:23:08.721Z"
   },
   {
    "duration": 15,
    "start_time": "2023-03-14T14:23:08.741Z"
   },
   {
    "duration": 13,
    "start_time": "2023-03-14T14:23:08.758Z"
   },
   {
    "duration": 38,
    "start_time": "2023-03-14T14:23:08.773Z"
   },
   {
    "duration": 29,
    "start_time": "2023-03-14T14:23:08.812Z"
   },
   {
    "duration": 14,
    "start_time": "2023-03-14T14:23:08.843Z"
   },
   {
    "duration": 4,
    "start_time": "2023-03-14T14:23:08.859Z"
   },
   {
    "duration": 14,
    "start_time": "2023-03-14T14:23:08.866Z"
   },
   {
    "duration": 14,
    "start_time": "2023-03-14T14:23:08.882Z"
   },
   {
    "duration": 346,
    "start_time": "2023-03-14T14:23:08.898Z"
   },
   {
    "duration": 15,
    "start_time": "2023-03-14T14:23:09.245Z"
   },
   {
    "duration": 294,
    "start_time": "2023-03-14T14:23:09.262Z"
   },
   {
    "duration": 317,
    "start_time": "2023-03-14T14:23:09.558Z"
   },
   {
    "duration": 16,
    "start_time": "2023-03-14T14:23:09.876Z"
   },
   {
    "duration": 329,
    "start_time": "2023-03-14T14:23:09.893Z"
   },
   {
    "duration": 269,
    "start_time": "2023-03-14T14:23:10.224Z"
   },
   {
    "duration": 12,
    "start_time": "2023-03-14T14:23:10.495Z"
   },
   {
    "duration": 378,
    "start_time": "2023-03-14T14:23:10.508Z"
   },
   {
    "duration": 11,
    "start_time": "2023-03-14T14:23:10.887Z"
   },
   {
    "duration": 20,
    "start_time": "2023-03-14T14:23:10.899Z"
   },
   {
    "duration": 349,
    "start_time": "2023-03-14T14:23:10.921Z"
   },
   {
    "duration": 14,
    "start_time": "2023-03-14T14:23:11.272Z"
   },
   {
    "duration": 320,
    "start_time": "2023-03-14T14:23:11.288Z"
   },
   {
    "duration": 20,
    "start_time": "2023-03-14T14:23:11.609Z"
   },
   {
    "duration": 312,
    "start_time": "2023-03-14T14:23:11.641Z"
   },
   {
    "duration": 9,
    "start_time": "2023-03-14T14:23:11.955Z"
   },
   {
    "duration": 5,
    "start_time": "2023-03-14T14:23:11.966Z"
   },
   {
    "duration": 239,
    "start_time": "2023-03-14T14:23:11.974Z"
   },
   {
    "duration": 4,
    "start_time": "2023-03-14T14:23:12.215Z"
   },
   {
    "duration": 227,
    "start_time": "2023-03-14T14:23:12.221Z"
   },
   {
    "duration": 20,
    "start_time": "2023-03-14T14:23:12.449Z"
   },
   {
    "duration": 26,
    "start_time": "2023-03-14T14:23:12.470Z"
   },
   {
    "duration": 11,
    "start_time": "2023-03-14T14:23:12.497Z"
   },
   {
    "duration": 121,
    "start_time": "2023-03-14T14:23:12.510Z"
   },
   {
    "duration": 11,
    "start_time": "2023-03-14T14:23:45.710Z"
   },
   {
    "duration": 1129,
    "start_time": "2023-03-14T14:24:12.694Z"
   },
   {
    "duration": 11,
    "start_time": "2023-03-14T14:37:30.246Z"
   },
   {
    "duration": 187,
    "start_time": "2023-03-14T14:38:11.785Z"
   },
   {
    "duration": 1231,
    "start_time": "2023-03-14T14:39:39.636Z"
   },
   {
    "duration": 4,
    "start_time": "2023-03-14T14:44:36.522Z"
   },
   {
    "duration": 10,
    "start_time": "2023-03-14T14:47:25.077Z"
   },
   {
    "duration": 1249,
    "start_time": "2023-03-14T14:49:20.330Z"
   },
   {
    "duration": 1236,
    "start_time": "2023-03-14T14:49:32.322Z"
   },
   {
    "duration": 63,
    "start_time": "2023-03-14T14:49:33.560Z"
   },
   {
    "duration": 21,
    "start_time": "2023-03-14T14:49:33.625Z"
   },
   {
    "duration": 6,
    "start_time": "2023-03-14T14:49:33.647Z"
   },
   {
    "duration": 16,
    "start_time": "2023-03-14T14:49:33.655Z"
   },
   {
    "duration": 6,
    "start_time": "2023-03-14T14:49:33.673Z"
   },
   {
    "duration": 9,
    "start_time": "2023-03-14T14:49:33.681Z"
   },
   {
    "duration": 4,
    "start_time": "2023-03-14T14:49:33.692Z"
   },
   {
    "duration": 50,
    "start_time": "2023-03-14T14:49:33.698Z"
   },
   {
    "duration": 8,
    "start_time": "2023-03-14T14:49:33.749Z"
   },
   {
    "duration": 5,
    "start_time": "2023-03-14T14:49:33.759Z"
   },
   {
    "duration": 7,
    "start_time": "2023-03-14T14:49:33.765Z"
   },
   {
    "duration": 17,
    "start_time": "2023-03-14T14:49:33.774Z"
   },
   {
    "duration": 6,
    "start_time": "2023-03-14T14:49:33.794Z"
   },
   {
    "duration": 45,
    "start_time": "2023-03-14T14:49:33.802Z"
   },
   {
    "duration": 6,
    "start_time": "2023-03-14T14:49:33.848Z"
   },
   {
    "duration": 22,
    "start_time": "2023-03-14T14:49:33.855Z"
   },
   {
    "duration": 9,
    "start_time": "2023-03-14T14:49:33.879Z"
   },
   {
    "duration": 17,
    "start_time": "2023-03-14T14:49:33.890Z"
   },
   {
    "duration": 4,
    "start_time": "2023-03-14T14:49:33.942Z"
   },
   {
    "duration": 15,
    "start_time": "2023-03-14T14:49:33.948Z"
   },
   {
    "duration": 13,
    "start_time": "2023-03-14T14:49:33.965Z"
   },
   {
    "duration": 352,
    "start_time": "2023-03-14T14:49:33.980Z"
   },
   {
    "duration": 16,
    "start_time": "2023-03-14T14:49:34.334Z"
   },
   {
    "duration": 274,
    "start_time": "2023-03-14T14:49:34.352Z"
   },
   {
    "duration": 299,
    "start_time": "2023-03-14T14:49:34.628Z"
   },
   {
    "duration": 18,
    "start_time": "2023-03-14T14:49:34.929Z"
   },
   {
    "duration": 326,
    "start_time": "2023-03-14T14:49:34.949Z"
   },
   {
    "duration": 268,
    "start_time": "2023-03-14T14:49:35.276Z"
   },
   {
    "duration": 12,
    "start_time": "2023-03-14T14:49:35.546Z"
   },
   {
    "duration": 345,
    "start_time": "2023-03-14T14:49:35.559Z"
   },
   {
    "duration": 11,
    "start_time": "2023-03-14T14:49:35.905Z"
   },
   {
    "duration": 33,
    "start_time": "2023-03-14T14:49:35.918Z"
   },
   {
    "duration": 313,
    "start_time": "2023-03-14T14:49:35.953Z"
   },
   {
    "duration": 14,
    "start_time": "2023-03-14T14:49:36.268Z"
   },
   {
    "duration": 325,
    "start_time": "2023-03-14T14:49:36.283Z"
   },
   {
    "duration": 21,
    "start_time": "2023-03-14T14:49:36.610Z"
   },
   {
    "duration": 315,
    "start_time": "2023-03-14T14:49:36.642Z"
   },
   {
    "duration": 9,
    "start_time": "2023-03-14T14:49:36.960Z"
   },
   {
    "duration": 6,
    "start_time": "2023-03-14T14:49:36.971Z"
   },
   {
    "duration": 231,
    "start_time": "2023-03-14T14:49:36.981Z"
   },
   {
    "duration": 4,
    "start_time": "2023-03-14T14:49:37.214Z"
   },
   {
    "duration": 236,
    "start_time": "2023-03-14T14:49:37.220Z"
   },
   {
    "duration": 1335,
    "start_time": "2023-03-14T14:49:37.457Z"
   },
   {
    "duration": 0,
    "start_time": "2023-03-14T14:49:38.794Z"
   },
   {
    "duration": 0,
    "start_time": "2023-03-14T14:49:38.795Z"
   },
   {
    "duration": 0,
    "start_time": "2023-03-14T14:49:38.796Z"
   },
   {
    "duration": 0,
    "start_time": "2023-03-14T14:49:38.797Z"
   },
   {
    "duration": 1205,
    "start_time": "2023-03-14T14:51:50.147Z"
   },
   {
    "duration": 6,
    "start_time": "2023-03-14T14:52:06.131Z"
   },
   {
    "duration": 24,
    "start_time": "2023-03-14T14:57:22.834Z"
   },
   {
    "duration": 19,
    "start_time": "2023-03-14T14:58:50.150Z"
   },
   {
    "duration": 1206,
    "start_time": "2023-03-14T14:59:00.964Z"
   },
   {
    "duration": 62,
    "start_time": "2023-03-14T14:59:02.172Z"
   },
   {
    "duration": 22,
    "start_time": "2023-03-14T14:59:02.236Z"
   },
   {
    "duration": 18,
    "start_time": "2023-03-14T14:59:02.260Z"
   },
   {
    "duration": 38,
    "start_time": "2023-03-14T14:59:02.281Z"
   },
   {
    "duration": 18,
    "start_time": "2023-03-14T14:59:02.320Z"
   },
   {
    "duration": 17,
    "start_time": "2023-03-14T14:59:02.340Z"
   },
   {
    "duration": 15,
    "start_time": "2023-03-14T14:59:02.359Z"
   },
   {
    "duration": 25,
    "start_time": "2023-03-14T14:59:02.375Z"
   },
   {
    "duration": 17,
    "start_time": "2023-03-14T14:59:02.402Z"
   },
   {
    "duration": 21,
    "start_time": "2023-03-14T14:59:02.421Z"
   },
   {
    "duration": 17,
    "start_time": "2023-03-14T14:59:02.444Z"
   },
   {
    "duration": 24,
    "start_time": "2023-03-14T14:59:02.463Z"
   },
   {
    "duration": 9,
    "start_time": "2023-03-14T14:59:02.490Z"
   },
   {
    "duration": 15,
    "start_time": "2023-03-14T14:59:02.501Z"
   },
   {
    "duration": 7,
    "start_time": "2023-03-14T14:59:02.517Z"
   },
   {
    "duration": 48,
    "start_time": "2023-03-14T14:59:02.525Z"
   },
   {
    "duration": 7,
    "start_time": "2023-03-14T14:59:02.575Z"
   },
   {
    "duration": 20,
    "start_time": "2023-03-14T14:59:02.584Z"
   },
   {
    "duration": 4,
    "start_time": "2023-03-14T14:59:02.606Z"
   },
   {
    "duration": 18,
    "start_time": "2023-03-14T14:59:02.612Z"
   },
   {
    "duration": 31,
    "start_time": "2023-03-14T14:59:02.632Z"
   },
   {
    "duration": 291,
    "start_time": "2023-03-14T14:59:02.665Z"
   },
   {
    "duration": 11,
    "start_time": "2023-03-14T14:59:02.957Z"
   },
   {
    "duration": 271,
    "start_time": "2023-03-14T14:59:02.970Z"
   },
   {
    "duration": 290,
    "start_time": "2023-03-14T14:59:03.243Z"
   },
   {
    "duration": 18,
    "start_time": "2023-03-14T14:59:03.535Z"
   },
   {
    "duration": 347,
    "start_time": "2023-03-14T14:59:03.555Z"
   },
   {
    "duration": 258,
    "start_time": "2023-03-14T14:59:03.903Z"
   },
   {
    "duration": 11,
    "start_time": "2023-03-14T14:59:04.163Z"
   },
   {
    "duration": 334,
    "start_time": "2023-03-14T14:59:04.176Z"
   },
   {
    "duration": 11,
    "start_time": "2023-03-14T14:59:04.512Z"
   },
   {
    "duration": 25,
    "start_time": "2023-03-14T14:59:04.524Z"
   },
   {
    "duration": 295,
    "start_time": "2023-03-14T14:59:04.551Z"
   },
   {
    "duration": 14,
    "start_time": "2023-03-14T14:59:04.848Z"
   },
   {
    "duration": 340,
    "start_time": "2023-03-14T14:59:04.864Z"
   },
   {
    "duration": 19,
    "start_time": "2023-03-14T14:59:05.205Z"
   },
   {
    "duration": 296,
    "start_time": "2023-03-14T14:59:05.226Z"
   },
   {
    "duration": 8,
    "start_time": "2023-03-14T14:59:05.524Z"
   },
   {
    "duration": 5,
    "start_time": "2023-03-14T14:59:05.541Z"
   },
   {
    "duration": 209,
    "start_time": "2023-03-14T14:59:05.550Z"
   },
   {
    "duration": 4,
    "start_time": "2023-03-14T14:59:05.761Z"
   },
   {
    "duration": 227,
    "start_time": "2023-03-14T14:59:05.768Z"
   },
   {
    "duration": 9,
    "start_time": "2023-03-14T14:59:05.997Z"
   },
   {
    "duration": 39,
    "start_time": "2023-03-14T14:59:06.007Z"
   },
   {
    "duration": 24,
    "start_time": "2023-03-14T14:59:06.048Z"
   },
   {
    "duration": 10,
    "start_time": "2023-03-14T14:59:06.074Z"
   },
   {
    "duration": 20,
    "start_time": "2023-03-14T14:59:06.086Z"
   },
   {
    "duration": 105,
    "start_time": "2023-03-14T15:03:04.537Z"
   },
   {
    "duration": 5,
    "start_time": "2023-03-14T15:03:12.238Z"
   },
   {
    "duration": 9,
    "start_time": "2023-03-14T15:03:13.724Z"
   },
   {
    "duration": 21,
    "start_time": "2023-03-14T15:03:22.418Z"
   },
   {
    "duration": 10,
    "start_time": "2023-03-14T15:03:23.776Z"
   },
   {
    "duration": 22,
    "start_time": "2023-03-14T15:04:21.423Z"
   },
   {
    "duration": 10,
    "start_time": "2023-03-14T15:21:16.796Z"
   },
   {
    "duration": 11,
    "start_time": "2023-03-14T15:21:18.474Z"
   },
   {
    "duration": 9,
    "start_time": "2023-03-14T15:21:59.913Z"
   },
   {
    "duration": 1203,
    "start_time": "2023-03-14T16:07:18.155Z"
   },
   {
    "duration": 63,
    "start_time": "2023-03-14T16:07:19.360Z"
   },
   {
    "duration": 20,
    "start_time": "2023-03-14T16:07:19.425Z"
   },
   {
    "duration": 7,
    "start_time": "2023-03-14T16:07:19.447Z"
   },
   {
    "duration": 24,
    "start_time": "2023-03-14T16:07:19.456Z"
   },
   {
    "duration": 8,
    "start_time": "2023-03-14T16:07:19.482Z"
   },
   {
    "duration": 12,
    "start_time": "2023-03-14T16:07:19.491Z"
   },
   {
    "duration": 17,
    "start_time": "2023-03-14T16:07:19.504Z"
   },
   {
    "duration": 25,
    "start_time": "2023-03-14T16:07:19.522Z"
   },
   {
    "duration": 8,
    "start_time": "2023-03-14T16:07:19.549Z"
   },
   {
    "duration": 6,
    "start_time": "2023-03-14T16:07:19.558Z"
   },
   {
    "duration": 6,
    "start_time": "2023-03-14T16:07:19.565Z"
   },
   {
    "duration": 9,
    "start_time": "2023-03-14T16:07:19.573Z"
   },
   {
    "duration": 8,
    "start_time": "2023-03-14T16:07:19.586Z"
   },
   {
    "duration": 52,
    "start_time": "2023-03-14T16:07:19.596Z"
   },
   {
    "duration": 6,
    "start_time": "2023-03-14T16:07:19.650Z"
   },
   {
    "duration": 20,
    "start_time": "2023-03-14T16:07:19.658Z"
   },
   {
    "duration": 7,
    "start_time": "2023-03-14T16:07:19.680Z"
   },
   {
    "duration": 12,
    "start_time": "2023-03-14T16:07:19.689Z"
   },
   {
    "duration": 42,
    "start_time": "2023-03-14T16:07:19.702Z"
   },
   {
    "duration": 14,
    "start_time": "2023-03-14T16:07:19.745Z"
   },
   {
    "duration": 11,
    "start_time": "2023-03-14T16:07:19.761Z"
   },
   {
    "duration": 319,
    "start_time": "2023-03-14T16:07:19.774Z"
   },
   {
    "duration": 12,
    "start_time": "2023-03-14T16:07:20.095Z"
   },
   {
    "duration": 283,
    "start_time": "2023-03-14T16:07:20.108Z"
   },
   {
    "duration": 295,
    "start_time": "2023-03-14T16:07:20.393Z"
   },
   {
    "duration": 16,
    "start_time": "2023-03-14T16:07:20.690Z"
   },
   {
    "duration": 351,
    "start_time": "2023-03-14T16:07:20.707Z"
   },
   {
    "duration": 266,
    "start_time": "2023-03-14T16:07:21.060Z"
   },
   {
    "duration": 15,
    "start_time": "2023-03-14T16:07:21.327Z"
   },
   {
    "duration": 453,
    "start_time": "2023-03-14T16:07:21.343Z"
   },
   {
    "duration": 15,
    "start_time": "2023-03-14T16:07:21.798Z"
   },
   {
    "duration": 40,
    "start_time": "2023-03-14T16:07:21.815Z"
   },
   {
    "duration": 361,
    "start_time": "2023-03-14T16:07:21.857Z"
   },
   {
    "duration": 14,
    "start_time": "2023-03-14T16:07:22.221Z"
   },
   {
    "duration": 377,
    "start_time": "2023-03-14T16:07:22.237Z"
   },
   {
    "duration": 33,
    "start_time": "2023-03-14T16:07:22.616Z"
   },
   {
    "duration": 308,
    "start_time": "2023-03-14T16:07:22.651Z"
   },
   {
    "duration": 10,
    "start_time": "2023-03-14T16:07:22.961Z"
   },
   {
    "duration": 8,
    "start_time": "2023-03-14T16:07:22.973Z"
   },
   {
    "duration": 219,
    "start_time": "2023-03-14T16:07:22.985Z"
   },
   {
    "duration": 4,
    "start_time": "2023-03-14T16:07:23.205Z"
   },
   {
    "duration": 18,
    "start_time": "2023-03-14T16:07:23.211Z"
   },
   {
    "duration": 227,
    "start_time": "2023-03-14T16:07:23.231Z"
   },
   {
    "duration": 19,
    "start_time": "2023-03-14T16:07:23.460Z"
   },
   {
    "duration": 24,
    "start_time": "2023-03-14T16:07:23.481Z"
   },
   {
    "duration": 11,
    "start_time": "2023-03-14T16:07:23.506Z"
   },
   {
    "duration": 21,
    "start_time": "2023-03-14T16:07:23.541Z"
   },
   {
    "duration": 22,
    "start_time": "2023-03-14T16:07:23.564Z"
   },
   {
    "duration": 9,
    "start_time": "2023-03-14T16:07:23.587Z"
   },
   {
    "duration": 7,
    "start_time": "2023-03-14T16:07:23.597Z"
   },
   {
    "duration": 1204,
    "start_time": "2023-03-14T16:07:45.554Z"
   },
   {
    "duration": 62,
    "start_time": "2023-03-14T16:07:46.761Z"
   },
   {
    "duration": 22,
    "start_time": "2023-03-14T16:07:46.825Z"
   },
   {
    "duration": 6,
    "start_time": "2023-03-14T16:07:46.849Z"
   },
   {
    "duration": 18,
    "start_time": "2023-03-14T16:07:46.857Z"
   },
   {
    "duration": 10,
    "start_time": "2023-03-14T16:07:46.876Z"
   },
   {
    "duration": 7,
    "start_time": "2023-03-14T16:07:46.888Z"
   },
   {
    "duration": 14,
    "start_time": "2023-03-14T16:07:46.897Z"
   },
   {
    "duration": 39,
    "start_time": "2023-03-14T16:07:46.913Z"
   },
   {
    "duration": 14,
    "start_time": "2023-03-14T16:07:46.954Z"
   },
   {
    "duration": 5,
    "start_time": "2023-03-14T16:07:46.970Z"
   },
   {
    "duration": 6,
    "start_time": "2023-03-14T16:07:46.978Z"
   },
   {
    "duration": 12,
    "start_time": "2023-03-14T16:07:46.986Z"
   },
   {
    "duration": 39,
    "start_time": "2023-03-14T16:07:47.002Z"
   },
   {
    "duration": 15,
    "start_time": "2023-03-14T16:07:47.043Z"
   },
   {
    "duration": 8,
    "start_time": "2023-03-14T16:07:47.060Z"
   },
   {
    "duration": 26,
    "start_time": "2023-03-14T16:07:47.070Z"
   },
   {
    "duration": 8,
    "start_time": "2023-03-14T16:07:47.097Z"
   },
   {
    "duration": 47,
    "start_time": "2023-03-14T16:07:47.106Z"
   },
   {
    "duration": 4,
    "start_time": "2023-03-14T16:07:47.154Z"
   },
   {
    "duration": 21,
    "start_time": "2023-03-14T16:07:47.160Z"
   },
   {
    "duration": 12,
    "start_time": "2023-03-14T16:07:47.183Z"
   },
   {
    "duration": 336,
    "start_time": "2023-03-14T16:07:47.197Z"
   },
   {
    "duration": 17,
    "start_time": "2023-03-14T16:07:47.534Z"
   },
   {
    "duration": 306,
    "start_time": "2023-03-14T16:07:47.553Z"
   },
   {
    "duration": 319,
    "start_time": "2023-03-14T16:07:47.861Z"
   },
   {
    "duration": 17,
    "start_time": "2023-03-14T16:07:48.182Z"
   },
   {
    "duration": 465,
    "start_time": "2023-03-14T16:07:48.201Z"
   },
   {
    "duration": 284,
    "start_time": "2023-03-14T16:07:48.668Z"
   },
   {
    "duration": 12,
    "start_time": "2023-03-14T16:07:48.953Z"
   },
   {
    "duration": 434,
    "start_time": "2023-03-14T16:07:48.967Z"
   },
   {
    "duration": 11,
    "start_time": "2023-03-14T16:07:49.403Z"
   },
   {
    "duration": 68,
    "start_time": "2023-03-14T16:07:49.415Z"
   },
   {
    "duration": 330,
    "start_time": "2023-03-14T16:07:49.484Z"
   },
   {
    "duration": 14,
    "start_time": "2023-03-14T16:07:49.815Z"
   },
   {
    "duration": 381,
    "start_time": "2023-03-14T16:07:49.830Z"
   },
   {
    "duration": 28,
    "start_time": "2023-03-14T16:07:50.213Z"
   },
   {
    "duration": 308,
    "start_time": "2023-03-14T16:07:50.243Z"
   },
   {
    "duration": 8,
    "start_time": "2023-03-14T16:07:50.553Z"
   },
   {
    "duration": 8,
    "start_time": "2023-03-14T16:07:50.562Z"
   },
   {
    "duration": 215,
    "start_time": "2023-03-14T16:07:50.573Z"
   },
   {
    "duration": 4,
    "start_time": "2023-03-14T16:07:50.790Z"
   },
   {
    "duration": 29,
    "start_time": "2023-03-14T16:07:50.796Z"
   },
   {
    "duration": 225,
    "start_time": "2023-03-14T16:07:50.827Z"
   },
   {
    "duration": 22,
    "start_time": "2023-03-14T16:07:51.054Z"
   },
   {
    "duration": 29,
    "start_time": "2023-03-14T16:07:51.079Z"
   },
   {
    "duration": 38,
    "start_time": "2023-03-14T16:07:51.111Z"
   },
   {
    "duration": 25,
    "start_time": "2023-03-14T16:07:51.151Z"
   },
   {
    "duration": 27,
    "start_time": "2023-03-14T16:07:51.178Z"
   },
   {
    "duration": 39,
    "start_time": "2023-03-14T16:07:51.207Z"
   },
   {
    "duration": 26,
    "start_time": "2023-03-14T16:07:51.248Z"
   },
   {
    "duration": 1240,
    "start_time": "2023-03-14T19:22:15.205Z"
   },
   {
    "duration": 62,
    "start_time": "2023-03-14T19:22:16.448Z"
   },
   {
    "duration": 21,
    "start_time": "2023-03-14T19:22:16.512Z"
   },
   {
    "duration": 8,
    "start_time": "2023-03-14T19:22:16.536Z"
   },
   {
    "duration": 21,
    "start_time": "2023-03-14T19:22:16.546Z"
   },
   {
    "duration": 14,
    "start_time": "2023-03-14T19:22:16.569Z"
   },
   {
    "duration": 14,
    "start_time": "2023-03-14T19:22:16.585Z"
   },
   {
    "duration": 4,
    "start_time": "2023-03-14T19:22:16.601Z"
   },
   {
    "duration": 38,
    "start_time": "2023-03-14T19:22:16.607Z"
   },
   {
    "duration": 7,
    "start_time": "2023-03-14T19:22:16.649Z"
   },
   {
    "duration": 12,
    "start_time": "2023-03-14T19:22:16.657Z"
   },
   {
    "duration": 7,
    "start_time": "2023-03-14T19:22:16.671Z"
   },
   {
    "duration": 12,
    "start_time": "2023-03-14T19:22:16.680Z"
   },
   {
    "duration": 5,
    "start_time": "2023-03-14T19:22:16.694Z"
   },
   {
    "duration": 51,
    "start_time": "2023-03-14T19:22:16.703Z"
   },
   {
    "duration": 8,
    "start_time": "2023-03-14T19:22:16.756Z"
   },
   {
    "duration": 29,
    "start_time": "2023-03-14T19:22:16.766Z"
   },
   {
    "duration": 11,
    "start_time": "2023-03-14T19:22:16.797Z"
   },
   {
    "duration": 42,
    "start_time": "2023-03-14T19:22:16.810Z"
   },
   {
    "duration": 5,
    "start_time": "2023-03-14T19:22:16.855Z"
   },
   {
    "duration": 15,
    "start_time": "2023-03-14T19:22:16.863Z"
   },
   {
    "duration": 21,
    "start_time": "2023-03-14T19:22:16.880Z"
   },
   {
    "duration": 331,
    "start_time": "2023-03-14T19:22:16.904Z"
   },
   {
    "duration": 14,
    "start_time": "2023-03-14T19:22:17.237Z"
   },
   {
    "duration": 289,
    "start_time": "2023-03-14T19:22:17.252Z"
   },
   {
    "duration": 393,
    "start_time": "2023-03-14T19:22:17.543Z"
   },
   {
    "duration": 27,
    "start_time": "2023-03-14T19:22:17.941Z"
   },
   {
    "duration": 391,
    "start_time": "2023-03-14T19:22:17.973Z"
   },
   {
    "duration": 275,
    "start_time": "2023-03-14T19:22:18.366Z"
   },
   {
    "duration": 13,
    "start_time": "2023-03-14T19:22:18.643Z"
   },
   {
    "duration": 361,
    "start_time": "2023-03-14T19:22:18.658Z"
   },
   {
    "duration": 20,
    "start_time": "2023-03-14T19:22:19.021Z"
   },
   {
    "duration": 19,
    "start_time": "2023-03-14T19:22:19.043Z"
   },
   {
    "duration": 329,
    "start_time": "2023-03-14T19:22:19.065Z"
   },
   {
    "duration": 13,
    "start_time": "2023-03-14T19:22:19.397Z"
   },
   {
    "duration": 344,
    "start_time": "2023-03-14T19:22:19.412Z"
   },
   {
    "duration": 20,
    "start_time": "2023-03-14T19:22:19.757Z"
   },
   {
    "duration": 300,
    "start_time": "2023-03-14T19:22:19.778Z"
   },
   {
    "duration": 8,
    "start_time": "2023-03-14T19:22:20.080Z"
   },
   {
    "duration": 5,
    "start_time": "2023-03-14T19:22:20.090Z"
   },
   {
    "duration": 208,
    "start_time": "2023-03-14T19:22:20.097Z"
   },
   {
    "duration": 5,
    "start_time": "2023-03-14T19:22:20.307Z"
   },
   {
    "duration": 10,
    "start_time": "2023-03-14T19:22:20.313Z"
   },
   {
    "duration": 212,
    "start_time": "2023-03-14T19:22:20.341Z"
   },
   {
    "duration": 19,
    "start_time": "2023-03-14T19:22:20.555Z"
   },
   {
    "duration": 51,
    "start_time": "2023-03-14T19:22:20.575Z"
   },
   {
    "duration": 11,
    "start_time": "2023-03-14T19:22:20.629Z"
   },
   {
    "duration": 23,
    "start_time": "2023-03-14T19:22:20.642Z"
   },
   {
    "duration": 26,
    "start_time": "2023-03-14T19:22:20.668Z"
   },
   {
    "duration": 11,
    "start_time": "2023-03-14T19:22:20.697Z"
   },
   {
    "duration": 35,
    "start_time": "2023-03-14T19:22:20.710Z"
   },
   {
    "duration": 1541,
    "start_time": "2023-03-15T04:07:11.303Z"
   },
   {
    "duration": 267,
    "start_time": "2023-03-15T04:07:12.847Z"
   },
   {
    "duration": 23,
    "start_time": "2023-03-15T04:07:13.116Z"
   },
   {
    "duration": 17,
    "start_time": "2023-03-15T04:07:13.141Z"
   },
   {
    "duration": 37,
    "start_time": "2023-03-15T04:07:13.160Z"
   },
   {
    "duration": 18,
    "start_time": "2023-03-15T04:07:13.201Z"
   },
   {
    "duration": 20,
    "start_time": "2023-03-15T04:07:13.222Z"
   },
   {
    "duration": 9,
    "start_time": "2023-03-15T04:07:13.243Z"
   },
   {
    "duration": 37,
    "start_time": "2023-03-15T04:07:13.254Z"
   },
   {
    "duration": 27,
    "start_time": "2023-03-15T04:07:13.292Z"
   },
   {
    "duration": 6,
    "start_time": "2023-03-15T04:07:13.321Z"
   },
   {
    "duration": 11,
    "start_time": "2023-03-15T04:07:13.329Z"
   },
   {
    "duration": 19,
    "start_time": "2023-03-15T04:07:13.342Z"
   },
   {
    "duration": 12,
    "start_time": "2023-03-15T04:07:13.364Z"
   },
   {
    "duration": 28,
    "start_time": "2023-03-15T04:07:13.378Z"
   },
   {
    "duration": 7,
    "start_time": "2023-03-15T04:07:13.409Z"
   },
   {
    "duration": 27,
    "start_time": "2023-03-15T04:07:13.418Z"
   },
   {
    "duration": 10,
    "start_time": "2023-03-15T04:07:13.448Z"
   },
   {
    "duration": 24,
    "start_time": "2023-03-15T04:07:13.482Z"
   },
   {
    "duration": 6,
    "start_time": "2023-03-15T04:07:13.509Z"
   },
   {
    "duration": 17,
    "start_time": "2023-03-15T04:07:13.517Z"
   },
   {
    "duration": 20,
    "start_time": "2023-03-15T04:07:13.536Z"
   },
   {
    "duration": 371,
    "start_time": "2023-03-15T04:07:13.558Z"
   },
   {
    "duration": 13,
    "start_time": "2023-03-15T04:07:13.931Z"
   },
   {
    "duration": 325,
    "start_time": "2023-03-15T04:07:13.946Z"
   },
   {
    "duration": 350,
    "start_time": "2023-03-15T04:07:14.273Z"
   },
   {
    "duration": 25,
    "start_time": "2023-03-15T04:07:14.625Z"
   },
   {
    "duration": 407,
    "start_time": "2023-03-15T04:07:14.652Z"
   },
   {
    "duration": 303,
    "start_time": "2023-03-15T04:07:15.061Z"
   },
   {
    "duration": 21,
    "start_time": "2023-03-15T04:07:15.365Z"
   },
   {
    "duration": 413,
    "start_time": "2023-03-15T04:07:15.389Z"
   },
   {
    "duration": 19,
    "start_time": "2023-03-15T04:07:15.810Z"
   },
   {
    "duration": 65,
    "start_time": "2023-03-15T04:07:15.831Z"
   },
   {
    "duration": 403,
    "start_time": "2023-03-15T04:07:15.903Z"
   },
   {
    "duration": 15,
    "start_time": "2023-03-15T04:07:16.308Z"
   },
   {
    "duration": 388,
    "start_time": "2023-03-15T04:07:16.325Z"
   },
   {
    "duration": 23,
    "start_time": "2023-03-15T04:07:16.716Z"
   },
   {
    "duration": 367,
    "start_time": "2023-03-15T04:07:16.743Z"
   },
   {
    "duration": 10,
    "start_time": "2023-03-15T04:07:17.118Z"
   },
   {
    "duration": 34,
    "start_time": "2023-03-15T04:07:17.131Z"
   },
   {
    "duration": 253,
    "start_time": "2023-03-15T04:07:17.169Z"
   },
   {
    "duration": 4,
    "start_time": "2023-03-15T04:07:17.424Z"
   },
   {
    "duration": 16,
    "start_time": "2023-03-15T04:07:17.431Z"
   },
   {
    "duration": 275,
    "start_time": "2023-03-15T04:07:17.450Z"
   },
   {
    "duration": 24,
    "start_time": "2023-03-15T04:07:17.728Z"
   },
   {
    "duration": 65,
    "start_time": "2023-03-15T04:07:17.757Z"
   },
   {
    "duration": 16,
    "start_time": "2023-03-15T04:07:17.825Z"
   },
   {
    "duration": 29,
    "start_time": "2023-03-15T04:07:17.843Z"
   },
   {
    "duration": 36,
    "start_time": "2023-03-15T04:07:17.874Z"
   },
   {
    "duration": 17,
    "start_time": "2023-03-15T04:07:17.913Z"
   },
   {
    "duration": 20,
    "start_time": "2023-03-15T04:07:17.932Z"
   }
  ],
  "kernelspec": {
   "display_name": "Python 3 (ipykernel)",
   "language": "python",
   "name": "python3"
  },
  "language_info": {
   "codemirror_mode": {
    "name": "ipython",
    "version": 3
   },
   "file_extension": ".py",
   "mimetype": "text/x-python",
   "name": "python",
   "nbconvert_exporter": "python",
   "pygments_lexer": "ipython3",
   "version": "3.10.9"
  },
  "toc": {
   "base_numbering": 1,
   "nav_menu": {
    "height": "532px",
    "width": "666px"
   },
   "number_sections": true,
   "sideBar": true,
   "skip_h1_title": true,
   "title_cell": "Table of Contents",
   "title_sidebar": "Contents",
   "toc_cell": false,
   "toc_position": {},
   "toc_section_display": true,
   "toc_window_display": false
  }
 },
 "nbformat": 4,
 "nbformat_minor": 2
}
