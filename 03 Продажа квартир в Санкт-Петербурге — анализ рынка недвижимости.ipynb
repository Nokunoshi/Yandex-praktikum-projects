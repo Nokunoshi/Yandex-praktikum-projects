{
 "cells": [
  {
   "cell_type": "markdown",
   "metadata": {},
   "source": [
    "# Исследование объявлений о продаже квартир\n",
    "\n",
    "В нашем распоряжении данные сервиса Яндекс.Недвижимость — архив объявлений о продаже квартир в Санкт-Петербурге и соседних населённых пунктов за несколько лет. Нужно научиться определять рыночную стоимость объектов недвижимости. \n",
    "\n",
    "Наша задача — установить параметры. Это позволит построить автоматизированную систему: она отследит аномалии и мошенническую деятельность. \n",
    "\n",
    "По каждой квартире на продажу доступны два вида данных. Первые вписаны пользователем, вторые — получены автоматически на основе картографических данных. Например, расстояние до центра, аэропорта, ближайшего парка и водоёма. "
   ]
  },
  {
   "cell_type": "markdown",
   "metadata": {},
   "source": [
    "### Открываем файл с данными и изучаем общую информацию. "
   ]
  },
  {
   "cell_type": "code",
   "execution_count": 1,
   "metadata": {},
   "outputs": [
    {
     "name": "stdout",
     "output_type": "stream",
     "text": [
      "<class 'pandas.core.frame.DataFrame'>\n",
      "RangeIndex: 23699 entries, 0 to 23698\n",
      "Data columns (total 22 columns):\n",
      " #   Column                Non-Null Count  Dtype  \n",
      "---  ------                --------------  -----  \n",
      " 0   total_images          23699 non-null  int64  \n",
      " 1   last_price            23699 non-null  float64\n",
      " 2   total_area            23699 non-null  float64\n",
      " 3   first_day_exposition  23699 non-null  object \n",
      " 4   rooms                 23699 non-null  int64  \n",
      " 5   ceiling_height        14504 non-null  float64\n",
      " 6   floors_total          23613 non-null  float64\n",
      " 7   living_area           21796 non-null  float64\n",
      " 8   floor                 23699 non-null  int64  \n",
      " 9   is_apartment          2775 non-null   object \n",
      " 10  studio                23699 non-null  bool   \n",
      " 11  open_plan             23699 non-null  bool   \n",
      " 12  kitchen_area          21421 non-null  float64\n",
      " 13  balcony               12180 non-null  float64\n",
      " 14  locality_name         23650 non-null  object \n",
      " 15  airports_nearest      18157 non-null  float64\n",
      " 16  cityCenters_nearest   18180 non-null  float64\n",
      " 17  parks_around3000      18181 non-null  float64\n",
      " 18  parks_nearest         8079 non-null   float64\n",
      " 19  ponds_around3000      18181 non-null  float64\n",
      " 20  ponds_nearest         9110 non-null   float64\n",
      " 21  days_exposition       20518 non-null  float64\n",
      "dtypes: bool(2), float64(14), int64(3), object(3)\n",
      "memory usage: 3.7+ MB\n"
     ]
    },
    {
     "data": {
      "text/plain": [
       "None"
      ]
     },
     "metadata": {},
     "output_type": "display_data"
    },
    {
     "data": {
      "text/html": [
       "<div>\n",
       "<style scoped>\n",
       "    .dataframe tbody tr th:only-of-type {\n",
       "        vertical-align: middle;\n",
       "    }\n",
       "\n",
       "    .dataframe tbody tr th {\n",
       "        vertical-align: top;\n",
       "    }\n",
       "\n",
       "    .dataframe thead th {\n",
       "        text-align: right;\n",
       "    }\n",
       "</style>\n",
       "<table border=\"1\" class=\"dataframe\">\n",
       "  <thead>\n",
       "    <tr style=\"text-align: right;\">\n",
       "      <th></th>\n",
       "      <th>total_images</th>\n",
       "      <th>last_price</th>\n",
       "      <th>total_area</th>\n",
       "      <th>rooms</th>\n",
       "      <th>ceiling_height</th>\n",
       "      <th>floors_total</th>\n",
       "      <th>living_area</th>\n",
       "      <th>floor</th>\n",
       "      <th>kitchen_area</th>\n",
       "      <th>balcony</th>\n",
       "      <th>airports_nearest</th>\n",
       "      <th>cityCenters_nearest</th>\n",
       "      <th>parks_around3000</th>\n",
       "      <th>parks_nearest</th>\n",
       "      <th>ponds_around3000</th>\n",
       "      <th>ponds_nearest</th>\n",
       "      <th>days_exposition</th>\n",
       "    </tr>\n",
       "  </thead>\n",
       "  <tbody>\n",
       "    <tr>\n",
       "      <th>count</th>\n",
       "      <td>23699.000000</td>\n",
       "      <td>2.369900e+04</td>\n",
       "      <td>23699.000000</td>\n",
       "      <td>23699.000000</td>\n",
       "      <td>14504.000000</td>\n",
       "      <td>23613.000000</td>\n",
       "      <td>21796.000000</td>\n",
       "      <td>23699.000000</td>\n",
       "      <td>21421.000000</td>\n",
       "      <td>12180.000000</td>\n",
       "      <td>18157.000000</td>\n",
       "      <td>18180.000000</td>\n",
       "      <td>18181.000000</td>\n",
       "      <td>8079.000000</td>\n",
       "      <td>18181.000000</td>\n",
       "      <td>9110.000000</td>\n",
       "      <td>20518.000000</td>\n",
       "    </tr>\n",
       "    <tr>\n",
       "      <th>mean</th>\n",
       "      <td>9.858475</td>\n",
       "      <td>6.541549e+06</td>\n",
       "      <td>60.348651</td>\n",
       "      <td>2.070636</td>\n",
       "      <td>2.771499</td>\n",
       "      <td>10.673824</td>\n",
       "      <td>34.457852</td>\n",
       "      <td>5.892358</td>\n",
       "      <td>10.569807</td>\n",
       "      <td>1.150082</td>\n",
       "      <td>28793.672193</td>\n",
       "      <td>14191.277833</td>\n",
       "      <td>0.611408</td>\n",
       "      <td>490.804555</td>\n",
       "      <td>0.770255</td>\n",
       "      <td>517.980900</td>\n",
       "      <td>180.888634</td>\n",
       "    </tr>\n",
       "    <tr>\n",
       "      <th>std</th>\n",
       "      <td>5.682529</td>\n",
       "      <td>1.088701e+07</td>\n",
       "      <td>35.654083</td>\n",
       "      <td>1.078405</td>\n",
       "      <td>1.261056</td>\n",
       "      <td>6.597173</td>\n",
       "      <td>22.030445</td>\n",
       "      <td>4.885249</td>\n",
       "      <td>5.905438</td>\n",
       "      <td>1.071300</td>\n",
       "      <td>12630.880622</td>\n",
       "      <td>8608.386210</td>\n",
       "      <td>0.802074</td>\n",
       "      <td>342.317995</td>\n",
       "      <td>0.938346</td>\n",
       "      <td>277.720643</td>\n",
       "      <td>219.727988</td>\n",
       "    </tr>\n",
       "    <tr>\n",
       "      <th>min</th>\n",
       "      <td>0.000000</td>\n",
       "      <td>1.219000e+04</td>\n",
       "      <td>12.000000</td>\n",
       "      <td>0.000000</td>\n",
       "      <td>1.000000</td>\n",
       "      <td>1.000000</td>\n",
       "      <td>2.000000</td>\n",
       "      <td>1.000000</td>\n",
       "      <td>1.300000</td>\n",
       "      <td>0.000000</td>\n",
       "      <td>0.000000</td>\n",
       "      <td>181.000000</td>\n",
       "      <td>0.000000</td>\n",
       "      <td>1.000000</td>\n",
       "      <td>0.000000</td>\n",
       "      <td>13.000000</td>\n",
       "      <td>1.000000</td>\n",
       "    </tr>\n",
       "    <tr>\n",
       "      <th>25%</th>\n",
       "      <td>6.000000</td>\n",
       "      <td>3.400000e+06</td>\n",
       "      <td>40.000000</td>\n",
       "      <td>1.000000</td>\n",
       "      <td>2.520000</td>\n",
       "      <td>5.000000</td>\n",
       "      <td>18.600000</td>\n",
       "      <td>2.000000</td>\n",
       "      <td>7.000000</td>\n",
       "      <td>0.000000</td>\n",
       "      <td>18585.000000</td>\n",
       "      <td>9238.000000</td>\n",
       "      <td>0.000000</td>\n",
       "      <td>288.000000</td>\n",
       "      <td>0.000000</td>\n",
       "      <td>294.000000</td>\n",
       "      <td>45.000000</td>\n",
       "    </tr>\n",
       "    <tr>\n",
       "      <th>50%</th>\n",
       "      <td>9.000000</td>\n",
       "      <td>4.650000e+06</td>\n",
       "      <td>52.000000</td>\n",
       "      <td>2.000000</td>\n",
       "      <td>2.650000</td>\n",
       "      <td>9.000000</td>\n",
       "      <td>30.000000</td>\n",
       "      <td>4.000000</td>\n",
       "      <td>9.100000</td>\n",
       "      <td>1.000000</td>\n",
       "      <td>26726.000000</td>\n",
       "      <td>13098.500000</td>\n",
       "      <td>0.000000</td>\n",
       "      <td>455.000000</td>\n",
       "      <td>1.000000</td>\n",
       "      <td>502.000000</td>\n",
       "      <td>95.000000</td>\n",
       "    </tr>\n",
       "    <tr>\n",
       "      <th>75%</th>\n",
       "      <td>14.000000</td>\n",
       "      <td>6.800000e+06</td>\n",
       "      <td>69.900000</td>\n",
       "      <td>3.000000</td>\n",
       "      <td>2.800000</td>\n",
       "      <td>16.000000</td>\n",
       "      <td>42.300000</td>\n",
       "      <td>8.000000</td>\n",
       "      <td>12.000000</td>\n",
       "      <td>2.000000</td>\n",
       "      <td>37273.000000</td>\n",
       "      <td>16293.000000</td>\n",
       "      <td>1.000000</td>\n",
       "      <td>612.000000</td>\n",
       "      <td>1.000000</td>\n",
       "      <td>729.000000</td>\n",
       "      <td>232.000000</td>\n",
       "    </tr>\n",
       "    <tr>\n",
       "      <th>max</th>\n",
       "      <td>50.000000</td>\n",
       "      <td>7.630000e+08</td>\n",
       "      <td>900.000000</td>\n",
       "      <td>19.000000</td>\n",
       "      <td>100.000000</td>\n",
       "      <td>60.000000</td>\n",
       "      <td>409.700000</td>\n",
       "      <td>33.000000</td>\n",
       "      <td>112.000000</td>\n",
       "      <td>5.000000</td>\n",
       "      <td>84869.000000</td>\n",
       "      <td>65968.000000</td>\n",
       "      <td>3.000000</td>\n",
       "      <td>3190.000000</td>\n",
       "      <td>3.000000</td>\n",
       "      <td>1344.000000</td>\n",
       "      <td>1580.000000</td>\n",
       "    </tr>\n",
       "  </tbody>\n",
       "</table>\n",
       "</div>"
      ],
      "text/plain": [
       "       total_images    last_price    total_area         rooms  ceiling_height  \\\n",
       "count  23699.000000  2.369900e+04  23699.000000  23699.000000    14504.000000   \n",
       "mean       9.858475  6.541549e+06     60.348651      2.070636        2.771499   \n",
       "std        5.682529  1.088701e+07     35.654083      1.078405        1.261056   \n",
       "min        0.000000  1.219000e+04     12.000000      0.000000        1.000000   \n",
       "25%        6.000000  3.400000e+06     40.000000      1.000000        2.520000   \n",
       "50%        9.000000  4.650000e+06     52.000000      2.000000        2.650000   \n",
       "75%       14.000000  6.800000e+06     69.900000      3.000000        2.800000   \n",
       "max       50.000000  7.630000e+08    900.000000     19.000000      100.000000   \n",
       "\n",
       "       floors_total   living_area         floor  kitchen_area       balcony  \\\n",
       "count  23613.000000  21796.000000  23699.000000  21421.000000  12180.000000   \n",
       "mean      10.673824     34.457852      5.892358     10.569807      1.150082   \n",
       "std        6.597173     22.030445      4.885249      5.905438      1.071300   \n",
       "min        1.000000      2.000000      1.000000      1.300000      0.000000   \n",
       "25%        5.000000     18.600000      2.000000      7.000000      0.000000   \n",
       "50%        9.000000     30.000000      4.000000      9.100000      1.000000   \n",
       "75%       16.000000     42.300000      8.000000     12.000000      2.000000   \n",
       "max       60.000000    409.700000     33.000000    112.000000      5.000000   \n",
       "\n",
       "       airports_nearest  cityCenters_nearest  parks_around3000  parks_nearest  \\\n",
       "count      18157.000000         18180.000000      18181.000000    8079.000000   \n",
       "mean       28793.672193         14191.277833          0.611408     490.804555   \n",
       "std        12630.880622          8608.386210          0.802074     342.317995   \n",
       "min            0.000000           181.000000          0.000000       1.000000   \n",
       "25%        18585.000000          9238.000000          0.000000     288.000000   \n",
       "50%        26726.000000         13098.500000          0.000000     455.000000   \n",
       "75%        37273.000000         16293.000000          1.000000     612.000000   \n",
       "max        84869.000000         65968.000000          3.000000    3190.000000   \n",
       "\n",
       "       ponds_around3000  ponds_nearest  days_exposition  \n",
       "count      18181.000000    9110.000000     20518.000000  \n",
       "mean           0.770255     517.980900       180.888634  \n",
       "std            0.938346     277.720643       219.727988  \n",
       "min            0.000000      13.000000         1.000000  \n",
       "25%            0.000000     294.000000        45.000000  \n",
       "50%            1.000000     502.000000        95.000000  \n",
       "75%            1.000000     729.000000       232.000000  \n",
       "max            3.000000    1344.000000      1580.000000  "
      ]
     },
     "metadata": {},
     "output_type": "display_data"
    },
    {
     "data": {
      "text/html": [
       "<div>\n",
       "<style scoped>\n",
       "    .dataframe tbody tr th:only-of-type {\n",
       "        vertical-align: middle;\n",
       "    }\n",
       "\n",
       "    .dataframe tbody tr th {\n",
       "        vertical-align: top;\n",
       "    }\n",
       "\n",
       "    .dataframe thead th {\n",
       "        text-align: right;\n",
       "    }\n",
       "</style>\n",
       "<table border=\"1\" class=\"dataframe\">\n",
       "  <thead>\n",
       "    <tr style=\"text-align: right;\">\n",
       "      <th></th>\n",
       "      <th>total_images</th>\n",
       "      <th>last_price</th>\n",
       "      <th>total_area</th>\n",
       "      <th>first_day_exposition</th>\n",
       "      <th>rooms</th>\n",
       "      <th>ceiling_height</th>\n",
       "      <th>floors_total</th>\n",
       "      <th>living_area</th>\n",
       "      <th>floor</th>\n",
       "      <th>is_apartment</th>\n",
       "      <th>...</th>\n",
       "      <th>kitchen_area</th>\n",
       "      <th>balcony</th>\n",
       "      <th>locality_name</th>\n",
       "      <th>airports_nearest</th>\n",
       "      <th>cityCenters_nearest</th>\n",
       "      <th>parks_around3000</th>\n",
       "      <th>parks_nearest</th>\n",
       "      <th>ponds_around3000</th>\n",
       "      <th>ponds_nearest</th>\n",
       "      <th>days_exposition</th>\n",
       "    </tr>\n",
       "  </thead>\n",
       "  <tbody>\n",
       "    <tr>\n",
       "      <th>0</th>\n",
       "      <td>20</td>\n",
       "      <td>13000000.0</td>\n",
       "      <td>108.0</td>\n",
       "      <td>2019-03-07T00:00:00</td>\n",
       "      <td>3</td>\n",
       "      <td>2.70</td>\n",
       "      <td>16.0</td>\n",
       "      <td>51.0</td>\n",
       "      <td>8</td>\n",
       "      <td>NaN</td>\n",
       "      <td>...</td>\n",
       "      <td>25.0</td>\n",
       "      <td>NaN</td>\n",
       "      <td>Санкт-Петербург</td>\n",
       "      <td>18863.0</td>\n",
       "      <td>16028.0</td>\n",
       "      <td>1.0</td>\n",
       "      <td>482.0</td>\n",
       "      <td>2.0</td>\n",
       "      <td>755.0</td>\n",
       "      <td>NaN</td>\n",
       "    </tr>\n",
       "    <tr>\n",
       "      <th>1</th>\n",
       "      <td>7</td>\n",
       "      <td>3350000.0</td>\n",
       "      <td>40.4</td>\n",
       "      <td>2018-12-04T00:00:00</td>\n",
       "      <td>1</td>\n",
       "      <td>NaN</td>\n",
       "      <td>11.0</td>\n",
       "      <td>18.6</td>\n",
       "      <td>1</td>\n",
       "      <td>NaN</td>\n",
       "      <td>...</td>\n",
       "      <td>11.0</td>\n",
       "      <td>2.0</td>\n",
       "      <td>посёлок Шушары</td>\n",
       "      <td>12817.0</td>\n",
       "      <td>18603.0</td>\n",
       "      <td>0.0</td>\n",
       "      <td>NaN</td>\n",
       "      <td>0.0</td>\n",
       "      <td>NaN</td>\n",
       "      <td>81.0</td>\n",
       "    </tr>\n",
       "    <tr>\n",
       "      <th>2</th>\n",
       "      <td>10</td>\n",
       "      <td>5196000.0</td>\n",
       "      <td>56.0</td>\n",
       "      <td>2015-08-20T00:00:00</td>\n",
       "      <td>2</td>\n",
       "      <td>NaN</td>\n",
       "      <td>5.0</td>\n",
       "      <td>34.3</td>\n",
       "      <td>4</td>\n",
       "      <td>NaN</td>\n",
       "      <td>...</td>\n",
       "      <td>8.3</td>\n",
       "      <td>0.0</td>\n",
       "      <td>Санкт-Петербург</td>\n",
       "      <td>21741.0</td>\n",
       "      <td>13933.0</td>\n",
       "      <td>1.0</td>\n",
       "      <td>90.0</td>\n",
       "      <td>2.0</td>\n",
       "      <td>574.0</td>\n",
       "      <td>558.0</td>\n",
       "    </tr>\n",
       "    <tr>\n",
       "      <th>3</th>\n",
       "      <td>0</td>\n",
       "      <td>64900000.0</td>\n",
       "      <td>159.0</td>\n",
       "      <td>2015-07-24T00:00:00</td>\n",
       "      <td>3</td>\n",
       "      <td>NaN</td>\n",
       "      <td>14.0</td>\n",
       "      <td>NaN</td>\n",
       "      <td>9</td>\n",
       "      <td>NaN</td>\n",
       "      <td>...</td>\n",
       "      <td>NaN</td>\n",
       "      <td>0.0</td>\n",
       "      <td>Санкт-Петербург</td>\n",
       "      <td>28098.0</td>\n",
       "      <td>6800.0</td>\n",
       "      <td>2.0</td>\n",
       "      <td>84.0</td>\n",
       "      <td>3.0</td>\n",
       "      <td>234.0</td>\n",
       "      <td>424.0</td>\n",
       "    </tr>\n",
       "    <tr>\n",
       "      <th>4</th>\n",
       "      <td>2</td>\n",
       "      <td>10000000.0</td>\n",
       "      <td>100.0</td>\n",
       "      <td>2018-06-19T00:00:00</td>\n",
       "      <td>2</td>\n",
       "      <td>3.03</td>\n",
       "      <td>14.0</td>\n",
       "      <td>32.0</td>\n",
       "      <td>13</td>\n",
       "      <td>NaN</td>\n",
       "      <td>...</td>\n",
       "      <td>41.0</td>\n",
       "      <td>NaN</td>\n",
       "      <td>Санкт-Петербург</td>\n",
       "      <td>31856.0</td>\n",
       "      <td>8098.0</td>\n",
       "      <td>2.0</td>\n",
       "      <td>112.0</td>\n",
       "      <td>1.0</td>\n",
       "      <td>48.0</td>\n",
       "      <td>121.0</td>\n",
       "    </tr>\n",
       "  </tbody>\n",
       "</table>\n",
       "<p>5 rows × 22 columns</p>\n",
       "</div>"
      ],
      "text/plain": [
       "   total_images  last_price  total_area first_day_exposition  rooms  \\\n",
       "0            20  13000000.0       108.0  2019-03-07T00:00:00      3   \n",
       "1             7   3350000.0        40.4  2018-12-04T00:00:00      1   \n",
       "2            10   5196000.0        56.0  2015-08-20T00:00:00      2   \n",
       "3             0  64900000.0       159.0  2015-07-24T00:00:00      3   \n",
       "4             2  10000000.0       100.0  2018-06-19T00:00:00      2   \n",
       "\n",
       "   ceiling_height  floors_total  living_area  floor is_apartment  ...  \\\n",
       "0            2.70          16.0         51.0      8          NaN  ...   \n",
       "1             NaN          11.0         18.6      1          NaN  ...   \n",
       "2             NaN           5.0         34.3      4          NaN  ...   \n",
       "3             NaN          14.0          NaN      9          NaN  ...   \n",
       "4            3.03          14.0         32.0     13          NaN  ...   \n",
       "\n",
       "   kitchen_area  balcony    locality_name  airports_nearest  \\\n",
       "0          25.0      NaN  Санкт-Петербург           18863.0   \n",
       "1          11.0      2.0   посёлок Шушары           12817.0   \n",
       "2           8.3      0.0  Санкт-Петербург           21741.0   \n",
       "3           NaN      0.0  Санкт-Петербург           28098.0   \n",
       "4          41.0      NaN  Санкт-Петербург           31856.0   \n",
       "\n",
       "  cityCenters_nearest  parks_around3000  parks_nearest  ponds_around3000  \\\n",
       "0             16028.0               1.0          482.0               2.0   \n",
       "1             18603.0               0.0            NaN               0.0   \n",
       "2             13933.0               1.0           90.0               2.0   \n",
       "3              6800.0               2.0           84.0               3.0   \n",
       "4              8098.0               2.0          112.0               1.0   \n",
       "\n",
       "   ponds_nearest  days_exposition  \n",
       "0          755.0              NaN  \n",
       "1            NaN             81.0  \n",
       "2          574.0            558.0  \n",
       "3          234.0            424.0  \n",
       "4           48.0            121.0  \n",
       "\n",
       "[5 rows x 22 columns]"
      ]
     },
     "metadata": {},
     "output_type": "display_data"
    }
   ],
   "source": [
    "import pandas as pd\n",
    "import matplotlib.pyplot as plt\n",
    "data = pd.read_csv('/datasets/real_estate_data.csv', sep = '\\t')\n",
    "#ознакомление с данными\n",
    "display(data.info())\n",
    "display(data.describe())\n",
    "display(data.head())"
   ]
  },
  {
   "cell_type": "markdown",
   "metadata": {},
   "source": [
    "Вывод:  \n",
    "В таблице 23699 строчки, и 22 колонки, которые состоят из данных, введенными пользователями, и данных, полученными автоматически. Сильно выделяется столбец is_apartment, где из 23699 строк заполнено только 2775, возможно пользователи самостоятельно заполняют данное поле и пропускают его при заполнении, логично пропуски заменить на False. Также много пропусков и в других стобцах. \n",
    "* Столбец first_day_exposition тип указан как object, переведём в datetime\n",
    "* Столбец ceiling_height пропущенные значения\n",
    "* Столбец floors_total пропущенные значения\n",
    "* Столбец living_area пропущенные значения\n",
    "* Столбец is_apartment пропущенные значения, тип указан как object, переведём в bool\n",
    "* Столбец kitchen_area пропущенные значения\n",
    "* Столбец balcony пропущенные значения\n",
    "* Столбец locality_name пропущенные значения\n",
    "* Столбец airports_nearest пропущенные значения\n",
    "* Столбец cityCenters_nearest пропущенные значения\n",
    "* Столбец parks_around3000 пропущенные значения\n",
    "* Столбец parks_nearest пропущенные значения \n",
    "* Столбец ponds_around3000 пропущенные значения\n",
    "* Столбец ponds_nearest пропущенные значения\n",
    "* Столбец days_exposition пропущенные значения  \n"
   ]
  },
  {
   "cell_type": "markdown",
   "metadata": {},
   "source": [
    "### Предобработка данных"
   ]
  },
  {
   "cell_type": "markdown",
   "metadata": {},
   "source": [
    "Начнем по порядку, поменяем тип данных first_day_exposition на datetime, чтобы их можно было легко использовать в дальнейшем."
   ]
  },
  {
   "cell_type": "code",
   "execution_count": 2,
   "metadata": {},
   "outputs": [],
   "source": [
    "data['first_day_exposition'] = pd.to_datetime(data['first_day_exposition'], format = '%Y-%m-%d') \n",
    "#data['first_day_exposition'] = data['first_day_exposition'].astype('datetime64')"
   ]
  },
  {
   "cell_type": "markdown",
   "metadata": {},
   "source": [
    "Переходим к столбцу ceiling_height. Сначало посмотрим на данные."
   ]
  },
  {
   "cell_type": "code",
   "execution_count": 3,
   "metadata": {},
   "outputs": [
    {
     "data": {
      "text/plain": [
       "9195"
      ]
     },
     "metadata": {},
     "output_type": "display_data"
    },
    {
     "data": {
      "text/plain": [
       "count    14504.000000\n",
       "mean         2.771499\n",
       "std          1.261056\n",
       "min          1.000000\n",
       "25%          2.520000\n",
       "50%          2.650000\n",
       "75%          2.800000\n",
       "max        100.000000\n",
       "Name: ceiling_height, dtype: float64"
      ]
     },
     "metadata": {},
     "output_type": "display_data"
    },
    {
     "data": {
      "image/png": "[encoded data removed]",
      "text/plain": [
       "<Figure size 432x288 with 1 Axes>"
      ]
     },
     "metadata": {
      "needs_background": "light"
     },
     "output_type": "display_data"
    }
   ],
   "source": [
    "data['ceiling_height'].sort_values().plot(y = 'ceiling_height', kind = 'hist', bins = 30, range=(1,5), grid=True)#гистограмма\n",
    "display(data['ceiling_height'].isna().sum()) # количество пропущенных строк\n",
    "display(data['ceiling_height'].describe())"
   ]
  },
  {
   "cell_type": "markdown",
   "metadata": {},
   "source": [
    "Имеются данные о высоте потолков в 1 и 100 м.будем считать их выбросами. Есть предположение что значения выше 20 метров и ниже 35 указаны без десятичной дроби, исправим данные.  \n",
    "Также медианные значения не сильно отличаются от средних. Пропущенные же значения в количестве 9195 можно объяснить тем что большая часть продавцов не знает точной величины, заменим эти значения на медианные, т.к. они наименее подвержены искажениям и логически такая высота потолков наиболее распространена и стандарты строительства единообразны. "
   ]
  },
  {
   "cell_type": "code",
   "execution_count": 4,
   "metadata": {},
   "outputs": [],
   "source": [
    "def del_ceiling_height(ceiling_height): #cоздаем функцию\n",
    "    height = float(ceiling_height)\n",
    "    if 35> height > 20 :  #указываем значение между 20 и 35 метрами\n",
    "        height = height / 10 #и делим её на 10\n",
    "        return height\n",
    "    return height \n",
    "\n",
    "data['ceiling_height'] = data['ceiling_height'].apply(del_ceiling_height) #вставляем результат функции\n",
    "data.loc[data['ceiling_height'].isnull(),'ceiling_height']= data['ceiling_height'].median() #пропущенные значения подтягиваем к медиане"
   ]
  },
  {
   "cell_type": "markdown",
   "metadata": {},
   "source": [
    "Столбец floors_total имеет небольшое количество пропусков, взглянем на данные."
   ]
  },
  {
   "cell_type": "code",
   "execution_count": 5,
   "metadata": {},
   "outputs": [
    {
     "data": {
      "text/plain": [
       "86"
      ]
     },
     "metadata": {},
     "output_type": "display_data"
    },
    {
     "data": {
      "text/plain": [
       "count    23613.000000\n",
       "mean        10.673824\n",
       "std          6.597173\n",
       "min          1.000000\n",
       "25%          5.000000\n",
       "50%          9.000000\n",
       "75%         16.000000\n",
       "max         60.000000\n",
       "Name: floors_total, dtype: float64"
      ]
     },
     "metadata": {},
     "output_type": "display_data"
    },
    {
     "data": {
      "image/png": "[encoded data removed]",
      "text/plain": [
       "<Figure size 432x288 with 1 Axes>"
      ]
     },
     "metadata": {
      "needs_background": "light"
     },
     "output_type": "display_data"
    }
   ],
   "source": [
    "data['floors_total'].sort_values().plot(y = 'floors_total', kind = 'hist', bins = 30, range=(1,35), grid=True)#гистограмма\n",
    "display(data['floors_total'].isna().sum())# количество пропущенных строк\n",
    "display(data['floors_total'].describe())"
   ]
  },
  {
   "cell_type": "markdown",
   "metadata": {},
   "source": [
    "Сам график выглядит как тени города, а 5-этажки и 9-этажки в нем небоскребы.  \n",
    "Пропущенных значений не так много, просто удалим их."
   ]
  },
  {
   "cell_type": "code",
   "execution_count": 6,
   "metadata": {},
   "outputs": [
    {
     "data": {
      "text/plain": [
       "0"
      ]
     },
     "execution_count": 6,
     "metadata": {},
     "output_type": "execute_result"
    }
   ],
   "source": [
    "data.dropna(subset = ['floors_total'], inplace=True)#сброс пропусков\n",
    "data['floors_total'].isna().sum()# количество пропущенных строк"
   ]
  },
  {
   "cell_type": "markdown",
   "metadata": {},
   "source": [
    "Переходим к living_area. Жилая площадь - это одна из основных ценообразующих характеристик. Поэтому приводить к медиане пропуски не будем. Посмотрим на изначальные характеристики чтобы иметь общее представление."
   ]
  },
  {
   "cell_type": "code",
   "execution_count": 7,
   "metadata": {},
   "outputs": [
    {
     "data": {
      "text/plain": [
       "1870"
      ]
     },
     "metadata": {},
     "output_type": "display_data"
    },
    {
     "data": {
      "text/plain": [
       "count    21743.000000\n",
       "mean        34.462781\n",
       "std         22.037433\n",
       "min          2.000000\n",
       "25%         18.600000\n",
       "50%         30.000000\n",
       "75%         42.300000\n",
       "max        409.700000\n",
       "Name: living_area, dtype: float64"
      ]
     },
     "metadata": {},
     "output_type": "display_data"
    },
    {
     "data": {
      "image/png": "[encoded data removed]",
      "text/plain": [
       "<Figure size 432x288 with 1 Axes>"
      ]
     },
     "metadata": {
      "needs_background": "light"
     },
     "output_type": "display_data"
    }
   ],
   "source": [
    "data['living_area'].sort_values().plot(y = 'living_area', kind = 'hist', bins = 30, range=(1,180)) #гистограмма\n",
    "display(data['living_area'].isna().sum())# количество пропущенных строк\n",
    "display(data['living_area'].describe())"
   ]
  },
  {
   "cell_type": "markdown",
   "metadata": {},
   "source": [
    "Минимум в 2 метра выглядит подозрительно, но медианные и средние значения укладываются в логику. Как и говорили изначально вмешиваться в квадратуру не будем, просто удалим пропуски. "
   ]
  },
  {
   "cell_type": "code",
   "execution_count": 8,
   "metadata": {},
   "outputs": [
    {
     "data": {
      "text/plain": [
       "0"
      ]
     },
     "execution_count": 8,
     "metadata": {},
     "output_type": "execute_result"
    }
   ],
   "source": [
    "data.dropna(subset = ['living_area'], inplace=True)#сброс пропусков\n",
    "data['living_area'].isna().sum()# количество пропущенных строк"
   ]
  },
  {
   "cell_type": "markdown",
   "metadata": {},
   "source": [
    "Переходим к столбцу is_apartment. Переведем тип данных в bool, а пропуски заменим на False. Т.к. владелец не вводил эти данные, значит скорее всего это не апартаменты."
   ]
  },
  {
   "cell_type": "code",
   "execution_count": 9,
   "metadata": {},
   "outputs": [],
   "source": [
    "data['is_apartment'] = data['is_apartment'].fillna(False)"
   ]
  },
  {
   "cell_type": "markdown",
   "metadata": {},
   "source": [
    "Со следующим столбцом kitchen_area, поступим точно так же как и с living_area."
   ]
  },
  {
   "cell_type": "code",
   "execution_count": 10,
   "metadata": {},
   "outputs": [
    {
     "data": {
      "text/plain": [
       "'необработанных строк, было'"
      ]
     },
     "metadata": {},
     "output_type": "display_data"
    },
    {
     "data": {
      "text/plain": [
       "800"
      ]
     },
     "metadata": {},
     "output_type": "display_data"
    },
    {
     "data": {
      "text/plain": [
       "count    20943.000000\n",
       "mean        10.511091\n",
       "std          5.842044\n",
       "min          1.300000\n",
       "25%          7.000000\n",
       "50%          9.000000\n",
       "75%         12.000000\n",
       "max        112.000000\n",
       "Name: kitchen_area, dtype: float64"
      ]
     },
     "metadata": {},
     "output_type": "display_data"
    },
    {
     "data": {
      "image/png": "[encoded data removed]",
      "text/plain": [
       "<Figure size 432x288 with 1 Axes>"
      ]
     },
     "metadata": {
      "needs_background": "light"
     },
     "output_type": "display_data"
    }
   ],
   "source": [
    "data['kitchen_area'].sort_values().plot(y = 'kitchen_area', kind = 'hist', bins = 30, range=(1,50)) #гистограмма\n",
    "display('необработанных строк, было', data['kitchen_area'].isna().sum()) # количество пропущенных строк\n",
    "display(data['kitchen_area'].describe())\n"
   ]
  },
  {
   "cell_type": "code",
   "execution_count": 11,
   "metadata": {},
   "outputs": [
    {
     "data": {
      "text/plain": [
       "'необработанных строк, стало'"
      ]
     },
     "metadata": {},
     "output_type": "display_data"
    },
    {
     "data": {
      "text/plain": [
       "0"
      ]
     },
     "metadata": {},
     "output_type": "display_data"
    }
   ],
   "source": [
    "data.dropna(subset = ['kitchen_area'], inplace=True) #сброс пропусков\n",
    "display('необработанных строк, стало', data['kitchen_area'].isna().sum()) # количество пропущенных строк"
   ]
  },
  {
   "cell_type": "markdown",
   "metadata": {},
   "source": [
    "Переходим к balcony, если значение пропущено, значит балкона скорее всего нет, поэтому поставим 0."
   ]
  },
  {
   "cell_type": "code",
   "execution_count": 12,
   "metadata": {},
   "outputs": [
    {
     "data": {
      "text/plain": [
       "'необработанных строк, было'"
      ]
     },
     "metadata": {},
     "output_type": "display_data"
    },
    {
     "data": {
      "text/plain": [
       "9751"
      ]
     },
     "metadata": {},
     "output_type": "display_data"
    },
    {
     "data": {
      "text/plain": [
       "count    11192.000000\n",
       "mean         1.158953\n",
       "std          1.065801\n",
       "min          0.000000\n",
       "25%          0.000000\n",
       "50%          1.000000\n",
       "75%          2.000000\n",
       "max          5.000000\n",
       "Name: balcony, dtype: float64"
      ]
     },
     "metadata": {},
     "output_type": "display_data"
    },
    {
     "data": {
      "image/png": "[encoded data removed]",
      "text/plain": [
       "<Figure size 432x288 with 1 Axes>"
      ]
     },
     "metadata": {
      "needs_background": "light"
     },
     "output_type": "display_data"
    }
   ],
   "source": [
    "data['balcony'].sort_values().plot(y = 'balcony', kind = 'hist', bins = 12, range=(0,6)) #гистограмма\n",
    "display('необработанных строк, было', data['balcony'].isna().sum()) # количество пропущенных строк\n",
    "display(data['balcony'].describe()) "
   ]
  },
  {
   "cell_type": "code",
   "execution_count": 13,
   "metadata": {},
   "outputs": [],
   "source": [
    "data['balcony'] = data['balcony'].fillna(0)"
   ]
  },
  {
   "cell_type": "markdown",
   "metadata": {},
   "source": [
    "Переходим к locality_name. Посмотрим сколько пропусков."
   ]
  },
  {
   "cell_type": "code",
   "execution_count": 14,
   "metadata": {},
   "outputs": [
    {
     "data": {
      "text/plain": [
       "38"
      ]
     },
     "execution_count": 14,
     "metadata": {},
     "output_type": "execute_result"
    }
   ],
   "source": [
    "data['locality_name'].isna().sum()"
   ]
  },
  {
   "cell_type": "markdown",
   "metadata": {},
   "source": [
    "Cтрок без названия населенного пункта немного(49), а причина их отсутствия неясна, удалим их."
   ]
  },
  {
   "cell_type": "code",
   "execution_count": 15,
   "metadata": {},
   "outputs": [],
   "source": [
    "data.dropna(subset = ['locality_name'],inplace = True)"
   ]
  },
  {
   "cell_type": "markdown",
   "metadata": {},
   "source": [
    "Раз мы дошли населенных пунктов, проверим их на наличие дубликатов."
   ]
  },
  {
   "cell_type": "code",
   "execution_count": 16,
   "metadata": {},
   "outputs": [
    {
     "data": {
      "text/plain": [
       "['Санкт-Петербург',\n",
       " 'посёлок Шушары',\n",
       " 'городской посёлок Янино-1',\n",
       " 'посёлок Парголово',\n",
       " 'посёлок Мурино',\n",
       " 'Ломоносов',\n",
       " 'Сертолово',\n",
       " 'Петергоф',\n",
       " 'Пушкин',\n",
       " 'деревня Кудрово',\n",
       " 'Колпино',\n",
       " 'Гатчина',\n",
       " 'поселок Мурино',\n",
       " 'деревня Фёдоровское',\n",
       " 'Выборг',\n",
       " 'Кронштадт',\n",
       " 'Кировск',\n",
       " 'деревня Новое Девяткино',\n",
       " 'посёлок Металлострой',\n",
       " 'посёлок городского типа Лебяжье',\n",
       " 'посёлок городского типа Сиверский',\n",
       " 'поселок Молодцово',\n",
       " 'поселок городского типа Кузьмоловский',\n",
       " 'садовое товарищество Новая Ропша',\n",
       " 'Павловск',\n",
       " 'деревня Пикколово',\n",
       " 'Всеволожск',\n",
       " 'Волхов',\n",
       " 'Кингисепп',\n",
       " 'Приозерск',\n",
       " 'Сестрорецк',\n",
       " 'деревня Куттузи',\n",
       " 'посёлок Аннино',\n",
       " 'деревня Заклинье',\n",
       " 'поселок Торковичи',\n",
       " 'поселок Первомайское',\n",
       " 'Красное Село',\n",
       " 'посёлок Понтонный',\n",
       " 'деревня Старая',\n",
       " 'деревня Лесколово',\n",
       " 'село Путилово',\n",
       " 'Ивангород',\n",
       " 'Мурино',\n",
       " 'Сланцы',\n",
       " 'Шлиссельбург',\n",
       " 'Сясьстрой',\n",
       " 'Никольское',\n",
       " 'Зеленогорск',\n",
       " 'Сосновый Бор',\n",
       " 'поселок Новый Свет',\n",
       " 'деревня Оржицы',\n",
       " 'деревня Кальтино',\n",
       " 'Кудрово',\n",
       " 'поселок Романовка',\n",
       " 'посёлок Бугры',\n",
       " 'поселок Бугры',\n",
       " 'поселок городского типа Рощино',\n",
       " 'Кириши',\n",
       " 'Луга',\n",
       " 'Волосово',\n",
       " 'Отрадное',\n",
       " 'село Павлово',\n",
       " 'поселок Оредеж',\n",
       " 'посёлок городского типа Красный Бор',\n",
       " 'Коммунар',\n",
       " 'посёлок Молодёжное',\n",
       " 'деревня Нурма',\n",
       " 'поселок городского типа Синявино',\n",
       " 'Тосно',\n",
       " 'посёлок Новый Свет',\n",
       " 'посёлок городского типа Кузьмоловский',\n",
       " 'посёлок Стрельна',\n",
       " 'Бокситогорск',\n",
       " 'посёлок Александровская',\n",
       " 'деревня Лопухинка',\n",
       " 'поселок Терволово',\n",
       " 'поселок городского типа Советский',\n",
       " 'Подпорожье',\n",
       " 'посёлок Петровское',\n",
       " 'посёлок городского типа Токсово',\n",
       " 'поселок Сельцо',\n",
       " 'посёлок городского типа Вырица',\n",
       " 'деревня Келози',\n",
       " 'деревня Вартемяги',\n",
       " 'посёлок Тельмана',\n",
       " 'городской поселок Большая Ижора',\n",
       " 'Тихвин',\n",
       " 'деревня Агалатово',\n",
       " 'посёлок Новогорелово',\n",
       " 'городской посёлок Лесогорский',\n",
       " 'деревня Лаголово',\n",
       " 'поселок Цвелодубово',\n",
       " 'поселок городского типа Рахья',\n",
       " 'поселок городского типа Вырица',\n",
       " 'деревня Белогорка',\n",
       " 'поселок Заводской',\n",
       " 'городской посёлок Новоселье',\n",
       " 'деревня Большие Колпаны',\n",
       " 'деревня Горбунки',\n",
       " 'деревня Заневка',\n",
       " 'Приморск',\n",
       " 'городской посёлок Фёдоровское',\n",
       " 'деревня Мистолово',\n",
       " 'Новая Ладога',\n",
       " 'поселок Зимитицы',\n",
       " 'поселок Барышево',\n",
       " 'деревня Разметелево',\n",
       " 'поселок городского типа имени Свердлова',\n",
       " 'деревня Пеники',\n",
       " 'поселок Рябово',\n",
       " 'деревня Пудомяги',\n",
       " 'деревня Бегуницы',\n",
       " 'посёлок Поляны',\n",
       " 'городской посёлок Мга',\n",
       " 'поселок Елизаветино',\n",
       " 'посёлок городского типа Кузнечное',\n",
       " 'деревня Колтуши',\n",
       " 'поселок Запорожское',\n",
       " 'посёлок городского типа Рощино',\n",
       " 'деревня Гостилицы',\n",
       " 'деревня Малое Карлино',\n",
       " 'посёлок Мичуринское',\n",
       " 'посёлок городского типа имени Морозова',\n",
       " 'посёлок Песочный',\n",
       " 'посёлок Сосново',\n",
       " 'деревня Аро',\n",
       " 'поселок Ильичёво',\n",
       " 'посёлок городского типа Тайцы',\n",
       " 'деревня Малое Верево',\n",
       " 'поселок станции Вещево',\n",
       " 'деревня Калитино',\n",
       " 'посёлок городского типа Ульяновка',\n",
       " 'деревня Чудской Бор',\n",
       " 'поселок городского типа Дубровка',\n",
       " 'деревня Мины',\n",
       " 'поселок Войсковицы',\n",
       " 'посёлок городского типа имени Свердлова',\n",
       " 'деревня Коркино',\n",
       " 'посёлок Ропша',\n",
       " 'поселок городского типа Приладожский',\n",
       " 'посёлок Щеглово',\n",
       " 'посёлок Гаврилово',\n",
       " 'Лодейное Поле',\n",
       " 'Пикалёво',\n",
       " 'деревня Рабитицы',\n",
       " 'деревня Кузьмолово',\n",
       " 'деревня Малые Колпаны',\n",
       " 'поселок Тельмана',\n",
       " 'городской посёлок Назия',\n",
       " 'посёлок Репино',\n",
       " 'городской посёлок Павлово',\n",
       " 'посёлок Ильичёво',\n",
       " 'поселок Углово',\n",
       " 'деревня Низино',\n",
       " 'поселок Старая Малукса',\n",
       " 'садовое товарищество Рахья',\n",
       " 'поселок Аннино',\n",
       " 'поселок Победа',\n",
       " 'деревня Меньково',\n",
       " 'деревня Старые Бегуницы',\n",
       " 'посёлок Сапёрный',\n",
       " 'поселок Семрино',\n",
       " 'поселок Гаврилово',\n",
       " 'поселок Глажево',\n",
       " 'поселок Кобринское',\n",
       " 'деревня Гарболово',\n",
       " 'деревня Юкки',\n",
       " 'поселок станции Приветнинское',\n",
       " 'деревня Мануйлово',\n",
       " 'поселок Поляны',\n",
       " 'поселок Цвылёво',\n",
       " 'поселок Мельниково',\n",
       " 'посёлок Плодовое',\n",
       " 'посёлок Пудость',\n",
       " 'посёлок Усть-Луга',\n",
       " 'Светогорск',\n",
       " 'посёлок Победа',\n",
       " 'Любань',\n",
       " 'поселок Селезнёво',\n",
       " 'поселок городского типа Рябово',\n",
       " 'Каменногорск',\n",
       " 'деревня Кривко',\n",
       " 'деревня Парицы',\n",
       " 'поселок Жилпосёлок',\n",
       " 'посёлок городского типа Мга',\n",
       " 'городской поселок Янино-1',\n",
       " 'посёлок Войскорово',\n",
       " 'село Никольское',\n",
       " 'посёлок Терволово',\n",
       " 'поселок Стеклянный',\n",
       " 'посёлок Мыза-Ивановка',\n",
       " 'село Русско-Высоцкое',\n",
       " 'поселок городского типа Лебяжье',\n",
       " 'поселок городского типа Форносово',\n",
       " 'поселок Житково',\n",
       " 'поселок городского типа Красный Бор',\n",
       " 'городской посёлок Виллози',\n",
       " 'деревня Шпаньково',\n",
       " 'деревня Кипень',\n",
       " 'посёлок Сумино',\n",
       " 'посёлок Возрождение',\n",
       " 'деревня Старосиверская',\n",
       " 'посёлок Кикерино',\n",
       " 'поселок Возрождение',\n",
       " 'деревня Старое Хинколово',\n",
       " 'посёлок Пригородный',\n",
       " 'посёлок Торфяное',\n",
       " 'городской посёлок Будогощь',\n",
       " 'поселок Суходолье',\n",
       " 'поселок Красная Долина',\n",
       " 'деревня Хапо-Ое',\n",
       " 'поселок городского типа Дружная Горка',\n",
       " 'деревня Извара',\n",
       " 'поселок Лисий Нос',\n",
       " 'деревня Яльгелево',\n",
       " 'посёлок Стеклянный',\n",
       " 'село Рождествено',\n",
       " 'деревня Сяськелево',\n",
       " 'деревня Камышовка',\n",
       " 'садоводческое некоммерческое товарищество Лесная Поляна',\n",
       " 'поселок Жилгородок',\n",
       " 'посёлок городского типа Павлово',\n",
       " 'деревня Ялгино',\n",
       " 'деревня Батово',\n",
       " 'поселок Новый Учхоз',\n",
       " 'поселок Гончарово',\n",
       " 'поселок Почап',\n",
       " 'посёлок Сапёрное',\n",
       " 'посёлок Платформа 69-й километр',\n",
       " 'поселок Каложицы',\n",
       " 'деревня Фалилеево',\n",
       " 'деревня Пельгора',\n",
       " 'поселок городского типа Лесогорский',\n",
       " 'деревня Торошковичи',\n",
       " 'посёлок Белоостров',\n",
       " 'посёлок Алексеевка',\n",
       " 'посёлок городского типа Важины',\n",
       " 'поселок Глебычево',\n",
       " 'поселок Лукаши',\n",
       " 'поселок Петровское',\n",
       " 'деревня Щеглово',\n",
       " 'городской посёлок Рощино',\n",
       " 'поселок городского типа Никольский',\n",
       " 'поселок Кингисеппский',\n",
       " 'посёлок при железнодорожной станции Вещево',\n",
       " 'поселок Ушаки',\n",
       " 'деревня Старополье',\n",
       " 'деревня Котлы',\n",
       " 'деревня Сижно',\n",
       " 'деревня Лампово',\n",
       " 'деревня Торосово',\n",
       " 'посёлок Форт Красная Горка',\n",
       " 'деревня Новолисино',\n",
       " 'посёлок станции Громово',\n",
       " 'поселок городского типа Ефимовский',\n",
       " 'деревня Глинка',\n",
       " 'посёлок Мельниково',\n",
       " 'поселок городского типа Назия',\n",
       " 'деревня Старая Пустошь',\n",
       " 'поселок Коммунары',\n",
       " 'поселок Починок',\n",
       " 'деревня Разбегаево',\n",
       " 'посёлок городского типа Рябово',\n",
       " 'поселок Гладкое',\n",
       " 'посёлок при железнодорожной станции Приветнинское',\n",
       " 'поселок Тёсово-4',\n",
       " 'посёлок Жилгородок',\n",
       " 'деревня Бор',\n",
       " 'посёлок Коробицыно',\n",
       " 'деревня Большая Вруда',\n",
       " 'деревня Курковицы',\n",
       " 'посёлок Лисий Нос',\n",
       " 'поселок Серебрянский',\n",
       " 'городской посёлок Советский',\n",
       " 'посёлок Кобралово',\n",
       " 'поселок Кобралово',\n",
       " 'поселок городского типа Кондратьево',\n",
       " 'село Копорье',\n",
       " 'поселок Любань',\n",
       " 'деревня Реброво',\n",
       " 'деревня Зимитицы',\n",
       " 'деревня Тойворово',\n",
       " 'поселок Семиозерье',\n",
       " 'поселок Лесное',\n",
       " 'поселок Совхозный',\n",
       " 'поселок Усть-Луга',\n",
       " 'посёлок Суйда',\n",
       " 'посёлок городского типа Форносово',\n",
       " 'деревня Нижние Осельки',\n",
       " 'поселок Мичуринское',\n",
       " 'поселок Перово',\n",
       " 'Высоцк',\n",
       " 'поселок Гарболово',\n",
       " 'село Шум',\n",
       " 'поселок Котельский',\n",
       " 'посёлок Ленинское',\n",
       " 'деревня Большая Пустомержа',\n",
       " 'деревня Пижма',\n",
       " 'коттеджный поселок Кивеннапа Север',\n",
       " 'поселок Коробицыно',\n",
       " 'поселок Ромашки',\n",
       " 'деревня Каськово',\n",
       " 'деревня Куровицы',\n",
       " 'поселок Сумино',\n",
       " 'поселок городского типа Большая Ижора',\n",
       " 'поселок Кирпичное',\n",
       " 'деревня Ям-Тесово',\n",
       " 'деревня Терпилицы',\n",
       " 'посёлок городского типа Вознесенье',\n",
       " 'поселок городского типа Токсово',\n",
       " 'посёлок Шугозеро',\n",
       " 'деревня Ваганово',\n",
       " 'поселок Пушное',\n",
       " 'садовое товарищество Садко',\n",
       " 'деревня Выскатка',\n",
       " 'поселок Громово',\n",
       " 'посёлок станции Свирь',\n",
       " 'деревня Кисельня',\n",
       " 'село Старая Ладога',\n",
       " 'посёлок Старая Малукса',\n",
       " 'поселок Калитино',\n",
       " 'посёлок Высокоключевой',\n",
       " 'садовое товарищество Приладожский',\n",
       " 'посёлок Пансионат Зелёный Бор',\n",
       " 'посёлок Перово',\n",
       " 'деревня Ненимяки',\n",
       " 'поселок Пансионат Зелёный Бор',\n",
       " 'деревня Снегирёвка',\n",
       " 'деревня Рапполово',\n",
       " 'деревня Пустынка',\n",
       " 'поселок Рабитицы',\n",
       " 'деревня Большой Сабск',\n",
       " 'посёлок Усть-Ижора',\n",
       " 'деревня Лупполово',\n",
       " 'деревня Большое Рейзино',\n",
       " 'деревня Малая Романовка',\n",
       " 'деревня Суоранда',\n",
       " 'поселок Дружноселье',\n",
       " 'село Паша',\n",
       " 'поселок Володарское',\n",
       " 'деревня Нижняя',\n",
       " 'коттеджный посёлок Лесное',\n",
       " 'деревня Тихковицы',\n",
       " 'деревня Борисова Грива',\n",
       " 'посёлок Дзержинского']"
      ]
     },
     "metadata": {},
     "output_type": "display_data"
    }
   ],
   "source": [
    "display(data['locality_name'].unique().tolist()) #список населенных пунктов указанных в датафрейме"
   ]
  },
  {
   "cell_type": "markdown",
   "metadata": {},
   "source": [
    "Видим большое количество неявных дубликатов. Приведем строки к нижнему регистру,заменим все \"ё\" на \"е\", и устраним путаницу в административном делении."
   ]
  },
  {
   "cell_type": "code",
   "execution_count": 17,
   "metadata": {},
   "outputs": [
    {
     "data": {
      "text/plain": [
       "['санкт-петербург',\n",
       " 'поселок шушары',\n",
       " 'поселок янино-1',\n",
       " 'поселок парголово',\n",
       " 'поселок мурино',\n",
       " 'ломоносов',\n",
       " 'сертолово',\n",
       " 'петергоф',\n",
       " 'пушкин',\n",
       " 'деревня кудрово',\n",
       " 'колпино',\n",
       " 'гатчина',\n",
       " 'деревня федоровское',\n",
       " 'выборг',\n",
       " 'кронштадт',\n",
       " 'кировск',\n",
       " 'деревня новое девяткино',\n",
       " 'поселок металлострой',\n",
       " 'поселок лебяжье',\n",
       " 'поселок сиверский',\n",
       " 'поселок молодцово',\n",
       " 'поселок кузьмоловский',\n",
       " 'садовое товарищество новая ропша',\n",
       " 'павловск',\n",
       " 'деревня пикколово',\n",
       " 'всеволожск',\n",
       " 'волхов',\n",
       " 'кингисепп',\n",
       " 'приозерск',\n",
       " 'сестрорецк',\n",
       " 'деревня куттузи',\n",
       " 'поселок аннино',\n",
       " 'деревня заклинье',\n",
       " 'поселок торковичи',\n",
       " 'поселок первомайское',\n",
       " 'красное село',\n",
       " 'поселок понтонный',\n",
       " 'деревня старая',\n",
       " 'деревня лесколово',\n",
       " 'село путилово',\n",
       " 'ивангород',\n",
       " 'мурино',\n",
       " 'сланцы',\n",
       " 'шлиссельбург',\n",
       " 'сясьстрой',\n",
       " 'никольское',\n",
       " 'зеленогорск',\n",
       " 'сосновый бор',\n",
       " 'поселок новый свет',\n",
       " 'деревня оржицы',\n",
       " 'деревня кальтино',\n",
       " 'кудрово',\n",
       " 'поселок романовка',\n",
       " 'поселок бугры',\n",
       " 'поселок рощино',\n",
       " 'кириши',\n",
       " 'луга',\n",
       " 'волосово',\n",
       " 'отрадное',\n",
       " 'село павлово',\n",
       " 'поселок оредеж',\n",
       " 'поселок красный бор',\n",
       " 'коммунар',\n",
       " 'поселок молодежное',\n",
       " 'деревня нурма',\n",
       " 'поселок синявино',\n",
       " 'тосно',\n",
       " 'поселок стрельна',\n",
       " 'бокситогорск',\n",
       " 'поселок александровская',\n",
       " 'деревня лопухинка',\n",
       " 'поселок терволово',\n",
       " 'поселок советский',\n",
       " 'подпорожье',\n",
       " 'поселок петровское',\n",
       " 'поселок токсово',\n",
       " 'поселок сельцо',\n",
       " 'поселок вырица',\n",
       " 'деревня келози',\n",
       " 'деревня вартемяги',\n",
       " 'поселок тельмана',\n",
       " 'поселок большая ижора',\n",
       " 'тихвин',\n",
       " 'деревня агалатово',\n",
       " 'поселок новогорелово',\n",
       " 'поселок лесогорский',\n",
       " 'деревня лаголово',\n",
       " 'поселок цвелодубово',\n",
       " 'поселок рахья',\n",
       " 'деревня белогорка',\n",
       " 'поселок заводской',\n",
       " 'поселок новоселье',\n",
       " 'деревня большие колпаны',\n",
       " 'деревня горбунки',\n",
       " 'деревня заневка',\n",
       " 'приморск',\n",
       " 'поселок федоровское',\n",
       " 'деревня мистолово',\n",
       " 'новая ладога',\n",
       " 'поселок зимитицы',\n",
       " 'поселок барышево',\n",
       " 'деревня разметелево',\n",
       " 'поселок имени свердлова',\n",
       " 'деревня пеники',\n",
       " 'поселок рябово',\n",
       " 'деревня пудомяги',\n",
       " 'деревня бегуницы',\n",
       " 'поселок поляны',\n",
       " 'поселок мга',\n",
       " 'поселок елизаветино',\n",
       " 'поселок кузнечное',\n",
       " 'деревня колтуши',\n",
       " 'поселок запорожское',\n",
       " 'деревня гостилицы',\n",
       " 'деревня малое карлино',\n",
       " 'поселок мичуринское',\n",
       " 'поселок имени морозова',\n",
       " 'поселок песочный',\n",
       " 'поселок сосново',\n",
       " 'деревня аро',\n",
       " 'поселок ильичево',\n",
       " 'поселок тайцы',\n",
       " 'деревня малое верево',\n",
       " 'поселок станции вещево',\n",
       " 'деревня калитино',\n",
       " 'поселок ульяновка',\n",
       " 'деревня чудской бор',\n",
       " 'поселок дубровка',\n",
       " 'деревня мины',\n",
       " 'поселок войсковицы',\n",
       " 'деревня коркино',\n",
       " 'поселок ропша',\n",
       " 'поселок приладожский',\n",
       " 'поселок щеглово',\n",
       " 'поселок гаврилово',\n",
       " 'лодейное поле',\n",
       " 'пикалево',\n",
       " 'деревня рабитицы',\n",
       " 'деревня кузьмолово',\n",
       " 'деревня малые колпаны',\n",
       " 'поселок назия',\n",
       " 'поселок репино',\n",
       " 'поселок павлово',\n",
       " 'поселок углово',\n",
       " 'деревня низино',\n",
       " 'поселок старая малукса',\n",
       " 'садовое товарищество рахья',\n",
       " 'поселок победа',\n",
       " 'деревня меньково',\n",
       " 'деревня старые бегуницы',\n",
       " 'поселок саперный',\n",
       " 'поселок семрино',\n",
       " 'поселок глажево',\n",
       " 'поселок кобринское',\n",
       " 'деревня гарболово',\n",
       " 'деревня юкки',\n",
       " 'поселок станции приветнинское',\n",
       " 'деревня мануйлово',\n",
       " 'поселок цвылево',\n",
       " 'поселок мельниково',\n",
       " 'поселок плодовое',\n",
       " 'поселок пудость',\n",
       " 'поселок усть-луга',\n",
       " 'светогорск',\n",
       " 'любань',\n",
       " 'поселок селезнево',\n",
       " 'каменногорск',\n",
       " 'деревня кривко',\n",
       " 'деревня парицы',\n",
       " 'поселок жилпоселок',\n",
       " 'поселок войскорово',\n",
       " 'село никольское',\n",
       " 'поселок стеклянный',\n",
       " 'поселок мыза-ивановка',\n",
       " 'село русско-высоцкое',\n",
       " 'поселок форносово',\n",
       " 'поселок житково',\n",
       " 'поселок виллози',\n",
       " 'деревня шпаньково',\n",
       " 'деревня кипень',\n",
       " 'поселок сумино',\n",
       " 'поселок возрождение',\n",
       " 'деревня старосиверская',\n",
       " 'поселок кикерино',\n",
       " 'деревня старое хинколово',\n",
       " 'поселок пригородный',\n",
       " 'поселок торфяное',\n",
       " 'поселок будогощь',\n",
       " 'поселок суходолье',\n",
       " 'поселок красная долина',\n",
       " 'деревня хапо-ое',\n",
       " 'поселок дружная горка',\n",
       " 'деревня извара',\n",
       " 'поселок лисий нос',\n",
       " 'деревня яльгелево',\n",
       " 'село рождествено',\n",
       " 'деревня сяськелево',\n",
       " 'деревня камышовка',\n",
       " 'садоводческое некоммерческое товарищество лесная поляна',\n",
       " 'поселок жилгородок',\n",
       " 'деревня ялгино',\n",
       " 'деревня батово',\n",
       " 'поселок новый учхоз',\n",
       " 'поселок гончарово',\n",
       " 'поселок почап',\n",
       " 'поселок саперное',\n",
       " 'поселок платформа 69-й километр',\n",
       " 'поселок каложицы',\n",
       " 'деревня фалилеево',\n",
       " 'деревня пельгора',\n",
       " 'деревня торошковичи',\n",
       " 'поселок белоостров',\n",
       " 'поселок алексеевка',\n",
       " 'поселок важины',\n",
       " 'поселок глебычево',\n",
       " 'поселок лукаши',\n",
       " 'деревня щеглово',\n",
       " 'поселок никольский',\n",
       " 'поселок кингисеппский',\n",
       " 'поселок при железнодорожной станции вещево',\n",
       " 'поселок ушаки',\n",
       " 'деревня старополье',\n",
       " 'деревня котлы',\n",
       " 'деревня сижно',\n",
       " 'деревня лампово',\n",
       " 'деревня торосово',\n",
       " 'поселок форт красная горка',\n",
       " 'деревня новолисино',\n",
       " 'поселок станции громово',\n",
       " 'поселок ефимовский',\n",
       " 'деревня глинка',\n",
       " 'деревня старая пустошь',\n",
       " 'поселок коммунары',\n",
       " 'поселок починок',\n",
       " 'деревня разбегаево',\n",
       " 'поселок гладкое',\n",
       " 'поселок при железнодорожной станции приветнинское',\n",
       " 'поселок тесово-4',\n",
       " 'деревня бор',\n",
       " 'поселок коробицыно',\n",
       " 'деревня большая вруда',\n",
       " 'деревня курковицы',\n",
       " 'поселок серебрянский',\n",
       " 'поселок кобралово',\n",
       " 'поселок кондратьево',\n",
       " 'село копорье',\n",
       " 'поселок любань',\n",
       " 'деревня реброво',\n",
       " 'деревня зимитицы',\n",
       " 'деревня тойворово',\n",
       " 'поселок семиозерье',\n",
       " 'поселок лесное',\n",
       " 'поселок совхозный',\n",
       " 'поселок суйда',\n",
       " 'деревня нижние осельки',\n",
       " 'поселок перово',\n",
       " 'высоцк',\n",
       " 'поселок гарболово',\n",
       " 'село шум',\n",
       " 'поселок котельский',\n",
       " 'поселок ленинское',\n",
       " 'деревня большая пустомержа',\n",
       " 'деревня пижма',\n",
       " 'коттеджный поселок кивеннапа север',\n",
       " 'поселок ромашки',\n",
       " 'деревня каськово',\n",
       " 'деревня куровицы',\n",
       " 'поселок кирпичное',\n",
       " 'деревня ям-тесово',\n",
       " 'деревня терпилицы',\n",
       " 'поселок вознесенье',\n",
       " 'поселок шугозеро',\n",
       " 'деревня ваганово',\n",
       " 'поселок пушное',\n",
       " 'садовое товарищество садко',\n",
       " 'деревня выскатка',\n",
       " 'поселок громово',\n",
       " 'поселок станции свирь',\n",
       " 'деревня кисельня',\n",
       " 'село старая ладога',\n",
       " 'поселок калитино',\n",
       " 'поселок высокоключевой',\n",
       " 'садовое товарищество приладожский',\n",
       " 'поселок пансионат зеленый бор',\n",
       " 'деревня ненимяки',\n",
       " 'деревня снегиревка',\n",
       " 'деревня рапполово',\n",
       " 'деревня пустынка',\n",
       " 'поселок рабитицы',\n",
       " 'деревня большой сабск',\n",
       " 'поселок усть-ижора',\n",
       " 'деревня лупполово',\n",
       " 'деревня большое рейзино',\n",
       " 'деревня малая романовка',\n",
       " 'деревня суоранда',\n",
       " 'поселок дружноселье',\n",
       " 'село паша',\n",
       " 'поселок володарское',\n",
       " 'деревня нижняя',\n",
       " 'коттеджный поселок лесное',\n",
       " 'деревня тихковицы',\n",
       " 'деревня борисова грива',\n",
       " 'поселок дзержинского']"
      ]
     },
     "metadata": {},
     "output_type": "display_data"
    }
   ],
   "source": [
    "data['locality_name'] = data['locality_name'].str.lower() #приводим все значения к нижнему регистру\n",
    "data['locality_name'] = data['locality_name'].str.replace('ё', 'е') #заменим все 'ё' на 'е', чтобы посёлок=поселок\n",
    "data['locality_name'] = data['locality_name'].str.replace('городской поселок', 'поселок') # приравняем 'городской поселок' к' поселок'\n",
    "data['locality_name'] = data['locality_name'].str.replace('поселок городского типа', 'поселок')# приравняем 'поселок городского типа' к' поселок\n",
    "data['locality_name'].drop_duplicates().reset_index(drop=True) #сбросим дубликаты\n",
    "display(data['locality_name'].unique().tolist())"
   ]
  },
  {
   "cell_type": "markdown",
   "metadata": {},
   "source": [
    "Столбцы airports_nearest, cityCenters_nearest, parks_around3000, parks_nearest, ponds_around3000, ponds_nearest,все эти столбцы относятся к географическим данным и так же имеют пропуски, но заполнить или удалить мы их не можем т.к. это может сильно исказить данные.  \n",
    "Необходимо будет сообщить разработчикам о проблеме.  \n",
    "Также есть пустые строки в столбце days_exposition, но возможно квартиры еще находятся в продаже или уже проданы, но объявления не сняты, пока не будем трогать эти данные.  \n",
    "А пока просто распечатаем количество пустых строк в каждом из этих столбцов. "
   ]
  },
  {
   "cell_type": "code",
   "execution_count": 18,
   "metadata": {},
   "outputs": [
    {
     "name": "stdout",
     "output_type": "stream",
     "text": [
      "пустые строки в airports_nearest: 4665\n",
      "пустые строки в cityCenters_nearest: 4644\n",
      "пустые строки в parks_around3000: 4643\n",
      "пустые строки в parks_nearest: 13664\n",
      "пустые строки в ponds_around3000: 4643\n",
      "пустые строки в ponds_nearest: 12846\n",
      "пустые строки в ponds_nearest: 12846\n",
      "пустые строки в days_exposition: 2885\n"
     ]
    }
   ],
   "source": [
    "print('пустые строки в airports_nearest:', data['airports_nearest'].isna().sum())\n",
    "print('пустые строки в cityCenters_nearest:', data['cityCenters_nearest'].isna().sum())\n",
    "print('пустые строки в parks_around3000:', data['parks_around3000'].isna().sum())\n",
    "print('пустые строки в parks_nearest:', data['parks_nearest'].isna().sum())\n",
    "print('пустые строки в ponds_around3000:', data['ponds_around3000'].isna().sum())\n",
    "print('пустые строки в ponds_nearest:', data['ponds_nearest'].isna().sum())\n",
    "print('пустые строки в ponds_nearest:', data['ponds_nearest'].isna().sum())\n",
    "print('пустые строки в days_exposition:', data['days_exposition'].isna().sum())\n"
   ]
  },
  {
   "cell_type": "markdown",
   "metadata": {},
   "source": [
    "Посмотрим что у нас получилось.\n"
   ]
  },
  {
   "cell_type": "code",
   "execution_count": 19,
   "metadata": {},
   "outputs": [
    {
     "name": "stdout",
     "output_type": "stream",
     "text": [
      "<class 'pandas.core.frame.DataFrame'>\n",
      "Int64Index: 20905 entries, 0 to 23698\n",
      "Data columns (total 22 columns):\n",
      " #   Column                Non-Null Count  Dtype         \n",
      "---  ------                --------------  -----         \n",
      " 0   total_images          20905 non-null  int64         \n",
      " 1   last_price            20905 non-null  float64       \n",
      " 2   total_area            20905 non-null  float64       \n",
      " 3   first_day_exposition  20905 non-null  datetime64[ns]\n",
      " 4   rooms                 20905 non-null  int64         \n",
      " 5   ceiling_height        20905 non-null  float64       \n",
      " 6   floors_total          20905 non-null  float64       \n",
      " 7   living_area           20905 non-null  float64       \n",
      " 8   floor                 20905 non-null  int64         \n",
      " 9   is_apartment          20905 non-null  bool          \n",
      " 10  studio                20905 non-null  bool          \n",
      " 11  open_plan             20905 non-null  bool          \n",
      " 12  kitchen_area          20905 non-null  float64       \n",
      " 13  balcony               20905 non-null  float64       \n",
      " 14  locality_name         20905 non-null  object        \n",
      " 15  airports_nearest      16240 non-null  float64       \n",
      " 16  cityCenters_nearest   16261 non-null  float64       \n",
      " 17  parks_around3000      16262 non-null  float64       \n",
      " 18  parks_nearest         7241 non-null   float64       \n",
      " 19  ponds_around3000      16262 non-null  float64       \n",
      " 20  ponds_nearest         8059 non-null   float64       \n",
      " 21  days_exposition       18020 non-null  float64       \n",
      "dtypes: bool(3), datetime64[ns](1), float64(14), int64(3), object(1)\n",
      "memory usage: 3.2+ MB\n"
     ]
    },
    {
     "data": {
      "text/plain": [
       "None"
      ]
     },
     "metadata": {},
     "output_type": "display_data"
    },
    {
     "data": {
      "text/html": [
       "<div>\n",
       "<style scoped>\n",
       "    .dataframe tbody tr th:only-of-type {\n",
       "        vertical-align: middle;\n",
       "    }\n",
       "\n",
       "    .dataframe tbody tr th {\n",
       "        vertical-align: top;\n",
       "    }\n",
       "\n",
       "    .dataframe thead th {\n",
       "        text-align: right;\n",
       "    }\n",
       "</style>\n",
       "<table border=\"1\" class=\"dataframe\">\n",
       "  <thead>\n",
       "    <tr style=\"text-align: right;\">\n",
       "      <th></th>\n",
       "      <th>total_images</th>\n",
       "      <th>last_price</th>\n",
       "      <th>total_area</th>\n",
       "      <th>rooms</th>\n",
       "      <th>ceiling_height</th>\n",
       "      <th>floors_total</th>\n",
       "      <th>living_area</th>\n",
       "      <th>floor</th>\n",
       "      <th>kitchen_area</th>\n",
       "      <th>balcony</th>\n",
       "      <th>airports_nearest</th>\n",
       "      <th>cityCenters_nearest</th>\n",
       "      <th>parks_around3000</th>\n",
       "      <th>parks_nearest</th>\n",
       "      <th>ponds_around3000</th>\n",
       "      <th>ponds_nearest</th>\n",
       "      <th>days_exposition</th>\n",
       "    </tr>\n",
       "  </thead>\n",
       "  <tbody>\n",
       "    <tr>\n",
       "      <th>count</th>\n",
       "      <td>20905.000000</td>\n",
       "      <td>2.090500e+04</td>\n",
       "      <td>20905.000000</td>\n",
       "      <td>20905.000000</td>\n",
       "      <td>20905.000000</td>\n",
       "      <td>20905.000000</td>\n",
       "      <td>20905.000000</td>\n",
       "      <td>20905.000000</td>\n",
       "      <td>20905.000000</td>\n",
       "      <td>20905.000000</td>\n",
       "      <td>16240.000000</td>\n",
       "      <td>16261.000000</td>\n",
       "      <td>16262.000000</td>\n",
       "      <td>7241.000000</td>\n",
       "      <td>16262.000000</td>\n",
       "      <td>8059.000000</td>\n",
       "      <td>18020.000000</td>\n",
       "    </tr>\n",
       "    <tr>\n",
       "      <th>mean</th>\n",
       "      <td>10.093518</td>\n",
       "      <td>6.503258e+06</td>\n",
       "      <td>60.509551</td>\n",
       "      <td>2.095288</td>\n",
       "      <td>2.703759</td>\n",
       "      <td>10.560727</td>\n",
       "      <td>34.633910</td>\n",
       "      <td>5.836451</td>\n",
       "      <td>10.509280</td>\n",
       "      <td>0.619900</td>\n",
       "      <td>28790.589963</td>\n",
       "      <td>14247.130435</td>\n",
       "      <td>0.611794</td>\n",
       "      <td>487.876260</td>\n",
       "      <td>0.763252</td>\n",
       "      <td>519.548331</td>\n",
       "      <td>185.511099</td>\n",
       "    </tr>\n",
       "    <tr>\n",
       "      <th>std</th>\n",
       "      <td>5.675134</td>\n",
       "      <td>9.603551e+06</td>\n",
       "      <td>34.490375</td>\n",
       "      <td>1.064783</td>\n",
       "      <td>0.726165</td>\n",
       "      <td>6.518664</td>\n",
       "      <td>21.931774</td>\n",
       "      <td>4.813454</td>\n",
       "      <td>5.841913</td>\n",
       "      <td>0.970423</td>\n",
       "      <td>12653.955431</td>\n",
       "      <td>8670.023374</td>\n",
       "      <td>0.801276</td>\n",
       "      <td>337.722337</td>\n",
       "      <td>0.937914</td>\n",
       "      <td>277.570489</td>\n",
       "      <td>222.037847</td>\n",
       "    </tr>\n",
       "    <tr>\n",
       "      <th>min</th>\n",
       "      <td>0.000000</td>\n",
       "      <td>1.219000e+04</td>\n",
       "      <td>14.000000</td>\n",
       "      <td>1.000000</td>\n",
       "      <td>1.000000</td>\n",
       "      <td>1.000000</td>\n",
       "      <td>2.000000</td>\n",
       "      <td>1.000000</td>\n",
       "      <td>1.300000</td>\n",
       "      <td>0.000000</td>\n",
       "      <td>0.000000</td>\n",
       "      <td>181.000000</td>\n",
       "      <td>0.000000</td>\n",
       "      <td>1.000000</td>\n",
       "      <td>0.000000</td>\n",
       "      <td>13.000000</td>\n",
       "      <td>1.000000</td>\n",
       "    </tr>\n",
       "    <tr>\n",
       "      <th>25%</th>\n",
       "      <td>6.000000</td>\n",
       "      <td>3.500000e+06</td>\n",
       "      <td>40.500000</td>\n",
       "      <td>1.000000</td>\n",
       "      <td>2.600000</td>\n",
       "      <td>5.000000</td>\n",
       "      <td>18.800000</td>\n",
       "      <td>2.000000</td>\n",
       "      <td>7.000000</td>\n",
       "      <td>0.000000</td>\n",
       "      <td>18518.000000</td>\n",
       "      <td>9350.000000</td>\n",
       "      <td>0.000000</td>\n",
       "      <td>287.000000</td>\n",
       "      <td>0.000000</td>\n",
       "      <td>294.500000</td>\n",
       "      <td>45.000000</td>\n",
       "    </tr>\n",
       "    <tr>\n",
       "      <th>50%</th>\n",
       "      <td>10.000000</td>\n",
       "      <td>4.700000e+06</td>\n",
       "      <td>52.100000</td>\n",
       "      <td>2.000000</td>\n",
       "      <td>2.650000</td>\n",
       "      <td>9.000000</td>\n",
       "      <td>30.100000</td>\n",
       "      <td>4.000000</td>\n",
       "      <td>9.000000</td>\n",
       "      <td>0.000000</td>\n",
       "      <td>26729.000000</td>\n",
       "      <td>13114.000000</td>\n",
       "      <td>0.000000</td>\n",
       "      <td>453.000000</td>\n",
       "      <td>0.000000</td>\n",
       "      <td>503.000000</td>\n",
       "      <td>102.000000</td>\n",
       "    </tr>\n",
       "    <tr>\n",
       "      <th>75%</th>\n",
       "      <td>14.000000</td>\n",
       "      <td>6.800000e+06</td>\n",
       "      <td>70.000000</td>\n",
       "      <td>3.000000</td>\n",
       "      <td>2.700000</td>\n",
       "      <td>15.000000</td>\n",
       "      <td>42.500000</td>\n",
       "      <td>8.000000</td>\n",
       "      <td>12.000000</td>\n",
       "      <td>1.000000</td>\n",
       "      <td>37228.000000</td>\n",
       "      <td>16257.000000</td>\n",
       "      <td>1.000000</td>\n",
       "      <td>610.000000</td>\n",
       "      <td>1.000000</td>\n",
       "      <td>733.000000</td>\n",
       "      <td>239.000000</td>\n",
       "    </tr>\n",
       "    <tr>\n",
       "      <th>max</th>\n",
       "      <td>50.000000</td>\n",
       "      <td>4.200000e+08</td>\n",
       "      <td>900.000000</td>\n",
       "      <td>19.000000</td>\n",
       "      <td>100.000000</td>\n",
       "      <td>60.000000</td>\n",
       "      <td>409.700000</td>\n",
       "      <td>33.000000</td>\n",
       "      <td>112.000000</td>\n",
       "      <td>5.000000</td>\n",
       "      <td>84869.000000</td>\n",
       "      <td>65968.000000</td>\n",
       "      <td>3.000000</td>\n",
       "      <td>3190.000000</td>\n",
       "      <td>3.000000</td>\n",
       "      <td>1344.000000</td>\n",
       "      <td>1580.000000</td>\n",
       "    </tr>\n",
       "  </tbody>\n",
       "</table>\n",
       "</div>"
      ],
      "text/plain": [
       "       total_images    last_price    total_area         rooms  ceiling_height  \\\n",
       "count  20905.000000  2.090500e+04  20905.000000  20905.000000    20905.000000   \n",
       "mean      10.093518  6.503258e+06     60.509551      2.095288        2.703759   \n",
       "std        5.675134  9.603551e+06     34.490375      1.064783        0.726165   \n",
       "min        0.000000  1.219000e+04     14.000000      1.000000        1.000000   \n",
       "25%        6.000000  3.500000e+06     40.500000      1.000000        2.600000   \n",
       "50%       10.000000  4.700000e+06     52.100000      2.000000        2.650000   \n",
       "75%       14.000000  6.800000e+06     70.000000      3.000000        2.700000   \n",
       "max       50.000000  4.200000e+08    900.000000     19.000000      100.000000   \n",
       "\n",
       "       floors_total   living_area         floor  kitchen_area       balcony  \\\n",
       "count  20905.000000  20905.000000  20905.000000  20905.000000  20905.000000   \n",
       "mean      10.560727     34.633910      5.836451     10.509280      0.619900   \n",
       "std        6.518664     21.931774      4.813454      5.841913      0.970423   \n",
       "min        1.000000      2.000000      1.000000      1.300000      0.000000   \n",
       "25%        5.000000     18.800000      2.000000      7.000000      0.000000   \n",
       "50%        9.000000     30.100000      4.000000      9.000000      0.000000   \n",
       "75%       15.000000     42.500000      8.000000     12.000000      1.000000   \n",
       "max       60.000000    409.700000     33.000000    112.000000      5.000000   \n",
       "\n",
       "       airports_nearest  cityCenters_nearest  parks_around3000  parks_nearest  \\\n",
       "count      16240.000000         16261.000000      16262.000000    7241.000000   \n",
       "mean       28790.589963         14247.130435          0.611794     487.876260   \n",
       "std        12653.955431          8670.023374          0.801276     337.722337   \n",
       "min            0.000000           181.000000          0.000000       1.000000   \n",
       "25%        18518.000000          9350.000000          0.000000     287.000000   \n",
       "50%        26729.000000         13114.000000          0.000000     453.000000   \n",
       "75%        37228.000000         16257.000000          1.000000     610.000000   \n",
       "max        84869.000000         65968.000000          3.000000    3190.000000   \n",
       "\n",
       "       ponds_around3000  ponds_nearest  days_exposition  \n",
       "count      16262.000000    8059.000000     18020.000000  \n",
       "mean           0.763252     519.548331       185.511099  \n",
       "std            0.937914     277.570489       222.037847  \n",
       "min            0.000000      13.000000         1.000000  \n",
       "25%            0.000000     294.500000        45.000000  \n",
       "50%            0.000000     503.000000       102.000000  \n",
       "75%            1.000000     733.000000       239.000000  \n",
       "max            3.000000    1344.000000      1580.000000  "
      ]
     },
     "metadata": {},
     "output_type": "display_data"
    },
    {
     "data": {
      "text/html": [
       "<div>\n",
       "<style scoped>\n",
       "    .dataframe tbody tr th:only-of-type {\n",
       "        vertical-align: middle;\n",
       "    }\n",
       "\n",
       "    .dataframe tbody tr th {\n",
       "        vertical-align: top;\n",
       "    }\n",
       "\n",
       "    .dataframe thead th {\n",
       "        text-align: right;\n",
       "    }\n",
       "</style>\n",
       "<table border=\"1\" class=\"dataframe\">\n",
       "  <thead>\n",
       "    <tr style=\"text-align: right;\">\n",
       "      <th></th>\n",
       "      <th>total_images</th>\n",
       "      <th>last_price</th>\n",
       "      <th>total_area</th>\n",
       "      <th>first_day_exposition</th>\n",
       "      <th>rooms</th>\n",
       "      <th>ceiling_height</th>\n",
       "      <th>floors_total</th>\n",
       "      <th>living_area</th>\n",
       "      <th>floor</th>\n",
       "      <th>is_apartment</th>\n",
       "      <th>...</th>\n",
       "      <th>kitchen_area</th>\n",
       "      <th>balcony</th>\n",
       "      <th>locality_name</th>\n",
       "      <th>airports_nearest</th>\n",
       "      <th>cityCenters_nearest</th>\n",
       "      <th>parks_around3000</th>\n",
       "      <th>parks_nearest</th>\n",
       "      <th>ponds_around3000</th>\n",
       "      <th>ponds_nearest</th>\n",
       "      <th>days_exposition</th>\n",
       "    </tr>\n",
       "  </thead>\n",
       "  <tbody>\n",
       "    <tr>\n",
       "      <th>0</th>\n",
       "      <td>20</td>\n",
       "      <td>13000000.0</td>\n",
       "      <td>108.0</td>\n",
       "      <td>2019-03-07</td>\n",
       "      <td>3</td>\n",
       "      <td>2.70</td>\n",
       "      <td>16.0</td>\n",
       "      <td>51.0</td>\n",
       "      <td>8</td>\n",
       "      <td>False</td>\n",
       "      <td>...</td>\n",
       "      <td>25.0</td>\n",
       "      <td>0.0</td>\n",
       "      <td>санкт-петербург</td>\n",
       "      <td>18863.0</td>\n",
       "      <td>16028.0</td>\n",
       "      <td>1.0</td>\n",
       "      <td>482.0</td>\n",
       "      <td>2.0</td>\n",
       "      <td>755.0</td>\n",
       "      <td>NaN</td>\n",
       "    </tr>\n",
       "    <tr>\n",
       "      <th>1</th>\n",
       "      <td>7</td>\n",
       "      <td>3350000.0</td>\n",
       "      <td>40.4</td>\n",
       "      <td>2018-12-04</td>\n",
       "      <td>1</td>\n",
       "      <td>2.65</td>\n",
       "      <td>11.0</td>\n",
       "      <td>18.6</td>\n",
       "      <td>1</td>\n",
       "      <td>False</td>\n",
       "      <td>...</td>\n",
       "      <td>11.0</td>\n",
       "      <td>2.0</td>\n",
       "      <td>поселок шушары</td>\n",
       "      <td>12817.0</td>\n",
       "      <td>18603.0</td>\n",
       "      <td>0.0</td>\n",
       "      <td>NaN</td>\n",
       "      <td>0.0</td>\n",
       "      <td>NaN</td>\n",
       "      <td>81.0</td>\n",
       "    </tr>\n",
       "    <tr>\n",
       "      <th>2</th>\n",
       "      <td>10</td>\n",
       "      <td>5196000.0</td>\n",
       "      <td>56.0</td>\n",
       "      <td>2015-08-20</td>\n",
       "      <td>2</td>\n",
       "      <td>2.65</td>\n",
       "      <td>5.0</td>\n",
       "      <td>34.3</td>\n",
       "      <td>4</td>\n",
       "      <td>False</td>\n",
       "      <td>...</td>\n",
       "      <td>8.3</td>\n",
       "      <td>0.0</td>\n",
       "      <td>санкт-петербург</td>\n",
       "      <td>21741.0</td>\n",
       "      <td>13933.0</td>\n",
       "      <td>1.0</td>\n",
       "      <td>90.0</td>\n",
       "      <td>2.0</td>\n",
       "      <td>574.0</td>\n",
       "      <td>558.0</td>\n",
       "    </tr>\n",
       "    <tr>\n",
       "      <th>4</th>\n",
       "      <td>2</td>\n",
       "      <td>10000000.0</td>\n",
       "      <td>100.0</td>\n",
       "      <td>2018-06-19</td>\n",
       "      <td>2</td>\n",
       "      <td>3.03</td>\n",
       "      <td>14.0</td>\n",
       "      <td>32.0</td>\n",
       "      <td>13</td>\n",
       "      <td>False</td>\n",
       "      <td>...</td>\n",
       "      <td>41.0</td>\n",
       "      <td>0.0</td>\n",
       "      <td>санкт-петербург</td>\n",
       "      <td>31856.0</td>\n",
       "      <td>8098.0</td>\n",
       "      <td>2.0</td>\n",
       "      <td>112.0</td>\n",
       "      <td>1.0</td>\n",
       "      <td>48.0</td>\n",
       "      <td>121.0</td>\n",
       "    </tr>\n",
       "    <tr>\n",
       "      <th>5</th>\n",
       "      <td>10</td>\n",
       "      <td>2890000.0</td>\n",
       "      <td>30.4</td>\n",
       "      <td>2018-09-10</td>\n",
       "      <td>1</td>\n",
       "      <td>2.65</td>\n",
       "      <td>12.0</td>\n",
       "      <td>14.4</td>\n",
       "      <td>5</td>\n",
       "      <td>False</td>\n",
       "      <td>...</td>\n",
       "      <td>9.1</td>\n",
       "      <td>0.0</td>\n",
       "      <td>поселок янино-1</td>\n",
       "      <td>NaN</td>\n",
       "      <td>NaN</td>\n",
       "      <td>NaN</td>\n",
       "      <td>NaN</td>\n",
       "      <td>NaN</td>\n",
       "      <td>NaN</td>\n",
       "      <td>55.0</td>\n",
       "    </tr>\n",
       "  </tbody>\n",
       "</table>\n",
       "<p>5 rows × 22 columns</p>\n",
       "</div>"
      ],
      "text/plain": [
       "   total_images  last_price  total_area first_day_exposition  rooms  \\\n",
       "0            20  13000000.0       108.0           2019-03-07      3   \n",
       "1             7   3350000.0        40.4           2018-12-04      1   \n",
       "2            10   5196000.0        56.0           2015-08-20      2   \n",
       "4             2  10000000.0       100.0           2018-06-19      2   \n",
       "5            10   2890000.0        30.4           2018-09-10      1   \n",
       "\n",
       "   ceiling_height  floors_total  living_area  floor  is_apartment  ...  \\\n",
       "0            2.70          16.0         51.0      8         False  ...   \n",
       "1            2.65          11.0         18.6      1         False  ...   \n",
       "2            2.65           5.0         34.3      4         False  ...   \n",
       "4            3.03          14.0         32.0     13         False  ...   \n",
       "5            2.65          12.0         14.4      5         False  ...   \n",
       "\n",
       "   kitchen_area  balcony    locality_name  airports_nearest  \\\n",
       "0          25.0      0.0  санкт-петербург           18863.0   \n",
       "1          11.0      2.0   поселок шушары           12817.0   \n",
       "2           8.3      0.0  санкт-петербург           21741.0   \n",
       "4          41.0      0.0  санкт-петербург           31856.0   \n",
       "5           9.1      0.0  поселок янино-1               NaN   \n",
       "\n",
       "  cityCenters_nearest  parks_around3000  parks_nearest  ponds_around3000  \\\n",
       "0             16028.0               1.0          482.0               2.0   \n",
       "1             18603.0               0.0            NaN               0.0   \n",
       "2             13933.0               1.0           90.0               2.0   \n",
       "4              8098.0               2.0          112.0               1.0   \n",
       "5                 NaN               NaN            NaN               NaN   \n",
       "\n",
       "   ponds_nearest  days_exposition  \n",
       "0          755.0              NaN  \n",
       "1            NaN             81.0  \n",
       "2          574.0            558.0  \n",
       "4           48.0            121.0  \n",
       "5            NaN             55.0  \n",
       "\n",
       "[5 rows x 22 columns]"
      ]
     },
     "metadata": {},
     "output_type": "display_data"
    },
    {
     "data": {
      "text/html": [
       "<div>\n",
       "<style scoped>\n",
       "    .dataframe tbody tr th:only-of-type {\n",
       "        vertical-align: middle;\n",
       "    }\n",
       "\n",
       "    .dataframe tbody tr th {\n",
       "        vertical-align: top;\n",
       "    }\n",
       "\n",
       "    .dataframe thead th {\n",
       "        text-align: right;\n",
       "    }\n",
       "</style>\n",
       "<table border=\"1\" class=\"dataframe\">\n",
       "  <thead>\n",
       "    <tr style=\"text-align: right;\">\n",
       "      <th></th>\n",
       "      <th>total_images</th>\n",
       "      <th>last_price</th>\n",
       "      <th>total_area</th>\n",
       "      <th>first_day_exposition</th>\n",
       "      <th>rooms</th>\n",
       "      <th>ceiling_height</th>\n",
       "      <th>floors_total</th>\n",
       "      <th>living_area</th>\n",
       "      <th>floor</th>\n",
       "      <th>is_apartment</th>\n",
       "      <th>...</th>\n",
       "      <th>kitchen_area</th>\n",
       "      <th>balcony</th>\n",
       "      <th>locality_name</th>\n",
       "      <th>airports_nearest</th>\n",
       "      <th>cityCenters_nearest</th>\n",
       "      <th>parks_around3000</th>\n",
       "      <th>parks_nearest</th>\n",
       "      <th>ponds_around3000</th>\n",
       "      <th>ponds_nearest</th>\n",
       "      <th>days_exposition</th>\n",
       "    </tr>\n",
       "  </thead>\n",
       "  <tbody>\n",
       "    <tr>\n",
       "      <th>23692</th>\n",
       "      <td>2</td>\n",
       "      <td>1350000.0</td>\n",
       "      <td>30.00</td>\n",
       "      <td>2017-07-07</td>\n",
       "      <td>1</td>\n",
       "      <td>2.65</td>\n",
       "      <td>5.0</td>\n",
       "      <td>17.5</td>\n",
       "      <td>4</td>\n",
       "      <td>False</td>\n",
       "      <td>...</td>\n",
       "      <td>6.00</td>\n",
       "      <td>0.0</td>\n",
       "      <td>тихвин</td>\n",
       "      <td>NaN</td>\n",
       "      <td>NaN</td>\n",
       "      <td>NaN</td>\n",
       "      <td>NaN</td>\n",
       "      <td>NaN</td>\n",
       "      <td>NaN</td>\n",
       "      <td>413.0</td>\n",
       "    </tr>\n",
       "    <tr>\n",
       "      <th>23693</th>\n",
       "      <td>9</td>\n",
       "      <td>4600000.0</td>\n",
       "      <td>62.40</td>\n",
       "      <td>2016-08-05</td>\n",
       "      <td>3</td>\n",
       "      <td>2.60</td>\n",
       "      <td>9.0</td>\n",
       "      <td>40.0</td>\n",
       "      <td>8</td>\n",
       "      <td>False</td>\n",
       "      <td>...</td>\n",
       "      <td>8.00</td>\n",
       "      <td>0.0</td>\n",
       "      <td>петергоф</td>\n",
       "      <td>45602.0</td>\n",
       "      <td>34104.0</td>\n",
       "      <td>1.0</td>\n",
       "      <td>352.0</td>\n",
       "      <td>1.0</td>\n",
       "      <td>675.0</td>\n",
       "      <td>239.0</td>\n",
       "    </tr>\n",
       "    <tr>\n",
       "      <th>23694</th>\n",
       "      <td>9</td>\n",
       "      <td>9700000.0</td>\n",
       "      <td>133.81</td>\n",
       "      <td>2017-03-21</td>\n",
       "      <td>3</td>\n",
       "      <td>3.70</td>\n",
       "      <td>5.0</td>\n",
       "      <td>73.3</td>\n",
       "      <td>3</td>\n",
       "      <td>False</td>\n",
       "      <td>...</td>\n",
       "      <td>13.83</td>\n",
       "      <td>0.0</td>\n",
       "      <td>санкт-петербург</td>\n",
       "      <td>24665.0</td>\n",
       "      <td>4232.0</td>\n",
       "      <td>1.0</td>\n",
       "      <td>796.0</td>\n",
       "      <td>3.0</td>\n",
       "      <td>381.0</td>\n",
       "      <td>NaN</td>\n",
       "    </tr>\n",
       "    <tr>\n",
       "      <th>23695</th>\n",
       "      <td>14</td>\n",
       "      <td>3100000.0</td>\n",
       "      <td>59.00</td>\n",
       "      <td>2018-01-15</td>\n",
       "      <td>3</td>\n",
       "      <td>2.65</td>\n",
       "      <td>5.0</td>\n",
       "      <td>38.0</td>\n",
       "      <td>4</td>\n",
       "      <td>False</td>\n",
       "      <td>...</td>\n",
       "      <td>8.50</td>\n",
       "      <td>0.0</td>\n",
       "      <td>тосно</td>\n",
       "      <td>NaN</td>\n",
       "      <td>NaN</td>\n",
       "      <td>NaN</td>\n",
       "      <td>NaN</td>\n",
       "      <td>NaN</td>\n",
       "      <td>NaN</td>\n",
       "      <td>45.0</td>\n",
       "    </tr>\n",
       "    <tr>\n",
       "      <th>23698</th>\n",
       "      <td>4</td>\n",
       "      <td>1350000.0</td>\n",
       "      <td>32.30</td>\n",
       "      <td>2017-07-21</td>\n",
       "      <td>1</td>\n",
       "      <td>2.50</td>\n",
       "      <td>5.0</td>\n",
       "      <td>12.3</td>\n",
       "      <td>1</td>\n",
       "      <td>False</td>\n",
       "      <td>...</td>\n",
       "      <td>9.00</td>\n",
       "      <td>0.0</td>\n",
       "      <td>поселок новый учхоз</td>\n",
       "      <td>NaN</td>\n",
       "      <td>NaN</td>\n",
       "      <td>NaN</td>\n",
       "      <td>NaN</td>\n",
       "      <td>NaN</td>\n",
       "      <td>NaN</td>\n",
       "      <td>NaN</td>\n",
       "    </tr>\n",
       "  </tbody>\n",
       "</table>\n",
       "<p>5 rows × 22 columns</p>\n",
       "</div>"
      ],
      "text/plain": [
       "       total_images  last_price  total_area first_day_exposition  rooms  \\\n",
       "23692             2   1350000.0       30.00           2017-07-07      1   \n",
       "23693             9   4600000.0       62.40           2016-08-05      3   \n",
       "23694             9   9700000.0      133.81           2017-03-21      3   \n",
       "23695            14   3100000.0       59.00           2018-01-15      3   \n",
       "23698             4   1350000.0       32.30           2017-07-21      1   \n",
       "\n",
       "       ceiling_height  floors_total  living_area  floor  is_apartment  ...  \\\n",
       "23692            2.65           5.0         17.5      4         False  ...   \n",
       "23693            2.60           9.0         40.0      8         False  ...   \n",
       "23694            3.70           5.0         73.3      3         False  ...   \n",
       "23695            2.65           5.0         38.0      4         False  ...   \n",
       "23698            2.50           5.0         12.3      1         False  ...   \n",
       "\n",
       "       kitchen_area  balcony        locality_name  airports_nearest  \\\n",
       "23692          6.00      0.0               тихвин               NaN   \n",
       "23693          8.00      0.0             петергоф           45602.0   \n",
       "23694         13.83      0.0      санкт-петербург           24665.0   \n",
       "23695          8.50      0.0                тосно               NaN   \n",
       "23698          9.00      0.0  поселок новый учхоз               NaN   \n",
       "\n",
       "      cityCenters_nearest  parks_around3000  parks_nearest  ponds_around3000  \\\n",
       "23692                 NaN               NaN            NaN               NaN   \n",
       "23693             34104.0               1.0          352.0               1.0   \n",
       "23694              4232.0               1.0          796.0               3.0   \n",
       "23695                 NaN               NaN            NaN               NaN   \n",
       "23698                 NaN               NaN            NaN               NaN   \n",
       "\n",
       "       ponds_nearest  days_exposition  \n",
       "23692            NaN            413.0  \n",
       "23693          675.0            239.0  \n",
       "23694          381.0              NaN  \n",
       "23695            NaN             45.0  \n",
       "23698            NaN              NaN  \n",
       "\n",
       "[5 rows x 22 columns]"
      ]
     },
     "metadata": {},
     "output_type": "display_data"
    }
   ],
   "source": [
    "display(data.info())\n",
    "display(data.describe())\n",
    "display(data.head())\n",
    "display(data.tail())"
   ]
  },
  {
   "cell_type": "markdown",
   "metadata": {},
   "source": [
    "#### Промежуточный итог\n",
    "Данные приведены в порядок, общий массив немного уменьшился, т.к. мы удалили строки в столбцах жилой площади (1903), площади кухни (814), имя населенного пункта (39). Но считаем что это было необходимо, ведь эти данные могут сильно повлиять на исследование.   \n",
    "Часть пропущенных данных мы заменили на медианные значения т.к. они наименее сильно подвержены влияюнию выбросов. \n",
    "Заменили тип данных в столбце  first_day_exposition для дальнейшего использования, а также столбец is_apartment привели к типу данных bool, что тоже нам может понадобится.  \n",
    "Так же необходимо отметить что та часть данных, которая,связана с географическими данными, нетронута т.к. массив достаточно большой и необходимо сообщить разработчикам о возникших затруднениях, ведь пропуски в этих столбцах достигают больше половины всех строк. В одном столбце parks_nearest пустых строк 13691, что составляет 57% от общего количества строк в данных."
   ]
  },
  {
   "cell_type": "markdown",
   "metadata": {},
   "source": [
    "### Посчитаем и добавим в таблицу новые столбцы"
   ]
  },
  {
   "cell_type": "markdown",
   "metadata": {},
   "source": [
    "Нам, для полноты картины, необходимо добавить дополнительные столбцы  в таблицу.  \n",
    "Все кто когда либо сталикавался с  приобретением недвижимости, сталикаваются с таким важным параметром как цена за квадратные метр. С него давайте и начнем и для простоты восприятия приведем их к сразу типу данных int\n"
   ]
  },
  {
   "cell_type": "code",
   "execution_count": 20,
   "metadata": {},
   "outputs": [],
   "source": [
    "data['price_per_square_meter'] = data['last_price'] / data['total_area'] #ценнейшая цена за квадрат\n",
    "data['price_per_square_meter'] = data['price_per_square_meter'].astype('int') #удаление дробей, для легкости восприятия"
   ]
  },
  {
   "cell_type": "markdown",
   "metadata": {},
   "source": [
    "Теперь нам нужно \"разбить\" столбец с датой наших объявлений на отдельные день недели, месяц, год."
   ]
  },
  {
   "cell_type": "code",
   "execution_count": 21,
   "metadata": {},
   "outputs": [],
   "source": [
    "data['weekday_exposition'] = data['first_day_exposition'].dt.weekday #день недели, [0-пн, 1-вт, 2-ср, 3-чт, 4-пт, 5-сб, 6-вс]\n",
    "data['month_exposition'] = data['first_day_exposition'].dt.month #месяц\n",
    "data['year_exposition'] = data['first_day_exposition'].dt.year #год\n"
   ]
  },
  {
   "cell_type": "markdown",
   "metadata": {},
   "source": [
    "Некоторым клиентам важна информация от том первый ли это этаж или последний, дабы помочь им, создадим столбец отображающий данный параметр."
   ]
  },
  {
   "cell_type": "code",
   "execution_count": 22,
   "metadata": {},
   "outputs": [],
   "source": [
    "def floor_type(row): #строим функцию\n",
    "    floors_total = row['floors_total']\n",
    "    floor = row['floor']\n",
    "    if floor == 1:\n",
    "        return 'первый'\n",
    "    elif floor == floors_total:\n",
    "        return 'последний'\n",
    "    elif 1 < floor < floors_total:\n",
    "        return 'другой'\n",
    "\n",
    "data['floor_type'] = data.apply(floor_type, axis = 1) #добавляем результат"
   ]
  },
  {
   "cell_type": "markdown",
   "metadata": {},
   "source": [
    "Зачастую многие смотрят на удаленность недвижимости от центра населенного пункта, у нас уже есть такой параметр в таблице cityCenters_nearest, но дистанция указана в метрах, многим будет понятней в километрах, а заодно и округлим значения."
   ]
  },
  {
   "cell_type": "code",
   "execution_count": 23,
   "metadata": {},
   "outputs": [],
   "source": [
    "data['to_center_km'] = data['cityCenters_nearest'] / 1000\n",
    "data['to_center_km'] = data['to_center_km'].fillna(value=0).astype(int) #fillna здесь помогает избежать ошибки, т.к. некоторые квартиры находятся очень близко к центру"
   ]
  },
  {
   "cell_type": "markdown",
   "metadata": {},
   "source": [
    "Посмотрим что у нас получилось."
   ]
  },
  {
   "cell_type": "code",
   "execution_count": 24,
   "metadata": {},
   "outputs": [
    {
     "name": "stdout",
     "output_type": "stream",
     "text": [
      "<class 'pandas.core.frame.DataFrame'>\n",
      "Int64Index: 20905 entries, 0 to 23698\n",
      "Data columns (total 28 columns):\n",
      " #   Column                  Non-Null Count  Dtype         \n",
      "---  ------                  --------------  -----         \n",
      " 0   total_images            20905 non-null  int64         \n",
      " 1   last_price              20905 non-null  float64       \n",
      " 2   total_area              20905 non-null  float64       \n",
      " 3   first_day_exposition    20905 non-null  datetime64[ns]\n",
      " 4   rooms                   20905 non-null  int64         \n",
      " 5   ceiling_height          20905 non-null  float64       \n",
      " 6   floors_total            20905 non-null  float64       \n",
      " 7   living_area             20905 non-null  float64       \n",
      " 8   floor                   20905 non-null  int64         \n",
      " 9   is_apartment            20905 non-null  bool          \n",
      " 10  studio                  20905 non-null  bool          \n",
      " 11  open_plan               20905 non-null  bool          \n",
      " 12  kitchen_area            20905 non-null  float64       \n",
      " 13  balcony                 20905 non-null  float64       \n",
      " 14  locality_name           20905 non-null  object        \n",
      " 15  airports_nearest        16240 non-null  float64       \n",
      " 16  cityCenters_nearest     16261 non-null  float64       \n",
      " 17  parks_around3000        16262 non-null  float64       \n",
      " 18  parks_nearest           7241 non-null   float64       \n",
      " 19  ponds_around3000        16262 non-null  float64       \n",
      " 20  ponds_nearest           8059 non-null   float64       \n",
      " 21  days_exposition         18020 non-null  float64       \n",
      " 22  price_per_square_meter  20905 non-null  int64         \n",
      " 23  weekday_exposition      20905 non-null  int64         \n",
      " 24  month_exposition        20905 non-null  int64         \n",
      " 25  year_exposition         20905 non-null  int64         \n",
      " 26  floor_type              20905 non-null  object        \n",
      " 27  to_center_km            20905 non-null  int64         \n",
      "dtypes: bool(3), datetime64[ns](1), float64(14), int64(8), object(2)\n",
      "memory usage: 4.2+ MB\n"
     ]
    },
    {
     "data": {
      "text/plain": [
       "None"
      ]
     },
     "metadata": {},
     "output_type": "display_data"
    },
    {
     "data": {
      "text/html": [
       "<div>\n",
       "<style scoped>\n",
       "    .dataframe tbody tr th:only-of-type {\n",
       "        vertical-align: middle;\n",
       "    }\n",
       "\n",
       "    .dataframe tbody tr th {\n",
       "        vertical-align: top;\n",
       "    }\n",
       "\n",
       "    .dataframe thead th {\n",
       "        text-align: right;\n",
       "    }\n",
       "</style>\n",
       "<table border=\"1\" class=\"dataframe\">\n",
       "  <thead>\n",
       "    <tr style=\"text-align: right;\">\n",
       "      <th></th>\n",
       "      <th>total_images</th>\n",
       "      <th>last_price</th>\n",
       "      <th>total_area</th>\n",
       "      <th>rooms</th>\n",
       "      <th>ceiling_height</th>\n",
       "      <th>floors_total</th>\n",
       "      <th>living_area</th>\n",
       "      <th>floor</th>\n",
       "      <th>kitchen_area</th>\n",
       "      <th>balcony</th>\n",
       "      <th>...</th>\n",
       "      <th>parks_around3000</th>\n",
       "      <th>parks_nearest</th>\n",
       "      <th>ponds_around3000</th>\n",
       "      <th>ponds_nearest</th>\n",
       "      <th>days_exposition</th>\n",
       "      <th>price_per_square_meter</th>\n",
       "      <th>weekday_exposition</th>\n",
       "      <th>month_exposition</th>\n",
       "      <th>year_exposition</th>\n",
       "      <th>to_center_km</th>\n",
       "    </tr>\n",
       "  </thead>\n",
       "  <tbody>\n",
       "    <tr>\n",
       "      <th>count</th>\n",
       "      <td>20905.000000</td>\n",
       "      <td>2.090500e+04</td>\n",
       "      <td>20905.000000</td>\n",
       "      <td>20905.000000</td>\n",
       "      <td>20905.000000</td>\n",
       "      <td>20905.000000</td>\n",
       "      <td>20905.000000</td>\n",
       "      <td>20905.000000</td>\n",
       "      <td>20905.000000</td>\n",
       "      <td>20905.000000</td>\n",
       "      <td>...</td>\n",
       "      <td>16262.000000</td>\n",
       "      <td>7241.000000</td>\n",
       "      <td>16262.000000</td>\n",
       "      <td>8059.000000</td>\n",
       "      <td>18020.000000</td>\n",
       "      <td>2.090500e+04</td>\n",
       "      <td>20905.000000</td>\n",
       "      <td>20905.000000</td>\n",
       "      <td>20905.000000</td>\n",
       "      <td>20905.000000</td>\n",
       "    </tr>\n",
       "    <tr>\n",
       "      <th>mean</th>\n",
       "      <td>10.093518</td>\n",
       "      <td>6.503258e+06</td>\n",
       "      <td>60.509551</td>\n",
       "      <td>2.095288</td>\n",
       "      <td>2.703759</td>\n",
       "      <td>10.560727</td>\n",
       "      <td>34.633910</td>\n",
       "      <td>5.836451</td>\n",
       "      <td>10.509280</td>\n",
       "      <td>0.619900</td>\n",
       "      <td>...</td>\n",
       "      <td>0.611794</td>\n",
       "      <td>487.876260</td>\n",
       "      <td>0.763252</td>\n",
       "      <td>519.548331</td>\n",
       "      <td>185.511099</td>\n",
       "      <td>9.919525e+04</td>\n",
       "      <td>2.547190</td>\n",
       "      <td>6.423152</td>\n",
       "      <td>2017.354365</td>\n",
       "      <td>10.696341</td>\n",
       "    </tr>\n",
       "    <tr>\n",
       "      <th>std</th>\n",
       "      <td>5.675134</td>\n",
       "      <td>9.603551e+06</td>\n",
       "      <td>34.490375</td>\n",
       "      <td>1.064783</td>\n",
       "      <td>0.726165</td>\n",
       "      <td>6.518664</td>\n",
       "      <td>21.931774</td>\n",
       "      <td>4.813454</td>\n",
       "      <td>5.841913</td>\n",
       "      <td>0.970423</td>\n",
       "      <td>...</td>\n",
       "      <td>0.801276</td>\n",
       "      <td>337.722337</td>\n",
       "      <td>0.937914</td>\n",
       "      <td>277.570489</td>\n",
       "      <td>222.037847</td>\n",
       "      <td>4.812190e+04</td>\n",
       "      <td>1.782464</td>\n",
       "      <td>3.467944</td>\n",
       "      <td>1.043836</td>\n",
       "      <td>9.549963</td>\n",
       "    </tr>\n",
       "    <tr>\n",
       "      <th>min</th>\n",
       "      <td>0.000000</td>\n",
       "      <td>1.219000e+04</td>\n",
       "      <td>14.000000</td>\n",
       "      <td>1.000000</td>\n",
       "      <td>1.000000</td>\n",
       "      <td>1.000000</td>\n",
       "      <td>2.000000</td>\n",
       "      <td>1.000000</td>\n",
       "      <td>1.300000</td>\n",
       "      <td>0.000000</td>\n",
       "      <td>...</td>\n",
       "      <td>0.000000</td>\n",
       "      <td>1.000000</td>\n",
       "      <td>0.000000</td>\n",
       "      <td>13.000000</td>\n",
       "      <td>1.000000</td>\n",
       "      <td>1.110000e+02</td>\n",
       "      <td>0.000000</td>\n",
       "      <td>1.000000</td>\n",
       "      <td>2014.000000</td>\n",
       "      <td>0.000000</td>\n",
       "    </tr>\n",
       "    <tr>\n",
       "      <th>25%</th>\n",
       "      <td>6.000000</td>\n",
       "      <td>3.500000e+06</td>\n",
       "      <td>40.500000</td>\n",
       "      <td>1.000000</td>\n",
       "      <td>2.600000</td>\n",
       "      <td>5.000000</td>\n",
       "      <td>18.800000</td>\n",
       "      <td>2.000000</td>\n",
       "      <td>7.000000</td>\n",
       "      <td>0.000000</td>\n",
       "      <td>...</td>\n",
       "      <td>0.000000</td>\n",
       "      <td>287.000000</td>\n",
       "      <td>0.000000</td>\n",
       "      <td>294.500000</td>\n",
       "      <td>45.000000</td>\n",
       "      <td>7.692300e+04</td>\n",
       "      <td>1.000000</td>\n",
       "      <td>3.000000</td>\n",
       "      <td>2017.000000</td>\n",
       "      <td>3.000000</td>\n",
       "    </tr>\n",
       "    <tr>\n",
       "      <th>50%</th>\n",
       "      <td>10.000000</td>\n",
       "      <td>4.700000e+06</td>\n",
       "      <td>52.100000</td>\n",
       "      <td>2.000000</td>\n",
       "      <td>2.650000</td>\n",
       "      <td>9.000000</td>\n",
       "      <td>30.100000</td>\n",
       "      <td>4.000000</td>\n",
       "      <td>9.000000</td>\n",
       "      <td>0.000000</td>\n",
       "      <td>...</td>\n",
       "      <td>0.000000</td>\n",
       "      <td>453.000000</td>\n",
       "      <td>0.000000</td>\n",
       "      <td>503.000000</td>\n",
       "      <td>102.000000</td>\n",
       "      <td>9.493600e+04</td>\n",
       "      <td>2.000000</td>\n",
       "      <td>6.000000</td>\n",
       "      <td>2017.000000</td>\n",
       "      <td>11.000000</td>\n",
       "    </tr>\n",
       "    <tr>\n",
       "      <th>75%</th>\n",
       "      <td>14.000000</td>\n",
       "      <td>6.800000e+06</td>\n",
       "      <td>70.000000</td>\n",
       "      <td>3.000000</td>\n",
       "      <td>2.700000</td>\n",
       "      <td>15.000000</td>\n",
       "      <td>42.500000</td>\n",
       "      <td>8.000000</td>\n",
       "      <td>12.000000</td>\n",
       "      <td>1.000000</td>\n",
       "      <td>...</td>\n",
       "      <td>1.000000</td>\n",
       "      <td>610.000000</td>\n",
       "      <td>1.000000</td>\n",
       "      <td>733.000000</td>\n",
       "      <td>239.000000</td>\n",
       "      <td>1.137610e+05</td>\n",
       "      <td>4.000000</td>\n",
       "      <td>10.000000</td>\n",
       "      <td>2018.000000</td>\n",
       "      <td>15.000000</td>\n",
       "    </tr>\n",
       "    <tr>\n",
       "      <th>max</th>\n",
       "      <td>50.000000</td>\n",
       "      <td>4.200000e+08</td>\n",
       "      <td>900.000000</td>\n",
       "      <td>19.000000</td>\n",
       "      <td>100.000000</td>\n",
       "      <td>60.000000</td>\n",
       "      <td>409.700000</td>\n",
       "      <td>33.000000</td>\n",
       "      <td>112.000000</td>\n",
       "      <td>5.000000</td>\n",
       "      <td>...</td>\n",
       "      <td>3.000000</td>\n",
       "      <td>3190.000000</td>\n",
       "      <td>3.000000</td>\n",
       "      <td>1344.000000</td>\n",
       "      <td>1580.000000</td>\n",
       "      <td>1.736842e+06</td>\n",
       "      <td>6.000000</td>\n",
       "      <td>12.000000</td>\n",
       "      <td>2019.000000</td>\n",
       "      <td>65.000000</td>\n",
       "    </tr>\n",
       "  </tbody>\n",
       "</table>\n",
       "<p>8 rows × 22 columns</p>\n",
       "</div>"
      ],
      "text/plain": [
       "       total_images    last_price    total_area         rooms  ceiling_height  \\\n",
       "count  20905.000000  2.090500e+04  20905.000000  20905.000000    20905.000000   \n",
       "mean      10.093518  6.503258e+06     60.509551      2.095288        2.703759   \n",
       "std        5.675134  9.603551e+06     34.490375      1.064783        0.726165   \n",
       "min        0.000000  1.219000e+04     14.000000      1.000000        1.000000   \n",
       "25%        6.000000  3.500000e+06     40.500000      1.000000        2.600000   \n",
       "50%       10.000000  4.700000e+06     52.100000      2.000000        2.650000   \n",
       "75%       14.000000  6.800000e+06     70.000000      3.000000        2.700000   \n",
       "max       50.000000  4.200000e+08    900.000000     19.000000      100.000000   \n",
       "\n",
       "       floors_total   living_area         floor  kitchen_area       balcony  \\\n",
       "count  20905.000000  20905.000000  20905.000000  20905.000000  20905.000000   \n",
       "mean      10.560727     34.633910      5.836451     10.509280      0.619900   \n",
       "std        6.518664     21.931774      4.813454      5.841913      0.970423   \n",
       "min        1.000000      2.000000      1.000000      1.300000      0.000000   \n",
       "25%        5.000000     18.800000      2.000000      7.000000      0.000000   \n",
       "50%        9.000000     30.100000      4.000000      9.000000      0.000000   \n",
       "75%       15.000000     42.500000      8.000000     12.000000      1.000000   \n",
       "max       60.000000    409.700000     33.000000    112.000000      5.000000   \n",
       "\n",
       "       ...  parks_around3000  parks_nearest  ponds_around3000  ponds_nearest  \\\n",
       "count  ...      16262.000000    7241.000000      16262.000000    8059.000000   \n",
       "mean   ...          0.611794     487.876260          0.763252     519.548331   \n",
       "std    ...          0.801276     337.722337          0.937914     277.570489   \n",
       "min    ...          0.000000       1.000000          0.000000      13.000000   \n",
       "25%    ...          0.000000     287.000000          0.000000     294.500000   \n",
       "50%    ...          0.000000     453.000000          0.000000     503.000000   \n",
       "75%    ...          1.000000     610.000000          1.000000     733.000000   \n",
       "max    ...          3.000000    3190.000000          3.000000    1344.000000   \n",
       "\n",
       "       days_exposition  price_per_square_meter  weekday_exposition  \\\n",
       "count     18020.000000            2.090500e+04        20905.000000   \n",
       "mean        185.511099            9.919525e+04            2.547190   \n",
       "std         222.037847            4.812190e+04            1.782464   \n",
       "min           1.000000            1.110000e+02            0.000000   \n",
       "25%          45.000000            7.692300e+04            1.000000   \n",
       "50%         102.000000            9.493600e+04            2.000000   \n",
       "75%         239.000000            1.137610e+05            4.000000   \n",
       "max        1580.000000            1.736842e+06            6.000000   \n",
       "\n",
       "       month_exposition  year_exposition  to_center_km  \n",
       "count      20905.000000     20905.000000  20905.000000  \n",
       "mean           6.423152      2017.354365     10.696341  \n",
       "std            3.467944         1.043836      9.549963  \n",
       "min            1.000000      2014.000000      0.000000  \n",
       "25%            3.000000      2017.000000      3.000000  \n",
       "50%            6.000000      2017.000000     11.000000  \n",
       "75%           10.000000      2018.000000     15.000000  \n",
       "max           12.000000      2019.000000     65.000000  \n",
       "\n",
       "[8 rows x 22 columns]"
      ]
     },
     "metadata": {},
     "output_type": "display_data"
    },
    {
     "data": {
      "text/html": [
       "<div>\n",
       "<style scoped>\n",
       "    .dataframe tbody tr th:only-of-type {\n",
       "        vertical-align: middle;\n",
       "    }\n",
       "\n",
       "    .dataframe tbody tr th {\n",
       "        vertical-align: top;\n",
       "    }\n",
       "\n",
       "    .dataframe thead th {\n",
       "        text-align: right;\n",
       "    }\n",
       "</style>\n",
       "<table border=\"1\" class=\"dataframe\">\n",
       "  <thead>\n",
       "    <tr style=\"text-align: right;\">\n",
       "      <th></th>\n",
       "      <th>total_images</th>\n",
       "      <th>last_price</th>\n",
       "      <th>total_area</th>\n",
       "      <th>first_day_exposition</th>\n",
       "      <th>rooms</th>\n",
       "      <th>ceiling_height</th>\n",
       "      <th>floors_total</th>\n",
       "      <th>living_area</th>\n",
       "      <th>floor</th>\n",
       "      <th>is_apartment</th>\n",
       "      <th>...</th>\n",
       "      <th>parks_nearest</th>\n",
       "      <th>ponds_around3000</th>\n",
       "      <th>ponds_nearest</th>\n",
       "      <th>days_exposition</th>\n",
       "      <th>price_per_square_meter</th>\n",
       "      <th>weekday_exposition</th>\n",
       "      <th>month_exposition</th>\n",
       "      <th>year_exposition</th>\n",
       "      <th>floor_type</th>\n",
       "      <th>to_center_km</th>\n",
       "    </tr>\n",
       "  </thead>\n",
       "  <tbody>\n",
       "    <tr>\n",
       "      <th>0</th>\n",
       "      <td>20</td>\n",
       "      <td>13000000.0</td>\n",
       "      <td>108.0</td>\n",
       "      <td>2019-03-07</td>\n",
       "      <td>3</td>\n",
       "      <td>2.70</td>\n",
       "      <td>16.0</td>\n",
       "      <td>51.0</td>\n",
       "      <td>8</td>\n",
       "      <td>False</td>\n",
       "      <td>...</td>\n",
       "      <td>482.0</td>\n",
       "      <td>2.0</td>\n",
       "      <td>755.0</td>\n",
       "      <td>NaN</td>\n",
       "      <td>120370</td>\n",
       "      <td>3</td>\n",
       "      <td>3</td>\n",
       "      <td>2019</td>\n",
       "      <td>другой</td>\n",
       "      <td>16</td>\n",
       "    </tr>\n",
       "    <tr>\n",
       "      <th>1</th>\n",
       "      <td>7</td>\n",
       "      <td>3350000.0</td>\n",
       "      <td>40.4</td>\n",
       "      <td>2018-12-04</td>\n",
       "      <td>1</td>\n",
       "      <td>2.65</td>\n",
       "      <td>11.0</td>\n",
       "      <td>18.6</td>\n",
       "      <td>1</td>\n",
       "      <td>False</td>\n",
       "      <td>...</td>\n",
       "      <td>NaN</td>\n",
       "      <td>0.0</td>\n",
       "      <td>NaN</td>\n",
       "      <td>81.0</td>\n",
       "      <td>82920</td>\n",
       "      <td>1</td>\n",
       "      <td>12</td>\n",
       "      <td>2018</td>\n",
       "      <td>первый</td>\n",
       "      <td>18</td>\n",
       "    </tr>\n",
       "    <tr>\n",
       "      <th>2</th>\n",
       "      <td>10</td>\n",
       "      <td>5196000.0</td>\n",
       "      <td>56.0</td>\n",
       "      <td>2015-08-20</td>\n",
       "      <td>2</td>\n",
       "      <td>2.65</td>\n",
       "      <td>5.0</td>\n",
       "      <td>34.3</td>\n",
       "      <td>4</td>\n",
       "      <td>False</td>\n",
       "      <td>...</td>\n",
       "      <td>90.0</td>\n",
       "      <td>2.0</td>\n",
       "      <td>574.0</td>\n",
       "      <td>558.0</td>\n",
       "      <td>92785</td>\n",
       "      <td>3</td>\n",
       "      <td>8</td>\n",
       "      <td>2015</td>\n",
       "      <td>другой</td>\n",
       "      <td>13</td>\n",
       "    </tr>\n",
       "    <tr>\n",
       "      <th>4</th>\n",
       "      <td>2</td>\n",
       "      <td>10000000.0</td>\n",
       "      <td>100.0</td>\n",
       "      <td>2018-06-19</td>\n",
       "      <td>2</td>\n",
       "      <td>3.03</td>\n",
       "      <td>14.0</td>\n",
       "      <td>32.0</td>\n",
       "      <td>13</td>\n",
       "      <td>False</td>\n",
       "      <td>...</td>\n",
       "      <td>112.0</td>\n",
       "      <td>1.0</td>\n",
       "      <td>48.0</td>\n",
       "      <td>121.0</td>\n",
       "      <td>100000</td>\n",
       "      <td>1</td>\n",
       "      <td>6</td>\n",
       "      <td>2018</td>\n",
       "      <td>другой</td>\n",
       "      <td>8</td>\n",
       "    </tr>\n",
       "    <tr>\n",
       "      <th>5</th>\n",
       "      <td>10</td>\n",
       "      <td>2890000.0</td>\n",
       "      <td>30.4</td>\n",
       "      <td>2018-09-10</td>\n",
       "      <td>1</td>\n",
       "      <td>2.65</td>\n",
       "      <td>12.0</td>\n",
       "      <td>14.4</td>\n",
       "      <td>5</td>\n",
       "      <td>False</td>\n",
       "      <td>...</td>\n",
       "      <td>NaN</td>\n",
       "      <td>NaN</td>\n",
       "      <td>NaN</td>\n",
       "      <td>55.0</td>\n",
       "      <td>95065</td>\n",
       "      <td>0</td>\n",
       "      <td>9</td>\n",
       "      <td>2018</td>\n",
       "      <td>другой</td>\n",
       "      <td>0</td>\n",
       "    </tr>\n",
       "  </tbody>\n",
       "</table>\n",
       "<p>5 rows × 28 columns</p>\n",
       "</div>"
      ],
      "text/plain": [
       "   total_images  last_price  total_area first_day_exposition  rooms  \\\n",
       "0            20  13000000.0       108.0           2019-03-07      3   \n",
       "1             7   3350000.0        40.4           2018-12-04      1   \n",
       "2            10   5196000.0        56.0           2015-08-20      2   \n",
       "4             2  10000000.0       100.0           2018-06-19      2   \n",
       "5            10   2890000.0        30.4           2018-09-10      1   \n",
       "\n",
       "   ceiling_height  floors_total  living_area  floor  is_apartment  ...  \\\n",
       "0            2.70          16.0         51.0      8         False  ...   \n",
       "1            2.65          11.0         18.6      1         False  ...   \n",
       "2            2.65           5.0         34.3      4         False  ...   \n",
       "4            3.03          14.0         32.0     13         False  ...   \n",
       "5            2.65          12.0         14.4      5         False  ...   \n",
       "\n",
       "   parks_nearest  ponds_around3000  ponds_nearest  days_exposition  \\\n",
       "0          482.0               2.0          755.0              NaN   \n",
       "1            NaN               0.0            NaN             81.0   \n",
       "2           90.0               2.0          574.0            558.0   \n",
       "4          112.0               1.0           48.0            121.0   \n",
       "5            NaN               NaN            NaN             55.0   \n",
       "\n",
       "  price_per_square_meter  weekday_exposition  month_exposition  \\\n",
       "0                 120370                   3                 3   \n",
       "1                  82920                   1                12   \n",
       "2                  92785                   3                 8   \n",
       "4                 100000                   1                 6   \n",
       "5                  95065                   0                 9   \n",
       "\n",
       "   year_exposition  floor_type  to_center_km  \n",
       "0             2019      другой            16  \n",
       "1             2018      первый            18  \n",
       "2             2015      другой            13  \n",
       "4             2018      другой             8  \n",
       "5             2018      другой             0  \n",
       "\n",
       "[5 rows x 28 columns]"
      ]
     },
     "metadata": {},
     "output_type": "display_data"
    },
    {
     "data": {
      "text/html": [
       "<div>\n",
       "<style scoped>\n",
       "    .dataframe tbody tr th:only-of-type {\n",
       "        vertical-align: middle;\n",
       "    }\n",
       "\n",
       "    .dataframe tbody tr th {\n",
       "        vertical-align: top;\n",
       "    }\n",
       "\n",
       "    .dataframe thead th {\n",
       "        text-align: right;\n",
       "    }\n",
       "</style>\n",
       "<table border=\"1\" class=\"dataframe\">\n",
       "  <thead>\n",
       "    <tr style=\"text-align: right;\">\n",
       "      <th></th>\n",
       "      <th>total_images</th>\n",
       "      <th>last_price</th>\n",
       "      <th>total_area</th>\n",
       "      <th>first_day_exposition</th>\n",
       "      <th>rooms</th>\n",
       "      <th>ceiling_height</th>\n",
       "      <th>floors_total</th>\n",
       "      <th>living_area</th>\n",
       "      <th>floor</th>\n",
       "      <th>is_apartment</th>\n",
       "      <th>...</th>\n",
       "      <th>parks_nearest</th>\n",
       "      <th>ponds_around3000</th>\n",
       "      <th>ponds_nearest</th>\n",
       "      <th>days_exposition</th>\n",
       "      <th>price_per_square_meter</th>\n",
       "      <th>weekday_exposition</th>\n",
       "      <th>month_exposition</th>\n",
       "      <th>year_exposition</th>\n",
       "      <th>floor_type</th>\n",
       "      <th>to_center_km</th>\n",
       "    </tr>\n",
       "  </thead>\n",
       "  <tbody>\n",
       "    <tr>\n",
       "      <th>23692</th>\n",
       "      <td>2</td>\n",
       "      <td>1350000.0</td>\n",
       "      <td>30.00</td>\n",
       "      <td>2017-07-07</td>\n",
       "      <td>1</td>\n",
       "      <td>2.65</td>\n",
       "      <td>5.0</td>\n",
       "      <td>17.5</td>\n",
       "      <td>4</td>\n",
       "      <td>False</td>\n",
       "      <td>...</td>\n",
       "      <td>NaN</td>\n",
       "      <td>NaN</td>\n",
       "      <td>NaN</td>\n",
       "      <td>413.0</td>\n",
       "      <td>45000</td>\n",
       "      <td>4</td>\n",
       "      <td>7</td>\n",
       "      <td>2017</td>\n",
       "      <td>другой</td>\n",
       "      <td>0</td>\n",
       "    </tr>\n",
       "    <tr>\n",
       "      <th>23693</th>\n",
       "      <td>9</td>\n",
       "      <td>4600000.0</td>\n",
       "      <td>62.40</td>\n",
       "      <td>2016-08-05</td>\n",
       "      <td>3</td>\n",
       "      <td>2.60</td>\n",
       "      <td>9.0</td>\n",
       "      <td>40.0</td>\n",
       "      <td>8</td>\n",
       "      <td>False</td>\n",
       "      <td>...</td>\n",
       "      <td>352.0</td>\n",
       "      <td>1.0</td>\n",
       "      <td>675.0</td>\n",
       "      <td>239.0</td>\n",
       "      <td>73717</td>\n",
       "      <td>4</td>\n",
       "      <td>8</td>\n",
       "      <td>2016</td>\n",
       "      <td>другой</td>\n",
       "      <td>34</td>\n",
       "    </tr>\n",
       "    <tr>\n",
       "      <th>23694</th>\n",
       "      <td>9</td>\n",
       "      <td>9700000.0</td>\n",
       "      <td>133.81</td>\n",
       "      <td>2017-03-21</td>\n",
       "      <td>3</td>\n",
       "      <td>3.70</td>\n",
       "      <td>5.0</td>\n",
       "      <td>73.3</td>\n",
       "      <td>3</td>\n",
       "      <td>False</td>\n",
       "      <td>...</td>\n",
       "      <td>796.0</td>\n",
       "      <td>3.0</td>\n",
       "      <td>381.0</td>\n",
       "      <td>NaN</td>\n",
       "      <td>72490</td>\n",
       "      <td>1</td>\n",
       "      <td>3</td>\n",
       "      <td>2017</td>\n",
       "      <td>другой</td>\n",
       "      <td>4</td>\n",
       "    </tr>\n",
       "    <tr>\n",
       "      <th>23695</th>\n",
       "      <td>14</td>\n",
       "      <td>3100000.0</td>\n",
       "      <td>59.00</td>\n",
       "      <td>2018-01-15</td>\n",
       "      <td>3</td>\n",
       "      <td>2.65</td>\n",
       "      <td>5.0</td>\n",
       "      <td>38.0</td>\n",
       "      <td>4</td>\n",
       "      <td>False</td>\n",
       "      <td>...</td>\n",
       "      <td>NaN</td>\n",
       "      <td>NaN</td>\n",
       "      <td>NaN</td>\n",
       "      <td>45.0</td>\n",
       "      <td>52542</td>\n",
       "      <td>0</td>\n",
       "      <td>1</td>\n",
       "      <td>2018</td>\n",
       "      <td>другой</td>\n",
       "      <td>0</td>\n",
       "    </tr>\n",
       "    <tr>\n",
       "      <th>23698</th>\n",
       "      <td>4</td>\n",
       "      <td>1350000.0</td>\n",
       "      <td>32.30</td>\n",
       "      <td>2017-07-21</td>\n",
       "      <td>1</td>\n",
       "      <td>2.50</td>\n",
       "      <td>5.0</td>\n",
       "      <td>12.3</td>\n",
       "      <td>1</td>\n",
       "      <td>False</td>\n",
       "      <td>...</td>\n",
       "      <td>NaN</td>\n",
       "      <td>NaN</td>\n",
       "      <td>NaN</td>\n",
       "      <td>NaN</td>\n",
       "      <td>41795</td>\n",
       "      <td>4</td>\n",
       "      <td>7</td>\n",
       "      <td>2017</td>\n",
       "      <td>первый</td>\n",
       "      <td>0</td>\n",
       "    </tr>\n",
       "  </tbody>\n",
       "</table>\n",
       "<p>5 rows × 28 columns</p>\n",
       "</div>"
      ],
      "text/plain": [
       "       total_images  last_price  total_area first_day_exposition  rooms  \\\n",
       "23692             2   1350000.0       30.00           2017-07-07      1   \n",
       "23693             9   4600000.0       62.40           2016-08-05      3   \n",
       "23694             9   9700000.0      133.81           2017-03-21      3   \n",
       "23695            14   3100000.0       59.00           2018-01-15      3   \n",
       "23698             4   1350000.0       32.30           2017-07-21      1   \n",
       "\n",
       "       ceiling_height  floors_total  living_area  floor  is_apartment  ...  \\\n",
       "23692            2.65           5.0         17.5      4         False  ...   \n",
       "23693            2.60           9.0         40.0      8         False  ...   \n",
       "23694            3.70           5.0         73.3      3         False  ...   \n",
       "23695            2.65           5.0         38.0      4         False  ...   \n",
       "23698            2.50           5.0         12.3      1         False  ...   \n",
       "\n",
       "       parks_nearest  ponds_around3000  ponds_nearest  days_exposition  \\\n",
       "23692            NaN               NaN            NaN            413.0   \n",
       "23693          352.0               1.0          675.0            239.0   \n",
       "23694          796.0               3.0          381.0              NaN   \n",
       "23695            NaN               NaN            NaN             45.0   \n",
       "23698            NaN               NaN            NaN              NaN   \n",
       "\n",
       "      price_per_square_meter  weekday_exposition  month_exposition  \\\n",
       "23692                  45000                   4                 7   \n",
       "23693                  73717                   4                 8   \n",
       "23694                  72490                   1                 3   \n",
       "23695                  52542                   0                 1   \n",
       "23698                  41795                   4                 7   \n",
       "\n",
       "       year_exposition  floor_type  to_center_km  \n",
       "23692             2017      другой             0  \n",
       "23693             2016      другой            34  \n",
       "23694             2017      другой             4  \n",
       "23695             2018      другой             0  \n",
       "23698             2017      первый             0  \n",
       "\n",
       "[5 rows x 28 columns]"
      ]
     },
     "metadata": {},
     "output_type": "display_data"
    }
   ],
   "source": [
    "display(data.info())\n",
    "display(data.describe())\n",
    "display(data.head())\n",
    "display(data.tail())"
   ]
  },
  {
   "cell_type": "markdown",
   "metadata": {},
   "source": [
    "#### Промежуточный итог  \n",
    "Мы добавили новые столбцы:\n",
    "* цена одного квадратного метра - price_per_square_meter;\n",
    "* день недели публикации объявления - weekday_exposition;\n",
    "* месяц публикации объявления - year_exposition;\n",
    "* год публикации объявления - year_exposition;\n",
    "* тип этажа квартиры (значения — «‎первый», «последний», «другой») - floor_type;\n",
    "* расстояние до центра города в километрах - to_center_km."
   ]
  },
  {
   "cell_type": "markdown",
   "metadata": {},
   "source": [
    "### Исследовательский анализ данных"
   ]
  },
  {
   "cell_type": "markdown",
   "metadata": {},
   "source": [
    "#### Приступаем непосредственно к изучению данных.  \n",
    "##### Общая площадь."
   ]
  },
  {
   "cell_type": "code",
   "execution_count": 25,
   "metadata": {},
   "outputs": [
    {
     "data": {
      "text/plain": [
       "count    20905.000000\n",
       "mean        60.509551\n",
       "std         34.490375\n",
       "min         14.000000\n",
       "25%         40.500000\n",
       "50%         52.100000\n",
       "75%         70.000000\n",
       "max        900.000000\n",
       "Name: total_area, dtype: float64"
      ]
     },
     "metadata": {},
     "output_type": "display_data"
    },
    {
     "data": {
      "text/plain": [
       "{'whiskers': [<matplotlib.lines.Line2D at 0x7f7a31a93490>,\n",
       "  <matplotlib.lines.Line2D at 0x7f7a31a93a30>],\n",
       " 'caps': [<matplotlib.lines.Line2D at 0x7f7a31a93f10>,\n",
       "  <matplotlib.lines.Line2D at 0x7f7a31a935e0>],\n",
       " 'boxes': [<matplotlib.lines.Line2D at 0x7f7a31a93280>],\n",
       " 'medians': [<matplotlib.lines.Line2D at 0x7f7a31a84280>],\n",
       " 'fliers': [<matplotlib.lines.Line2D at 0x7f7a31a84820>],\n",
       " 'means': []}"
      ]
     },
     "execution_count": 25,
     "metadata": {},
     "output_type": "execute_result"
    },
    {
     "data": {
      "image/png": "[encoded data removed]",
      "text/plain": [
       "<Figure size 432x288 with 1 Axes>"
      ]
     },
     "metadata": {
      "needs_background": "light"
     },
     "output_type": "display_data"
    }
   ],
   "source": [
    "display(data['total_area'].describe())\n",
    "plt.boxplot(data['total_area'])"
   ]
  },
  {
   "cell_type": "code",
   "execution_count": 26,
   "metadata": {},
   "outputs": [
    {
     "data": {
      "text/plain": [
       "<AxesSubplot:title={'center':'Общая площадь'}, ylabel='Frequency'>"
      ]
     },
     "execution_count": 26,
     "metadata": {},
     "output_type": "execute_result"
    },
    {
     "data": {
      "image/png": "[encoded data removed]",
      "text/plain": [
       "<Figure size 576x288 with 1 Axes>"
      ]
     },
     "metadata": {
      "needs_background": "light"
     },
     "output_type": "display_data"
    }
   ],
   "source": [
    "data.plot(y = 'total_area', kind = 'hist', bins = 50, grid=True, figsize = (8,4), range = (0,300), title ='Общая площадь')"
   ]
  },
  {
   "cell_type": "markdown",
   "metadata": {},
   "source": [
    "Распределение общей площади нормальное. Медианное и среднее немного отличаются, но в рамках разумного. Диаграмма размаха показывает выбросы в сторону больших размеров квартир, но их количество не велико, а также стоит признать что в северной столице могут быть такие квартиры (в виде пентхаусов например), поэтому удалять их будет не правильно."
   ]
  },
  {
   "cell_type": "markdown",
   "metadata": {},
   "source": [
    "##### Жилая площадь.\n",
    "Теперь точно так же рассмотрим жилую площадь. Но к диаграмме размаха уже обращаться не будем, т.к. там покажет такие разбросы. "
   ]
  },
  {
   "cell_type": "code",
   "execution_count": 27,
   "metadata": {},
   "outputs": [
    {
     "data": {
      "text/plain": [
       "count    20905.000000\n",
       "mean        34.633910\n",
       "std         21.931774\n",
       "min          2.000000\n",
       "25%         18.800000\n",
       "50%         30.100000\n",
       "75%         42.500000\n",
       "max        409.700000\n",
       "Name: living_area, dtype: float64"
      ]
     },
     "metadata": {},
     "output_type": "display_data"
    },
    {
     "data": {
      "text/plain": [
       "<AxesSubplot:title={'center':'Жилая площадь'}, ylabel='Frequency'>"
      ]
     },
     "execution_count": 27,
     "metadata": {},
     "output_type": "execute_result"
    },
    {
     "data": {
      "image/png": "[encoded data removed]",
      "text/plain": [
       "<Figure size 576x288 with 1 Axes>"
      ]
     },
     "metadata": {
      "needs_background": "light"
     },
     "output_type": "display_data"
    }
   ],
   "source": [
    "display(data['living_area'].describe())\n",
    "data.plot(y = 'living_area', kind = 'hist', bins = 50, grid=True, figsize = (8,4), range = (0,200), title ='Жилая площадь')"
   ]
  },
  {
   "cell_type": "markdown",
   "metadata": {},
   "source": [
    "Так же можем отметить нормальное распределение данных и некоторые выбросы, которые дают разницу между медианной и средними значениями."
   ]
  },
  {
   "cell_type": "markdown",
   "metadata": {},
   "source": [
    "##### Площадь кухни."
   ]
  },
  {
   "cell_type": "code",
   "execution_count": 28,
   "metadata": {},
   "outputs": [
    {
     "data": {
      "text/plain": [
       "count    20905.000000\n",
       "mean        10.509280\n",
       "std          5.841913\n",
       "min          1.300000\n",
       "25%          7.000000\n",
       "50%          9.000000\n",
       "75%         12.000000\n",
       "max        112.000000\n",
       "Name: kitchen_area, dtype: float64"
      ]
     },
     "metadata": {},
     "output_type": "display_data"
    },
    {
     "data": {
      "text/plain": [
       "<AxesSubplot:title={'center':'Площадь кухни'}, ylabel='Frequency'>"
      ]
     },
     "execution_count": 28,
     "metadata": {},
     "output_type": "execute_result"
    },
    {
     "data": {
      "image/png": "[encoded data removed]",
      "text/plain": [
       "<Figure size 576x288 with 1 Axes>"
      ]
     },
     "metadata": {
      "needs_background": "light"
     },
     "output_type": "display_data"
    }
   ],
   "source": [
    "\n",
    "display(data['kitchen_area'].describe())\n",
    "data.plot(y = 'kitchen_area', kind = 'hist', bins = 50, grid=True, figsize = (8,4), range = (0,50), title ='Площадь кухни')"
   ]
  },
  {
   "cell_type": "markdown",
   "metadata": {},
   "source": [
    "По кухне примерна та же картина что и ранее.  \n",
    "В целом мы можем сказать что по площадям имеются выбросы, от очень больших квартир, но их существование мы отрицать не можем."
   ]
  },
  {
   "cell_type": "markdown",
   "metadata": {},
   "source": [
    "##### Цена объекта"
   ]
  },
  {
   "cell_type": "code",
   "execution_count": 29,
   "metadata": {},
   "outputs": [
    {
     "data": {
      "text/plain": [
       "count    2.090500e+04\n",
       "mean     6.503258e+06\n",
       "std      9.603551e+06\n",
       "min      1.219000e+04\n",
       "25%      3.500000e+06\n",
       "50%      4.700000e+06\n",
       "75%      6.800000e+06\n",
       "max      4.200000e+08\n",
       "Name: last_price, dtype: float64"
      ]
     },
     "metadata": {},
     "output_type": "display_data"
    },
    {
     "data": {
      "image/png": "[encoded data removed]",
      "text/plain": [
       "<Figure size 576x288 with 1 Axes>"
      ]
     },
     "metadata": {
      "needs_background": "light"
     },
     "output_type": "display_data"
    }
   ],
   "source": [
    "display(data['last_price'].describe())\n",
    "data.plot(y = 'last_price', kind = 'hist', bins = 50, grid=True, range = (0,15000000), figsize = (8,4),title ='Цена')\n",
    "plt.ticklabel_format(axis='x', scilimits=(6, 6))"
   ]
  },
  {
   "cell_type": "markdown",
   "metadata": {},
   "source": [
    "Что интересно, в цене пик оказался единый.\n",
    "\n",
    "##### Количество комнат."
   ]
  },
  {
   "cell_type": "code",
   "execution_count": 30,
   "metadata": {},
   "outputs": [
    {
     "data": {
      "text/plain": [
       "count    20905.000000\n",
       "mean         2.095288\n",
       "std          1.064783\n",
       "min          1.000000\n",
       "25%          1.000000\n",
       "50%          2.000000\n",
       "75%          3.000000\n",
       "max         19.000000\n",
       "Name: rooms, dtype: float64"
      ]
     },
     "metadata": {},
     "output_type": "display_data"
    },
    {
     "data": {
      "text/plain": [
       "<AxesSubplot:title={'center':'Количество комнат'}, ylabel='Frequency'>"
      ]
     },
     "execution_count": 30,
     "metadata": {},
     "output_type": "execute_result"
    },
    {
     "data": {
      "image/png": "[encoded data removed]",
      "text/plain": [
       "<Figure size 576x288 with 1 Axes>"
      ]
     },
     "metadata": {
      "needs_background": "light"
     },
     "output_type": "display_data"
    }
   ],
   "source": [
    "display(data['rooms'].describe())\n",
    "data.plot(y = 'rooms', kind = 'hist', bins = 15, grid=True, range = (0,8), figsize = (8,4),title ='Количество комнат')"
   ]
  },
  {
   "cell_type": "markdown",
   "metadata": {},
   "source": [
    "Однокомнатные и двухкомнатные квартиры идут ноздря в ноздрю.  \n",
    "##### Высота потолков."
   ]
  },
  {
   "cell_type": "code",
   "execution_count": 31,
   "metadata": {},
   "outputs": [
    {
     "data": {
      "text/plain": [
       "count    20905.000000\n",
       "mean         2.703759\n",
       "std          0.726165\n",
       "min          1.000000\n",
       "25%          2.600000\n",
       "50%          2.650000\n",
       "75%          2.700000\n",
       "max        100.000000\n",
       "Name: ceiling_height, dtype: float64"
      ]
     },
     "metadata": {},
     "output_type": "display_data"
    },
    {
     "data": {
      "text/plain": [
       "<AxesSubplot:title={'center':'Высота потолков'}, ylabel='Frequency'>"
      ]
     },
     "execution_count": 31,
     "metadata": {},
     "output_type": "execute_result"
    },
    {
     "data": {
      "image/png": "[encoded data removed]",
      "text/plain": [
       "<Figure size 576x288 with 1 Axes>"
      ]
     },
     "metadata": {
      "needs_background": "light"
     },
     "output_type": "display_data"
    }
   ],
   "source": [
    "display(data['ceiling_height'].describe())\n",
    "data.plot(y = 'ceiling_height', kind = 'hist', bins = 15, grid=True, range = (2,5), figsize = (8,4),title ='Высота потолков')"
   ]
  },
  {
   "cell_type": "markdown",
   "metadata": {},
   "source": [
    "Тут стоит подчеркнуть, что при стадии предобработки данных мы на пропущенные значения подставили медианные.  \n",
    "##### Этаж квартиры"
   ]
  },
  {
   "cell_type": "code",
   "execution_count": 32,
   "metadata": {},
   "outputs": [
    {
     "data": {
      "text/plain": [
       "count    20905.000000\n",
       "mean         5.836451\n",
       "std          4.813454\n",
       "min          1.000000\n",
       "25%          2.000000\n",
       "50%          4.000000\n",
       "75%          8.000000\n",
       "max         33.000000\n",
       "Name: floor, dtype: float64"
      ]
     },
     "metadata": {},
     "output_type": "display_data"
    },
    {
     "data": {
      "text/plain": [
       "<AxesSubplot:title={'center':'Этаж'}, ylabel='Frequency'>"
      ]
     },
     "execution_count": 32,
     "metadata": {},
     "output_type": "execute_result"
    },
    {
     "data": {
      "image/png": "[encoded data removed]",
      "text/plain": [
       "<Figure size 576x288 with 1 Axes>"
      ]
     },
     "metadata": {
      "needs_background": "light"
     },
     "output_type": "display_data"
    }
   ],
   "source": [
    "display(data['floor'].describe())\n",
    "data.plot(y = 'floor', kind = 'hist', bins = 30, grid=True, range = (0,33), figsize = (8,4),title ='Этаж')"
   ]
  },
  {
   "cell_type": "markdown",
   "metadata": {},
   "source": [
    "По гистограмме ясно видно что большая часть продающихся квартир находятся в пределах первых 5 этажей."
   ]
  },
  {
   "cell_type": "markdown",
   "metadata": {},
   "source": [
    "##### Тип этажа"
   ]
  },
  {
   "cell_type": "code",
   "execution_count": 33,
   "metadata": {},
   "outputs": [
    {
     "data": {
      "text/plain": [
       "count      20905\n",
       "unique         3\n",
       "top       другой\n",
       "freq       15360\n",
       "Name: floor_type, dtype: object"
      ]
     },
     "metadata": {},
     "output_type": "display_data"
    },
    {
     "data": {
      "text/plain": [
       "<AxesSubplot:>"
      ]
     },
     "execution_count": 33,
     "metadata": {},
     "output_type": "execute_result"
    },
    {
     "data": {
      "image/png": "[encoded data removed]",
      "text/plain": [
       "<Figure size 432x288 with 1 Axes>"
      ]
     },
     "metadata": {
      "needs_background": "light"
     },
     "output_type": "display_data"
    }
   ],
   "source": [
    "display(data['floor_type'].describe())\n",
    "data['floor_type'].value_counts().plot(kind='bar', grid=True)"
   ]
  },
  {
   "cell_type": "markdown",
   "metadata": {},
   "source": [
    "Большинство объявлений это не первые и не последние, но другие. Что в принципе и логично."
   ]
  },
  {
   "cell_type": "markdown",
   "metadata": {},
   "source": [
    "##### общее количество этажей в доме."
   ]
  },
  {
   "cell_type": "code",
   "execution_count": 34,
   "metadata": {},
   "outputs": [
    {
     "data": {
      "text/plain": [
       "count    20905.000000\n",
       "mean        10.560727\n",
       "std          6.518664\n",
       "min          1.000000\n",
       "25%          5.000000\n",
       "50%          9.000000\n",
       "75%         15.000000\n",
       "max         60.000000\n",
       "Name: floors_total, dtype: float64"
      ]
     },
     "metadata": {},
     "output_type": "display_data"
    },
    {
     "data": {
      "text/plain": [
       "<AxesSubplot:title={'center':'Этаж'}, ylabel='Frequency'>"
      ]
     },
     "execution_count": 34,
     "metadata": {},
     "output_type": "execute_result"
    },
    {
     "data": {
      "image/png": "[encoded data removed]",
      "text/plain": [
       "<Figure size 576x288 with 1 Axes>"
      ]
     },
     "metadata": {
      "needs_background": "light"
     },
     "output_type": "display_data"
    }
   ],
   "source": [
    "display(data['floors_total'].describe())\n",
    "data.plot(y = 'floors_total', kind = 'hist', bins = 30, grid=True, range = (0,33), figsize = (8,4),title ='Этаж')"
   ]
  },
  {
   "cell_type": "markdown",
   "metadata": {},
   "source": [
    "##### Растояние до центра."
   ]
  },
  {
   "cell_type": "code",
   "execution_count": 35,
   "metadata": {},
   "outputs": [
    {
     "data": {
      "text/plain": [
       "count    16261.000000\n",
       "mean     14247.130435\n",
       "std       8670.023374\n",
       "min        181.000000\n",
       "25%       9350.000000\n",
       "50%      13114.000000\n",
       "75%      16257.000000\n",
       "max      65968.000000\n",
       "Name: cityCenters_nearest, dtype: float64"
      ]
     },
     "metadata": {},
     "output_type": "display_data"
    },
    {
     "data": {
      "text/plain": [
       "<AxesSubplot:title={'center':'Растояние до центра в метрах'}, ylabel='Frequency'>"
      ]
     },
     "execution_count": 35,
     "metadata": {},
     "output_type": "execute_result"
    },
    {
     "data": {
      "image/png": "[encoded data removed]",
      "text/plain": [
       "<Figure size 576x288 with 1 Axes>"
      ]
     },
     "metadata": {
      "needs_background": "light"
     },
     "output_type": "display_data"
    }
   ],
   "source": [
    "display(data['cityCenters_nearest'].describe())\n",
    "data.plot(y = 'cityCenters_nearest', kind = 'hist', bins = 100, grid=True, range = (181,65968), figsize = (8,4),title ='Растояние до центра в метрах')"
   ]
  },
  {
   "cell_type": "code",
   "execution_count": 36,
   "metadata": {},
   "outputs": [
    {
     "data": {
      "text/plain": [
       "count    20905.000000\n",
       "mean        10.696341\n",
       "std          9.549963\n",
       "min          0.000000\n",
       "25%          3.000000\n",
       "50%         11.000000\n",
       "75%         15.000000\n",
       "max         65.000000\n",
       "Name: to_center_km, dtype: float64"
      ]
     },
     "metadata": {},
     "output_type": "display_data"
    },
    {
     "data": {
      "text/plain": [
       "<AxesSubplot:title={'center':'Растояние до центра в километрах'}, ylabel='Frequency'>"
      ]
     },
     "execution_count": 36,
     "metadata": {},
     "output_type": "execute_result"
    },
    {
     "data": {
      "image/png": "[encoded data removed]",
      "text/plain": [
       "<Figure size 576x288 with 1 Axes>"
      ]
     },
     "metadata": {
      "needs_background": "light"
     },
     "output_type": "display_data"
    }
   ],
   "source": [
    "display(data['to_center_km'].describe())\n",
    "data.plot(y = 'to_center_km', kind = 'hist', bins = 40, grid=True, range = (0,65), figsize = (8,4),title ='Растояние до центра в километрах')"
   ]
  },
  {
   "cell_type": "markdown",
   "metadata": {},
   "source": [
    "##### Расстояние до ближайшего аэропорта."
   ]
  },
  {
   "cell_type": "code",
   "execution_count": 37,
   "metadata": {},
   "outputs": [
    {
     "data": {
      "text/plain": [
       "count    16240.000000\n",
       "mean     28790.589963\n",
       "std      12653.955431\n",
       "min          0.000000\n",
       "25%      18518.000000\n",
       "50%      26729.000000\n",
       "75%      37228.000000\n",
       "max      84869.000000\n",
       "Name: airports_nearest, dtype: float64"
      ]
     },
     "metadata": {},
     "output_type": "display_data"
    },
    {
     "data": {
      "text/plain": [
       "<AxesSubplot:title={'center':'Растояние до аэропорта в метрах'}, ylabel='Frequency'>"
      ]
     },
     "execution_count": 37,
     "metadata": {},
     "output_type": "execute_result"
    },
    {
     "data": {
      "image/png": "[encoded data removed]",
      "text/plain": [
       "<Figure size 576x288 with 1 Axes>"
      ]
     },
     "metadata": {
      "needs_background": "light"
     },
     "output_type": "display_data"
    }
   ],
   "source": [
    "display(data['airports_nearest'].describe())\n",
    "data.plot(y = 'airports_nearest', kind = 'hist', bins = 100, grid=True, range = (0,84869), figsize = (8,4),title ='Растояние до аэропорта в метрах')"
   ]
  },
  {
   "cell_type": "markdown",
   "metadata": {},
   "source": [
    "##### Расстояние до ближайшего парка."
   ]
  },
  {
   "cell_type": "code",
   "execution_count": 38,
   "metadata": {},
   "outputs": [
    {
     "data": {
      "text/plain": [
       "count    7241.000000\n",
       "mean      487.876260\n",
       "std       337.722337\n",
       "min         1.000000\n",
       "25%       287.000000\n",
       "50%       453.000000\n",
       "75%       610.000000\n",
       "max      3190.000000\n",
       "Name: parks_nearest, dtype: float64"
      ]
     },
     "metadata": {},
     "output_type": "display_data"
    },
    {
     "data": {
      "text/plain": [
       "<AxesSubplot:title={'center':'Растояние до парка в метрах'}, ylabel='Frequency'>"
      ]
     },
     "execution_count": 38,
     "metadata": {},
     "output_type": "execute_result"
    },
    {
     "data": {
      "image/png": "[encoded data removed]",
      "text/plain": [
       "<Figure size 576x288 with 1 Axes>"
      ]
     },
     "metadata": {
      "needs_background": "light"
     },
     "output_type": "display_data"
    }
   ],
   "source": [
    "display(data['parks_nearest'].describe())\n",
    "data.plot(y = 'parks_nearest', kind = 'hist', bins = 100, grid=True, range = (0,3190), figsize = (8,4),title ='Растояние до парка в метрах')"
   ]
  },
  {
   "cell_type": "markdown",
   "metadata": {},
   "source": [
    "Немного информации лучше чем её отсутствие. "
   ]
  },
  {
   "cell_type": "markdown",
   "metadata": {},
   "source": [
    "##### День и месяц публикации объявления."
   ]
  },
  {
   "cell_type": "code",
   "execution_count": 39,
   "metadata": {},
   "outputs": [
    {
     "data": {
      "text/plain": [
       "count    20905.000000\n",
       "mean         2.547190\n",
       "std          1.782464\n",
       "min          0.000000\n",
       "25%          1.000000\n",
       "50%          2.000000\n",
       "75%          4.000000\n",
       "max          6.000000\n",
       "Name: weekday_exposition, dtype: float64"
      ]
     },
     "metadata": {},
     "output_type": "display_data"
    },
    {
     "data": {
      "text/plain": [
       "<AxesSubplot:title={'center':'День недели'}, ylabel='Frequency'>"
      ]
     },
     "execution_count": 39,
     "metadata": {},
     "output_type": "execute_result"
    },
    {
     "data": {
      "image/png": "[encoded data removed]",
      "text/plain": [
       "<Figure size 576x288 with 1 Axes>"
      ]
     },
     "metadata": {
      "needs_background": "light"
     },
     "output_type": "display_data"
    }
   ],
   "source": [
    "display(data['weekday_exposition'].describe())\n",
    "data.plot(y = 'weekday_exposition', kind = 'hist', bins = 13, grid=True, range = (0,6), figsize = (8,4),title ='День недели')"
   ]
  },
  {
   "cell_type": "code",
   "execution_count": 40,
   "metadata": {},
   "outputs": [
    {
     "data": {
      "text/plain": [
       "count    20905.000000\n",
       "mean         6.423152\n",
       "std          3.467944\n",
       "min          1.000000\n",
       "25%          3.000000\n",
       "50%          6.000000\n",
       "75%         10.000000\n",
       "max         12.000000\n",
       "Name: month_exposition, dtype: float64"
      ]
     },
     "metadata": {},
     "output_type": "display_data"
    },
    {
     "data": {
      "text/plain": [
       "<AxesSubplot:title={'center':'Месяц'}, ylabel='Frequency'>"
      ]
     },
     "execution_count": 40,
     "metadata": {},
     "output_type": "execute_result"
    },
    {
     "data": {
      "image/png": "[encoded data removed]",
      "text/plain": [
       "<Figure size 576x288 with 1 Axes>"
      ]
     },
     "metadata": {
      "needs_background": "light"
     },
     "output_type": "display_data"
    }
   ],
   "source": [
    "display(data['month_exposition'].describe())\n",
    "data.plot(y = 'month_exposition', kind = 'hist', bins = 23, grid=True, range = (1,12), figsize = (8,4),title ='Месяц')"
   ]
  },
  {
   "cell_type": "markdown",
   "metadata": {},
   "source": [
    "Как мы видим по гистограммам, активность публикаций снижается по выходным. Так же наблюдаем снижение активности публикаций в Январе и Мае, что интересно в эти месяцы рабочих дней всегда меньше. Возможно это связано с рабочим графиком риелторских контор ну и/или продавцы тоже отдыхают.  \n",
    "\n",
    "##### Промежуточный итог\n",
    "Из построенных гистаграм и показателям столбцом, мы можем выстроить медианный портрет квартиры.  \n",
    "У такой квартиры будет 52 кв.м. общей площади из них 30 кв.м. будут на жилую площадь, а 9 кв.м. будут приходится на кухню. У неё будет 2 комнаты, 2,6 м. высоты потолок, распологаться скорее всего она будет где то со 2 по 5 этаж, а сам дом при этом будет скорее всего либо 5 этажным или 9 этажным. Далее у нас мало данных (всё еще держим в голове что нужно сообщить о проблеме геолокаций разработчикам), но исходя из того что есть, обычно в 10 км. от центра, тут можно предположить что это будет спальный район, ближайший парк будет в 500 метрах, а аэропорт в 26 км. И медианная цена за такую медианную квартиру в Санкт-Петербурге и Ленинградской области составит 4,7 млн. руб. "
   ]
  },
  {
   "cell_type": "markdown",
   "metadata": {},
   "source": [
    "#### Время продажи квартиры. \n",
    "Построим гистограмму. Посчитаем среднее и медиану."
   ]
  },
  {
   "cell_type": "code",
   "execution_count": 41,
   "metadata": {},
   "outputs": [
    {
     "data": {
      "text/plain": [
       "count    18020.000000\n",
       "mean       185.511099\n",
       "std        222.037847\n",
       "min          1.000000\n",
       "25%         45.000000\n",
       "50%        102.000000\n",
       "75%        239.000000\n",
       "max       1580.000000\n",
       "Name: days_exposition, dtype: float64"
      ]
     },
     "metadata": {},
     "output_type": "display_data"
    },
    {
     "data": {
      "text/plain": [
       "Text(0.5, 0, 'количество дней')"
      ]
     },
     "execution_count": 41,
     "metadata": {},
     "output_type": "execute_result"
    },
    {
     "data": {
      "image/png": "[encoded data removed]",
      "text/plain": [
       "<Figure size 576x288 with 1 Axes>"
      ]
     },
     "metadata": {
      "needs_background": "light"
     },
     "output_type": "display_data"
    }
   ],
   "source": [
    "display(data['days_exposition'].describe())\n",
    "data.plot(y='days_exposition', kind='hist', bins=100, figsize=(8,4), range=(0,900), title='Время продажи', grid=True)\n",
    "plt.xlabel(\"количество дней\")"
   ]
  },
  {
   "cell_type": "markdown",
   "metadata": {},
   "source": [
    "Среднее (185) и медианное значение (102) сильно отличаются, скорее всего имеют место выбросы. Построим диаграмму размаха."
   ]
  },
  {
   "cell_type": "code",
   "execution_count": 42,
   "metadata": {},
   "outputs": [
    {
     "data": {
      "text/plain": [
       "Text(0, 0.5, 'days')"
      ]
     },
     "execution_count": 42,
     "metadata": {},
     "output_type": "execute_result"
    },
    {
     "data": {
      "image/png": "[encoded data removed]",
      "text/plain": [
       "<Figure size 576x288 with 1 Axes>"
      ]
     },
     "metadata": {
      "needs_background": "light"
     },
     "output_type": "display_data"
    }
   ],
   "source": [
    "data.boxplot([\"days_exposition\"], figsize=(8,4), fontsize=11)\n",
    "plt.ylabel(\"days\", fontsize=11)"
   ]
  },
  {
   "cell_type": "markdown",
   "metadata": {},
   "source": [
    "Необоснованно быстрых значений нет, а необоснованно долгие - около 500 дней и выше. Посчитаем что нормальные значения у нас лежат 1-500. При том что бесплатное размещение составляет 120 дней. Поэтому пока уберем значения больше 500 создав новую переменную.\n"
   ]
  },
  {
   "cell_type": "code",
   "execution_count": 43,
   "metadata": {
    "scrolled": false
   },
   "outputs": [
    {
     "data": {
      "text/plain": [
       "count    16430.000000\n",
       "mean       130.133597\n",
       "std        120.318018\n",
       "min          1.000000\n",
       "25%         40.000000\n",
       "50%         89.000000\n",
       "75%        187.000000\n",
       "max        499.000000\n",
       "Name: days_exposition, dtype: float64"
      ]
     },
     "metadata": {},
     "output_type": "display_data"
    },
    {
     "data": {
      "text/plain": [
       "45.0    518\n",
       "60.0    340\n",
       "7.0     202\n",
       "30.0    196\n",
       "4.0     159\n",
       "3.0     146\n",
       "90.0    136\n",
       "14.0    133\n",
       "20.0    132\n",
       "5.0     132\n",
       "Name: days_exposition, dtype: int64"
      ]
     },
     "metadata": {},
     "output_type": "display_data"
    },
    {
     "data": {
      "text/plain": [
       "<AxesSubplot:title={'center':'Время продажи'}, ylabel='Frequency'>"
      ]
     },
     "execution_count": 43,
     "metadata": {},
     "output_type": "execute_result"
    },
    {
     "data": {
      "image/png": "[encoded data removed]",
      "text/plain": [
       "<Figure size 576x288 with 1 Axes>"
      ]
     },
     "metadata": {
      "needs_background": "light"
     },
     "output_type": "display_data"
    }
   ],
   "source": [
    "good_exposition_data = data.query('0<=days_exposition<500')['days_exposition'] #создаем срез переменную\n",
    "display(good_exposition_data.describe())\n",
    "display(good_exposition_data.value_counts().head(10)) # глянем топ-10 дней в продаже\n",
    "good_exposition_data.plot(kind='hist', bins=500, figsize=(8,4), range=(0,500), title='Время продажи', grid=True)"
   ]
  },
  {
   "cell_type": "markdown",
   "metadata": {},
   "source": [
    "Значения 7, 30, 45, 60, 90 очень сильно выделяются. Возможно это связано с правилами размещения объявлений либо с техническими особенностями платформы. Средняя и медианные значения всё еще сильно отличаются. Но в целом мы уже можем сделать вывод что продажи произошедшие быстрее 40 дней это довольно таки быстро, а объявление которому уже полгода, уже старожил, но если объявлению больше 500 дней, это уже аномалия. "
   ]
  },
  {
   "cell_type": "markdown",
   "metadata": {},
   "source": [
    "#### Факторы цены квартиры.\n",
    "##### Квадраты метров.  \n",
    "В современных условиях многие смотрят не только на общую площадь, но так же на непосредственно жилую её часть и на кухню, перейдемте к ним.\n"
   ]
  },
  {
   "cell_type": "code",
   "execution_count": 44,
   "metadata": {},
   "outputs": [
    {
     "name": "stdout",
     "output_type": "stream",
     "text": [
      "корелляция цены от общей площади 0.6911471317457503\n",
      "корелляция цены от жилой площади 0.6030484650627516\n",
      "корелляция цены от площади кухни 0.5179578010456699\n"
     ]
    },
    {
     "data": {
      "image/png": "[encoded data removed]",
      "text/plain": [
       "<Figure size 432x288 with 1 Axes>"
      ]
     },
     "metadata": {
      "needs_background": "light"
     },
     "output_type": "display_data"
    },
    {
     "data": {
      "image/png": "[encoded data removed]",
      "text/plain": [
       "<Figure size 432x288 with 1 Axes>"
      ]
     },
     "metadata": {
      "needs_background": "light"
     },
     "output_type": "display_data"
    },
    {
     "data": {
      "image/png": "[encoded data removed]",
      "text/plain": [
       "<Figure size 432x288 with 1 Axes>"
      ]
     },
     "metadata": {
      "needs_background": "light"
     },
     "output_type": "display_data"
    }
   ],
   "source": [
    "total_area_table = data.pivot_table(index = 'total_area', values = 'last_price', aggfunc = ['mean', 'count', 'median'])\n",
    "total_area_table.columns = ['mean', 'count', 'median']\n",
    "total_area_table.plot(y = 'median', style = 'o', alpha=0.3)\n",
    "print('корелляция цены от общей площади', data['total_area'].corr(data['last_price']))\n",
    "\n",
    "living_area_table = data.pivot_table(index = 'living_area', values = 'last_price', aggfunc = ['mean', 'count', 'median'])\n",
    "living_area_table.columns = ['mean', 'count', 'median']\n",
    "living_area_table.plot(y = 'median', style = 'o', alpha=0.3)\n",
    "print('корелляция цены от жилой площади', data['living_area'].corr(data['last_price']))\n",
    "\n",
    "kitchen_area_table = data.pivot_table(index = 'kitchen_area', values = 'last_price', aggfunc = ['mean', 'count', 'median'])\n",
    "kitchen_area_table.columns = ['mean', 'count', 'median']\n",
    "kitchen_area_table.plot(y = 'median', style = 'o', alpha=0.3)\n",
    "print('корелляция цены от площади кухни', data['kitchen_area'].corr(data['last_price']))"
   ]
  },
  {
   "cell_type": "markdown",
   "metadata": {},
   "source": [
    "Наблюдаем некоторую зависимость цены в почти равной степени общей и жилой площади, но видимо размеры кухни не столь сильно влияет на цену. Хотя в целом можно прийти к выводу что с увеличением площади цена возрастает, что логично.\n",
    "\n",
    "##### Цена от комнат.\n",
    "Посмотрим зависит ли цена от количества комнат."
   ]
  },
  {
   "cell_type": "code",
   "execution_count": 45,
   "metadata": {},
   "outputs": [
    {
     "data": {
      "text/plain": [
       "0.3907933873044743"
      ]
     },
     "execution_count": 45,
     "metadata": {},
     "output_type": "execute_result"
    },
    {
     "data": {
      "image/png": "[encoded data removed]",
      "text/plain": [
       "<Figure size 432x288 with 1 Axes>"
      ]
     },
     "metadata": {
      "needs_background": "light"
     },
     "output_type": "display_data"
    }
   ],
   "source": [
    "rooms_table = data.pivot_table(index = 'rooms', values = 'last_price', aggfunc = ['mean', 'count', 'median'])\n",
    "rooms_table.columns = ['mean', 'count', 'median']\n",
    "rooms_table.query('count > 50').plot(y = 'median')\n",
    "data['rooms'].corr(data['last_price'])"
   ]
  },
  {
   "cell_type": "markdown",
   "metadata": {},
   "source": [
    "Логично что с увеличением количества комнат, растет цена.  \n",
    "\n",
    "##### Цена от типа этажа."
   ]
  },
  {
   "cell_type": "code",
   "execution_count": 46,
   "metadata": {},
   "outputs": [
    {
     "data": {
      "text/plain": [
       "Text(0.5, 0, 'Стоимость')"
      ]
     },
     "execution_count": 46,
     "metadata": {},
     "output_type": "execute_result"
    },
    {
     "data": {
      "image/png": "[encoded data removed]",
      "text/plain": [
       "<Figure size 720x360 with 1 Axes>"
      ]
     },
     "metadata": {
      "needs_background": "light"
     },
     "output_type": "display_data"
    }
   ],
   "source": [
    "floor_price = data[['floor_type', 'last_price']].groupby(['floor_type']).median().sort_values('last_price')\n",
    "plt.figure(figsize=(10,5))\n",
    "plt.barh( floor_price.index, floor_price['last_price'])\n",
    "plt.title(\"Этажи\")\n",
    "plt.xlabel(\"Стоимость\")"
   ]
  },
  {
   "cell_type": "markdown",
   "metadata": {},
   "source": [
    "Квартиры на первом и последнем этаже стоят дешевле.\n",
    "\n",
    "##### Цена от времени.\n",
    "Теперь посмотрим насколько цена зависит от даты размещения объявления."
   ]
  },
  {
   "cell_type": "code",
   "execution_count": 47,
   "metadata": {},
   "outputs": [
    {
     "data": {
      "text/plain": [
       "<AxesSubplot:xlabel='weekday_exposition'>"
      ]
     },
     "execution_count": 47,
     "metadata": {},
     "output_type": "execute_result"
    },
    {
     "data": {
      "image/png": "[encoded data removed]",
      "text/plain": [
       "<Figure size 432x288 with 1 Axes>"
      ]
     },
     "metadata": {
      "needs_background": "light"
     },
     "output_type": "display_data"
    }
   ],
   "source": [
    "weekday_exposition_table = data.pivot_table(index = 'weekday_exposition', values = 'last_price', aggfunc = ['mean', 'count', 'median'])\n",
    "weekday_exposition_table.plot(y = 'median')"
   ]
  },
  {
   "cell_type": "markdown",
   "metadata": {},
   "source": [
    "С понедельника по четверг медианная цена за квартиру 4,7 млн. когда как с пятницы по воскресенье 4.6 млн. Скорее всего это связано с деятельностью риелторских фирм(которые берут % или фиксированную сумму от продажи кв.), по выходным они отдыхают, но пятницу пока никак н\n",
    "Перейдем пока к месяцам объявлений."
   ]
  },
  {
   "cell_type": "code",
   "execution_count": 48,
   "metadata": {},
   "outputs": [
    {
     "data": {
      "text/plain": [
       "<AxesSubplot:xlabel='month_exposition'>"
      ]
     },
     "execution_count": 48,
     "metadata": {},
     "output_type": "execute_result"
    },
    {
     "data": {
      "image/png": "[encoded data removed]",
      "text/plain": [
       "<Figure size 432x288 with 1 Axes>"
      ]
     },
     "metadata": {
      "needs_background": "light"
     },
     "output_type": "display_data"
    }
   ],
   "source": [
    "month_exposition_table = data.pivot_table(index = 'month_exposition', values = 'last_price', aggfunc = ['mean', 'count', 'median'])\n",
    "month_exposition_table.plot(y = 'median')"
   ]
  },
  {
   "cell_type": "markdown",
   "metadata": {},
   "source": [
    "Самые низкие цены отмечаем в июне, а самые дорогие в апреле и в декабре."
   ]
  },
  {
   "cell_type": "code",
   "execution_count": 49,
   "metadata": {},
   "outputs": [
    {
     "data": {
      "text/plain": [
       "<AxesSubplot:xlabel='year_exposition'>"
      ]
     },
     "execution_count": 49,
     "metadata": {},
     "output_type": "execute_result"
    },
    {
     "data": {
      "image/png": "[encoded data removed]",
      "text/plain": [
       "<Figure size 432x288 with 1 Axes>"
      ]
     },
     "metadata": {
      "needs_background": "light"
     },
     "output_type": "display_data"
    },
    {
     "data": {
      "image/png": "[encoded data removed]",
      "text/plain": [
       "<Figure size 432x288 with 1 Axes>"
      ]
     },
     "metadata": {
      "needs_background": "light"
     },
     "output_type": "display_data"
    }
   ],
   "source": [
    "year_exposition_price = data.pivot_table(index = 'year_exposition', values ='last_price', aggfunc = ['mean', 'count', 'median'])\n",
    "year_exposition_price.plot(y = 'median')\n",
    "year_exposition_per_meter = data.pivot_table(index = 'year_exposition', values ='price_per_square_meter', aggfunc = ['mean', 'count', 'median'])\n",
    "year_exposition_per_meter.plot(y = 'median')"
   ]
  },
  {
   "cell_type": "markdown",
   "metadata": {},
   "source": [
    "Из наблюдаемых данных пик цен приходился на 2014 год, в дальнейшем же цены упали. Абсолютные цены начали расти только к 2018-19 годам, а цена за квадратный метр начала расти уже в 2017. "
   ]
  },
  {
   "cell_type": "markdown",
   "metadata": {},
   "source": [
    "####  Cредняя цена 1 кв.м. в 10 населённых пунктах с наибольшим числом объявлений.\n"
   ]
  },
  {
   "cell_type": "code",
   "execution_count": 50,
   "metadata": {},
   "outputs": [
    {
     "data": {
      "text/html": [
       "<div>\n",
       "<style scoped>\n",
       "    .dataframe tbody tr th:only-of-type {\n",
       "        vertical-align: middle;\n",
       "    }\n",
       "\n",
       "    .dataframe tbody tr th {\n",
       "        vertical-align: top;\n",
       "    }\n",
       "\n",
       "    .dataframe thead th {\n",
       "        text-align: right;\n",
       "    }\n",
       "</style>\n",
       "<table border=\"1\" class=\"dataframe\">\n",
       "  <thead>\n",
       "    <tr style=\"text-align: right;\">\n",
       "      <th></th>\n",
       "      <th>count</th>\n",
       "      <th>mean</th>\n",
       "      <th>median</th>\n",
       "    </tr>\n",
       "    <tr>\n",
       "      <th>locality_name</th>\n",
       "      <th></th>\n",
       "      <th></th>\n",
       "      <th></th>\n",
       "    </tr>\n",
       "  </thead>\n",
       "  <tbody>\n",
       "    <tr>\n",
       "      <th>санкт-петербург</th>\n",
       "      <td>14037</td>\n",
       "      <td>113916.369310</td>\n",
       "      <td>104231.0</td>\n",
       "    </tr>\n",
       "    <tr>\n",
       "      <th>поселок мурино</th>\n",
       "      <td>430</td>\n",
       "      <td>85366.088372</td>\n",
       "      <td>84922.0</td>\n",
       "    </tr>\n",
       "    <tr>\n",
       "      <th>поселок шушары</th>\n",
       "      <td>392</td>\n",
       "      <td>78393.239796</td>\n",
       "      <td>77222.5</td>\n",
       "    </tr>\n",
       "    <tr>\n",
       "      <th>всеволожск</th>\n",
       "      <td>357</td>\n",
       "      <td>69028.689076</td>\n",
       "      <td>65789.0</td>\n",
       "    </tr>\n",
       "    <tr>\n",
       "      <th>пушкин</th>\n",
       "      <td>337</td>\n",
       "      <td>103290.851632</td>\n",
       "      <td>100000.0</td>\n",
       "    </tr>\n",
       "    <tr>\n",
       "      <th>колпино</th>\n",
       "      <td>322</td>\n",
       "      <td>75225.869565</td>\n",
       "      <td>74723.5</td>\n",
       "    </tr>\n",
       "    <tr>\n",
       "      <th>гатчина</th>\n",
       "      <td>290</td>\n",
       "      <td>68635.165517</td>\n",
       "      <td>67745.5</td>\n",
       "    </tr>\n",
       "    <tr>\n",
       "      <th>поселок парголово</th>\n",
       "      <td>288</td>\n",
       "      <td>90755.586806</td>\n",
       "      <td>92271.5</td>\n",
       "    </tr>\n",
       "    <tr>\n",
       "      <th>деревня кудрово</th>\n",
       "      <td>226</td>\n",
       "      <td>92248.000000</td>\n",
       "      <td>91714.5</td>\n",
       "    </tr>\n",
       "    <tr>\n",
       "      <th>выборг</th>\n",
       "      <td>190</td>\n",
       "      <td>58318.921053</td>\n",
       "      <td>58357.0</td>\n",
       "    </tr>\n",
       "  </tbody>\n",
       "</table>\n",
       "</div>"
      ],
      "text/plain": [
       "                   count           mean    median\n",
       "locality_name                                    \n",
       "санкт-петербург    14037  113916.369310  104231.0\n",
       "поселок мурино       430   85366.088372   84922.0\n",
       "поселок шушары       392   78393.239796   77222.5\n",
       "всеволожск           357   69028.689076   65789.0\n",
       "пушкин               337  103290.851632  100000.0\n",
       "колпино              322   75225.869565   74723.5\n",
       "гатчина              290   68635.165517   67745.5\n",
       "поселок парголово    288   90755.586806   92271.5\n",
       "деревня кудрово      226   92248.000000   91714.5\n",
       "выборг               190   58318.921053   58357.0"
      ]
     },
     "metadata": {},
     "output_type": "display_data"
    }
   ],
   "source": [
    "locality_table = data.pivot_table(index = 'locality_name', values = 'price_per_square_meter', aggfunc=['count', 'mean', 'median'])\n",
    "locality_table.columns = ['count', 'mean', 'median']\n",
    "locality_table = locality_table.sort_values('count', ascending = False).head(10)\n",
    "display(locality_table)"
   ]
  },
  {
   "cell_type": "markdown",
   "metadata": {},
   "source": [
    "Наиболее дорогие квартиры наблюдаются в северной столице, там и средние и медианные цены за квадратный метр выше чем по Ленинградской области. Самое дешевое же жилье из первой десятки в Выборге. \n",
    "#### Оценка стоимости в зависимости от удаленности от центра.\n"
   ]
  },
  {
   "cell_type": "code",
   "execution_count": 58,
   "metadata": {},
   "outputs": [],
   "source": [
    "spb_data = data.query('locality_name == \"санкт-петербург\"')"
   ]
  },
  {
   "cell_type": "code",
   "execution_count": 56,
   "metadata": {},
   "outputs": [
    {
     "data": {
      "text/plain": [
       "Text(0, 0.5, 'Стоимость')"
      ]
     },
     "execution_count": 56,
     "metadata": {},
     "output_type": "execute_result"
    },
    {
     "data": {
      "image/png": "[encoded data removed]",
      "text/plain": [
       "<Figure size 1080x360 with 1 Axes>"
      ]
     },
     "metadata": {
      "needs_background": "light"
     },
     "output_type": "display_data"
    }
   ],
   "source": [
    "plt.figure(figsize=(15,5))\n",
    "spb_data.groupby('to_center_km')['price_per_square_meter'].median().plot(grid=True)\n",
    "plt.title(\"Стоимость квартиры в зависимости от расстояния\")\n",
    "plt.ylabel(\"Стоимость\")\n"
   ]
  },
  {
   "cell_type": "code",
   "execution_count": 60,
   "metadata": {},
   "outputs": [
    {
     "data": {
      "text/html": [
       "<div>\n",
       "<style scoped>\n",
       "    .dataframe tbody tr th:only-of-type {\n",
       "        vertical-align: middle;\n",
       "    }\n",
       "\n",
       "    .dataframe tbody tr th {\n",
       "        vertical-align: top;\n",
       "    }\n",
       "\n",
       "    .dataframe thead th {\n",
       "        text-align: right;\n",
       "    }\n",
       "</style>\n",
       "<table border=\"1\" class=\"dataframe\">\n",
       "  <thead>\n",
       "    <tr style=\"text-align: right;\">\n",
       "      <th></th>\n",
       "      <th>total_images</th>\n",
       "      <th>last_price</th>\n",
       "      <th>total_area</th>\n",
       "      <th>first_day_exposition</th>\n",
       "      <th>rooms</th>\n",
       "      <th>ceiling_height</th>\n",
       "      <th>floors_total</th>\n",
       "      <th>living_area</th>\n",
       "      <th>floor</th>\n",
       "      <th>is_apartment</th>\n",
       "      <th>...</th>\n",
       "      <th>parks_nearest</th>\n",
       "      <th>ponds_around3000</th>\n",
       "      <th>ponds_nearest</th>\n",
       "      <th>days_exposition</th>\n",
       "      <th>price_per_square_meter</th>\n",
       "      <th>weekday_exposition</th>\n",
       "      <th>month_exposition</th>\n",
       "      <th>year_exposition</th>\n",
       "      <th>floor_type</th>\n",
       "      <th>to_center_km</th>\n",
       "    </tr>\n",
       "  </thead>\n",
       "  <tbody>\n",
       "    <tr>\n",
       "      <th>748</th>\n",
       "      <td>13</td>\n",
       "      <td>14350000.0</td>\n",
       "      <td>74.0</td>\n",
       "      <td>2017-11-28</td>\n",
       "      <td>2</td>\n",
       "      <td>3.13</td>\n",
       "      <td>5.0</td>\n",
       "      <td>30.0</td>\n",
       "      <td>3</td>\n",
       "      <td>False</td>\n",
       "      <td>...</td>\n",
       "      <td>1496.0</td>\n",
       "      <td>0.0</td>\n",
       "      <td>NaN</td>\n",
       "      <td>128.0</td>\n",
       "      <td>193918</td>\n",
       "      <td>1</td>\n",
       "      <td>11</td>\n",
       "      <td>2017</td>\n",
       "      <td>другой</td>\n",
       "      <td>27</td>\n",
       "    </tr>\n",
       "    <tr>\n",
       "      <th>1111</th>\n",
       "      <td>0</td>\n",
       "      <td>4072000.0</td>\n",
       "      <td>38.0</td>\n",
       "      <td>2015-10-14</td>\n",
       "      <td>1</td>\n",
       "      <td>2.65</td>\n",
       "      <td>5.0</td>\n",
       "      <td>16.0</td>\n",
       "      <td>4</td>\n",
       "      <td>False</td>\n",
       "      <td>...</td>\n",
       "      <td>NaN</td>\n",
       "      <td>0.0</td>\n",
       "      <td>NaN</td>\n",
       "      <td>285.0</td>\n",
       "      <td>107157</td>\n",
       "      <td>2</td>\n",
       "      <td>10</td>\n",
       "      <td>2015</td>\n",
       "      <td>другой</td>\n",
       "      <td>28</td>\n",
       "    </tr>\n",
       "  </tbody>\n",
       "</table>\n",
       "<p>2 rows × 28 columns</p>\n",
       "</div>"
      ],
      "text/plain": [
       "      total_images  last_price  total_area first_day_exposition  rooms  \\\n",
       "748             13  14350000.0        74.0           2017-11-28      2   \n",
       "1111             0   4072000.0        38.0           2015-10-14      1   \n",
       "\n",
       "      ceiling_height  floors_total  living_area  floor  is_apartment  ...  \\\n",
       "748             3.13           5.0         30.0      3         False  ...   \n",
       "1111            2.65           5.0         16.0      4         False  ...   \n",
       "\n",
       "      parks_nearest  ponds_around3000  ponds_nearest  days_exposition  \\\n",
       "748          1496.0               0.0            NaN            128.0   \n",
       "1111            NaN               0.0            NaN            285.0   \n",
       "\n",
       "     price_per_square_meter  weekday_exposition  month_exposition  \\\n",
       "748                  193918                   1                11   \n",
       "1111                 107157                   2                10   \n",
       "\n",
       "      year_exposition  floor_type  to_center_km  \n",
       "748              2017      другой            27  \n",
       "1111             2015      другой            28  \n",
       "\n",
       "[2 rows x 28 columns]"
      ]
     },
     "execution_count": 60,
     "metadata": {},
     "output_type": "execute_result"
    }
   ],
   "source": [
    " #странный выброс далее 25 км.\n",
    "spb_data.query('to_center_km>26 and price_per_square_meter>100000')"
   ]
  },
  {
   "cell_type": "markdown",
   "metadata": {},
   "source": [
    "Наиболее дорогие цены за квадратный метр жилья в Санкт-Петербурге наблюдаются в радиусе 9 км. от центра города. Это легко объяснить удобством транспортной инфраструктуры (спрос на квартиры около метро всегда высок).Падение стоимости идет до 27 км. а потом идет ввысь, здесь мы видим 2 объявления выброса."
   ]
  },
  {
   "cell_type": "markdown",
   "metadata": {},
   "source": [
    "### Общий вывод"
   ]
  },
  {
   "cell_type": "markdown",
   "metadata": {},
   "source": [
    "Мы получили и обработали архив данных о продажах квартир с 2014 по 2019 год содержавший в себе 23699 строк(объявлений).   \n",
    "Данные делились на 2 крупные части:\n",
    "* Данные заполненные пользователем\n",
    "* Картографические  \n",
    "\n",
    "По второму типу данных необходимо сообщить разработчикам, т.к. довольно крупный массив данных там отсутствует, а именно:  \n",
    "пустые строки в airports_nearest: 4665  \n",
    "пустые строки в cityCenters_nearest: 4644  \n",
    "пустые строки в parks_around3000: 4643  \n",
    "пустые строки в parks_nearest: 13664  \n",
    "пустые строки в ponds_around3000: 4643  \n",
    "пустые строки в ponds_nearest: 12846  \n",
    "пустые строки в days_exposition: 2885  \n",
    "\n",
    "Так же мы примерно представили себе из этих данных медианную квартиру и она выглядела примерно так: \n",
    "У неё 52 кв.м. общей площади из них 30 кв.м. жилая площадь, а 9 кв.м. приходятся на кухню. У неё 2 комнаты, 2,6 м. высоты потолки, распологается скорее всего она где то со 2 по 5 этаж, а сам дом при этом скорее всего либо 5 этажный или 9 этажный. Далее у нас мало данных, но исходя из того что есть, обычно в 10 км. от центра, тут можно предположить что это будет спальный район, ближайший парк будет в 500 метрах, а аэропорт в 26 км. И медианная цена за такую медианную квартиру в Санкт-Петербурге и Ленинградской области составит 4,7 млн. руб.\n",
    "\n",
    "Также мы выяснили что самые низкие цены, за наблюдаемый период, пришлись на 2016 год, а самые высокие на 2014.\n",
    "\n",
    "Благодаря наблюдениям за ценами в разные дни недели, можно предположить что площадкой в будние дни, активно пользуются риелторские фирмы. Было бы неплохо добавить для них отдельную пометку, о том что это продажа идет от агента. В будущем такая информация поможет анализу данных. \n",
    "\n",
    "Так же мы можем утверждать что в Санкт-Петербурге недвижимость  дороже чем по Ленинградской области, в северной столице медианная цена за квадратный метр составила 104 231 рубля, но чем ближе к центру, тем дороже стоимость, где она достигает и 130 000 рублей. \n",
    "Закономерность же зависимости цены от близости к центру города подтверждена, цена дальше 7го км от центра, начинает значительно снижаться. \n"
   ]
  }
 ],
 "metadata": {
  "ExecuteTimeLog": [
   {
    "duration": 743,
    "start_time": "2022-10-17T08:54:03.790Z"
   },
   {
    "duration": 132,
    "start_time": "2022-10-17T08:55:29.169Z"
   },
   {
    "duration": 128,
    "start_time": "2022-10-17T09:00:04.903Z"
   },
   {
    "duration": 2445,
    "start_time": "2022-10-17T09:11:34.352Z"
   },
   {
    "duration": 13,
    "start_time": "2022-10-17T09:13:58.845Z"
   },
   {
    "duration": 4,
    "start_time": "2022-10-17T09:18:18.917Z"
   },
   {
    "duration": 154,
    "start_time": "2022-10-17T09:20:05.732Z"
   },
   {
    "duration": 43,
    "start_time": "2022-10-18T05:02:04.198Z"
   },
   {
    "duration": 775,
    "start_time": "2022-10-18T05:02:16.690Z"
   },
   {
    "duration": 615,
    "start_time": "2022-10-18T05:02:26.189Z"
   },
   {
    "duration": 712,
    "start_time": "2022-10-18T05:05:57.882Z"
   },
   {
    "duration": 8,
    "start_time": "2022-10-18T05:06:07.460Z"
   },
   {
    "duration": 17,
    "start_time": "2022-10-18T05:08:11.035Z"
   },
   {
    "duration": 13,
    "start_time": "2022-10-18T05:14:48.294Z"
   },
   {
    "duration": 3,
    "start_time": "2022-10-18T05:14:58.532Z"
   },
   {
    "duration": 13,
    "start_time": "2022-10-18T05:18:28.369Z"
   },
   {
    "duration": 10,
    "start_time": "2022-10-18T05:18:49.106Z"
   },
   {
    "duration": 10,
    "start_time": "2022-10-18T05:18:59.676Z"
   },
   {
    "duration": 6,
    "start_time": "2022-10-18T05:19:08.446Z"
   },
   {
    "duration": 8,
    "start_time": "2022-10-18T05:19:28.374Z"
   },
   {
    "duration": 9,
    "start_time": "2022-10-18T05:19:39.314Z"
   },
   {
    "duration": 9,
    "start_time": "2022-10-18T05:19:53.302Z"
   },
   {
    "duration": 559,
    "start_time": "2022-10-18T05:23:52.580Z"
   },
   {
    "duration": 154,
    "start_time": "2022-10-18T05:24:53.239Z"
   },
   {
    "duration": 7,
    "start_time": "2022-10-18T05:25:11.547Z"
   },
   {
    "duration": 172,
    "start_time": "2022-10-18T05:26:10.223Z"
   },
   {
    "duration": 221,
    "start_time": "2022-10-18T05:26:55.266Z"
   },
   {
    "duration": 233,
    "start_time": "2022-10-18T05:28:02.375Z"
   },
   {
    "duration": 207,
    "start_time": "2022-10-18T05:28:19.676Z"
   },
   {
    "duration": 164,
    "start_time": "2022-10-18T05:28:27.558Z"
   },
   {
    "duration": 151,
    "start_time": "2022-10-18T05:31:12.175Z"
   },
   {
    "duration": 159,
    "start_time": "2022-10-18T05:31:24.663Z"
   },
   {
    "duration": 248,
    "start_time": "2022-10-18T05:34:47.793Z"
   },
   {
    "duration": 261,
    "start_time": "2022-10-18T05:35:00.283Z"
   },
   {
    "duration": 19,
    "start_time": "2022-10-18T05:57:26.286Z"
   },
   {
    "duration": 6,
    "start_time": "2022-10-18T05:57:47.128Z"
   },
   {
    "duration": 5,
    "start_time": "2022-10-18T06:01:08.413Z"
   },
   {
    "duration": 168,
    "start_time": "2022-10-18T06:01:55.405Z"
   },
   {
    "duration": 501,
    "start_time": "2022-10-18T06:02:21.828Z"
   },
   {
    "duration": 7,
    "start_time": "2022-10-18T06:02:22.331Z"
   },
   {
    "duration": 408,
    "start_time": "2022-10-18T06:02:22.339Z"
   },
   {
    "duration": 6,
    "start_time": "2022-10-18T06:02:22.749Z"
   },
   {
    "duration": 498,
    "start_time": "2022-10-18T06:03:42.494Z"
   },
   {
    "duration": 6,
    "start_time": "2022-10-18T06:03:42.994Z"
   },
   {
    "duration": 384,
    "start_time": "2022-10-18T06:03:43.002Z"
   },
   {
    "duration": 5,
    "start_time": "2022-10-18T06:03:43.387Z"
   },
   {
    "duration": 176,
    "start_time": "2022-10-18T06:05:06.622Z"
   },
   {
    "duration": 161,
    "start_time": "2022-10-18T06:05:12.264Z"
   },
   {
    "duration": 151,
    "start_time": "2022-10-18T06:05:50.987Z"
   },
   {
    "duration": 235,
    "start_time": "2022-10-18T06:06:20.129Z"
   },
   {
    "duration": 160,
    "start_time": "2022-10-18T06:06:32.985Z"
   },
   {
    "duration": 73,
    "start_time": "2022-10-18T06:14:48.735Z"
   },
   {
    "duration": 6,
    "start_time": "2022-10-18T06:17:14.262Z"
   },
   {
    "duration": 10,
    "start_time": "2022-10-18T06:17:23.722Z"
   },
   {
    "duration": 65,
    "start_time": "2022-10-18T06:23:57.122Z"
   },
   {
    "duration": 14,
    "start_time": "2022-10-18T06:24:04.765Z"
   },
   {
    "duration": 13,
    "start_time": "2022-10-18T06:24:53.693Z"
   },
   {
    "duration": 3,
    "start_time": "2022-10-18T06:25:32.462Z"
   },
   {
    "duration": 3,
    "start_time": "2022-10-18T06:30:09.280Z"
   },
   {
    "duration": 3,
    "start_time": "2022-10-18T06:30:15.524Z"
   },
   {
    "duration": 153,
    "start_time": "2022-10-18T06:31:51.704Z"
   },
   {
    "duration": 168,
    "start_time": "2022-10-18T06:32:35.456Z"
   },
   {
    "duration": 167,
    "start_time": "2022-10-18T06:32:48.489Z"
   },
   {
    "duration": 169,
    "start_time": "2022-10-18T06:33:06.559Z"
   },
   {
    "duration": 150,
    "start_time": "2022-10-18T06:33:15.345Z"
   },
   {
    "duration": 142,
    "start_time": "2022-10-18T06:33:27.638Z"
   },
   {
    "duration": 145,
    "start_time": "2022-10-18T06:34:24.034Z"
   },
   {
    "duration": 170,
    "start_time": "2022-10-18T06:35:41.603Z"
   },
   {
    "duration": 172,
    "start_time": "2022-10-18T06:37:06.987Z"
   },
   {
    "duration": 11,
    "start_time": "2022-10-18T06:37:11.560Z"
   },
   {
    "duration": 9,
    "start_time": "2022-10-18T06:44:34.067Z"
   },
   {
    "duration": 211,
    "start_time": "2022-10-18T06:44:57.207Z"
   },
   {
    "duration": 9,
    "start_time": "2022-10-18T06:45:03.326Z"
   },
   {
    "duration": 4,
    "start_time": "2022-10-18T07:15:15.601Z"
   },
   {
    "duration": 165,
    "start_time": "2022-10-18T07:17:09.773Z"
   },
   {
    "duration": 168,
    "start_time": "2022-10-18T07:17:36.478Z"
   },
   {
    "duration": 490,
    "start_time": "2022-10-18T07:17:41.800Z"
   },
   {
    "duration": 8,
    "start_time": "2022-10-18T07:17:42.291Z"
   },
   {
    "duration": 415,
    "start_time": "2022-10-18T07:17:42.300Z"
   },
   {
    "duration": 7,
    "start_time": "2022-10-18T07:17:42.717Z"
   },
   {
    "duration": 171,
    "start_time": "2022-10-18T07:17:42.725Z"
   },
   {
    "duration": 11,
    "start_time": "2022-10-18T07:17:42.897Z"
   },
   {
    "duration": 21,
    "start_time": "2022-10-18T07:17:42.909Z"
   },
   {
    "duration": 155,
    "start_time": "2022-10-18T07:17:42.931Z"
   },
   {
    "duration": 10,
    "start_time": "2022-10-18T07:17:43.088Z"
   },
   {
    "duration": 165,
    "start_time": "2022-10-18T07:17:43.100Z"
   },
   {
    "duration": 209,
    "start_time": "2022-10-18T07:18:28.073Z"
   },
   {
    "duration": 154,
    "start_time": "2022-10-18T07:18:47.611Z"
   },
   {
    "duration": 134,
    "start_time": "2022-10-18T07:19:10.945Z"
   },
   {
    "duration": 126,
    "start_time": "2022-10-18T07:19:40.300Z"
   },
   {
    "duration": 170,
    "start_time": "2022-10-18T07:19:49.039Z"
   },
   {
    "duration": 139,
    "start_time": "2022-10-18T07:20:01.411Z"
   },
   {
    "duration": 151,
    "start_time": "2022-10-18T07:20:09.116Z"
   },
   {
    "duration": 172,
    "start_time": "2022-10-18T07:20:41.576Z"
   },
   {
    "duration": 76,
    "start_time": "2022-10-18T07:33:52.351Z"
   },
   {
    "duration": 26,
    "start_time": "2022-10-18T07:34:05.366Z"
   },
   {
    "duration": 17,
    "start_time": "2022-10-18T07:34:14.351Z"
   },
   {
    "duration": 6,
    "start_time": "2022-10-18T07:35:50.159Z"
   },
   {
    "duration": 6,
    "start_time": "2022-10-18T07:35:58.982Z"
   },
   {
    "duration": 7,
    "start_time": "2022-10-18T07:36:03.450Z"
   },
   {
    "duration": 10,
    "start_time": "2022-10-18T07:38:07.923Z"
   },
   {
    "duration": 72,
    "start_time": "2022-10-18T07:38:13.764Z"
   },
   {
    "duration": 298,
    "start_time": "2022-10-18T07:40:10.444Z"
   },
   {
    "duration": 267,
    "start_time": "2022-10-18T07:40:29.436Z"
   },
   {
    "duration": 72,
    "start_time": "2022-10-18T07:40:48.126Z"
   },
   {
    "duration": 29,
    "start_time": "2022-10-18T07:41:02.172Z"
   },
   {
    "duration": 8,
    "start_time": "2022-10-18T07:42:03.967Z"
   },
   {
    "duration": 7,
    "start_time": "2022-10-18T07:42:35.353Z"
   },
   {
    "duration": 6,
    "start_time": "2022-10-18T07:45:18.675Z"
   },
   {
    "duration": 10,
    "start_time": "2022-10-18T07:45:25.198Z"
   },
   {
    "duration": 27,
    "start_time": "2022-10-18T07:51:02.975Z"
   },
   {
    "duration": 34,
    "start_time": "2022-10-18T07:51:13.078Z"
   },
   {
    "duration": 10,
    "start_time": "2022-10-18T07:53:32.559Z"
   },
   {
    "duration": 8,
    "start_time": "2022-10-18T07:54:05.907Z"
   },
   {
    "duration": 9,
    "start_time": "2022-10-18T08:08:02.408Z"
   },
   {
    "duration": 8,
    "start_time": "2022-10-18T08:08:13.082Z"
   },
   {
    "duration": 8,
    "start_time": "2022-10-18T08:15:31.857Z"
   },
   {
    "duration": 30,
    "start_time": "2022-10-18T08:21:41.410Z"
   },
   {
    "duration": 37,
    "start_time": "2022-10-18T08:22:08.671Z"
   },
   {
    "duration": 28,
    "start_time": "2022-10-18T08:22:20.290Z"
   },
   {
    "duration": 29,
    "start_time": "2022-10-18T08:22:41.629Z"
   },
   {
    "duration": 26,
    "start_time": "2022-10-18T08:26:04.529Z"
   },
   {
    "duration": 2,
    "start_time": "2022-10-18T08:26:59.488Z"
   },
   {
    "duration": 501,
    "start_time": "2022-10-18T08:27:09.651Z"
   },
   {
    "duration": 7,
    "start_time": "2022-10-18T08:27:10.154Z"
   },
   {
    "duration": 401,
    "start_time": "2022-10-18T08:27:10.162Z"
   },
   {
    "duration": 6,
    "start_time": "2022-10-18T08:27:10.565Z"
   },
   {
    "duration": 175,
    "start_time": "2022-10-18T08:27:10.573Z"
   },
   {
    "duration": 10,
    "start_time": "2022-10-18T08:27:10.749Z"
   },
   {
    "duration": 26,
    "start_time": "2022-10-18T08:27:10.760Z"
   },
   {
    "duration": 157,
    "start_time": "2022-10-18T08:27:10.787Z"
   },
   {
    "duration": 12,
    "start_time": "2022-10-18T08:27:10.946Z"
   },
   {
    "duration": 152,
    "start_time": "2022-10-18T08:27:10.960Z"
   },
   {
    "duration": 4,
    "start_time": "2022-10-18T08:27:11.114Z"
   },
   {
    "duration": 22,
    "start_time": "2022-10-18T08:27:11.120Z"
   },
   {
    "duration": 16,
    "start_time": "2022-10-18T08:27:11.144Z"
   },
   {
    "duration": 21,
    "start_time": "2022-10-18T08:27:11.161Z"
   },
   {
    "duration": 35,
    "start_time": "2022-10-18T08:27:11.184Z"
   },
   {
    "duration": 34,
    "start_time": "2022-10-18T08:34:58.786Z"
   },
   {
    "duration": 46,
    "start_time": "2022-10-18T08:43:45.019Z"
   },
   {
    "duration": 93,
    "start_time": "2022-10-18T08:43:56.755Z"
   },
   {
    "duration": 45,
    "start_time": "2022-10-18T08:44:19.842Z"
   },
   {
    "duration": 44,
    "start_time": "2022-10-18T08:52:20.526Z"
   },
   {
    "duration": 538,
    "start_time": "2022-10-18T08:52:30.371Z"
   },
   {
    "duration": 7,
    "start_time": "2022-10-18T08:52:30.910Z"
   },
   {
    "duration": 398,
    "start_time": "2022-10-18T08:52:30.918Z"
   },
   {
    "duration": 7,
    "start_time": "2022-10-18T08:52:31.318Z"
   },
   {
    "duration": 174,
    "start_time": "2022-10-18T08:52:31.326Z"
   },
   {
    "duration": 10,
    "start_time": "2022-10-18T08:52:31.502Z"
   },
   {
    "duration": 19,
    "start_time": "2022-10-18T08:52:31.513Z"
   },
   {
    "duration": 168,
    "start_time": "2022-10-18T08:52:31.533Z"
   },
   {
    "duration": 10,
    "start_time": "2022-10-18T08:52:31.703Z"
   },
   {
    "duration": 175,
    "start_time": "2022-10-18T08:52:31.715Z"
   },
   {
    "duration": 4,
    "start_time": "2022-10-18T08:52:31.891Z"
   },
   {
    "duration": 29,
    "start_time": "2022-10-18T08:52:31.896Z"
   },
   {
    "duration": 22,
    "start_time": "2022-10-18T08:52:31.926Z"
   },
   {
    "duration": 17,
    "start_time": "2022-10-18T08:52:31.949Z"
   },
   {
    "duration": 75,
    "start_time": "2022-10-18T08:52:31.968Z"
   },
   {
    "duration": 504,
    "start_time": "2022-10-18T08:56:46.405Z"
   },
   {
    "duration": 9,
    "start_time": "2022-10-18T08:56:46.911Z"
   },
   {
    "duration": 434,
    "start_time": "2022-10-18T08:56:46.922Z"
   },
   {
    "duration": 7,
    "start_time": "2022-10-18T08:56:47.358Z"
   },
   {
    "duration": 178,
    "start_time": "2022-10-18T08:56:47.367Z"
   },
   {
    "duration": 13,
    "start_time": "2022-10-18T08:56:47.547Z"
   },
   {
    "duration": 5,
    "start_time": "2022-10-18T08:56:47.562Z"
   },
   {
    "duration": 162,
    "start_time": "2022-10-18T08:56:47.569Z"
   },
   {
    "duration": 10,
    "start_time": "2022-10-18T08:56:47.732Z"
   },
   {
    "duration": 160,
    "start_time": "2022-10-18T08:56:47.744Z"
   },
   {
    "duration": 4,
    "start_time": "2022-10-18T08:56:47.905Z"
   },
   {
    "duration": 9,
    "start_time": "2022-10-18T08:56:47.910Z"
   },
   {
    "duration": 9,
    "start_time": "2022-10-18T08:56:47.920Z"
   },
   {
    "duration": 7,
    "start_time": "2022-10-18T08:56:47.931Z"
   },
   {
    "duration": 66,
    "start_time": "2022-10-18T08:56:47.939Z"
   },
   {
    "duration": 497,
    "start_time": "2022-10-18T09:04:19.503Z"
   },
   {
    "duration": 8,
    "start_time": "2022-10-18T09:04:20.001Z"
   },
   {
    "duration": 406,
    "start_time": "2022-10-18T09:04:20.010Z"
   },
   {
    "duration": 11,
    "start_time": "2022-10-18T09:04:20.418Z"
   },
   {
    "duration": 5,
    "start_time": "2022-10-18T09:04:20.430Z"
   },
   {
    "duration": 171,
    "start_time": "2022-10-18T09:04:20.437Z"
   },
   {
    "duration": 11,
    "start_time": "2022-10-18T09:04:20.610Z"
   },
   {
    "duration": 151,
    "start_time": "2022-10-18T09:04:20.623Z"
   },
   {
    "duration": 10,
    "start_time": "2022-10-18T09:04:20.776Z"
   },
   {
    "duration": 15,
    "start_time": "2022-10-18T09:04:20.788Z"
   },
   {
    "duration": 16,
    "start_time": "2022-10-18T09:04:20.804Z"
   },
   {
    "duration": 10,
    "start_time": "2022-10-18T09:04:20.822Z"
   },
   {
    "duration": 53,
    "start_time": "2022-10-18T09:04:20.833Z"
   },
   {
    "duration": 162,
    "start_time": "2022-10-18T09:04:20.887Z"
   },
   {
    "duration": 7,
    "start_time": "2022-10-18T09:04:21.051Z"
   },
   {
    "duration": 1644,
    "start_time": "2022-10-18T10:34:52.368Z"
   },
   {
    "duration": 151,
    "start_time": "2022-10-18T10:35:20.962Z"
   },
   {
    "duration": 522,
    "start_time": "2022-10-18T10:35:40.769Z"
   },
   {
    "duration": 7,
    "start_time": "2022-10-18T10:35:41.293Z"
   },
   {
    "duration": 413,
    "start_time": "2022-10-18T10:35:41.301Z"
   },
   {
    "duration": 11,
    "start_time": "2022-10-18T10:35:41.716Z"
   },
   {
    "duration": 5,
    "start_time": "2022-10-18T10:35:41.729Z"
   },
   {
    "duration": 158,
    "start_time": "2022-10-18T10:35:41.735Z"
   },
   {
    "duration": 11,
    "start_time": "2022-10-18T10:35:41.894Z"
   },
   {
    "duration": 162,
    "start_time": "2022-10-18T10:35:41.906Z"
   },
   {
    "duration": 3,
    "start_time": "2022-10-18T10:35:42.069Z"
   },
   {
    "duration": 14,
    "start_time": "2022-10-18T10:35:42.074Z"
   },
   {
    "duration": 14,
    "start_time": "2022-10-18T10:35:42.090Z"
   },
   {
    "duration": 10,
    "start_time": "2022-10-18T10:35:42.105Z"
   },
   {
    "duration": 46,
    "start_time": "2022-10-18T10:35:42.116Z"
   },
   {
    "duration": 186,
    "start_time": "2022-10-18T10:35:42.165Z"
   },
   {
    "duration": 1734,
    "start_time": "2022-10-18T10:35:42.352Z"
   },
   {
    "duration": 159,
    "start_time": "2022-10-18T10:35:44.088Z"
   },
   {
    "duration": 1620,
    "start_time": "2022-10-18T10:37:30.602Z"
   },
   {
    "duration": 509,
    "start_time": "2022-10-18T10:37:38.311Z"
   },
   {
    "duration": 8,
    "start_time": "2022-10-18T10:37:38.822Z"
   },
   {
    "duration": 474,
    "start_time": "2022-10-18T10:37:38.833Z"
   },
   {
    "duration": 16,
    "start_time": "2022-10-18T10:37:39.310Z"
   },
   {
    "duration": 7,
    "start_time": "2022-10-18T10:37:39.328Z"
   },
   {
    "duration": 193,
    "start_time": "2022-10-18T10:37:39.337Z"
   },
   {
    "duration": 13,
    "start_time": "2022-10-18T10:37:39.532Z"
   },
   {
    "duration": 173,
    "start_time": "2022-10-18T10:37:39.547Z"
   },
   {
    "duration": 4,
    "start_time": "2022-10-18T10:37:39.723Z"
   },
   {
    "duration": 10,
    "start_time": "2022-10-18T10:37:39.730Z"
   },
   {
    "duration": 11,
    "start_time": "2022-10-18T10:37:39.742Z"
   },
   {
    "duration": 31,
    "start_time": "2022-10-18T10:37:39.755Z"
   },
   {
    "duration": 58,
    "start_time": "2022-10-18T10:37:39.788Z"
   },
   {
    "duration": 186,
    "start_time": "2022-10-18T10:37:39.848Z"
   },
   {
    "duration": 1863,
    "start_time": "2022-10-18T10:37:40.036Z"
   },
   {
    "duration": 166,
    "start_time": "2022-10-18T10:37:41.901Z"
   },
   {
    "duration": 75,
    "start_time": "2022-10-18T10:38:48.628Z"
   },
   {
    "duration": 528,
    "start_time": "2022-10-18T10:38:54.782Z"
   },
   {
    "duration": 7,
    "start_time": "2022-10-18T10:38:55.312Z"
   },
   {
    "duration": 416,
    "start_time": "2022-10-18T10:38:55.320Z"
   },
   {
    "duration": 12,
    "start_time": "2022-10-18T10:38:55.737Z"
   },
   {
    "duration": 10,
    "start_time": "2022-10-18T10:38:55.751Z"
   },
   {
    "duration": 170,
    "start_time": "2022-10-18T10:38:55.763Z"
   },
   {
    "duration": 12,
    "start_time": "2022-10-18T10:38:55.935Z"
   },
   {
    "duration": 163,
    "start_time": "2022-10-18T10:38:55.948Z"
   },
   {
    "duration": 3,
    "start_time": "2022-10-18T10:38:56.113Z"
   },
   {
    "duration": 15,
    "start_time": "2022-10-18T10:38:56.118Z"
   },
   {
    "duration": 17,
    "start_time": "2022-10-18T10:38:56.134Z"
   },
   {
    "duration": 14,
    "start_time": "2022-10-18T10:38:56.152Z"
   },
   {
    "duration": 52,
    "start_time": "2022-10-18T10:38:56.168Z"
   },
   {
    "duration": 167,
    "start_time": "2022-10-18T10:38:56.221Z"
   },
   {
    "duration": 114,
    "start_time": "2022-10-18T10:38:56.390Z"
   },
   {
    "duration": 0,
    "start_time": "2022-10-18T10:38:56.505Z"
   },
   {
    "duration": 535,
    "start_time": "2022-10-18T10:39:22.980Z"
   },
   {
    "duration": 8,
    "start_time": "2022-10-18T10:39:23.517Z"
   },
   {
    "duration": 430,
    "start_time": "2022-10-18T10:39:23.527Z"
   },
   {
    "duration": 11,
    "start_time": "2022-10-18T10:39:23.960Z"
   },
   {
    "duration": 14,
    "start_time": "2022-10-18T10:39:23.973Z"
   },
   {
    "duration": 165,
    "start_time": "2022-10-18T10:39:23.989Z"
   },
   {
    "duration": 13,
    "start_time": "2022-10-18T10:39:24.155Z"
   },
   {
    "duration": 167,
    "start_time": "2022-10-18T10:39:24.170Z"
   },
   {
    "duration": 4,
    "start_time": "2022-10-18T10:39:24.339Z"
   },
   {
    "duration": 7,
    "start_time": "2022-10-18T10:39:24.345Z"
   },
   {
    "duration": 15,
    "start_time": "2022-10-18T10:39:24.353Z"
   },
   {
    "duration": 10,
    "start_time": "2022-10-18T10:39:24.385Z"
   },
   {
    "duration": 62,
    "start_time": "2022-10-18T10:39:24.397Z"
   },
   {
    "duration": 185,
    "start_time": "2022-10-18T10:39:24.460Z"
   },
   {
    "duration": 1805,
    "start_time": "2022-10-18T10:39:24.646Z"
   },
   {
    "duration": 180,
    "start_time": "2022-10-18T10:39:26.453Z"
   },
   {
    "duration": 159,
    "start_time": "2022-10-18T10:46:29.967Z"
   },
   {
    "duration": 160,
    "start_time": "2022-10-18T10:46:50.379Z"
   },
   {
    "duration": 154,
    "start_time": "2022-10-18T10:47:10.600Z"
   },
   {
    "duration": 170,
    "start_time": "2022-10-18T10:47:26.218Z"
   },
   {
    "duration": 168,
    "start_time": "2022-10-18T10:47:33.813Z"
   },
   {
    "duration": 4,
    "start_time": "2022-10-18T10:49:51.246Z"
   },
   {
    "duration": 533,
    "start_time": "2022-10-18T10:50:20.247Z"
   },
   {
    "duration": 8,
    "start_time": "2022-10-18T10:50:20.782Z"
   },
   {
    "duration": 408,
    "start_time": "2022-10-18T10:50:20.791Z"
   },
   {
    "duration": 6,
    "start_time": "2022-10-18T10:50:21.201Z"
   },
   {
    "duration": 177,
    "start_time": "2022-10-18T10:50:21.208Z"
   },
   {
    "duration": 16,
    "start_time": "2022-10-18T10:50:21.387Z"
   },
   {
    "duration": 5,
    "start_time": "2022-10-18T10:50:21.405Z"
   },
   {
    "duration": 161,
    "start_time": "2022-10-18T10:50:21.411Z"
   },
   {
    "duration": 20,
    "start_time": "2022-10-18T10:50:21.574Z"
   },
   {
    "duration": 168,
    "start_time": "2022-10-18T10:50:21.596Z"
   },
   {
    "duration": 3,
    "start_time": "2022-10-18T10:50:21.766Z"
   },
   {
    "duration": 16,
    "start_time": "2022-10-18T10:50:21.771Z"
   },
   {
    "duration": 18,
    "start_time": "2022-10-18T10:50:21.789Z"
   },
   {
    "duration": 9,
    "start_time": "2022-10-18T10:50:21.810Z"
   },
   {
    "duration": 70,
    "start_time": "2022-10-18T10:50:21.821Z"
   },
   {
    "duration": 6,
    "start_time": "2022-10-18T10:56:14.096Z"
   },
   {
    "duration": 17,
    "start_time": "2022-10-18T11:13:33.480Z"
   },
   {
    "duration": 24,
    "start_time": "2022-10-18T11:19:47.881Z"
   },
   {
    "duration": 664,
    "start_time": "2022-10-18T11:21:52.621Z"
   },
   {
    "duration": 7,
    "start_time": "2022-10-18T11:21:53.287Z"
   },
   {
    "duration": 190,
    "start_time": "2022-10-18T11:21:53.295Z"
   },
   {
    "duration": 4,
    "start_time": "2022-10-18T11:21:53.487Z"
   },
   {
    "duration": 165,
    "start_time": "2022-10-18T11:21:53.493Z"
   },
   {
    "duration": 10,
    "start_time": "2022-10-18T11:21:53.659Z"
   },
   {
    "duration": 14,
    "start_time": "2022-10-18T11:21:53.671Z"
   },
   {
    "duration": 158,
    "start_time": "2022-10-18T11:21:53.687Z"
   },
   {
    "duration": 11,
    "start_time": "2022-10-18T11:21:53.846Z"
   },
   {
    "duration": 151,
    "start_time": "2022-10-18T11:21:53.859Z"
   },
   {
    "duration": 3,
    "start_time": "2022-10-18T11:21:54.012Z"
   },
   {
    "duration": 7,
    "start_time": "2022-10-18T11:21:54.017Z"
   },
   {
    "duration": 9,
    "start_time": "2022-10-18T11:21:54.026Z"
   },
   {
    "duration": 10,
    "start_time": "2022-10-18T11:21:54.037Z"
   },
   {
    "duration": 66,
    "start_time": "2022-10-18T11:21:54.048Z"
   },
   {
    "duration": 87,
    "start_time": "2022-10-18T11:21:54.115Z"
   },
   {
    "duration": 7,
    "start_time": "2022-10-18T11:21:54.204Z"
   },
   {
    "duration": 682,
    "start_time": "2022-10-18T11:22:07.538Z"
   },
   {
    "duration": 7,
    "start_time": "2022-10-18T11:22:08.222Z"
   },
   {
    "duration": 208,
    "start_time": "2022-10-18T11:22:08.230Z"
   },
   {
    "duration": 5,
    "start_time": "2022-10-18T11:22:08.440Z"
   },
   {
    "duration": 191,
    "start_time": "2022-10-18T11:22:08.446Z"
   },
   {
    "duration": 10,
    "start_time": "2022-10-18T11:22:08.638Z"
   },
   {
    "duration": 26,
    "start_time": "2022-10-18T11:22:08.649Z"
   },
   {
    "duration": 152,
    "start_time": "2022-10-18T11:22:08.677Z"
   },
   {
    "duration": 10,
    "start_time": "2022-10-18T11:22:08.831Z"
   },
   {
    "duration": 156,
    "start_time": "2022-10-18T11:22:08.843Z"
   },
   {
    "duration": 3,
    "start_time": "2022-10-18T11:22:09.001Z"
   },
   {
    "duration": 99,
    "start_time": "2022-10-18T11:22:09.005Z"
   },
   {
    "duration": 34,
    "start_time": "2022-10-18T11:22:09.106Z"
   },
   {
    "duration": 41,
    "start_time": "2022-10-18T11:22:09.142Z"
   },
   {
    "duration": 66,
    "start_time": "2022-10-18T11:22:09.184Z"
   },
   {
    "duration": 71,
    "start_time": "2022-10-18T11:22:09.251Z"
   },
   {
    "duration": 5,
    "start_time": "2022-10-18T11:22:09.324Z"
   },
   {
    "duration": 51,
    "start_time": "2022-10-19T05:49:42.994Z"
   },
   {
    "duration": 868,
    "start_time": "2022-10-19T05:50:03.358Z"
   },
   {
    "duration": 8,
    "start_time": "2022-10-19T05:50:04.229Z"
   },
   {
    "duration": 208,
    "start_time": "2022-10-19T05:50:04.239Z"
   },
   {
    "duration": 6,
    "start_time": "2022-10-19T05:50:04.449Z"
   },
   {
    "duration": 197,
    "start_time": "2022-10-19T05:50:04.458Z"
   },
   {
    "duration": 10,
    "start_time": "2022-10-19T05:50:04.657Z"
   },
   {
    "duration": 14,
    "start_time": "2022-10-19T05:50:04.668Z"
   },
   {
    "duration": 150,
    "start_time": "2022-10-19T05:50:04.684Z"
   },
   {
    "duration": 10,
    "start_time": "2022-10-19T05:50:04.835Z"
   },
   {
    "duration": 147,
    "start_time": "2022-10-19T05:50:04.847Z"
   },
   {
    "duration": 14,
    "start_time": "2022-10-19T05:50:04.996Z"
   },
   {
    "duration": 13,
    "start_time": "2022-10-19T05:50:05.012Z"
   },
   {
    "duration": 21,
    "start_time": "2022-10-19T05:50:05.027Z"
   },
   {
    "duration": 15,
    "start_time": "2022-10-19T05:50:05.051Z"
   },
   {
    "duration": 61,
    "start_time": "2022-10-19T05:50:05.068Z"
   },
   {
    "duration": 88,
    "start_time": "2022-10-19T05:50:05.130Z"
   },
   {
    "duration": 10,
    "start_time": "2022-10-19T05:53:26.483Z"
   },
   {
    "duration": 10,
    "start_time": "2022-10-19T05:53:52.092Z"
   },
   {
    "duration": 74,
    "start_time": "2022-10-19T05:56:48.802Z"
   },
   {
    "duration": 4,
    "start_time": "2022-10-19T05:57:15.198Z"
   },
   {
    "duration": 10,
    "start_time": "2022-10-19T06:05:08.543Z"
   },
   {
    "duration": 34,
    "start_time": "2022-10-19T06:08:52.378Z"
   },
   {
    "duration": 62,
    "start_time": "2022-10-19T06:09:42.966Z"
   },
   {
    "duration": 773,
    "start_time": "2022-10-19T07:29:29.766Z"
   },
   {
    "duration": 7,
    "start_time": "2022-10-19T07:29:30.541Z"
   },
   {
    "duration": 215,
    "start_time": "2022-10-19T07:29:30.549Z"
   },
   {
    "duration": 5,
    "start_time": "2022-10-19T07:29:30.766Z"
   },
   {
    "duration": 234,
    "start_time": "2022-10-19T07:29:30.772Z"
   },
   {
    "duration": 14,
    "start_time": "2022-10-19T07:29:31.008Z"
   },
   {
    "duration": 31,
    "start_time": "2022-10-19T07:29:31.023Z"
   },
   {
    "duration": 165,
    "start_time": "2022-10-19T07:29:31.056Z"
   },
   {
    "duration": 10,
    "start_time": "2022-10-19T07:29:31.222Z"
   },
   {
    "duration": 159,
    "start_time": "2022-10-19T07:29:31.234Z"
   },
   {
    "duration": 14,
    "start_time": "2022-10-19T07:29:31.395Z"
   },
   {
    "duration": 27,
    "start_time": "2022-10-19T07:29:31.410Z"
   },
   {
    "duration": 50,
    "start_time": "2022-10-19T07:29:31.438Z"
   },
   {
    "duration": 18,
    "start_time": "2022-10-19T07:29:31.490Z"
   },
   {
    "duration": 55,
    "start_time": "2022-10-19T07:29:31.509Z"
   },
   {
    "duration": 52,
    "start_time": "2022-10-19T07:29:31.565Z"
   },
   {
    "duration": 47,
    "start_time": "2022-10-19T07:29:31.618Z"
   },
   {
    "duration": 103,
    "start_time": "2022-10-19T07:34:10.955Z"
   },
   {
    "duration": 768,
    "start_time": "2022-10-19T07:38:40.243Z"
   },
   {
    "duration": 7,
    "start_time": "2022-10-19T07:38:41.013Z"
   },
   {
    "duration": 189,
    "start_time": "2022-10-19T07:38:41.022Z"
   },
   {
    "duration": 6,
    "start_time": "2022-10-19T07:38:41.213Z"
   },
   {
    "duration": 982,
    "start_time": "2022-10-19T07:38:41.221Z"
   },
   {
    "duration": 0,
    "start_time": "2022-10-19T07:38:42.205Z"
   },
   {
    "duration": 0,
    "start_time": "2022-10-19T07:38:42.206Z"
   },
   {
    "duration": 0,
    "start_time": "2022-10-19T07:38:42.208Z"
   },
   {
    "duration": 0,
    "start_time": "2022-10-19T07:38:42.210Z"
   },
   {
    "duration": 0,
    "start_time": "2022-10-19T07:38:42.211Z"
   },
   {
    "duration": 0,
    "start_time": "2022-10-19T07:38:42.212Z"
   },
   {
    "duration": 0,
    "start_time": "2022-10-19T07:38:42.213Z"
   },
   {
    "duration": 0,
    "start_time": "2022-10-19T07:38:42.214Z"
   },
   {
    "duration": 0,
    "start_time": "2022-10-19T07:38:42.215Z"
   },
   {
    "duration": 0,
    "start_time": "2022-10-19T07:38:42.217Z"
   },
   {
    "duration": 0,
    "start_time": "2022-10-19T07:38:42.218Z"
   },
   {
    "duration": 0,
    "start_time": "2022-10-19T07:38:42.219Z"
   },
   {
    "duration": 0,
    "start_time": "2022-10-19T07:38:42.220Z"
   },
   {
    "duration": 730,
    "start_time": "2022-10-19T07:39:35.366Z"
   },
   {
    "duration": 17,
    "start_time": "2022-10-19T07:39:36.098Z"
   },
   {
    "duration": 202,
    "start_time": "2022-10-19T07:39:36.117Z"
   },
   {
    "duration": 5,
    "start_time": "2022-10-19T07:39:36.321Z"
   },
   {
    "duration": 162,
    "start_time": "2022-10-19T07:39:36.328Z"
   },
   {
    "duration": 168,
    "start_time": "2022-10-19T07:39:36.492Z"
   },
   {
    "duration": 11,
    "start_time": "2022-10-19T07:39:36.661Z"
   },
   {
    "duration": 5,
    "start_time": "2022-10-19T07:39:36.674Z"
   },
   {
    "duration": 164,
    "start_time": "2022-10-19T07:39:36.680Z"
   },
   {
    "duration": 11,
    "start_time": "2022-10-19T07:39:36.847Z"
   },
   {
    "duration": 201,
    "start_time": "2022-10-19T07:39:36.859Z"
   },
   {
    "duration": 3,
    "start_time": "2022-10-19T07:39:37.062Z"
   },
   {
    "duration": 31,
    "start_time": "2022-10-19T07:39:37.066Z"
   },
   {
    "duration": 13,
    "start_time": "2022-10-19T07:39:37.098Z"
   },
   {
    "duration": 13,
    "start_time": "2022-10-19T07:39:37.112Z"
   },
   {
    "duration": 50,
    "start_time": "2022-10-19T07:39:37.126Z"
   },
   {
    "duration": 10,
    "start_time": "2022-10-19T07:39:37.177Z"
   },
   {
    "duration": 140,
    "start_time": "2022-10-19T07:39:37.189Z"
   },
   {
    "duration": 138,
    "start_time": "2022-10-19T07:40:07.290Z"
   },
   {
    "duration": 164,
    "start_time": "2022-10-19T07:40:46.106Z"
   },
   {
    "duration": 154,
    "start_time": "2022-10-19T07:40:58.003Z"
   },
   {
    "duration": 163,
    "start_time": "2022-10-19T07:41:19.557Z"
   },
   {
    "duration": 736,
    "start_time": "2022-10-19T07:47:31.954Z"
   },
   {
    "duration": 7,
    "start_time": "2022-10-19T07:47:32.692Z"
   },
   {
    "duration": 196,
    "start_time": "2022-10-19T07:47:32.700Z"
   },
   {
    "duration": 15,
    "start_time": "2022-10-19T07:47:32.898Z"
   },
   {
    "duration": 180,
    "start_time": "2022-10-19T07:47:32.916Z"
   },
   {
    "duration": 12,
    "start_time": "2022-10-19T07:47:33.097Z"
   },
   {
    "duration": 185,
    "start_time": "2022-10-19T07:47:33.111Z"
   },
   {
    "duration": 18,
    "start_time": "2022-10-19T07:47:33.298Z"
   },
   {
    "duration": 5,
    "start_time": "2022-10-19T07:47:33.317Z"
   },
   {
    "duration": 146,
    "start_time": "2022-10-19T07:47:33.324Z"
   },
   {
    "duration": 10,
    "start_time": "2022-10-19T07:47:33.472Z"
   },
   {
    "duration": 201,
    "start_time": "2022-10-19T07:47:33.483Z"
   },
   {
    "duration": 4,
    "start_time": "2022-10-19T07:47:33.685Z"
   },
   {
    "duration": 9,
    "start_time": "2022-10-19T07:47:33.691Z"
   },
   {
    "duration": 15,
    "start_time": "2022-10-19T07:47:33.701Z"
   },
   {
    "duration": 9,
    "start_time": "2022-10-19T07:47:33.717Z"
   },
   {
    "duration": 49,
    "start_time": "2022-10-19T07:47:33.727Z"
   },
   {
    "duration": 34,
    "start_time": "2022-10-19T07:47:33.778Z"
   },
   {
    "duration": 116,
    "start_time": "2022-10-19T07:47:33.814Z"
   },
   {
    "duration": 172,
    "start_time": "2022-10-19T08:49:27.127Z"
   },
   {
    "duration": 194,
    "start_time": "2022-10-19T08:50:56.763Z"
   },
   {
    "duration": 13,
    "start_time": "2022-10-19T08:53:02.768Z"
   },
   {
    "duration": 151,
    "start_time": "2022-10-19T08:53:31.878Z"
   },
   {
    "duration": 762,
    "start_time": "2022-10-19T08:54:00.439Z"
   },
   {
    "duration": 10,
    "start_time": "2022-10-19T08:54:01.203Z"
   },
   {
    "duration": 181,
    "start_time": "2022-10-19T08:54:01.215Z"
   },
   {
    "duration": 20,
    "start_time": "2022-10-19T08:54:01.398Z"
   },
   {
    "duration": 185,
    "start_time": "2022-10-19T08:54:01.420Z"
   },
   {
    "duration": 14,
    "start_time": "2022-10-19T08:54:01.608Z"
   },
   {
    "duration": 200,
    "start_time": "2022-10-19T08:54:01.624Z"
   },
   {
    "duration": 11,
    "start_time": "2022-10-19T08:54:01.829Z"
   },
   {
    "duration": 10,
    "start_time": "2022-10-19T08:54:01.841Z"
   },
   {
    "duration": 201,
    "start_time": "2022-10-19T08:54:01.852Z"
   },
   {
    "duration": 13,
    "start_time": "2022-10-19T08:54:02.055Z"
   },
   {
    "duration": 200,
    "start_time": "2022-10-19T08:54:02.070Z"
   },
   {
    "duration": 4,
    "start_time": "2022-10-19T08:54:02.271Z"
   },
   {
    "duration": 10,
    "start_time": "2022-10-19T08:54:02.277Z"
   },
   {
    "duration": 34,
    "start_time": "2022-10-19T08:54:02.288Z"
   },
   {
    "duration": 10,
    "start_time": "2022-10-19T08:54:02.323Z"
   },
   {
    "duration": 82,
    "start_time": "2022-10-19T08:54:02.335Z"
   },
   {
    "duration": 13,
    "start_time": "2022-10-19T08:54:02.418Z"
   },
   {
    "duration": 125,
    "start_time": "2022-10-19T08:54:02.433Z"
   },
   {
    "duration": 7,
    "start_time": "2022-10-19T09:07:31.352Z"
   },
   {
    "duration": 23,
    "start_time": "2022-10-19T09:07:44.846Z"
   },
   {
    "duration": 80,
    "start_time": "2022-10-19T09:08:13.341Z"
   },
   {
    "duration": 29,
    "start_time": "2022-10-19T09:08:44.736Z"
   },
   {
    "duration": 25,
    "start_time": "2022-10-19T09:11:13.557Z"
   },
   {
    "duration": 10,
    "start_time": "2022-10-19T09:13:59.221Z"
   },
   {
    "duration": 27,
    "start_time": "2022-10-19T09:14:33.679Z"
   },
   {
    "duration": 19,
    "start_time": "2022-10-19T09:17:14.604Z"
   },
   {
    "duration": 4,
    "start_time": "2022-10-19T09:33:45.997Z"
   },
   {
    "duration": 312,
    "start_time": "2022-10-19T09:36:51.697Z"
   },
   {
    "duration": 20,
    "start_time": "2022-10-19T09:53:12.736Z"
   },
   {
    "duration": 5,
    "start_time": "2022-10-19T09:53:22.685Z"
   },
   {
    "duration": 6,
    "start_time": "2022-10-19T09:54:52.736Z"
   },
   {
    "duration": 972,
    "start_time": "2022-10-19T09:57:36.448Z"
   },
   {
    "duration": 25,
    "start_time": "2022-10-19T09:57:37.422Z"
   },
   {
    "duration": 243,
    "start_time": "2022-10-19T09:57:37.451Z"
   },
   {
    "duration": 42,
    "start_time": "2022-10-19T09:57:37.697Z"
   },
   {
    "duration": 295,
    "start_time": "2022-10-19T09:57:37.740Z"
   },
   {
    "duration": 14,
    "start_time": "2022-10-19T09:57:38.046Z"
   },
   {
    "duration": 240,
    "start_time": "2022-10-19T09:57:38.062Z"
   },
   {
    "duration": 26,
    "start_time": "2022-10-19T09:57:38.305Z"
   },
   {
    "duration": 124,
    "start_time": "2022-10-19T09:57:38.332Z"
   },
   {
    "duration": 263,
    "start_time": "2022-10-19T09:57:38.459Z"
   },
   {
    "duration": 18,
    "start_time": "2022-10-19T09:57:38.723Z"
   },
   {
    "duration": 248,
    "start_time": "2022-10-19T09:57:38.744Z"
   },
   {
    "duration": 4,
    "start_time": "2022-10-19T09:57:38.994Z"
   },
   {
    "duration": 73,
    "start_time": "2022-10-19T09:57:39.000Z"
   },
   {
    "duration": 24,
    "start_time": "2022-10-19T09:57:39.075Z"
   },
   {
    "duration": 64,
    "start_time": "2022-10-19T09:57:39.101Z"
   },
   {
    "duration": 106,
    "start_time": "2022-10-19T09:57:39.167Z"
   },
   {
    "duration": 15,
    "start_time": "2022-10-19T09:57:39.276Z"
   },
   {
    "duration": 167,
    "start_time": "2022-10-19T09:57:39.294Z"
   },
   {
    "duration": 6,
    "start_time": "2022-10-19T09:57:39.463Z"
   },
   {
    "duration": 13,
    "start_time": "2022-10-19T09:57:39.471Z"
   },
   {
    "duration": 404,
    "start_time": "2022-10-19T09:57:39.486Z"
   },
   {
    "duration": 6,
    "start_time": "2022-10-19T09:57:39.893Z"
   },
   {
    "duration": 199,
    "start_time": "2022-10-19T09:57:39.901Z"
   },
   {
    "duration": 269,
    "start_time": "2022-10-19T10:57:57.561Z"
   },
   {
    "duration": 262,
    "start_time": "2022-10-19T10:58:15.775Z"
   },
   {
    "duration": 264,
    "start_time": "2022-10-19T10:58:53.838Z"
   },
   {
    "duration": 300,
    "start_time": "2022-10-19T10:59:05.244Z"
   },
   {
    "duration": 310,
    "start_time": "2022-10-19T10:59:14.412Z"
   },
   {
    "duration": 262,
    "start_time": "2022-10-19T11:00:16.949Z"
   },
   {
    "duration": 272,
    "start_time": "2022-10-19T11:00:30.711Z"
   },
   {
    "duration": 288,
    "start_time": "2022-10-19T11:00:45.061Z"
   },
   {
    "duration": 261,
    "start_time": "2022-10-19T11:01:55.375Z"
   },
   {
    "duration": 342,
    "start_time": "2022-10-19T11:02:51.564Z"
   },
   {
    "duration": 286,
    "start_time": "2022-10-19T11:03:08.785Z"
   },
   {
    "duration": 197,
    "start_time": "2022-10-19T11:04:34.974Z"
   },
   {
    "duration": 208,
    "start_time": "2022-10-19T11:07:10.652Z"
   },
   {
    "duration": 218,
    "start_time": "2022-10-19T11:09:21.784Z"
   },
   {
    "duration": 232,
    "start_time": "2022-10-19T11:10:24.910Z"
   },
   {
    "duration": 308,
    "start_time": "2022-10-19T11:18:30.857Z"
   },
   {
    "duration": 201,
    "start_time": "2022-10-19T11:45:53.853Z"
   },
   {
    "duration": 185,
    "start_time": "2022-10-19T11:46:12.830Z"
   },
   {
    "duration": 193,
    "start_time": "2022-10-19T11:47:05.796Z"
   },
   {
    "duration": 202,
    "start_time": "2022-10-19T11:49:32.927Z"
   },
   {
    "duration": 201,
    "start_time": "2022-10-19T11:50:11.529Z"
   },
   {
    "duration": 195,
    "start_time": "2022-10-19T11:50:43.029Z"
   },
   {
    "duration": 210,
    "start_time": "2022-10-19T11:51:48.709Z"
   },
   {
    "duration": 31,
    "start_time": "2022-10-19T11:53:06.818Z"
   },
   {
    "duration": 110,
    "start_time": "2022-10-19T11:53:26.675Z"
   },
   {
    "duration": 207,
    "start_time": "2022-10-19T12:08:00.342Z"
   },
   {
    "duration": 36,
    "start_time": "2022-10-19T12:08:08.579Z"
   },
   {
    "duration": 81,
    "start_time": "2022-10-19T13:55:19.367Z"
   },
   {
    "duration": 100,
    "start_time": "2022-10-19T13:55:30.740Z"
   },
   {
    "duration": 184,
    "start_time": "2022-10-19T13:56:14.970Z"
   },
   {
    "duration": 106,
    "start_time": "2022-10-19T13:57:43.498Z"
   },
   {
    "duration": 83,
    "start_time": "2022-10-19T13:57:55.459Z"
   },
   {
    "duration": 219,
    "start_time": "2022-10-19T13:58:32.903Z"
   },
   {
    "duration": 214,
    "start_time": "2022-10-19T13:59:16.440Z"
   },
   {
    "duration": 212,
    "start_time": "2022-10-19T14:03:45.284Z"
   },
   {
    "duration": 198,
    "start_time": "2022-10-19T14:10:24.850Z"
   },
   {
    "duration": 207,
    "start_time": "2022-10-19T14:10:44.644Z"
   },
   {
    "duration": 266,
    "start_time": "2022-10-19T14:20:05.254Z"
   },
   {
    "duration": 325,
    "start_time": "2022-10-19T14:20:52.615Z"
   },
   {
    "duration": 220,
    "start_time": "2022-10-19T14:22:11.537Z"
   },
   {
    "duration": 215,
    "start_time": "2022-10-19T14:23:03.472Z"
   },
   {
    "duration": 211,
    "start_time": "2022-10-19T14:23:12.963Z"
   },
   {
    "duration": 219,
    "start_time": "2022-10-19T14:27:54.979Z"
   },
   {
    "duration": 222,
    "start_time": "2022-10-19T14:28:11.265Z"
   },
   {
    "duration": 198,
    "start_time": "2022-10-19T14:28:28.074Z"
   },
   {
    "duration": 210,
    "start_time": "2022-10-19T14:28:43.113Z"
   },
   {
    "duration": 160,
    "start_time": "2022-10-19T14:29:32.224Z"
   },
   {
    "duration": 170,
    "start_time": "2022-10-19T14:29:40.619Z"
   },
   {
    "duration": 166,
    "start_time": "2022-10-19T14:29:51.881Z"
   },
   {
    "duration": 163,
    "start_time": "2022-10-19T14:32:57.742Z"
   },
   {
    "duration": 157,
    "start_time": "2022-10-19T14:33:27.041Z"
   },
   {
    "duration": 765,
    "start_time": "2022-10-19T14:38:43.622Z"
   },
   {
    "duration": 11,
    "start_time": "2022-10-19T14:38:44.389Z"
   },
   {
    "duration": 234,
    "start_time": "2022-10-19T14:38:44.409Z"
   },
   {
    "duration": 13,
    "start_time": "2022-10-19T14:38:44.646Z"
   },
   {
    "duration": 169,
    "start_time": "2022-10-19T14:38:44.661Z"
   },
   {
    "duration": 11,
    "start_time": "2022-10-19T14:38:44.832Z"
   },
   {
    "duration": 168,
    "start_time": "2022-10-19T14:38:44.845Z"
   },
   {
    "duration": 10,
    "start_time": "2022-10-19T14:38:45.015Z"
   },
   {
    "duration": 6,
    "start_time": "2022-10-19T14:38:45.027Z"
   },
   {
    "duration": 156,
    "start_time": "2022-10-19T14:38:45.036Z"
   },
   {
    "duration": 20,
    "start_time": "2022-10-19T14:38:45.193Z"
   },
   {
    "duration": 196,
    "start_time": "2022-10-19T14:38:45.215Z"
   },
   {
    "duration": 3,
    "start_time": "2022-10-19T14:38:45.412Z"
   },
   {
    "duration": 11,
    "start_time": "2022-10-19T14:38:45.417Z"
   },
   {
    "duration": 13,
    "start_time": "2022-10-19T14:38:45.430Z"
   },
   {
    "duration": 12,
    "start_time": "2022-10-19T14:38:45.444Z"
   },
   {
    "duration": 74,
    "start_time": "2022-10-19T14:38:45.457Z"
   },
   {
    "duration": 9,
    "start_time": "2022-10-19T14:38:45.533Z"
   },
   {
    "duration": 131,
    "start_time": "2022-10-19T14:38:45.543Z"
   },
   {
    "duration": 5,
    "start_time": "2022-10-19T14:38:45.675Z"
   },
   {
    "duration": 29,
    "start_time": "2022-10-19T14:38:45.681Z"
   },
   {
    "duration": 258,
    "start_time": "2022-10-19T14:38:45.711Z"
   },
   {
    "duration": 5,
    "start_time": "2022-10-19T14:38:45.971Z"
   },
   {
    "duration": 143,
    "start_time": "2022-10-19T14:38:45.977Z"
   },
   {
    "duration": 98,
    "start_time": "2022-10-19T14:38:46.121Z"
   },
   {
    "duration": 211,
    "start_time": "2022-10-19T14:38:46.221Z"
   },
   {
    "duration": 234,
    "start_time": "2022-10-19T14:38:46.434Z"
   },
   {
    "duration": 244,
    "start_time": "2022-10-19T14:38:46.671Z"
   },
   {
    "duration": 223,
    "start_time": "2022-10-19T14:38:46.917Z"
   },
   {
    "duration": 249,
    "start_time": "2022-10-19T14:38:47.141Z"
   },
   {
    "duration": 176,
    "start_time": "2022-10-19T14:38:47.392Z"
   },
   {
    "duration": 79,
    "start_time": "2022-10-19T14:42:46.183Z"
   },
   {
    "duration": 172,
    "start_time": "2022-10-19T14:43:11.348Z"
   },
   {
    "duration": 184,
    "start_time": "2022-10-19T14:43:30.387Z"
   },
   {
    "duration": 1214,
    "start_time": "2022-10-20T06:51:21.238Z"
   },
   {
    "duration": 6,
    "start_time": "2022-10-20T06:51:22.454Z"
   },
   {
    "duration": 197,
    "start_time": "2022-10-20T06:51:22.462Z"
   },
   {
    "duration": 14,
    "start_time": "2022-10-20T06:51:22.661Z"
   },
   {
    "duration": 187,
    "start_time": "2022-10-20T06:51:22.677Z"
   },
   {
    "duration": 15,
    "start_time": "2022-10-20T06:51:22.866Z"
   },
   {
    "duration": 167,
    "start_time": "2022-10-20T06:51:22.895Z"
   },
   {
    "duration": 11,
    "start_time": "2022-10-20T06:51:23.063Z"
   },
   {
    "duration": 6,
    "start_time": "2022-10-20T06:51:23.075Z"
   },
   {
    "duration": 168,
    "start_time": "2022-10-20T06:51:23.082Z"
   },
   {
    "duration": 14,
    "start_time": "2022-10-20T06:51:23.252Z"
   },
   {
    "duration": 220,
    "start_time": "2022-10-20T06:51:23.267Z"
   },
   {
    "duration": 8,
    "start_time": "2022-10-20T06:51:23.489Z"
   },
   {
    "duration": 6,
    "start_time": "2022-10-20T06:51:23.500Z"
   },
   {
    "duration": 10,
    "start_time": "2022-10-20T06:51:23.507Z"
   },
   {
    "duration": 12,
    "start_time": "2022-10-20T06:51:23.518Z"
   },
   {
    "duration": 80,
    "start_time": "2022-10-20T06:51:23.531Z"
   },
   {
    "duration": 11,
    "start_time": "2022-10-20T06:51:23.613Z"
   },
   {
    "duration": 130,
    "start_time": "2022-10-20T06:51:23.626Z"
   },
   {
    "duration": 5,
    "start_time": "2022-10-20T06:51:23.758Z"
   },
   {
    "duration": 32,
    "start_time": "2022-10-20T06:51:23.765Z"
   },
   {
    "duration": 276,
    "start_time": "2022-10-20T06:51:23.799Z"
   },
   {
    "duration": 6,
    "start_time": "2022-10-20T06:51:24.077Z"
   },
   {
    "duration": 149,
    "start_time": "2022-10-20T06:51:24.085Z"
   },
   {
    "duration": 107,
    "start_time": "2022-10-20T06:51:24.236Z"
   },
   {
    "duration": 242,
    "start_time": "2022-10-20T06:51:24.344Z"
   },
   {
    "duration": 233,
    "start_time": "2022-10-20T06:51:24.589Z"
   },
   {
    "duration": 283,
    "start_time": "2022-10-20T06:51:24.824Z"
   },
   {
    "duration": 243,
    "start_time": "2022-10-20T06:51:25.109Z"
   },
   {
    "duration": 255,
    "start_time": "2022-10-20T06:51:25.354Z"
   },
   {
    "duration": 175,
    "start_time": "2022-10-20T06:51:25.611Z"
   },
   {
    "duration": 201,
    "start_time": "2022-10-20T06:51:25.788Z"
   },
   {
    "duration": 88,
    "start_time": "2022-10-20T06:55:25.032Z"
   },
   {
    "duration": 775,
    "start_time": "2022-10-20T06:56:52.238Z"
   },
   {
    "duration": 8,
    "start_time": "2022-10-20T06:56:53.020Z"
   },
   {
    "duration": 190,
    "start_time": "2022-10-20T06:56:53.029Z"
   },
   {
    "duration": 14,
    "start_time": "2022-10-20T06:56:53.221Z"
   },
   {
    "duration": 175,
    "start_time": "2022-10-20T06:56:53.236Z"
   },
   {
    "duration": 11,
    "start_time": "2022-10-20T06:56:53.412Z"
   },
   {
    "duration": 172,
    "start_time": "2022-10-20T06:56:53.424Z"
   },
   {
    "duration": 10,
    "start_time": "2022-10-20T06:56:53.597Z"
   },
   {
    "duration": 6,
    "start_time": "2022-10-20T06:56:53.609Z"
   },
   {
    "duration": 159,
    "start_time": "2022-10-20T06:56:53.617Z"
   },
   {
    "duration": 20,
    "start_time": "2022-10-20T06:56:53.777Z"
   },
   {
    "duration": 208,
    "start_time": "2022-10-20T06:56:53.798Z"
   },
   {
    "duration": 3,
    "start_time": "2022-10-20T06:56:54.008Z"
   },
   {
    "duration": 8,
    "start_time": "2022-10-20T06:56:54.012Z"
   },
   {
    "duration": 14,
    "start_time": "2022-10-20T06:56:54.021Z"
   },
   {
    "duration": 10,
    "start_time": "2022-10-20T06:56:54.037Z"
   },
   {
    "duration": 71,
    "start_time": "2022-10-20T06:56:54.048Z"
   },
   {
    "duration": 12,
    "start_time": "2022-10-20T06:56:54.120Z"
   },
   {
    "duration": 147,
    "start_time": "2022-10-20T06:56:54.133Z"
   },
   {
    "duration": 5,
    "start_time": "2022-10-20T06:56:54.291Z"
   },
   {
    "duration": 16,
    "start_time": "2022-10-20T06:56:54.298Z"
   },
   {
    "duration": 270,
    "start_time": "2022-10-20T06:56:54.316Z"
   },
   {
    "duration": 5,
    "start_time": "2022-10-20T06:56:54.588Z"
   },
   {
    "duration": 134,
    "start_time": "2022-10-20T06:56:54.594Z"
   },
   {
    "duration": 104,
    "start_time": "2022-10-20T06:56:54.730Z"
   },
   {
    "duration": 229,
    "start_time": "2022-10-20T06:56:54.835Z"
   },
   {
    "duration": 227,
    "start_time": "2022-10-20T06:56:55.066Z"
   },
   {
    "duration": 221,
    "start_time": "2022-10-20T06:56:55.296Z"
   },
   {
    "duration": 239,
    "start_time": "2022-10-20T06:56:55.518Z"
   },
   {
    "duration": 253,
    "start_time": "2022-10-20T06:56:55.759Z"
   },
   {
    "duration": 191,
    "start_time": "2022-10-20T06:56:56.013Z"
   },
   {
    "duration": 197,
    "start_time": "2022-10-20T06:56:56.206Z"
   },
   {
    "duration": 109,
    "start_time": "2022-10-20T06:56:56.405Z"
   },
   {
    "duration": 22,
    "start_time": "2022-10-20T06:57:27.711Z"
   },
   {
    "duration": 27,
    "start_time": "2022-10-20T06:58:03.108Z"
   },
   {
    "duration": 306,
    "start_time": "2022-10-20T07:08:51.940Z"
   },
   {
    "duration": 19,
    "start_time": "2022-10-20T07:10:09.691Z"
   },
   {
    "duration": 15,
    "start_time": "2022-10-20T07:14:35.953Z"
   },
   {
    "duration": 125,
    "start_time": "2022-10-20T07:15:48.276Z"
   },
   {
    "duration": 6,
    "start_time": "2022-10-20T07:16:16.035Z"
   },
   {
    "duration": 154,
    "start_time": "2022-10-20T07:16:50.258Z"
   },
   {
    "duration": 123,
    "start_time": "2022-10-20T07:17:01.408Z"
   },
   {
    "duration": 187,
    "start_time": "2022-10-20T07:19:40.037Z"
   },
   {
    "duration": 185,
    "start_time": "2022-10-20T07:26:53.043Z"
   },
   {
    "duration": 191,
    "start_time": "2022-10-20T07:27:22.899Z"
   },
   {
    "duration": 211,
    "start_time": "2022-10-20T07:29:20.624Z"
   },
   {
    "duration": 192,
    "start_time": "2022-10-20T07:29:33.904Z"
   },
   {
    "duration": 255,
    "start_time": "2022-10-20T07:31:18.948Z"
   },
   {
    "duration": 278,
    "start_time": "2022-10-20T07:31:31.947Z"
   },
   {
    "duration": 289,
    "start_time": "2022-10-20T07:31:45.623Z"
   },
   {
    "duration": 207,
    "start_time": "2022-10-20T07:32:05.263Z"
   },
   {
    "duration": 199,
    "start_time": "2022-10-20T07:40:23.544Z"
   },
   {
    "duration": 209,
    "start_time": "2022-10-20T07:40:46.924Z"
   },
   {
    "duration": 279,
    "start_time": "2022-10-20T07:40:54.700Z"
   },
   {
    "duration": 371,
    "start_time": "2022-10-20T07:41:17.232Z"
   },
   {
    "duration": 287,
    "start_time": "2022-10-20T07:42:11.144Z"
   },
   {
    "duration": 286,
    "start_time": "2022-10-20T07:46:14.701Z"
   },
   {
    "duration": 333,
    "start_time": "2022-10-20T07:46:30.788Z"
   },
   {
    "duration": 317,
    "start_time": "2022-10-20T07:46:41.643Z"
   },
   {
    "duration": 303,
    "start_time": "2022-10-20T07:50:42.724Z"
   },
   {
    "duration": 407,
    "start_time": "2022-10-20T07:50:51.424Z"
   },
   {
    "duration": 279,
    "start_time": "2022-10-20T07:51:05.422Z"
   },
   {
    "duration": 185,
    "start_time": "2022-10-20T07:51:20.373Z"
   },
   {
    "duration": 181,
    "start_time": "2022-10-20T07:51:31.850Z"
   },
   {
    "duration": 185,
    "start_time": "2022-10-20T07:52:08.024Z"
   },
   {
    "duration": 174,
    "start_time": "2022-10-20T07:52:13.677Z"
   },
   {
    "duration": 187,
    "start_time": "2022-10-20T07:52:19.166Z"
   },
   {
    "duration": 548,
    "start_time": "2022-10-20T07:54:12.211Z"
   },
   {
    "duration": 184,
    "start_time": "2022-10-20T07:54:35.981Z"
   },
   {
    "duration": 165,
    "start_time": "2022-10-20T07:55:16.022Z"
   },
   {
    "duration": 179,
    "start_time": "2022-10-20T07:55:47.040Z"
   },
   {
    "duration": 185,
    "start_time": "2022-10-20T08:06:09.858Z"
   },
   {
    "duration": 191,
    "start_time": "2022-10-20T08:06:12.890Z"
   },
   {
    "duration": 12,
    "start_time": "2022-10-20T10:01:04.894Z"
   },
   {
    "duration": 253,
    "start_time": "2022-10-20T10:01:14.583Z"
   },
   {
    "duration": 474,
    "start_time": "2022-10-20T10:01:36.447Z"
   },
   {
    "duration": 365,
    "start_time": "2022-10-20T10:01:49.414Z"
   },
   {
    "duration": 5,
    "start_time": "2022-10-20T10:02:34.549Z"
   },
   {
    "duration": 5,
    "start_time": "2022-10-20T10:02:53.326Z"
   },
   {
    "duration": 333,
    "start_time": "2022-10-20T10:03:55.301Z"
   },
   {
    "duration": 360,
    "start_time": "2022-10-20T10:04:19.587Z"
   },
   {
    "duration": 127,
    "start_time": "2022-10-20T10:06:33.145Z"
   },
   {
    "duration": 11,
    "start_time": "2022-10-20T10:26:38.604Z"
   },
   {
    "duration": 288,
    "start_time": "2022-10-20T10:28:04.935Z"
   },
   {
    "duration": 293,
    "start_time": "2022-10-20T10:28:14.330Z"
   },
   {
    "duration": 203,
    "start_time": "2022-10-20T10:28:41.014Z"
   },
   {
    "duration": 232,
    "start_time": "2022-10-20T10:28:59.242Z"
   },
   {
    "duration": 235,
    "start_time": "2022-10-20T10:30:04.638Z"
   },
   {
    "duration": 51,
    "start_time": "2022-10-20T10:30:54.478Z"
   },
   {
    "duration": 437,
    "start_time": "2022-10-20T10:31:00.532Z"
   },
   {
    "duration": 258,
    "start_time": "2022-10-20T10:32:24.110Z"
   },
   {
    "duration": 209,
    "start_time": "2022-10-20T10:36:32.833Z"
   },
   {
    "duration": 241,
    "start_time": "2022-10-20T10:42:53.029Z"
   },
   {
    "duration": 236,
    "start_time": "2022-10-20T10:43:37.020Z"
   },
   {
    "duration": 272,
    "start_time": "2022-10-20T10:43:53.113Z"
   },
   {
    "duration": 234,
    "start_time": "2022-10-20T10:44:37.122Z"
   },
   {
    "duration": 313,
    "start_time": "2022-10-20T10:45:56.476Z"
   },
   {
    "duration": 235,
    "start_time": "2022-10-20T10:46:18.865Z"
   },
   {
    "duration": 325,
    "start_time": "2022-10-20T10:56:40.521Z"
   },
   {
    "duration": 276,
    "start_time": "2022-10-20T10:56:52.077Z"
   },
   {
    "duration": 272,
    "start_time": "2022-10-20T10:57:46.742Z"
   },
   {
    "duration": 339,
    "start_time": "2022-10-20T10:59:12.058Z"
   },
   {
    "duration": 167,
    "start_time": "2022-10-20T10:59:26.807Z"
   },
   {
    "duration": 221,
    "start_time": "2022-10-20T10:59:30.033Z"
   },
   {
    "duration": 9,
    "start_time": "2022-10-20T11:00:03.253Z"
   },
   {
    "duration": 11,
    "start_time": "2022-10-20T11:00:45.896Z"
   },
   {
    "duration": 10,
    "start_time": "2022-10-20T11:01:13.991Z"
   },
   {
    "duration": 9,
    "start_time": "2022-10-20T11:01:19.822Z"
   },
   {
    "duration": 10,
    "start_time": "2022-10-20T11:06:01.823Z"
   },
   {
    "duration": 2974,
    "start_time": "2022-10-20T11:07:58.360Z"
   },
   {
    "duration": 22,
    "start_time": "2022-10-20T11:12:40.973Z"
   },
   {
    "duration": 20,
    "start_time": "2022-10-20T11:14:46.999Z"
   },
   {
    "duration": 216,
    "start_time": "2022-10-20T11:15:28.093Z"
   },
   {
    "duration": 216,
    "start_time": "2022-10-20T11:33:39.491Z"
   },
   {
    "duration": 208,
    "start_time": "2022-10-20T11:34:46.679Z"
   },
   {
    "duration": 212,
    "start_time": "2022-10-20T11:35:57.852Z"
   },
   {
    "duration": 214,
    "start_time": "2022-10-20T11:36:54.947Z"
   },
   {
    "duration": 245,
    "start_time": "2022-10-20T11:41:06.566Z"
   },
   {
    "duration": 191,
    "start_time": "2022-10-20T11:42:42.634Z"
   },
   {
    "duration": 791,
    "start_time": "2022-10-20T11:42:58.800Z"
   },
   {
    "duration": 16,
    "start_time": "2022-10-20T11:44:57.304Z"
   },
   {
    "duration": 14,
    "start_time": "2022-10-20T11:45:20.471Z"
   },
   {
    "duration": 26,
    "start_time": "2022-10-20T11:46:27.501Z"
   },
   {
    "duration": 35,
    "start_time": "2022-10-20T11:47:02.341Z"
   },
   {
    "duration": 16,
    "start_time": "2022-10-20T11:47:17.150Z"
   },
   {
    "duration": 45,
    "start_time": "2022-10-20T11:47:30.397Z"
   },
   {
    "duration": 8,
    "start_time": "2022-10-20T12:12:58.512Z"
   },
   {
    "duration": 8,
    "start_time": "2022-10-20T12:13:13.948Z"
   },
   {
    "duration": 158,
    "start_time": "2022-10-20T12:13:25.258Z"
   },
   {
    "duration": 137,
    "start_time": "2022-10-20T12:14:05.923Z"
   },
   {
    "duration": 159,
    "start_time": "2022-10-20T12:14:10.438Z"
   },
   {
    "duration": 142,
    "start_time": "2022-10-20T12:14:16.860Z"
   },
   {
    "duration": 145,
    "start_time": "2022-10-20T12:15:20.111Z"
   },
   {
    "duration": 141,
    "start_time": "2022-10-20T12:19:34.184Z"
   },
   {
    "duration": 164,
    "start_time": "2022-10-20T12:20:20.262Z"
   },
   {
    "duration": 453,
    "start_time": "2022-10-20T12:20:53.508Z"
   },
   {
    "duration": 450,
    "start_time": "2022-10-20T12:24:12.248Z"
   },
   {
    "duration": 454,
    "start_time": "2022-10-20T12:25:43.951Z"
   },
   {
    "duration": 457,
    "start_time": "2022-10-20T12:27:33.718Z"
   },
   {
    "duration": 118,
    "start_time": "2022-10-20T12:33:59.390Z"
   },
   {
    "duration": 472,
    "start_time": "2022-10-20T12:34:36.206Z"
   },
   {
    "duration": 114,
    "start_time": "2022-10-20T12:34:52.213Z"
   },
   {
    "duration": 14,
    "start_time": "2022-10-20T12:38:17.112Z"
   },
   {
    "duration": 158,
    "start_time": "2022-10-20T12:39:15.897Z"
   },
   {
    "duration": 185,
    "start_time": "2022-10-20T12:40:39.608Z"
   },
   {
    "duration": 15,
    "start_time": "2022-10-20T12:48:31.478Z"
   },
   {
    "duration": 150,
    "start_time": "2022-10-20T12:48:58.877Z"
   },
   {
    "duration": 45,
    "start_time": "2022-10-20T14:42:34.540Z"
   },
   {
    "duration": 6,
    "start_time": "2022-10-20T14:42:43.025Z"
   },
   {
    "duration": 1137,
    "start_time": "2022-10-20T14:42:51.868Z"
   },
   {
    "duration": 7,
    "start_time": "2022-10-20T14:42:53.007Z"
   },
   {
    "duration": 190,
    "start_time": "2022-10-20T14:42:53.015Z"
   },
   {
    "duration": 13,
    "start_time": "2022-10-20T14:42:53.206Z"
   },
   {
    "duration": 168,
    "start_time": "2022-10-20T14:42:53.221Z"
   },
   {
    "duration": 16,
    "start_time": "2022-10-20T14:42:53.391Z"
   },
   {
    "duration": 146,
    "start_time": "2022-10-20T14:42:53.408Z"
   },
   {
    "duration": 9,
    "start_time": "2022-10-20T14:42:53.556Z"
   },
   {
    "duration": 5,
    "start_time": "2022-10-20T14:42:53.567Z"
   },
   {
    "duration": 160,
    "start_time": "2022-10-20T14:42:53.573Z"
   },
   {
    "duration": 11,
    "start_time": "2022-10-20T14:42:53.735Z"
   },
   {
    "duration": 216,
    "start_time": "2022-10-20T14:42:53.747Z"
   },
   {
    "duration": 3,
    "start_time": "2022-10-20T14:42:53.965Z"
   },
   {
    "duration": 7,
    "start_time": "2022-10-20T14:42:53.971Z"
   },
   {
    "duration": 8,
    "start_time": "2022-10-20T14:42:53.979Z"
   },
   {
    "duration": 9,
    "start_time": "2022-10-20T14:42:54.005Z"
   },
   {
    "duration": 44,
    "start_time": "2022-10-20T14:42:54.016Z"
   },
   {
    "duration": 9,
    "start_time": "2022-10-20T14:42:54.061Z"
   },
   {
    "duration": 136,
    "start_time": "2022-10-20T14:42:54.071Z"
   },
   {
    "duration": 4,
    "start_time": "2022-10-20T14:42:54.208Z"
   },
   {
    "duration": 14,
    "start_time": "2022-10-20T14:42:54.214Z"
   },
   {
    "duration": 234,
    "start_time": "2022-10-20T14:42:54.229Z"
   },
   {
    "duration": 5,
    "start_time": "2022-10-20T14:42:54.464Z"
   },
   {
    "duration": 139,
    "start_time": "2022-10-20T14:42:54.470Z"
   },
   {
    "duration": 77,
    "start_time": "2022-10-20T14:42:54.611Z"
   },
   {
    "duration": 204,
    "start_time": "2022-10-20T14:42:54.706Z"
   },
   {
    "duration": 200,
    "start_time": "2022-10-20T14:42:54.912Z"
   },
   {
    "duration": 203,
    "start_time": "2022-10-20T14:42:55.114Z"
   },
   {
    "duration": 205,
    "start_time": "2022-10-20T14:42:55.319Z"
   },
   {
    "duration": 218,
    "start_time": "2022-10-20T14:42:55.526Z"
   },
   {
    "duration": 164,
    "start_time": "2022-10-20T14:42:55.745Z"
   },
   {
    "duration": 178,
    "start_time": "2022-10-20T14:42:55.910Z"
   },
   {
    "duration": 120,
    "start_time": "2022-10-20T14:42:56.089Z"
   },
   {
    "duration": 183,
    "start_time": "2022-10-20T14:42:56.211Z"
   },
   {
    "duration": 279,
    "start_time": "2022-10-20T14:42:56.396Z"
   },
   {
    "duration": 184,
    "start_time": "2022-10-20T14:42:56.677Z"
   },
   {
    "duration": 250,
    "start_time": "2022-10-20T14:42:56.863Z"
   },
   {
    "duration": 386,
    "start_time": "2022-10-20T14:42:57.114Z"
   },
   {
    "duration": 192,
    "start_time": "2022-10-20T14:42:57.502Z"
   },
   {
    "duration": 200,
    "start_time": "2022-10-20T14:42:57.695Z"
   },
   {
    "duration": 293,
    "start_time": "2022-10-20T14:42:57.905Z"
   },
   {
    "duration": 121,
    "start_time": "2022-10-20T14:42:58.199Z"
   },
   {
    "duration": 737,
    "start_time": "2022-10-20T14:42:58.321Z"
   },
   {
    "duration": 405,
    "start_time": "2022-10-20T14:42:59.059Z"
   },
   {
    "duration": 149,
    "start_time": "2022-10-20T14:42:59.466Z"
   },
   {
    "duration": 102,
    "start_time": "2022-10-20T14:42:59.616Z"
   },
   {
    "duration": 147,
    "start_time": "2022-10-20T14:42:59.720Z"
   },
   {
    "duration": 139,
    "start_time": "2022-10-20T14:42:59.868Z"
   },
   {
    "duration": 188,
    "start_time": "2022-10-20T14:43:19.624Z"
   },
   {
    "duration": 135,
    "start_time": "2022-10-20T14:43:25.577Z"
   },
   {
    "duration": 132,
    "start_time": "2022-10-20T14:45:28.580Z"
   },
   {
    "duration": 138,
    "start_time": "2022-10-20T14:51:18.452Z"
   },
   {
    "duration": 130,
    "start_time": "2022-10-20T14:54:26.842Z"
   },
   {
    "duration": 22,
    "start_time": "2022-10-20T15:01:48.410Z"
   },
   {
    "duration": 21,
    "start_time": "2022-10-20T15:01:54.616Z"
   },
   {
    "duration": 17,
    "start_time": "2022-10-20T15:02:16.719Z"
   },
   {
    "duration": 25,
    "start_time": "2022-10-20T15:02:47.932Z"
   },
   {
    "duration": 35,
    "start_time": "2022-10-20T15:03:44.233Z"
   },
   {
    "duration": 94,
    "start_time": "2022-10-20T15:10:15.222Z"
   },
   {
    "duration": 84,
    "start_time": "2022-10-20T15:11:05.601Z"
   },
   {
    "duration": 62,
    "start_time": "2022-10-20T15:11:11.950Z"
   },
   {
    "duration": 162,
    "start_time": "2022-10-20T15:11:53.980Z"
   },
   {
    "duration": 322,
    "start_time": "2022-10-20T15:18:57.404Z"
   },
   {
    "duration": 33,
    "start_time": "2022-10-20T15:23:26.389Z"
   },
   {
    "duration": 2216,
    "start_time": "2022-10-20T15:34:22.640Z"
   },
   {
    "duration": 149,
    "start_time": "2022-10-20T15:43:30.386Z"
   },
   {
    "duration": 143,
    "start_time": "2022-10-20T15:44:10.952Z"
   },
   {
    "duration": 140,
    "start_time": "2022-10-20T15:44:16.973Z"
   },
   {
    "duration": 148,
    "start_time": "2022-10-20T15:44:21.393Z"
   },
   {
    "duration": 144,
    "start_time": "2022-10-20T15:44:52.361Z"
   },
   {
    "duration": 203,
    "start_time": "2022-10-20T15:44:56.806Z"
   },
   {
    "duration": 157,
    "start_time": "2022-10-20T15:45:04.781Z"
   },
   {
    "duration": 304,
    "start_time": "2022-10-20T15:45:58.644Z"
   },
   {
    "duration": 155,
    "start_time": "2022-10-20T15:46:08.001Z"
   },
   {
    "duration": 180,
    "start_time": "2022-10-20T15:46:37.906Z"
   },
   {
    "duration": 129,
    "start_time": "2022-10-20T15:47:03.198Z"
   },
   {
    "duration": 167,
    "start_time": "2022-10-20T15:47:15.351Z"
   },
   {
    "duration": 156,
    "start_time": "2022-10-20T15:48:11.117Z"
   },
   {
    "duration": 161,
    "start_time": "2022-10-20T15:49:06.623Z"
   },
   {
    "duration": 171,
    "start_time": "2022-10-20T15:55:26.899Z"
   },
   {
    "duration": 40,
    "start_time": "2022-10-20T16:01:19.055Z"
   },
   {
    "duration": 8,
    "start_time": "2022-10-20T16:02:13.874Z"
   },
   {
    "duration": 151,
    "start_time": "2022-10-20T16:02:31.520Z"
   },
   {
    "duration": 19,
    "start_time": "2022-10-20T16:02:55.721Z"
   },
   {
    "duration": 832,
    "start_time": "2022-10-20T16:03:18.397Z"
   },
   {
    "duration": 11,
    "start_time": "2022-10-20T16:03:19.231Z"
   },
   {
    "duration": 197,
    "start_time": "2022-10-20T16:03:19.243Z"
   },
   {
    "duration": 13,
    "start_time": "2022-10-20T16:03:19.443Z"
   },
   {
    "duration": 192,
    "start_time": "2022-10-20T16:03:19.458Z"
   },
   {
    "duration": 13,
    "start_time": "2022-10-20T16:03:19.652Z"
   },
   {
    "duration": 195,
    "start_time": "2022-10-20T16:03:19.667Z"
   },
   {
    "duration": 10,
    "start_time": "2022-10-20T16:03:19.863Z"
   },
   {
    "duration": 11,
    "start_time": "2022-10-20T16:03:19.875Z"
   },
   {
    "duration": 164,
    "start_time": "2022-10-20T16:03:19.888Z"
   },
   {
    "duration": 13,
    "start_time": "2022-10-20T16:03:20.054Z"
   },
   {
    "duration": 270,
    "start_time": "2022-10-20T16:03:20.069Z"
   },
   {
    "duration": 4,
    "start_time": "2022-10-20T16:03:20.341Z"
   },
   {
    "duration": 9,
    "start_time": "2022-10-20T16:03:20.347Z"
   },
   {
    "duration": 10,
    "start_time": "2022-10-20T16:03:20.357Z"
   },
   {
    "duration": 9,
    "start_time": "2022-10-20T16:03:20.368Z"
   },
   {
    "duration": 70,
    "start_time": "2022-10-20T16:03:20.379Z"
   },
   {
    "duration": 12,
    "start_time": "2022-10-20T16:03:20.451Z"
   },
   {
    "duration": 160,
    "start_time": "2022-10-20T16:03:20.466Z"
   },
   {
    "duration": 4,
    "start_time": "2022-10-20T16:03:20.628Z"
   },
   {
    "duration": 16,
    "start_time": "2022-10-20T16:03:20.634Z"
   },
   {
    "duration": 250,
    "start_time": "2022-10-20T16:03:20.652Z"
   },
   {
    "duration": 6,
    "start_time": "2022-10-20T16:03:20.904Z"
   },
   {
    "duration": 139,
    "start_time": "2022-10-20T16:03:20.912Z"
   },
   {
    "duration": 103,
    "start_time": "2022-10-20T16:03:21.053Z"
   },
   {
    "duration": 224,
    "start_time": "2022-10-20T16:03:21.158Z"
   },
   {
    "duration": 227,
    "start_time": "2022-10-20T16:03:21.384Z"
   },
   {
    "duration": 232,
    "start_time": "2022-10-20T16:03:21.615Z"
   },
   {
    "duration": 251,
    "start_time": "2022-10-20T16:03:21.848Z"
   },
   {
    "duration": 258,
    "start_time": "2022-10-20T16:03:22.100Z"
   },
   {
    "duration": 303,
    "start_time": "2022-10-20T16:03:22.360Z"
   },
   {
    "duration": 256,
    "start_time": "2022-10-20T16:03:22.665Z"
   },
   {
    "duration": 126,
    "start_time": "2022-10-20T16:03:22.922Z"
   },
   {
    "duration": 223,
    "start_time": "2022-10-20T16:03:23.051Z"
   },
   {
    "duration": 296,
    "start_time": "2022-10-20T16:03:23.276Z"
   },
   {
    "duration": 227,
    "start_time": "2022-10-20T16:03:23.574Z"
   },
   {
    "duration": 312,
    "start_time": "2022-10-20T16:03:23.805Z"
   },
   {
    "duration": 404,
    "start_time": "2022-10-20T16:03:24.118Z"
   },
   {
    "duration": 191,
    "start_time": "2022-10-20T16:03:24.525Z"
   },
   {
    "duration": 174,
    "start_time": "2022-10-20T16:03:24.718Z"
   },
   {
    "duration": 314,
    "start_time": "2022-10-20T16:03:24.893Z"
   },
   {
    "duration": 138,
    "start_time": "2022-10-20T16:03:25.210Z"
   },
   {
    "duration": 820,
    "start_time": "2022-10-20T16:03:25.350Z"
   },
   {
    "duration": 485,
    "start_time": "2022-10-20T16:03:26.172Z"
   },
   {
    "duration": 169,
    "start_time": "2022-10-20T16:03:26.658Z"
   },
   {
    "duration": 117,
    "start_time": "2022-10-20T16:03:26.829Z"
   },
   {
    "duration": 184,
    "start_time": "2022-10-20T16:03:26.948Z"
   },
   {
    "duration": 168,
    "start_time": "2022-10-20T16:03:27.134Z"
   },
   {
    "duration": 383,
    "start_time": "2022-10-20T16:03:27.305Z"
   },
   {
    "duration": 48,
    "start_time": "2022-10-20T16:03:27.692Z"
   },
   {
    "duration": 22,
    "start_time": "2022-10-20T16:03:27.742Z"
   },
   {
    "duration": 169,
    "start_time": "2022-10-20T16:03:27.765Z"
   },
   {
    "duration": 16,
    "start_time": "2022-10-20T16:04:01.880Z"
   },
   {
    "duration": 20,
    "start_time": "2022-10-20T16:04:14.402Z"
   },
   {
    "duration": 31,
    "start_time": "2022-10-20T16:04:49.627Z"
   },
   {
    "duration": 181,
    "start_time": "2022-10-20T16:05:11.863Z"
   },
   {
    "duration": 106,
    "start_time": "2022-10-20T16:06:24.686Z"
   },
   {
    "duration": 9,
    "start_time": "2022-10-20T16:06:34.529Z"
   },
   {
    "duration": 43,
    "start_time": "2022-10-20T16:13:56.426Z"
   },
   {
    "duration": 23,
    "start_time": "2022-10-20T16:16:49.321Z"
   },
   {
    "duration": 231,
    "start_time": "2022-10-20T16:22:02.405Z"
   },
   {
    "duration": 148,
    "start_time": "2022-10-21T11:55:44.554Z"
   }
  ],
  "kernelspec": {
   "display_name": "Python 3 (ipykernel)",
   "language": "python",
   "name": "python3"
  },
  "language_info": {
   "codemirror_mode": {
    "name": "ipython",
    "version": 3
   },
   "file_extension": ".py",
   "mimetype": "text/x-python",
   "name": "python",
   "nbconvert_exporter": "python",
   "pygments_lexer": "ipython3",
   "version": "3.10.9"
  },
  "toc": {
   "base_numbering": 1,
   "nav_menu": {},
   "number_sections": true,
   "sideBar": true,
   "skip_h1_title": true,
   "title_cell": "Table of Contents",
   "title_sidebar": "Contents",
   "toc_cell": false,
   "toc_position": {},
   "toc_section_display": true,
   "toc_window_display": false
  }
 },
 "nbformat": 4,
 "nbformat_minor": 2
}
